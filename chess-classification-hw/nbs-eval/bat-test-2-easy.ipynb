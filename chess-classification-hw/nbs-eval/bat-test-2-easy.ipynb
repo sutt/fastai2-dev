{
 "cells": [
  {
   "cell_type": "markdown",
   "metadata": {},
   "source": [
    "### Build up model `analysis tables` on regulation-test-2-easy\n",
    "\n",
    "---\n",
    "\n",
    "This is a script-like notebook. See [build-analysis-tbls-template.ipynb](./build-analysis-tbls-template.ipynb) for full markdown explanation of what's going on.\n",
    "\n",
    "    "
   ]
  },
  {
   "cell_type": "code",
   "execution_count": 5,
   "metadata": {},
   "outputs": [],
   "source": [
    "from fastai2.vision.all import load_learner, get_image_files\n",
    "import torch\n",
    "from pathlib import Path\n",
    "import json, os, sys\n",
    "import pandas as pd\n",
    "sys.path.append('..')\n",
    "from modules.trainutils import piece_class_parse\n",
    "from modules.trainutils import my_metrics"
   ]
  },
  {
   "cell_type": "code",
   "execution_count": 6,
   "metadata": {},
   "outputs": [],
   "source": [
    "test_path = Path('../../../other-chess-data/regulation-test-2-easy')\n",
    "modelconfig_path = Path('../models/model-config')\n",
    "outtbl_prefix = 'expmod2easy'\n",
    "out_path = '../models/model-analysis/'\n",
    "model_dir = '../models/'\n",
    "\n",
    "# which model .pkl's to search\n",
    "filter_crit = 'expmod'"
   ]
  },
  {
   "cell_type": "markdown",
   "metadata": {},
   "source": [
    "### `df_agg'"
   ]
  },
  {
   "cell_type": "code",
   "execution_count": 7,
   "metadata": {},
   "outputs": [],
   "source": [
    "config_dir = Path(modelconfig_path)\n",
    "\n",
    "df = pd.DataFrame([])\n",
    "\n",
    "for fn in os.listdir(config_dir):\n",
    "    \n",
    "    with open(config_dir / fn, 'r') as f:\n",
    "        d = json.load(f)\n",
    "    \n",
    "    df = pd.concat((df, pd.DataFrame(d, index=[fn])))\n",
    "\n",
    "df_agg = df.copy()"
   ]
  },
  {
   "cell_type": "code",
   "execution_count": 8,
   "metadata": {},
   "outputs": [],
   "source": [
    "df_agg.to_csv(out_path + outtbl_prefix + '-df_agg.csv'\n",
    "             ,index=True)"
   ]
  },
  {
   "cell_type": "markdown",
   "metadata": {},
   "source": [
    "### `df_pred'"
   ]
  },
  {
   "cell_type": "code",
   "execution_count": 9,
   "metadata": {},
   "outputs": [],
   "source": [
    "d_preds = {}\n",
    "model_fns = [e for e in os.listdir(model_dir) \n",
    "             if filter_crit in e]\n",
    "\n",
    "for model_fn in model_fns:\n",
    "    \n",
    "    learn = load_learner(model_dir + model_fn)\n",
    "    \n",
    "    test_dl = learn.dls.test_dl(get_image_files(test_path), \n",
    "                                with_labels=True)\n",
    "    \n",
    "    preds = learn.get_preds(dl= test_dl, with_loss=True)\n",
    "    \n",
    "    fns =     [e.name for e in test_dl.items]\n",
    "    labels =  [piece_class_parse(e) for e in fns]\n",
    "    \n",
    "    y_actual = preds[1].tolist()\n",
    "    y_hat =    torch.argmax(preds[0], dim=1).tolist()\n",
    "    y_loss =   preds[2].tolist()\n",
    "    \n",
    "    mod_name = model_fn.split('.')[0]\n",
    "    \n",
    "    d_preds[mod_name]  = {\n",
    "        'fn':     fns.copy(),\n",
    "        'label':  labels.copy(),\n",
    "        'actual': y_actual.copy(),\n",
    "        'pred':   y_hat.copy(), \n",
    "        'loss':   y_loss.copy(),\n",
    "        }\n"
   ]
  },
  {
   "cell_type": "code",
   "execution_count": 10,
   "metadata": {},
   "outputs": [],
   "source": [
    "for i, (mod_name, mod_d) in enumerate(d_preds.items()):\n",
    "    \n",
    "    if i == 0:\n",
    "        \n",
    "        d_base = {\n",
    "            'fn':     mod_d['fn'],\n",
    "            'label':  mod_d['label'],\n",
    "            'actual': mod_d['actual'],\n",
    "        }\n",
    "        \n",
    "        df = pd.DataFrame(d_base) \n",
    "    \n",
    "    d_learner = {\n",
    "        ('pred_' + mod_name):   mod_d['pred'], \n",
    "        ('loss_' + mod_name):   mod_d['loss'],\n",
    "    }\n",
    "    \n",
    "    df = pd.concat((df, pd.DataFrame(d_learner)), axis=1)\n",
    "        \n",
    "df_pred = df.copy()    "
   ]
  },
  {
   "cell_type": "code",
   "execution_count": 11,
   "metadata": {},
   "outputs": [
    {
     "data": {
      "text/plain": [
       "(162, 135)"
      ]
     },
     "execution_count": 11,
     "metadata": {},
     "output_type": "execute_result"
    }
   ],
   "source": [
    "df_pred.shape"
   ]
  },
  {
   "cell_type": "code",
   "execution_count": 13,
   "metadata": {},
   "outputs": [],
   "source": [
    "df.to_csv('../models/model-analysis/' + outtbl_prefix +'-df_pred.csv',\n",
    "          index=False)"
   ]
  },
  {
   "cell_type": "code",
   "execution_count": null,
   "metadata": {},
   "outputs": [],
   "source": []
  }
 ],
 "metadata": {
  "kernelspec": {
   "display_name": "march21",
   "language": "python",
   "name": "march21"
  },
  "language_info": {
   "codemirror_mode": {
    "name": "ipython",
    "version": 3
   },
   "file_extension": ".py",
   "mimetype": "text/x-python",
   "name": "python",
   "nbconvert_exporter": "python",
   "pygments_lexer": "ipython3",
   "version": "3.7.6"
  }
 },
 "nbformat": 4,
 "nbformat_minor": 2
}
