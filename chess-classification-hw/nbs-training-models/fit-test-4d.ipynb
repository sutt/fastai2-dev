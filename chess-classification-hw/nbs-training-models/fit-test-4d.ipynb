{
 "cells": [
  {
   "cell_type": "code",
   "execution_count": 1,
   "metadata": {},
   "outputs": [],
   "source": [
    "from fastai2.vision.all import *\n",
    "import sys\n",
    "import json, time\n",
    "sys.path.append('..')"
   ]
  },
  {
   "cell_type": "code",
   "execution_count": 2,
   "metadata": {},
   "outputs": [],
   "source": [
    "%load_ext autoreload\n",
    "%autoreload 2\n",
    "\n",
    "from modules.trainutils import piece_class_parse\n",
    "from modules.trainutils import my_metrics\n",
    "from modules.trainutils import show_cf, silent_learner\n",
    "from modules.trainutils import my_test_metrics, my_export_new"
   ]
  },
  {
   "cell_type": "code",
   "execution_count": 3,
   "metadata": {},
   "outputs": [],
   "source": [
    "test_path = Path('../../../other-chess-data/regulation-test-1')\n",
    "train_path = Path('../../../rf-chess-data/cropped_v1/')\n",
    "modelconfig_path = Path('../models/model-config')"
   ]
  },
  {
   "cell_type": "code",
   "execution_count": 4,
   "metadata": {},
   "outputs": [],
   "source": [
    "params = [\n",
    "    [42],\n",
    "    [17],\n",
    "]\n",
    "t0 = time.time()"
   ]
  },
  {
   "cell_type": "code",
   "execution_count": 5,
   "metadata": {},
   "outputs": [
    {
     "name": "stdout",
     "output_type": "stream",
     "text": [
      "1.3285199999809265 0.7166666666666667\n",
      "found new file expmod-a-7.pkl in ../models\n",
      "1.0257261951764425 0.7\n",
      "found new file expmod-b-7.pkl in ../models\n",
      "1.2588444153467815 0.7166666666666667\n",
      "found new file expmod-a-8.pkl in ../models\n",
      "0.6738008538881938 0.85\n",
      "found new file expmod-b-8.pkl in ../models\n"
     ]
    }
   ],
   "source": [
    "\n",
    "for param in params:\n",
    "    \n",
    "    _train_seed =    param[0]\n",
    "#     _resize_method = param[1]\n",
    "    \n",
    "    _model_arch = resnet50   # to json with resnet50.__name__\n",
    "\n",
    "    _fit_one_cycle_epochs = 10\n",
    "    _fine_tune_epochs = 15\n",
    "\n",
    "#     _train_seed =   42   #17\n",
    "\n",
    "    _mult =         1.0\n",
    "    _max_lighting = 0.9  # 0.95\n",
    "    _max_warp    =  0.4  # 0.3\n",
    "    _max_rotate  =  20.  # 30.\n",
    "\n",
    "    # _resize_method = ResizeMethod.Crop\n",
    "    # _resize_method = ResizeMethod.Squish\n",
    "    _resize_method = ResizeMethod.Pad\n",
    "\n",
    "#     _pad_mode = 'zeros'  #'reflection'\n",
    "    _pad_mode = 'reflection'\n",
    "\n",
    "    d = {\n",
    "        '_model_arch': _model_arch.__name__,\n",
    "         '_fit_one_cycle_epochs':_fit_one_cycle_epochs,\n",
    "        '_fine_tune_epochs': _fine_tune_epochs,\n",
    "        '_train_seed': _train_seed,\n",
    "        '_mult':_mult,\n",
    "        '_max_lighting': _max_lighting,\n",
    "        '_max_warp': _max_warp,\n",
    "        '_max_rotate': _max_rotate,\n",
    "        '_resize_method':  _resize_method,\n",
    "        '_pad_mode':_pad_mode,\n",
    "    }\n",
    "\n",
    "    Crop = Resize(128, _resize_method, pad_mode=_pad_mode)\n",
    "\n",
    "    Augs = aug_transforms(mult=_mult, \n",
    "                          max_lighting=_max_lighting,\n",
    "                          p_lighting=0.75, \n",
    "                          max_warp=_max_warp,\n",
    "                          max_rotate=_max_rotate,\n",
    "                         )\n",
    "\n",
    "    train_dl = ImageDataLoaders.from_name_func(\n",
    "                    train_path, \n",
    "                    get_image_files(train_path),\n",
    "                    # stratify_sample(train_path, n=n, np_seed=seed),\n",
    "                    valid_pct=0.2, \n",
    "                    seed=_train_seed,\n",
    "                    label_func=piece_class_parse, \n",
    "                    item_tfms=Crop,\n",
    "                    batch_tfms=Augs,\n",
    "                    bs=32,\n",
    "    )\n",
    "\n",
    "    learn = cnn_learner(train_dl, _model_arch, metrics=error_rate)\n",
    "    silent_learner(learn)\n",
    "\n",
    "    learn.fit_one_cycle(_fit_one_cycle_epochs)\n",
    "\n",
    "    test_loss, test_acc = my_test_metrics(learn, test_path)\n",
    "    print(test_loss, test_acc)\n",
    "\n",
    "    model_fn =my_export_new(learn, prefix='expmod-a', print_check=True)\n",
    "\n",
    "    d.update({'test_loss': test_loss, 'test_acc': test_acc})\n",
    "\n",
    "    with open(modelconfig_path / (model_fn.split('.')[0] + '.json'), 'w') as f:\n",
    "        json.dump(d, f)\n",
    "\n",
    "    learn.fine_tune(_fine_tune_epochs)\n",
    "\n",
    "    test_loss, test_acc = my_test_metrics(learn, test_path)\n",
    "    print(test_loss, test_acc)\n",
    "\n",
    "    model_fn =my_export_new(learn, prefix='expmod-b', print_check=True)\n",
    "\n",
    "    d.update({'test_loss': test_loss, 'test_acc': test_acc})\n",
    "\n",
    "    with open(modelconfig_path / (model_fn.split('.')[0] + '.json'), 'w') as f:\n",
    "        json.dump(d, f)"
   ]
  },
  {
   "cell_type": "code",
   "execution_count": 6,
   "metadata": {},
   "outputs": [
    {
     "data": {
      "text/plain": [
       "603.6419353485107"
      ]
     },
     "execution_count": 6,
     "metadata": {},
     "output_type": "execute_result"
    }
   ],
   "source": [
    "time.time() - t0"
   ]
  },
  {
   "cell_type": "code",
   "execution_count": null,
   "metadata": {},
   "outputs": [],
   "source": []
  }
 ],
 "metadata": {
  "kernelspec": {
   "display_name": "march21",
   "language": "python",
   "name": "march21"
  },
  "language_info": {
   "codemirror_mode": {
    "name": "ipython",
    "version": 3
   },
   "file_extension": ".py",
   "mimetype": "text/x-python",
   "name": "python",
   "nbconvert_exporter": "python",
   "pygments_lexer": "ipython3",
   "version": "3.7.6"
  }
 },
 "nbformat": 4,
 "nbformat_minor": 2
}
