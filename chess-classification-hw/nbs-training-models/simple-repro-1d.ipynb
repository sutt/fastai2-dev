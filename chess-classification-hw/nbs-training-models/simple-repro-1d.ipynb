{
 "cells": [
  {
   "cell_type": "markdown",
   "metadata": {},
   "source": [
    "#### Solved: \"fresh\" learner vs \"loaded\" learner \n",
    "\n",
    "Differ in subsequent fitting operation due to random states of their DataLoaders performin `one_batch` on items. By setting `shuffle_train=False` when consturcting the dataloaders we match identical perf on second phase of fitting.\n",
    "\n",
    "It seems difficult to re-initialize the random seed built into the DataLoader due to it's self-referential design. "
   ]
  },
  {
   "cell_type": "code",
   "execution_count": 1,
   "metadata": {},
   "outputs": [],
   "source": [
    "from fastai2.vision.all import *\n",
    "\n",
    "torch.backends.cudnn.deterministic = True\n",
    "torch.backends.cudnn.benchmark = False"
   ]
  },
  {
   "cell_type": "code",
   "execution_count": 2,
   "metadata": {},
   "outputs": [],
   "source": [
    "path = untar_data(URLs.MNIST_TINY)"
   ]
  },
  {
   "cell_type": "code",
   "execution_count": 3,
   "metadata": {},
   "outputs": [],
   "source": [
    "seed=42"
   ]
  },
  {
   "cell_type": "code",
   "execution_count": 4,
   "metadata": {},
   "outputs": [],
   "source": [
    "set_seed(seed)\n",
    "dl = ImageDataLoaders.from_folder(path,\n",
    "                                  seed=seed,\n",
    "                                  valid_pct=0.2,\n",
    "                                  num_workers=0,\n",
    "                                  shuffle_train=False\n",
    "                                 )"
   ]
  },
  {
   "cell_type": "code",
   "execution_count": 5,
   "metadata": {},
   "outputs": [],
   "source": [
    "set_seed(seed)\n",
    "learn = cnn_learner(dl, resnet18)"
   ]
  },
  {
   "cell_type": "code",
   "execution_count": 6,
   "metadata": {},
   "outputs": [
    {
     "data": {
      "text/html": [
       "<table border=\"1\" class=\"dataframe\">\n",
       "  <thead>\n",
       "    <tr style=\"text-align: left;\">\n",
       "      <th>epoch</th>\n",
       "      <th>train_loss</th>\n",
       "      <th>valid_loss</th>\n",
       "      <th>time</th>\n",
       "    </tr>\n",
       "  </thead>\n",
       "  <tbody>\n",
       "    <tr>\n",
       "      <td>0</td>\n",
       "      <td>1.288761</td>\n",
       "      <td>0.394393</td>\n",
       "      <td>00:09</td>\n",
       "    </tr>\n",
       "    <tr>\n",
       "      <td>1</td>\n",
       "      <td>0.770088</td>\n",
       "      <td>0.442477</td>\n",
       "      <td>00:09</td>\n",
       "    </tr>\n",
       "  </tbody>\n",
       "</table>"
      ],
      "text/plain": [
       "<IPython.core.display.HTML object>"
      ]
     },
     "metadata": {},
     "output_type": "display_data"
    }
   ],
   "source": [
    "set_seed(seed)\n",
    "learn.fit_one_cycle(2)"
   ]
  },
  {
   "cell_type": "code",
   "execution_count": 7,
   "metadata": {},
   "outputs": [],
   "source": [
    "learn.save('saved-learner-4')"
   ]
  },
  {
   "cell_type": "markdown",
   "metadata": {},
   "source": [
    "##### Load Model as `learn2`"
   ]
  },
  {
   "cell_type": "code",
   "execution_count": 8,
   "metadata": {},
   "outputs": [],
   "source": [
    "set_seed(seed)\n",
    "dl2 = ImageDataLoaders.from_folder(path,\n",
    "                                  seed=seed,\n",
    "                                  valid_pct=0.2,\n",
    "                                  num_workers=0,\n",
    "                                  shuffle_train=False\n",
    "                                 )"
   ]
  },
  {
   "cell_type": "code",
   "execution_count": 9,
   "metadata": {},
   "outputs": [],
   "source": [
    "set_seed(seed)\n",
    "learn2 = cnn_learner(dl2, resnet18)"
   ]
  },
  {
   "cell_type": "code",
   "execution_count": 10,
   "metadata": {},
   "outputs": [
    {
     "data": {
      "text/plain": [
       "<fastai2.learner.Learner at 0x7f53600dbb10>"
      ]
     },
     "execution_count": 10,
     "metadata": {},
     "output_type": "execute_result"
    }
   ],
   "source": [
    "learn2.load('saved-learner-4')"
   ]
  },
  {
   "cell_type": "markdown",
   "metadata": {},
   "source": [
    "##### Perform same training on \"identical\" model: `learn` and `learn2`"
   ]
  },
  {
   "cell_type": "code",
   "execution_count": 11,
   "metadata": {},
   "outputs": [
    {
     "data": {
      "text/html": [
       "<table border=\"1\" class=\"dataframe\">\n",
       "  <thead>\n",
       "    <tr style=\"text-align: left;\">\n",
       "      <th>epoch</th>\n",
       "      <th>train_loss</th>\n",
       "      <th>valid_loss</th>\n",
       "      <th>time</th>\n",
       "    </tr>\n",
       "  </thead>\n",
       "  <tbody>\n",
       "    <tr>\n",
       "      <td>0</td>\n",
       "      <td>0.087027</td>\n",
       "      <td>0.422698</td>\n",
       "      <td>00:09</td>\n",
       "    </tr>\n",
       "  </tbody>\n",
       "</table>"
      ],
      "text/plain": [
       "<IPython.core.display.HTML object>"
      ]
     },
     "metadata": {},
     "output_type": "display_data"
    },
    {
     "data": {
      "text/html": [
       "<table border=\"1\" class=\"dataframe\">\n",
       "  <thead>\n",
       "    <tr style=\"text-align: left;\">\n",
       "      <th>epoch</th>\n",
       "      <th>train_loss</th>\n",
       "      <th>valid_loss</th>\n",
       "      <th>time</th>\n",
       "    </tr>\n",
       "  </thead>\n",
       "  <tbody>\n",
       "    <tr>\n",
       "      <td>0</td>\n",
       "      <td>0.141374</td>\n",
       "      <td>0.367039</td>\n",
       "      <td>00:18</td>\n",
       "    </tr>\n",
       "    <tr>\n",
       "      <td>1</td>\n",
       "      <td>0.107582</td>\n",
       "      <td>0.321651</td>\n",
       "      <td>00:19</td>\n",
       "    </tr>\n",
       "  </tbody>\n",
       "</table>"
      ],
      "text/plain": [
       "<IPython.core.display.HTML object>"
      ]
     },
     "metadata": {},
     "output_type": "display_data"
    }
   ],
   "source": [
    "set_seed(seed)\n",
    "learn.fine_tune(2)"
   ]
  },
  {
   "cell_type": "code",
   "execution_count": 12,
   "metadata": {},
   "outputs": [
    {
     "data": {
      "text/html": [
       "<table border=\"1\" class=\"dataframe\">\n",
       "  <thead>\n",
       "    <tr style=\"text-align: left;\">\n",
       "      <th>epoch</th>\n",
       "      <th>train_loss</th>\n",
       "      <th>valid_loss</th>\n",
       "      <th>time</th>\n",
       "    </tr>\n",
       "  </thead>\n",
       "  <tbody>\n",
       "    <tr>\n",
       "      <td>0</td>\n",
       "      <td>0.087027</td>\n",
       "      <td>0.422698</td>\n",
       "      <td>00:09</td>\n",
       "    </tr>\n",
       "  </tbody>\n",
       "</table>"
      ],
      "text/plain": [
       "<IPython.core.display.HTML object>"
      ]
     },
     "metadata": {},
     "output_type": "display_data"
    },
    {
     "data": {
      "text/html": [
       "<table border=\"1\" class=\"dataframe\">\n",
       "  <thead>\n",
       "    <tr style=\"text-align: left;\">\n",
       "      <th>epoch</th>\n",
       "      <th>train_loss</th>\n",
       "      <th>valid_loss</th>\n",
       "      <th>time</th>\n",
       "    </tr>\n",
       "  </thead>\n",
       "  <tbody>\n",
       "    <tr>\n",
       "      <td>0</td>\n",
       "      <td>0.141374</td>\n",
       "      <td>0.367039</td>\n",
       "      <td>00:17</td>\n",
       "    </tr>\n",
       "    <tr>\n",
       "      <td>1</td>\n",
       "      <td>0.107582</td>\n",
       "      <td>0.321651</td>\n",
       "      <td>00:16</td>\n",
       "    </tr>\n",
       "  </tbody>\n",
       "</table>"
      ],
      "text/plain": [
       "<IPython.core.display.HTML object>"
      ]
     },
     "metadata": {},
     "output_type": "display_data"
    }
   ],
   "source": [
    "set_seed(seed)\n",
    "learn2.fine_tune(2)"
   ]
  },
  {
   "cell_type": "code",
   "execution_count": null,
   "metadata": {},
   "outputs": [],
   "source": [
    "\n",
    "\n",
    "\n"
   ]
  },
  {
   "cell_type": "markdown",
   "metadata": {},
   "source": [
    "##### Misc Debugging"
   ]
  },
  {
   "cell_type": "code",
   "execution_count": 14,
   "metadata": {},
   "outputs": [
    {
     "data": {
      "text/plain": [
       "<fastai2.data.core.DataLoaders at 0x7fea00ab3550>"
      ]
     },
     "execution_count": 14,
     "metadata": {},
     "output_type": "execute_result"
    }
   ],
   "source": [
    "learn.dls"
   ]
  },
  {
   "cell_type": "code",
   "execution_count": 15,
   "metadata": {},
   "outputs": [
    {
     "data": {
      "text/plain": [
       "<fastai2.data.core.DataLoaders at 0x7fea00ab3550>"
      ]
     },
     "execution_count": 15,
     "metadata": {},
     "output_type": "execute_result"
    }
   ],
   "source": [
    "dl"
   ]
  },
  {
   "cell_type": "code",
   "execution_count": 16,
   "metadata": {},
   "outputs": [
    {
     "data": {
      "text/plain": [
       "<fastai2.data.core.DataLoaders at 0x7fea3552b910>"
      ]
     },
     "execution_count": 16,
     "metadata": {},
     "output_type": "execute_result"
    }
   ],
   "source": [
    "learn2.dls"
   ]
  },
  {
   "cell_type": "code",
   "execution_count": 17,
   "metadata": {},
   "outputs": [
    {
     "data": {
      "text/plain": [
       "<fastai2.data.core.DataLoaders at 0x7fea3552b910>"
      ]
     },
     "execution_count": 17,
     "metadata": {},
     "output_type": "execute_result"
    }
   ],
   "source": [
    "dl2"
   ]
  },
  {
   "cell_type": "code",
   "execution_count": 19,
   "metadata": {},
   "outputs": [
    {
     "data": {
      "text/plain": [
       "True"
      ]
     },
     "execution_count": 19,
     "metadata": {},
     "output_type": "execute_result"
    }
   ],
   "source": [
    "dl2.train.items == dl.train.items"
   ]
  },
  {
   "cell_type": "code",
   "execution_count": 20,
   "metadata": {},
   "outputs": [
    {
     "data": {
      "text/plain": [
       "True"
      ]
     },
     "execution_count": 20,
     "metadata": {},
     "output_type": "execute_result"
    }
   ],
   "source": [
    "dl2.valid.items == dl.valid.items"
   ]
  },
  {
   "cell_type": "code",
   "execution_count": 58,
   "metadata": {},
   "outputs": [],
   "source": [
    "x1, y1 = learn.dls[0].one_batch()\n",
    "x2, y2 = learn2.dls[0].one_batch()"
   ]
  },
  {
   "cell_type": "code",
   "execution_count": 59,
   "metadata": {},
   "outputs": [
    {
     "data": {
      "text/plain": [
       "TensorCategory([False, False,  True, False,  True, False, False, False, False, False,\n",
       "        False, False, False,  True,  True,  True,  True,  True, False,  True,\n",
       "        False,  True,  True,  True, False, False, False,  True, False, False,\n",
       "         True, False,  True,  True,  True, False, False, False,  True, False,\n",
       "         True, False, False,  True, False, False, False,  True, False, False,\n",
       "        False, False, False, False, False, False, False, False, False,  True,\n",
       "        False, False, False,  True])"
      ]
     },
     "execution_count": 59,
     "metadata": {},
     "output_type": "execute_result"
    }
   ],
   "source": [
    "y2 == y1"
   ]
  },
  {
   "cell_type": "code",
   "execution_count": null,
   "metadata": {},
   "outputs": [],
   "source": []
  },
  {
   "cell_type": "code",
   "execution_count": 53,
   "metadata": {},
   "outputs": [],
   "source": [
    "x1, y1 = dl.one_batch()\n",
    "x2, y2 = dl2.one_batch()"
   ]
  },
  {
   "cell_type": "code",
   "execution_count": 54,
   "metadata": {},
   "outputs": [
    {
     "data": {
      "text/plain": [
       "TensorCategory([ True, False, False, False,  True, False, False, False,  True, False,\n",
       "         True,  True,  True, False,  True,  True, False, False,  True, False,\n",
       "         True, False, False, False, False,  True, False,  True, False,  True,\n",
       "        False, False, False,  True, False, False,  True,  True,  True, False,\n",
       "         True, False,  True,  True, False, False, False,  True, False,  True,\n",
       "        False,  True,  True, False,  True,  True,  True,  True, False,  True,\n",
       "         True, False,  True,  True])"
      ]
     },
     "execution_count": 54,
     "metadata": {},
     "output_type": "execute_result"
    }
   ],
   "source": [
    "y2 == y1"
   ]
  },
  {
   "cell_type": "code",
   "execution_count": null,
   "metadata": {},
   "outputs": [],
   "source": []
  },
  {
   "cell_type": "code",
   "execution_count": null,
   "metadata": {},
   "outputs": [],
   "source": []
  },
  {
   "cell_type": "code",
   "execution_count": null,
   "metadata": {},
   "outputs": [],
   "source": []
  },
  {
   "cell_type": "code",
   "execution_count": 21,
   "metadata": {},
   "outputs": [],
   "source": [
    "sd1 = learn.model.state_dict()\n",
    "sd2 = learn2.model.state_dict()"
   ]
  },
  {
   "cell_type": "code",
   "execution_count": 24,
   "metadata": {},
   "outputs": [],
   "source": [
    "# sd1 == sd2\n",
    "# cmp(s1,s2)"
   ]
  },
  {
   "cell_type": "code",
   "execution_count": 31,
   "metadata": {},
   "outputs": [],
   "source": [
    "k = sd1.keys()"
   ]
  },
  {
   "cell_type": "code",
   "execution_count": 43,
   "metadata": {
    "collapsed": true
   },
   "outputs": [
    {
     "data": {
      "text/plain": [
       "odict_keys(['0.0.weight', '0.1.weight', '0.1.bias', '0.1.running_mean', '0.1.running_var', '0.1.num_batches_tracked', '0.4.0.conv1.weight', '0.4.0.bn1.weight', '0.4.0.bn1.bias', '0.4.0.bn1.running_mean', '0.4.0.bn1.running_var', '0.4.0.bn1.num_batches_tracked', '0.4.0.conv2.weight', '0.4.0.bn2.weight', '0.4.0.bn2.bias', '0.4.0.bn2.running_mean', '0.4.0.bn2.running_var', '0.4.0.bn2.num_batches_tracked', '0.4.1.conv1.weight', '0.4.1.bn1.weight', '0.4.1.bn1.bias', '0.4.1.bn1.running_mean', '0.4.1.bn1.running_var', '0.4.1.bn1.num_batches_tracked', '0.4.1.conv2.weight', '0.4.1.bn2.weight', '0.4.1.bn2.bias', '0.4.1.bn2.running_mean', '0.4.1.bn2.running_var', '0.4.1.bn2.num_batches_tracked', '0.5.0.conv1.weight', '0.5.0.bn1.weight', '0.5.0.bn1.bias', '0.5.0.bn1.running_mean', '0.5.0.bn1.running_var', '0.5.0.bn1.num_batches_tracked', '0.5.0.conv2.weight', '0.5.0.bn2.weight', '0.5.0.bn2.bias', '0.5.0.bn2.running_mean', '0.5.0.bn2.running_var', '0.5.0.bn2.num_batches_tracked', '0.5.0.downsample.0.weight', '0.5.0.downsample.1.weight', '0.5.0.downsample.1.bias', '0.5.0.downsample.1.running_mean', '0.5.0.downsample.1.running_var', '0.5.0.downsample.1.num_batches_tracked', '0.5.1.conv1.weight', '0.5.1.bn1.weight', '0.5.1.bn1.bias', '0.5.1.bn1.running_mean', '0.5.1.bn1.running_var', '0.5.1.bn1.num_batches_tracked', '0.5.1.conv2.weight', '0.5.1.bn2.weight', '0.5.1.bn2.bias', '0.5.1.bn2.running_mean', '0.5.1.bn2.running_var', '0.5.1.bn2.num_batches_tracked', '0.6.0.conv1.weight', '0.6.0.bn1.weight', '0.6.0.bn1.bias', '0.6.0.bn1.running_mean', '0.6.0.bn1.running_var', '0.6.0.bn1.num_batches_tracked', '0.6.0.conv2.weight', '0.6.0.bn2.weight', '0.6.0.bn2.bias', '0.6.0.bn2.running_mean', '0.6.0.bn2.running_var', '0.6.0.bn2.num_batches_tracked', '0.6.0.downsample.0.weight', '0.6.0.downsample.1.weight', '0.6.0.downsample.1.bias', '0.6.0.downsample.1.running_mean', '0.6.0.downsample.1.running_var', '0.6.0.downsample.1.num_batches_tracked', '0.6.1.conv1.weight', '0.6.1.bn1.weight', '0.6.1.bn1.bias', '0.6.1.bn1.running_mean', '0.6.1.bn1.running_var', '0.6.1.bn1.num_batches_tracked', '0.6.1.conv2.weight', '0.6.1.bn2.weight', '0.6.1.bn2.bias', '0.6.1.bn2.running_mean', '0.6.1.bn2.running_var', '0.6.1.bn2.num_batches_tracked', '0.7.0.conv1.weight', '0.7.0.bn1.weight', '0.7.0.bn1.bias', '0.7.0.bn1.running_mean', '0.7.0.bn1.running_var', '0.7.0.bn1.num_batches_tracked', '0.7.0.conv2.weight', '0.7.0.bn2.weight', '0.7.0.bn2.bias', '0.7.0.bn2.running_mean', '0.7.0.bn2.running_var', '0.7.0.bn2.num_batches_tracked', '0.7.0.downsample.0.weight', '0.7.0.downsample.1.weight', '0.7.0.downsample.1.bias', '0.7.0.downsample.1.running_mean', '0.7.0.downsample.1.running_var', '0.7.0.downsample.1.num_batches_tracked', '0.7.1.conv1.weight', '0.7.1.bn1.weight', '0.7.1.bn1.bias', '0.7.1.bn1.running_mean', '0.7.1.bn1.running_var', '0.7.1.bn1.num_batches_tracked', '0.7.1.conv2.weight', '0.7.1.bn2.weight', '0.7.1.bn2.bias', '0.7.1.bn2.running_mean', '0.7.1.bn2.running_var', '0.7.1.bn2.num_batches_tracked', '1.2.weight', '1.2.bias', '1.2.running_mean', '1.2.running_var', '1.2.num_batches_tracked', '1.4.weight', '1.6.weight', '1.6.bias', '1.6.running_mean', '1.6.running_var', '1.6.num_batches_tracked', '1.8.weight'])"
      ]
     },
     "execution_count": 43,
     "metadata": {},
     "output_type": "execute_result"
    }
   ],
   "source": [
    "k"
   ]
  },
  {
   "cell_type": "code",
   "execution_count": 44,
   "metadata": {},
   "outputs": [],
   "source": [
    "elem = sd1.pop('0.0.weight')"
   ]
  },
  {
   "cell_type": "code",
   "execution_count": 48,
   "metadata": {},
   "outputs": [
    {
     "data": {
      "text/plain": [
       "torch.Size([64, 3, 7, 7])"
      ]
     },
     "execution_count": 48,
     "metadata": {},
     "output_type": "execute_result"
    }
   ],
   "source": [
    "elem.shape"
   ]
  },
  {
   "cell_type": "code",
   "execution_count": 47,
   "metadata": {},
   "outputs": [],
   "source": [
    "# test_eq(learn.model.state_dict(), learn2.model.state_dict())"
   ]
  },
  {
   "cell_type": "code",
   "execution_count": null,
   "metadata": {},
   "outputs": [],
   "source": []
  },
  {
   "cell_type": "code",
   "execution_count": 36,
   "metadata": {},
   "outputs": [
    {
     "ename": "TypeError",
     "evalue": "'odict_keys' object is not subscriptable",
     "output_type": "error",
     "traceback": [
      "\u001b[0;31m---------------------------------------------------------------------------\u001b[0m",
      "\u001b[0;31mTypeError\u001b[0m                                 Traceback (most recent call last)",
      "\u001b[0;32m<ipython-input-36-b4ab567bcd7d>\u001b[0m in \u001b[0;36m<module>\u001b[0;34m\u001b[0m\n\u001b[0;32m----> 1\u001b[0;31m \u001b[0mk\u001b[0m\u001b[0;34m[\u001b[0m\u001b[0;36m0\u001b[0m\u001b[0;34m]\u001b[0m\u001b[0;34m\u001b[0m\u001b[0;34m\u001b[0m\u001b[0m\n\u001b[0m",
      "\u001b[0;31mTypeError\u001b[0m: 'odict_keys' object is not subscriptable"
     ]
    }
   ],
   "source": []
  },
  {
   "cell_type": "code",
   "execution_count": null,
   "metadata": {},
   "outputs": [],
   "source": []
  },
  {
   "cell_type": "code",
   "execution_count": 32,
   "metadata": {},
   "outputs": [
    {
     "ename": "TypeError",
     "evalue": "'odict_keys' object is not subscriptable",
     "output_type": "error",
     "traceback": [
      "\u001b[0;31m---------------------------------------------------------------------------\u001b[0m",
      "\u001b[0;31mTypeError\u001b[0m                                 Traceback (most recent call last)",
      "\u001b[0;32m<ipython-input-32-aa32837e6f5b>\u001b[0m in \u001b[0;36m<module>\u001b[0;34m\u001b[0m\n\u001b[0;32m----> 1\u001b[0;31m \u001b[0msd1\u001b[0m\u001b[0;34m[\u001b[0m\u001b[0mk\u001b[0m\u001b[0;34m[\u001b[0m\u001b[0;36m0\u001b[0m\u001b[0;34m]\u001b[0m\u001b[0;34m]\u001b[0m\u001b[0;34m\u001b[0m\u001b[0;34m\u001b[0m\u001b[0m\n\u001b[0m",
      "\u001b[0;31mTypeError\u001b[0m: 'odict_keys' object is not subscriptable"
     ]
    }
   ],
   "source": [
    "sd1[k[0]]"
   ]
  },
  {
   "cell_type": "code",
   "execution_count": null,
   "metadata": {},
   "outputs": [],
   "source": []
  },
  {
   "cell_type": "code",
   "execution_count": null,
   "metadata": {},
   "outputs": [],
   "source": []
  },
  {
   "cell_type": "code",
   "execution_count": null,
   "metadata": {},
   "outputs": [],
   "source": []
  },
  {
   "cell_type": "code",
   "execution_count": null,
   "metadata": {},
   "outputs": [],
   "source": []
  },
  {
   "cell_type": "code",
   "execution_count": null,
   "metadata": {},
   "outputs": [],
   "source": []
  }
 ],
 "metadata": {
  "kernelspec": {
   "display_name": "Python [conda env:fastai2]",
   "language": "python",
   "name": "conda-env-fastai2-py"
  },
  "language_info": {
   "codemirror_mode": {
    "name": "ipython",
    "version": 3
   },
   "file_extension": ".py",
   "mimetype": "text/x-python",
   "name": "python",
   "nbconvert_exporter": "python",
   "pygments_lexer": "ipython3",
   "version": "3.7.6"
  }
 },
 "nbformat": 4,
 "nbformat_minor": 2
}
