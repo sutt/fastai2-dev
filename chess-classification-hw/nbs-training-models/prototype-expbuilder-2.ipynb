{
 "cells": [
  {
   "cell_type": "code",
   "execution_count": 15,
   "metadata": {},
   "outputs": [
    {
     "name": "stdout",
     "output_type": "stream",
     "text": [
      "The autoreload extension is already loaded. To reload it, use:\n",
      "  %reload_ext autoreload\n"
     ]
    }
   ],
   "source": [
    "from fastai2.vision.all import *\n",
    "import sys\n",
    "sys.path.append('..')\n",
    "\n",
    "%load_ext autoreload\n",
    "%autoreload 2\n",
    "\n",
    "from modules.expbuilder import default_params, run_exp\n",
    "\n",
    "test_path = Path('../../../other-chess-data/regulation-test-all-2/')\n",
    "train_path = Path('../../../rf-chess-data/cropped_v1/')"
   ]
  },
  {
   "cell_type": "code",
   "execution_count": 16,
   "metadata": {},
   "outputs": [],
   "source": [
    "# default_params"
   ]
  },
  {
   "cell_type": "code",
   "execution_count": 18,
   "metadata": {},
   "outputs": [],
   "source": [
    "my_params = {\n",
    "#     '_custom_train_fnames':     'stratify',\n",
    "#     '_custom_train_fnames_args': {'path':train_path, \n",
    "#                                   'n':200, \n",
    "#                                   'np_seed':42},\n",
    "#     '_fit_one_cycle_epochs':    2,\n",
    "#     '_fine_tune_epochs':        3,\n",
    "    '_test_path': test_path\n",
    "}"
   ]
  },
  {
   "cell_type": "code",
   "execution_count": 19,
   "metadata": {},
   "outputs": [],
   "source": [
    "run_params = default_params.copy()\n",
    "run_params.update(my_params)"
   ]
  },
  {
   "cell_type": "code",
   "execution_count": 20,
   "metadata": {},
   "outputs": [],
   "source": [
    "# run_params"
   ]
  },
  {
   "cell_type": "code",
   "execution_count": 21,
   "metadata": {},
   "outputs": [
    {
     "name": "stdout",
     "output_type": "stream",
     "text": [
      "starting training...\n"
     ]
    },
    {
     "data": {
      "text/html": [],
      "text/plain": [
       "<IPython.core.display.HTML object>"
      ]
     },
     "metadata": {},
     "output_type": "display_data"
    },
    {
     "data": {
      "text/html": [],
      "text/plain": [
       "<IPython.core.display.HTML object>"
      ]
     },
     "metadata": {},
     "output_type": "display_data"
    },
    {
     "data": {
      "text/html": [],
      "text/plain": [
       "<IPython.core.display.HTML object>"
      ]
     },
     "metadata": {},
     "output_type": "display_data"
    },
    {
     "name": "stdout",
     "output_type": "stream",
     "text": [
      "saving to name_base: myproto-0\n",
      "Finished with:\n",
      "\n",
      "{'valid_loss': 0.06611721217632294, 'accuracy': 0.99303138256073}\n",
      "{'test_loss': 1.7410168647766113, 'test_accuracy': 0.4517543911933899}\n"
     ]
    },
    {
     "data": {
      "text/html": [],
      "text/plain": [
       "<IPython.core.display.HTML object>"
      ]
     },
     "metadata": {},
     "output_type": "display_data"
    },
    {
     "data": {
      "text/html": [],
      "text/plain": [
       "<IPython.core.display.HTML object>"
      ]
     },
     "metadata": {},
     "output_type": "display_data"
    },
    {
     "name": "stdout",
     "output_type": "stream",
     "text": [
      "finished in 329.94 secs\n",
      "\n"
     ]
    }
   ],
   "source": [
    "run_exp(run_params, name_base='myproto', b_msg=True, b_cuda=True)"
   ]
  },
  {
   "cell_type": "code",
   "execution_count": 23,
   "metadata": {},
   "outputs": [
    {
     "name": "stdout",
     "output_type": "stream",
     "text": [
      "../models/model-logs/myproto-0_params.json\r\n",
      "../models/model-logs/myproto-0_residuals.csv\r\n",
      "../models/model-logs/myproto-0_test.csv\r\n",
      "../models/model-logs/myproto-0_valid.csv\r\n"
     ]
    }
   ],
   "source": [
    "!ls ../models/model-logs/*"
   ]
  },
  {
   "cell_type": "code",
   "execution_count": 24,
   "metadata": {},
   "outputs": [
    {
     "name": "stdout",
     "output_type": "stream",
     "text": [
      "../models/myproto-0.pkl\r\n"
     ]
    }
   ],
   "source": [
    "!ls ../models/myproto*"
   ]
  },
  {
   "cell_type": "code",
   "execution_count": 26,
   "metadata": {},
   "outputs": [
    {
     "data": {
      "text/html": [
       "<div>\n",
       "<style scoped>\n",
       "    .dataframe tbody tr th:only-of-type {\n",
       "        vertical-align: middle;\n",
       "    }\n",
       "\n",
       "    .dataframe tbody tr th {\n",
       "        vertical-align: top;\n",
       "    }\n",
       "\n",
       "    .dataframe thead th {\n",
       "        text-align: right;\n",
       "    }\n",
       "</style>\n",
       "<table border=\"1\" class=\"dataframe\">\n",
       "  <thead>\n",
       "    <tr style=\"text-align: right;\">\n",
       "      <th></th>\n",
       "      <th>test_loss</th>\n",
       "      <th>test_accuracy</th>\n",
       "      <th>test_subcat_color_acc</th>\n",
       "      <th>test_subcat_piece_acc</th>\n",
       "    </tr>\n",
       "  </thead>\n",
       "  <tbody>\n",
       "    <tr>\n",
       "      <th>0</th>\n",
       "      <td>4.128279</td>\n",
       "      <td>0.096491</td>\n",
       "      <td>0.561404</td>\n",
       "      <td>0.192982</td>\n",
       "    </tr>\n",
       "    <tr>\n",
       "      <th>1</th>\n",
       "      <td>3.576448</td>\n",
       "      <td>0.162281</td>\n",
       "      <td>0.574561</td>\n",
       "      <td>0.320175</td>\n",
       "    </tr>\n",
       "    <tr>\n",
       "      <th>2</th>\n",
       "      <td>3.437822</td>\n",
       "      <td>0.171053</td>\n",
       "      <td>0.574561</td>\n",
       "      <td>0.324561</td>\n",
       "    </tr>\n",
       "    <tr>\n",
       "      <th>3</th>\n",
       "      <td>3.304719</td>\n",
       "      <td>0.192982</td>\n",
       "      <td>0.622807</td>\n",
       "      <td>0.399123</td>\n",
       "    </tr>\n",
       "    <tr>\n",
       "      <th>4</th>\n",
       "      <td>3.438754</td>\n",
       "      <td>0.175439</td>\n",
       "      <td>0.596491</td>\n",
       "      <td>0.442982</td>\n",
       "    </tr>\n",
       "    <tr>\n",
       "      <th>5</th>\n",
       "      <td>3.049783</td>\n",
       "      <td>0.241228</td>\n",
       "      <td>0.644737</td>\n",
       "      <td>0.425439</td>\n",
       "    </tr>\n",
       "    <tr>\n",
       "      <th>6</th>\n",
       "      <td>3.415750</td>\n",
       "      <td>0.192982</td>\n",
       "      <td>0.627193</td>\n",
       "      <td>0.368421</td>\n",
       "    </tr>\n",
       "    <tr>\n",
       "      <th>7</th>\n",
       "      <td>2.929957</td>\n",
       "      <td>0.219298</td>\n",
       "      <td>0.627193</td>\n",
       "      <td>0.438596</td>\n",
       "    </tr>\n",
       "    <tr>\n",
       "      <th>8</th>\n",
       "      <td>3.270455</td>\n",
       "      <td>0.179825</td>\n",
       "      <td>0.583333</td>\n",
       "      <td>0.429825</td>\n",
       "    </tr>\n",
       "    <tr>\n",
       "      <th>9</th>\n",
       "      <td>3.256601</td>\n",
       "      <td>0.171053</td>\n",
       "      <td>0.592105</td>\n",
       "      <td>0.394737</td>\n",
       "    </tr>\n",
       "    <tr>\n",
       "      <th>10</th>\n",
       "      <td>2.425323</td>\n",
       "      <td>0.293860</td>\n",
       "      <td>0.692982</td>\n",
       "      <td>0.482456</td>\n",
       "    </tr>\n",
       "    <tr>\n",
       "      <th>11</th>\n",
       "      <td>2.468723</td>\n",
       "      <td>0.311404</td>\n",
       "      <td>0.631579</td>\n",
       "      <td>0.517544</td>\n",
       "    </tr>\n",
       "    <tr>\n",
       "      <th>12</th>\n",
       "      <td>2.777994</td>\n",
       "      <td>0.298246</td>\n",
       "      <td>0.644737</td>\n",
       "      <td>0.521930</td>\n",
       "    </tr>\n",
       "    <tr>\n",
       "      <th>13</th>\n",
       "      <td>2.707756</td>\n",
       "      <td>0.315789</td>\n",
       "      <td>0.592105</td>\n",
       "      <td>0.565789</td>\n",
       "    </tr>\n",
       "    <tr>\n",
       "      <th>14</th>\n",
       "      <td>2.691099</td>\n",
       "      <td>0.302632</td>\n",
       "      <td>0.640351</td>\n",
       "      <td>0.500000</td>\n",
       "    </tr>\n",
       "    <tr>\n",
       "      <th>15</th>\n",
       "      <td>2.295526</td>\n",
       "      <td>0.328947</td>\n",
       "      <td>0.614035</td>\n",
       "      <td>0.574561</td>\n",
       "    </tr>\n",
       "    <tr>\n",
       "      <th>16</th>\n",
       "      <td>3.029389</td>\n",
       "      <td>0.298246</td>\n",
       "      <td>0.618421</td>\n",
       "      <td>0.447368</td>\n",
       "    </tr>\n",
       "    <tr>\n",
       "      <th>17</th>\n",
       "      <td>2.954163</td>\n",
       "      <td>0.267544</td>\n",
       "      <td>0.561404</td>\n",
       "      <td>0.526316</td>\n",
       "    </tr>\n",
       "    <tr>\n",
       "      <th>18</th>\n",
       "      <td>2.009741</td>\n",
       "      <td>0.377193</td>\n",
       "      <td>0.649123</td>\n",
       "      <td>0.644737</td>\n",
       "    </tr>\n",
       "    <tr>\n",
       "      <th>19</th>\n",
       "      <td>2.267520</td>\n",
       "      <td>0.350877</td>\n",
       "      <td>0.723684</td>\n",
       "      <td>0.587719</td>\n",
       "    </tr>\n",
       "    <tr>\n",
       "      <th>20</th>\n",
       "      <td>2.205577</td>\n",
       "      <td>0.346491</td>\n",
       "      <td>0.644737</td>\n",
       "      <td>0.583333</td>\n",
       "    </tr>\n",
       "    <tr>\n",
       "      <th>21</th>\n",
       "      <td>2.027626</td>\n",
       "      <td>0.381579</td>\n",
       "      <td>0.688596</td>\n",
       "      <td>0.587719</td>\n",
       "    </tr>\n",
       "    <tr>\n",
       "      <th>22</th>\n",
       "      <td>2.118036</td>\n",
       "      <td>0.364035</td>\n",
       "      <td>0.649123</td>\n",
       "      <td>0.592105</td>\n",
       "    </tr>\n",
       "    <tr>\n",
       "      <th>23</th>\n",
       "      <td>2.006958</td>\n",
       "      <td>0.377193</td>\n",
       "      <td>0.649123</td>\n",
       "      <td>0.578947</td>\n",
       "    </tr>\n",
       "    <tr>\n",
       "      <th>24</th>\n",
       "      <td>1.741017</td>\n",
       "      <td>0.451754</td>\n",
       "      <td>0.771930</td>\n",
       "      <td>0.605263</td>\n",
       "    </tr>\n",
       "  </tbody>\n",
       "</table>\n",
       "</div>"
      ],
      "text/plain": [
       "    test_loss  test_accuracy  test_subcat_color_acc  test_subcat_piece_acc\n",
       "0    4.128279       0.096491               0.561404               0.192982\n",
       "1    3.576448       0.162281               0.574561               0.320175\n",
       "2    3.437822       0.171053               0.574561               0.324561\n",
       "3    3.304719       0.192982               0.622807               0.399123\n",
       "4    3.438754       0.175439               0.596491               0.442982\n",
       "5    3.049783       0.241228               0.644737               0.425439\n",
       "6    3.415750       0.192982               0.627193               0.368421\n",
       "7    2.929957       0.219298               0.627193               0.438596\n",
       "8    3.270455       0.179825               0.583333               0.429825\n",
       "9    3.256601       0.171053               0.592105               0.394737\n",
       "10   2.425323       0.293860               0.692982               0.482456\n",
       "11   2.468723       0.311404               0.631579               0.517544\n",
       "12   2.777994       0.298246               0.644737               0.521930\n",
       "13   2.707756       0.315789               0.592105               0.565789\n",
       "14   2.691099       0.302632               0.640351               0.500000\n",
       "15   2.295526       0.328947               0.614035               0.574561\n",
       "16   3.029389       0.298246               0.618421               0.447368\n",
       "17   2.954163       0.267544               0.561404               0.526316\n",
       "18   2.009741       0.377193               0.649123               0.644737\n",
       "19   2.267520       0.350877               0.723684               0.587719\n",
       "20   2.205577       0.346491               0.644737               0.583333\n",
       "21   2.027626       0.381579               0.688596               0.587719\n",
       "22   2.118036       0.364035               0.649123               0.592105\n",
       "23   2.006958       0.377193               0.649123               0.578947\n",
       "24   1.741017       0.451754               0.771930               0.605263"
      ]
     },
     "execution_count": 26,
     "metadata": {},
     "output_type": "execute_result"
    }
   ],
   "source": [
    "pd.read_csv('../models/model-logs/myproto-0_test.csv')"
   ]
  },
  {
   "cell_type": "code",
   "execution_count": 27,
   "metadata": {},
   "outputs": [
    {
     "data": {
      "text/html": [
       "<div>\n",
       "<style scoped>\n",
       "    .dataframe tbody tr th:only-of-type {\n",
       "        vertical-align: middle;\n",
       "    }\n",
       "\n",
       "    .dataframe tbody tr th {\n",
       "        vertical-align: top;\n",
       "    }\n",
       "\n",
       "    .dataframe thead th {\n",
       "        text-align: right;\n",
       "    }\n",
       "</style>\n",
       "<table border=\"1\" class=\"dataframe\">\n",
       "  <thead>\n",
       "    <tr style=\"text-align: right;\">\n",
       "      <th></th>\n",
       "      <th>train_loss</th>\n",
       "      <th>valid_loss</th>\n",
       "      <th>accuracy</th>\n",
       "      <th>subcat_color_acc</th>\n",
       "      <th>subcat_piece_acc</th>\n",
       "    </tr>\n",
       "  </thead>\n",
       "  <tbody>\n",
       "    <tr>\n",
       "      <th>0</th>\n",
       "      <td>2.077329</td>\n",
       "      <td>0.195737</td>\n",
       "      <td>0.951219</td>\n",
       "      <td>0.991289</td>\n",
       "      <td>0.959930</td>\n",
       "    </tr>\n",
       "    <tr>\n",
       "      <th>1</th>\n",
       "      <td>1.025586</td>\n",
       "      <td>0.115647</td>\n",
       "      <td>0.970383</td>\n",
       "      <td>0.993031</td>\n",
       "      <td>0.977352</td>\n",
       "    </tr>\n",
       "    <tr>\n",
       "      <th>2</th>\n",
       "      <td>0.685549</td>\n",
       "      <td>0.072873</td>\n",
       "      <td>0.986063</td>\n",
       "      <td>0.998258</td>\n",
       "      <td>0.987805</td>\n",
       "    </tr>\n",
       "    <tr>\n",
       "      <th>3</th>\n",
       "      <td>0.438775</td>\n",
       "      <td>0.082737</td>\n",
       "      <td>0.986063</td>\n",
       "      <td>0.998258</td>\n",
       "      <td>0.987805</td>\n",
       "    </tr>\n",
       "    <tr>\n",
       "      <th>4</th>\n",
       "      <td>0.390090</td>\n",
       "      <td>0.075639</td>\n",
       "      <td>0.991289</td>\n",
       "      <td>0.996516</td>\n",
       "      <td>0.994774</td>\n",
       "    </tr>\n",
       "    <tr>\n",
       "      <th>5</th>\n",
       "      <td>0.315681</td>\n",
       "      <td>0.077148</td>\n",
       "      <td>0.991289</td>\n",
       "      <td>0.996516</td>\n",
       "      <td>0.993031</td>\n",
       "    </tr>\n",
       "    <tr>\n",
       "      <th>6</th>\n",
       "      <td>0.281727</td>\n",
       "      <td>0.081228</td>\n",
       "      <td>0.989547</td>\n",
       "      <td>0.996516</td>\n",
       "      <td>0.991289</td>\n",
       "    </tr>\n",
       "    <tr>\n",
       "      <th>7</th>\n",
       "      <td>0.242435</td>\n",
       "      <td>0.075776</td>\n",
       "      <td>0.989547</td>\n",
       "      <td>0.996516</td>\n",
       "      <td>0.991289</td>\n",
       "    </tr>\n",
       "    <tr>\n",
       "      <th>8</th>\n",
       "      <td>0.224477</td>\n",
       "      <td>0.070623</td>\n",
       "      <td>0.991289</td>\n",
       "      <td>0.998258</td>\n",
       "      <td>0.993031</td>\n",
       "    </tr>\n",
       "    <tr>\n",
       "      <th>9</th>\n",
       "      <td>0.220039</td>\n",
       "      <td>0.066932</td>\n",
       "      <td>0.991289</td>\n",
       "      <td>0.998258</td>\n",
       "      <td>0.993031</td>\n",
       "    </tr>\n",
       "    <tr>\n",
       "      <th>10</th>\n",
       "      <td>0.273027</td>\n",
       "      <td>0.101076</td>\n",
       "      <td>0.987805</td>\n",
       "      <td>0.996516</td>\n",
       "      <td>0.989547</td>\n",
       "    </tr>\n",
       "    <tr>\n",
       "      <th>11</th>\n",
       "      <td>0.250202</td>\n",
       "      <td>0.071713</td>\n",
       "      <td>0.991289</td>\n",
       "      <td>0.996516</td>\n",
       "      <td>0.993031</td>\n",
       "    </tr>\n",
       "    <tr>\n",
       "      <th>12</th>\n",
       "      <td>0.281385</td>\n",
       "      <td>0.089920</td>\n",
       "      <td>0.987805</td>\n",
       "      <td>0.996516</td>\n",
       "      <td>0.991289</td>\n",
       "    </tr>\n",
       "    <tr>\n",
       "      <th>13</th>\n",
       "      <td>0.268382</td>\n",
       "      <td>0.062214</td>\n",
       "      <td>0.991289</td>\n",
       "      <td>0.998258</td>\n",
       "      <td>0.993031</td>\n",
       "    </tr>\n",
       "    <tr>\n",
       "      <th>14</th>\n",
       "      <td>0.248667</td>\n",
       "      <td>0.097980</td>\n",
       "      <td>0.991289</td>\n",
       "      <td>0.998258</td>\n",
       "      <td>0.993031</td>\n",
       "    </tr>\n",
       "    <tr>\n",
       "      <th>15</th>\n",
       "      <td>0.224936</td>\n",
       "      <td>0.073691</td>\n",
       "      <td>0.993031</td>\n",
       "      <td>0.998258</td>\n",
       "      <td>0.994774</td>\n",
       "    </tr>\n",
       "    <tr>\n",
       "      <th>16</th>\n",
       "      <td>0.185981</td>\n",
       "      <td>0.064265</td>\n",
       "      <td>0.993031</td>\n",
       "      <td>0.998258</td>\n",
       "      <td>0.994774</td>\n",
       "    </tr>\n",
       "    <tr>\n",
       "      <th>17</th>\n",
       "      <td>0.176284</td>\n",
       "      <td>0.070450</td>\n",
       "      <td>0.993031</td>\n",
       "      <td>0.998258</td>\n",
       "      <td>0.994774</td>\n",
       "    </tr>\n",
       "    <tr>\n",
       "      <th>18</th>\n",
       "      <td>0.152094</td>\n",
       "      <td>0.056818</td>\n",
       "      <td>0.993031</td>\n",
       "      <td>0.998258</td>\n",
       "      <td>0.994774</td>\n",
       "    </tr>\n",
       "    <tr>\n",
       "      <th>19</th>\n",
       "      <td>0.128300</td>\n",
       "      <td>0.059321</td>\n",
       "      <td>0.993031</td>\n",
       "      <td>0.998258</td>\n",
       "      <td>0.994774</td>\n",
       "    </tr>\n",
       "    <tr>\n",
       "      <th>20</th>\n",
       "      <td>0.127282</td>\n",
       "      <td>0.060359</td>\n",
       "      <td>0.993031</td>\n",
       "      <td>0.998258</td>\n",
       "      <td>0.994774</td>\n",
       "    </tr>\n",
       "    <tr>\n",
       "      <th>21</th>\n",
       "      <td>0.114845</td>\n",
       "      <td>0.061995</td>\n",
       "      <td>0.993031</td>\n",
       "      <td>0.998258</td>\n",
       "      <td>0.994774</td>\n",
       "    </tr>\n",
       "    <tr>\n",
       "      <th>22</th>\n",
       "      <td>0.103060</td>\n",
       "      <td>0.064729</td>\n",
       "      <td>0.993031</td>\n",
       "      <td>0.998258</td>\n",
       "      <td>0.994774</td>\n",
       "    </tr>\n",
       "    <tr>\n",
       "      <th>23</th>\n",
       "      <td>0.091696</td>\n",
       "      <td>0.064735</td>\n",
       "      <td>0.993031</td>\n",
       "      <td>0.998258</td>\n",
       "      <td>0.994774</td>\n",
       "    </tr>\n",
       "    <tr>\n",
       "      <th>24</th>\n",
       "      <td>0.092389</td>\n",
       "      <td>0.066117</td>\n",
       "      <td>0.993031</td>\n",
       "      <td>0.998258</td>\n",
       "      <td>0.994774</td>\n",
       "    </tr>\n",
       "  </tbody>\n",
       "</table>\n",
       "</div>"
      ],
      "text/plain": [
       "    train_loss  valid_loss  accuracy  subcat_color_acc  subcat_piece_acc\n",
       "0     2.077329    0.195737  0.951219          0.991289          0.959930\n",
       "1     1.025586    0.115647  0.970383          0.993031          0.977352\n",
       "2     0.685549    0.072873  0.986063          0.998258          0.987805\n",
       "3     0.438775    0.082737  0.986063          0.998258          0.987805\n",
       "4     0.390090    0.075639  0.991289          0.996516          0.994774\n",
       "5     0.315681    0.077148  0.991289          0.996516          0.993031\n",
       "6     0.281727    0.081228  0.989547          0.996516          0.991289\n",
       "7     0.242435    0.075776  0.989547          0.996516          0.991289\n",
       "8     0.224477    0.070623  0.991289          0.998258          0.993031\n",
       "9     0.220039    0.066932  0.991289          0.998258          0.993031\n",
       "10    0.273027    0.101076  0.987805          0.996516          0.989547\n",
       "11    0.250202    0.071713  0.991289          0.996516          0.993031\n",
       "12    0.281385    0.089920  0.987805          0.996516          0.991289\n",
       "13    0.268382    0.062214  0.991289          0.998258          0.993031\n",
       "14    0.248667    0.097980  0.991289          0.998258          0.993031\n",
       "15    0.224936    0.073691  0.993031          0.998258          0.994774\n",
       "16    0.185981    0.064265  0.993031          0.998258          0.994774\n",
       "17    0.176284    0.070450  0.993031          0.998258          0.994774\n",
       "18    0.152094    0.056818  0.993031          0.998258          0.994774\n",
       "19    0.128300    0.059321  0.993031          0.998258          0.994774\n",
       "20    0.127282    0.060359  0.993031          0.998258          0.994774\n",
       "21    0.114845    0.061995  0.993031          0.998258          0.994774\n",
       "22    0.103060    0.064729  0.993031          0.998258          0.994774\n",
       "23    0.091696    0.064735  0.993031          0.998258          0.994774\n",
       "24    0.092389    0.066117  0.993031          0.998258          0.994774"
      ]
     },
     "execution_count": 27,
     "metadata": {},
     "output_type": "execute_result"
    }
   ],
   "source": [
    "pd.read_csv('../models/model-logs/myproto-0_valid.csv')"
   ]
  },
  {
   "cell_type": "code",
   "execution_count": 29,
   "metadata": {},
   "outputs": [],
   "source": [
    "from matplotlib import pyplot as plt"
   ]
  },
  {
   "cell_type": "code",
   "execution_count": 31,
   "metadata": {},
   "outputs": [],
   "source": [
    "df_test = pd.read_csv('../models/model-logs/myproto-0_test.csv')\n",
    "df_valid = pd.read_csv('../models/model-logs/myproto-0_valid.csv')"
   ]
  },
  {
   "cell_type": "code",
   "execution_count": 44,
   "metadata": {},
   "outputs": [
    {
     "data": {
      "image/png": "[encoded data removed]",
      "text/plain": [
       "<Figure size 432x288 with 1 Axes>"
      ]
     },
     "metadata": {
      "needs_background": "light"
     },
     "output_type": "display_data"
    }
   ],
   "source": [
    "plt.plot(df_test['test_accuracy'], label='Color+Piece')\n",
    "plt.plot(df_test['test_subcat_color_acc'], label='Color')\n",
    "plt.plot(df_test['test_subcat_piece_acc'], label='Piece')\n",
    "\n",
    "y0, y1 = plt.ylim()\n",
    "plt.vlines(x=10, ymin=y0*1.05, ymax=y1*0.95, linestyles='dashed')\n",
    "\n",
    "plt.title('TestSet Color+Piece Accuracy')\n",
    "plt.xlabel('epochs \\n dashed-line: fit_one_cycle | fine_tune')\n",
    "plt.ylabel('accuracy')\n",
    "plt.legend();\n"
   ]
  },
  {
   "cell_type": "code",
   "execution_count": 36,
   "metadata": {},
   "outputs": [
    {
     "data": {
      "image/png": "[encoded data removed]",
      "text/plain": [
       "<Figure size 432x288 with 1 Axes>"
      ]
     },
     "metadata": {
      "needs_background": "light"
     },
     "output_type": "display_data"
    }
   ],
   "source": [
    "plt.plot(df_valid['accuracy'], label='Color+Piece')\n",
    "plt.plot(df_valid['subcat_color_acc'], label='Color')\n",
    "plt.plot(df_valid['subcat_piece_acc'], label='Piece')\n",
    "\n",
    "plt.title('TestSet Color+Piece Accuracy')\n",
    "plt.xlabel('epochs')\n",
    "plt.ylabel('accuracy')\n",
    "plt.legend();\n"
   ]
  },
  {
   "cell_type": "code",
   "execution_count": null,
   "metadata": {},
   "outputs": [],
   "source": []
  }
 ],
 "metadata": {
  "kernelspec": {
   "display_name": "march21",
   "language": "python",
   "name": "march21"
  },
  "language_info": {
   "codemirror_mode": {
    "name": "ipython",
    "version": 3
   },
   "file_extension": ".py",
   "mimetype": "text/x-python",
   "name": "python",
   "nbconvert_exporter": "python",
   "pygments_lexer": "ipython3",
   "version": "3.7.6"
  }
 },
 "nbformat": 4,
 "nbformat_minor": 2
}
