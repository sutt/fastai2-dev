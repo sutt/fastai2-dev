{
 "cells": [
  {
   "cell_type": "markdown",
   "metadata": {},
   "source": [
    "### Base Learner 9  - Use WeightedDL\n",
    "Can we get better perf on pieces we over-weight?"
   ]
  },
  {
   "cell_type": "code",
   "execution_count": 1,
   "metadata": {},
   "outputs": [],
   "source": [
    "from fastai2.vision.all import *\n",
    "import sys, torch\n",
    "sys.path.append('..')\n",
    "\n",
    "torch.backends.cudnn.deterministic = True\n",
    "torch.backends.cudnn.benchmark = False\n",
    "\n",
    "\n",
    "# %load_ext autoreload\n",
    "# %autoreload 2\n",
    "\n",
    "from modules.expbuilder import default_params, run_exp, rm_test_recorder\n",
    "\n",
    "train_path = Path('../../../rf-chess-data/cropped_v1/')\n",
    "train_clean_path = Path('../../../rf-chess-data/cropped_v1.1/')\n",
    "\n",
    "test_path_all = Path('../../../other-chess-data/regulation-test-2-all/')\n",
    "test_path_easy = Path('../../../other-chess-data/regulation-test-2-easy/')"
   ]
  },
  {
   "cell_type": "code",
   "execution_count": 2,
   "metadata": {},
   "outputs": [],
   "source": [
    "def my_weight_func(it_path):\n",
    "    return 3 if 'queen' in it_path.name else 1"
   ]
  },
  {
   "cell_type": "code",
   "execution_count": 3,
   "metadata": {},
   "outputs": [],
   "source": [
    "my_params = {'_train_seed':0, '_custom_crop': 'my-top-crop', \n",
    "             '_model_arch': resnet50,\n",
    "            '_train_path':train_clean_path,\n",
    "            '_learn_norm': False,\n",
    "             '_weighted_dl': True, \n",
    "             '_weight_func': my_weight_func,\n",
    "             \n",
    "            }\n",
    "default_params.update(my_params)"
   ]
  },
  {
   "cell_type": "code",
   "execution_count": 4,
   "metadata": {},
   "outputs": [],
   "source": [
    "set_seed(42)"
   ]
  },
  {
   "cell_type": "code",
   "execution_count": 5,
   "metadata": {},
   "outputs": [],
   "source": [
    "train_dl, learn = run_exp(default_params, 'dummy', b_ret=True,)"
   ]
  },
  {
   "cell_type": "code",
   "execution_count": 6,
   "metadata": {
    "scrolled": false
   },
   "outputs": [
    {
     "data": {
      "text/html": [],
      "text/plain": [
       "<IPython.core.display.HTML object>"
      ]
     },
     "metadata": {},
     "output_type": "display_data"
    }
   ],
   "source": [
    "set_seed(42)\n",
    "with learn.no_logging(): learn.fit_one_cycle(10)"
   ]
  },
  {
   "cell_type": "markdown",
   "metadata": {},
   "source": [
    "### Interpret and Compare"
   ]
  },
  {
   "cell_type": "code",
   "execution_count": 7,
   "metadata": {},
   "outputs": [
    {
     "data": {
      "text/html": [
       "<div>\n",
       "<style scoped>\n",
       "    .dataframe tbody tr th:only-of-type {\n",
       "        vertical-align: middle;\n",
       "    }\n",
       "\n",
       "    .dataframe tbody tr th {\n",
       "        vertical-align: top;\n",
       "    }\n",
       "\n",
       "    .dataframe thead th {\n",
       "        text-align: right;\n",
       "    }\n",
       "</style>\n",
       "<table border=\"1\" class=\"dataframe\">\n",
       "  <thead>\n",
       "    <tr style=\"text-align: right;\">\n",
       "      <th></th>\n",
       "      <th>0</th>\n",
       "      <th>1</th>\n",
       "      <th>2</th>\n",
       "      <th>3</th>\n",
       "    </tr>\n",
       "  </thead>\n",
       "  <tbody>\n",
       "    <tr>\n",
       "      <th>0</th>\n",
       "      <td>1.710588</td>\n",
       "      <td>0.442982</td>\n",
       "      <td>0.907895</td>\n",
       "      <td>0.500000</td>\n",
       "    </tr>\n",
       "    <tr>\n",
       "      <th>1</th>\n",
       "      <td>1.444388</td>\n",
       "      <td>0.583333</td>\n",
       "      <td>0.942982</td>\n",
       "      <td>0.635965</td>\n",
       "    </tr>\n",
       "    <tr>\n",
       "      <th>2</th>\n",
       "      <td>1.190004</td>\n",
       "      <td>0.640351</td>\n",
       "      <td>0.964912</td>\n",
       "      <td>0.692982</td>\n",
       "    </tr>\n",
       "    <tr>\n",
       "      <th>3</th>\n",
       "      <td>1.281303</td>\n",
       "      <td>0.649123</td>\n",
       "      <td>0.942982</td>\n",
       "      <td>0.710526</td>\n",
       "    </tr>\n",
       "    <tr>\n",
       "      <th>4</th>\n",
       "      <td>1.088127</td>\n",
       "      <td>0.692982</td>\n",
       "      <td>0.951754</td>\n",
       "      <td>0.732456</td>\n",
       "    </tr>\n",
       "    <tr>\n",
       "      <th>5</th>\n",
       "      <td>1.043168</td>\n",
       "      <td>0.719298</td>\n",
       "      <td>0.973684</td>\n",
       "      <td>0.780702</td>\n",
       "    </tr>\n",
       "    <tr>\n",
       "      <th>6</th>\n",
       "      <td>1.099344</td>\n",
       "      <td>0.710526</td>\n",
       "      <td>0.951754</td>\n",
       "      <td>0.763158</td>\n",
       "    </tr>\n",
       "    <tr>\n",
       "      <th>7</th>\n",
       "      <td>0.921677</td>\n",
       "      <td>0.741228</td>\n",
       "      <td>0.951754</td>\n",
       "      <td>0.802632</td>\n",
       "    </tr>\n",
       "    <tr>\n",
       "      <th>8</th>\n",
       "      <td>0.907662</td>\n",
       "      <td>0.758772</td>\n",
       "      <td>0.964912</td>\n",
       "      <td>0.811404</td>\n",
       "    </tr>\n",
       "    <tr>\n",
       "      <th>9</th>\n",
       "      <td>0.930722</td>\n",
       "      <td>0.736842</td>\n",
       "      <td>0.960526</td>\n",
       "      <td>0.793860</td>\n",
       "    </tr>\n",
       "  </tbody>\n",
       "</table>\n",
       "</div>"
      ],
      "text/plain": [
       "          0         1         2         3\n",
       "0  1.710588  0.442982  0.907895  0.500000\n",
       "1  1.444388  0.583333  0.942982  0.635965\n",
       "2  1.190004  0.640351  0.964912  0.692982\n",
       "3  1.281303  0.649123  0.942982  0.710526\n",
       "4  1.088127  0.692982  0.951754  0.732456\n",
       "5  1.043168  0.719298  0.973684  0.780702\n",
       "6  1.099344  0.710526  0.951754  0.763158\n",
       "7  0.921677  0.741228  0.951754  0.802632\n",
       "8  0.907662  0.758772  0.964912  0.811404\n",
       "9  0.930722  0.736842  0.960526  0.793860"
      ]
     },
     "execution_count": 7,
     "metadata": {},
     "output_type": "execute_result"
    }
   ],
   "source": [
    "pd.DataFrame(learn.cbs[3].values)"
   ]
  },
  {
   "cell_type": "code",
   "execution_count": 8,
   "metadata": {},
   "outputs": [
    {
     "data": {
      "text/plain": [
       "TestSetRecorder"
      ]
     },
     "execution_count": 8,
     "metadata": {},
     "output_type": "execute_result"
    }
   ],
   "source": [
    "learn.cbs.pop(3)"
   ]
  },
  {
   "cell_type": "code",
   "execution_count": 9,
   "metadata": {},
   "outputs": [
    {
     "data": {
      "text/html": [],
      "text/plain": [
       "<IPython.core.display.HTML object>"
      ]
     },
     "metadata": {},
     "output_type": "display_data"
    },
    {
     "name": "stdout",
     "output_type": "stream",
     "text": [
      "              precision    recall  f1-score   support\n",
      "\n",
      "black-bishop       0.87      0.93      0.90        14\n",
      "  black-king       0.75      0.55      0.63        11\n",
      "black-knight       0.73      0.92      0.81        12\n",
      "  black-pawn       0.89      1.00      0.94        16\n",
      " black-queen       0.73      0.62      0.67        13\n",
      "  black-rook       0.92      1.00      0.96        12\n",
      "white-bishop       0.58      0.58      0.58        12\n",
      "  white-king       0.82      0.64      0.72        14\n",
      "white-knight       0.74      0.93      0.82        15\n",
      "  white-pawn       0.61      0.93      0.74        15\n",
      " white-queen       0.83      0.36      0.50        14\n",
      "  white-rook       0.82      0.64      0.72        14\n",
      "\n",
      "    accuracy                           0.77       162\n",
      "   macro avg       0.77      0.76      0.75       162\n",
      "weighted avg       0.78      0.77      0.75       162\n",
      "\n"
     ]
    },
    {
     "data": {
      "image/png": "[encoded data removed]",
      "text/plain": [
       "<Figure size 432x288 with 1 Axes>"
      ]
     },
     "metadata": {
      "needs_background": "light"
     },
     "output_type": "display_data"
    }
   ],
   "source": [
    "easy_test_dl = learn.dls.test_dl(get_image_files(test_path_easy), \n",
    "                                 with_labels=True)\n",
    "\n",
    "interp = ClassificationInterpretation.from_learner(learn, \n",
    "                                                  dl = easy_test_dl)\n",
    "\n",
    "interp.print_classification_report()\n",
    "\n",
    "interp.plot_confusion_matrix()"
   ]
  },
  {
   "cell_type": "markdown",
   "metadata": {},
   "source": [
    "### More fitting"
   ]
  },
  {
   "cell_type": "code",
   "execution_count": 10,
   "metadata": {},
   "outputs": [
    {
     "data": {
      "text/html": [],
      "text/plain": [
       "<IPython.core.display.HTML object>"
      ]
     },
     "metadata": {},
     "output_type": "display_data"
    },
    {
     "data": {
      "text/html": [],
      "text/plain": [
       "<IPython.core.display.HTML object>"
      ]
     },
     "metadata": {},
     "output_type": "display_data"
    }
   ],
   "source": [
    "with learn.no_logging(): learn.fine_tune(20)"
   ]
  },
  {
   "cell_type": "code",
   "execution_count": 11,
   "metadata": {},
   "outputs": [
    {
     "data": {
      "text/html": [],
      "text/plain": [
       "<IPython.core.display.HTML object>"
      ]
     },
     "metadata": {},
     "output_type": "display_data"
    },
    {
     "name": "stdout",
     "output_type": "stream",
     "text": [
      "              precision    recall  f1-score   support\n",
      "\n",
      "black-bishop       1.00      0.79      0.88        14\n",
      "  black-king       0.90      0.82      0.86        11\n",
      "black-knight       0.80      1.00      0.89        12\n",
      "  black-pawn       1.00      0.88      0.93        16\n",
      " black-queen       0.75      0.69      0.72        13\n",
      "  black-rook       0.67      1.00      0.80        12\n",
      "white-bishop       1.00      0.83      0.91        12\n",
      "  white-king       1.00      0.93      0.96        14\n",
      "white-knight       0.94      1.00      0.97        15\n",
      "  white-pawn       0.94      1.00      0.97        15\n",
      " white-queen       1.00      1.00      1.00        14\n",
      "  white-rook       1.00      0.93      0.96        14\n",
      "\n",
      "    accuracy                           0.91       162\n",
      "   macro avg       0.92      0.91      0.90       162\n",
      "weighted avg       0.92      0.91      0.91       162\n",
      "\n"
     ]
    },
    {
     "data": {
      "image/png": "[encoded data removed]",
      "text/plain": [
       "<Figure size 432x288 with 1 Axes>"
      ]
     },
     "metadata": {
      "needs_background": "light"
     },
     "output_type": "display_data"
    }
   ],
   "source": [
    "easy_test_dl = learn.dls.test_dl(get_image_files(test_path_easy), \n",
    "                                 with_labels=True)\n",
    "\n",
    "interp = ClassificationInterpretation.from_learner(learn, \n",
    "                                                  dl = easy_test_dl)\n",
    "\n",
    "interp.print_classification_report()\n",
    "\n",
    "interp.plot_confusion_matrix()"
   ]
  },
  {
   "cell_type": "markdown",
   "metadata": {},
   "source": [
    "### Previous work in non-weighted DL `base-learner-7`"
   ]
  },
  {
   "cell_type": "code",
   "execution_count": 6,
   "metadata": {},
   "outputs": [
    {
     "data": {
      "text/html": [
       "<div>\n",
       "<style scoped>\n",
       "    .dataframe tbody tr th:only-of-type {\n",
       "        vertical-align: middle;\n",
       "    }\n",
       "\n",
       "    .dataframe tbody tr th {\n",
       "        vertical-align: top;\n",
       "    }\n",
       "\n",
       "    .dataframe thead th {\n",
       "        text-align: right;\n",
       "    }\n",
       "</style>\n",
       "<table border=\"1\" class=\"dataframe\">\n",
       "  <thead>\n",
       "    <tr style=\"text-align: right;\">\n",
       "      <th></th>\n",
       "      <th>0</th>\n",
       "      <th>1</th>\n",
       "      <th>2</th>\n",
       "      <th>3</th>\n",
       "    </tr>\n",
       "  </thead>\n",
       "  <tbody>\n",
       "    <tr>\n",
       "      <th>0</th>\n",
       "      <td>1.642789</td>\n",
       "      <td>0.500000</td>\n",
       "      <td>0.929825</td>\n",
       "      <td>0.557018</td>\n",
       "    </tr>\n",
       "    <tr>\n",
       "      <th>1</th>\n",
       "      <td>1.427014</td>\n",
       "      <td>0.627193</td>\n",
       "      <td>0.916667</td>\n",
       "      <td>0.710526</td>\n",
       "    </tr>\n",
       "    <tr>\n",
       "      <th>2</th>\n",
       "      <td>1.135178</td>\n",
       "      <td>0.675439</td>\n",
       "      <td>0.951754</td>\n",
       "      <td>0.719298</td>\n",
       "    </tr>\n",
       "    <tr>\n",
       "      <th>3</th>\n",
       "      <td>1.033293</td>\n",
       "      <td>0.692982</td>\n",
       "      <td>0.960526</td>\n",
       "      <td>0.750000</td>\n",
       "    </tr>\n",
       "    <tr>\n",
       "      <th>4</th>\n",
       "      <td>1.036367</td>\n",
       "      <td>0.706140</td>\n",
       "      <td>0.969298</td>\n",
       "      <td>0.758772</td>\n",
       "    </tr>\n",
       "    <tr>\n",
       "      <th>5</th>\n",
       "      <td>0.925820</td>\n",
       "      <td>0.736842</td>\n",
       "      <td>0.973684</td>\n",
       "      <td>0.780702</td>\n",
       "    </tr>\n",
       "    <tr>\n",
       "      <th>6</th>\n",
       "      <td>0.924357</td>\n",
       "      <td>0.732456</td>\n",
       "      <td>0.960526</td>\n",
       "      <td>0.776316</td>\n",
       "    </tr>\n",
       "    <tr>\n",
       "      <th>7</th>\n",
       "      <td>0.836314</td>\n",
       "      <td>0.741228</td>\n",
       "      <td>0.973684</td>\n",
       "      <td>0.780702</td>\n",
       "    </tr>\n",
       "    <tr>\n",
       "      <th>8</th>\n",
       "      <td>0.866296</td>\n",
       "      <td>0.732456</td>\n",
       "      <td>0.969298</td>\n",
       "      <td>0.776316</td>\n",
       "    </tr>\n",
       "    <tr>\n",
       "      <th>9</th>\n",
       "      <td>0.846266</td>\n",
       "      <td>0.741228</td>\n",
       "      <td>0.969298</td>\n",
       "      <td>0.789474</td>\n",
       "    </tr>\n",
       "  </tbody>\n",
       "</table>\n",
       "</div>"
      ],
      "text/plain": [
       "          0         1         2         3\n",
       "0  1.642789  0.500000  0.929825  0.557018\n",
       "1  1.427014  0.627193  0.916667  0.710526\n",
       "2  1.135178  0.675439  0.951754  0.719298\n",
       "3  1.033293  0.692982  0.960526  0.750000\n",
       "4  1.036367  0.706140  0.969298  0.758772\n",
       "5  0.925820  0.736842  0.973684  0.780702\n",
       "6  0.924357  0.732456  0.960526  0.776316\n",
       "7  0.836314  0.741228  0.973684  0.780702\n",
       "8  0.866296  0.732456  0.969298  0.776316\n",
       "9  0.846266  0.741228  0.969298  0.789474"
      ]
     },
     "execution_count": 6,
     "metadata": {},
     "output_type": "execute_result"
    }
   ],
   "source": [
    "pd.DataFrame(learn.cbs[3].values)"
   ]
  },
  {
   "cell_type": "code",
   "execution_count": 14,
   "metadata": {},
   "outputs": [
    {
     "data": {
      "text/plain": [
       "TestSetRecorder"
      ]
     },
     "execution_count": 14,
     "metadata": {},
     "output_type": "execute_result"
    }
   ],
   "source": [
    "learn.cbs.pop(3)"
   ]
  },
  {
   "cell_type": "code",
   "execution_count": 15,
   "metadata": {},
   "outputs": [
    {
     "data": {
      "text/html": [],
      "text/plain": [
       "<IPython.core.display.HTML object>"
      ]
     },
     "metadata": {},
     "output_type": "display_data"
    },
    {
     "name": "stdout",
     "output_type": "stream",
     "text": [
      "              precision    recall  f1-score   support\n",
      "\n",
      "black-bishop       0.85      0.79      0.81        14\n",
      "  black-king       0.83      0.91      0.87        11\n",
      "black-knight       0.80      1.00      0.89        12\n",
      "  black-pawn       0.84      1.00      0.91        16\n",
      " black-queen       1.00      0.31      0.47        13\n",
      "  black-rook       0.71      1.00      0.83        12\n",
      "white-bishop       0.59      0.83      0.69        12\n",
      "  white-king       0.73      0.79      0.76        14\n",
      "white-knight       0.88      0.93      0.90        15\n",
      "  white-pawn       0.88      0.93      0.90        15\n",
      " white-queen       1.00      0.21      0.35        14\n",
      "  white-rook       0.80      0.86      0.83        14\n",
      "\n",
      "    accuracy                           0.80       162\n",
      "   macro avg       0.82      0.80      0.77       162\n",
      "weighted avg       0.83      0.80      0.77       162\n",
      "\n"
     ]
    },
    {
     "data": {
      "image/png": "[encoded data removed]",
      "text/plain": [
       "<Figure size 432x288 with 1 Axes>"
      ]
     },
     "metadata": {
      "needs_background": "light"
     },
     "output_type": "display_data"
    }
   ],
   "source": [
    "easy_test_dl = learn.dls.test_dl(get_image_files(test_path_easy), \n",
    "                                 with_labels=True)\n",
    "\n",
    "interp = ClassificationInterpretation.from_learner(learn, \n",
    "                                                  dl = easy_test_dl)\n",
    "\n",
    "interp.print_classification_report()\n",
    "\n",
    "interp.plot_confusion_matrix()"
   ]
  },
  {
   "cell_type": "code",
   "execution_count": null,
   "metadata": {},
   "outputs": [],
   "source": []
  },
  {
   "cell_type": "markdown",
   "metadata": {},
   "source": [
    "##### Save"
   ]
  },
  {
   "cell_type": "code",
   "execution_count": null,
   "metadata": {},
   "outputs": [],
   "source": [
    "old_path = learn.path\n",
    "learn.path = Path('../models')\n",
    "learn.export('base-learner7-fit10.pkl')\n",
    "learn.path = old_path"
   ]
  },
  {
   "cell_type": "code",
   "execution_count": null,
   "metadata": {},
   "outputs": [],
   "source": [
    "old_path"
   ]
  },
  {
   "cell_type": "code",
   "execution_count": null,
   "metadata": {},
   "outputs": [],
   "source": [
    "len(easy_test_dl.items)"
   ]
  },
  {
   "cell_type": "code",
   "execution_count": null,
   "metadata": {},
   "outputs": [],
   "source": [
    "162/12"
   ]
  },
  {
   "cell_type": "code",
   "execution_count": null,
   "metadata": {},
   "outputs": [],
   "source": []
  }
 ],
 "metadata": {
  "kernelspec": {
   "display_name": "march21",
   "language": "python",
   "name": "march21"
  },
  "language_info": {
   "codemirror_mode": {
    "name": "ipython",
    "version": 3
   },
   "file_extension": ".py",
   "mimetype": "text/x-python",
   "name": "python",
   "nbconvert_exporter": "python",
   "pygments_lexer": "ipython3",
   "version": "3.7.6"
  }
 },
 "nbformat": 4,
 "nbformat_minor": 2
}
