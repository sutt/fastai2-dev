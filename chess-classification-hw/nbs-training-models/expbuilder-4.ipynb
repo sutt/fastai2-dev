{
 "cells": [
  {
   "cell_type": "markdown",
   "metadata": {},
   "source": [
    "### New Horizons\n",
    "three seed, different arch, test2-easy"
   ]
  },
  {
   "cell_type": "code",
   "execution_count": 1,
   "metadata": {},
   "outputs": [],
   "source": [
    "from fastai2.vision.all import *\n",
    "import sys\n",
    "sys.path.append('..')\n",
    "\n",
    "%load_ext autoreload\n",
    "%autoreload 2\n",
    "\n",
    "from modules.expbuilder import default_params, run_exp\n",
    "\n",
    "train_path = Path('../../../rf-chess-data/cropped_v1/')\n",
    "# train_path = Path('../../../rf-chess-data/cropped_v1.1/')\n",
    "\n",
    "test_path_all = Path('../../../other-chess-data/regulation-test-2-all/')\n",
    "test_path_easy = Path('../../../other-chess-data/regulation-test-2-easy/')"
   ]
  },
  {
   "cell_type": "code",
   "execution_count": 2,
   "metadata": {},
   "outputs": [
    {
     "data": {
      "text/plain": [
       "2874"
      ]
     },
     "execution_count": 2,
     "metadata": {},
     "output_type": "execute_result"
    }
   ],
   "source": [
    "len(train_path.ls())"
   ]
  },
  {
   "cell_type": "markdown",
   "metadata": {},
   "source": [
    "##### Run two demo runs"
   ]
  },
  {
   "cell_type": "code",
   "execution_count": 3,
   "metadata": {
    "collapsed": true
   },
   "outputs": [
    {
     "data": {
      "text/plain": [
       "{'_expdesign_name': 'notnamed',\n",
       " '_condition_name': 'notnamed',\n",
       " '_train_name': 'rf-v1-crops',\n",
       " '_test_name': 'test-regulation-2-all',\n",
       " '_train_path': Path('../../../rf-chess-data/cropped_v1'),\n",
       " '_test_path': Path('../../../other-chess-data/regulation-test-2-all'),\n",
       " '_model_arch': <function torchvision.models.resnet.resnet50(pretrained=False, progress=True, **kwargs)>,\n",
       " '_fit_one_cycle_epochs': 10,\n",
       " '_fine_tune_epochs': 15,\n",
       " '_train_seed': 0,\n",
       " '_valid_pct': 0.2,\n",
       " '_mult': 1.0,\n",
       " '_max_lighting': 0.9,\n",
       " '_max_warp': 0.4,\n",
       " '_max_rotate': 20.0,\n",
       " '_resize_method': 'pad',\n",
       " '_pad_mode': 'reflection',\n",
       " '_bs': 32,\n",
       " '_p_lighting': 0.75,\n",
       " '_custom_crop': None,\n",
       " '_custom_train_fnames': None,\n",
       " '_custom_train_fnames_args': {}}"
      ]
     },
     "execution_count": 3,
     "metadata": {},
     "output_type": "execute_result"
    }
   ],
   "source": [
    "default_params"
   ]
  },
  {
   "cell_type": "code",
   "execution_count": 6,
   "metadata": {},
   "outputs": [],
   "source": [
    "seeds = [0,1,2]\n",
    "\n",
    "grid_params = [\n",
    "    {'_expdesign_name': 'baseline34_tune20',\n",
    "     '_condition_name': ('pad' if _custom_crop is None else 'topcrop'),\n",
    "     '_test_name': 'test-regulation-2-easy',\n",
    "     '_test_path': test_path_easy,\n",
    "     '_model_arch': resnet34,\n",
    "      '_custom_crop': _custom_crop,\n",
    "     '_fine_tune_epochs': 20,\n",
    "     '_train_seed': seed,\n",
    "    }  \n",
    "    for _custom_crop in (None, 'my-top-crop')\n",
    "    for seed in seeds]"
   ]
  },
  {
   "cell_type": "code",
   "execution_count": 7,
   "metadata": {},
   "outputs": [
    {
     "data": {
      "text/plain": [
       "[{'_expdesign_name': 'baseline34_tune20',\n",
       "  '_condition_name': 'pad',\n",
       "  '_test_name': 'test-regulation-2-easy',\n",
       "  '_test_path': Path('../../../other-chess-data/regulation-test-2-easy'),\n",
       "  '_model_arch': <function torchvision.models.resnet.resnet34(pretrained=False, progress=True, **kwargs)>,\n",
       "  '_custom_crop': None,\n",
       "  '_fine_tune_epochs': 20,\n",
       "  '_train_seed': 0},\n",
       " {'_expdesign_name': 'baseline34_tune20',\n",
       "  '_condition_name': 'pad',\n",
       "  '_test_name': 'test-regulation-2-easy',\n",
       "  '_test_path': Path('../../../other-chess-data/regulation-test-2-easy'),\n",
       "  '_model_arch': <function torchvision.models.resnet.resnet34(pretrained=False, progress=True, **kwargs)>,\n",
       "  '_custom_crop': None,\n",
       "  '_fine_tune_epochs': 20,\n",
       "  '_train_seed': 1},\n",
       " {'_expdesign_name': 'baseline34_tune20',\n",
       "  '_condition_name': 'pad',\n",
       "  '_test_name': 'test-regulation-2-easy',\n",
       "  '_test_path': Path('../../../other-chess-data/regulation-test-2-easy'),\n",
       "  '_model_arch': <function torchvision.models.resnet.resnet34(pretrained=False, progress=True, **kwargs)>,\n",
       "  '_custom_crop': None,\n",
       "  '_fine_tune_epochs': 20,\n",
       "  '_train_seed': 2},\n",
       " {'_expdesign_name': 'baseline34_tune20',\n",
       "  '_condition_name': 'topcrop',\n",
       "  '_test_name': 'test-regulation-2-easy',\n",
       "  '_test_path': Path('../../../other-chess-data/regulation-test-2-easy'),\n",
       "  '_model_arch': <function torchvision.models.resnet.resnet34(pretrained=False, progress=True, **kwargs)>,\n",
       "  '_custom_crop': 'my-top-crop',\n",
       "  '_fine_tune_epochs': 20,\n",
       "  '_train_seed': 0},\n",
       " {'_expdesign_name': 'baseline34_tune20',\n",
       "  '_condition_name': 'topcrop',\n",
       "  '_test_name': 'test-regulation-2-easy',\n",
       "  '_test_path': Path('../../../other-chess-data/regulation-test-2-easy'),\n",
       "  '_model_arch': <function torchvision.models.resnet.resnet34(pretrained=False, progress=True, **kwargs)>,\n",
       "  '_custom_crop': 'my-top-crop',\n",
       "  '_fine_tune_epochs': 20,\n",
       "  '_train_seed': 1},\n",
       " {'_expdesign_name': 'baseline34_tune20',\n",
       "  '_condition_name': 'topcrop',\n",
       "  '_test_name': 'test-regulation-2-easy',\n",
       "  '_test_path': Path('../../../other-chess-data/regulation-test-2-easy'),\n",
       "  '_model_arch': <function torchvision.models.resnet.resnet34(pretrained=False, progress=True, **kwargs)>,\n",
       "  '_custom_crop': 'my-top-crop',\n",
       "  '_fine_tune_epochs': 20,\n",
       "  '_train_seed': 2}]"
      ]
     },
     "execution_count": 7,
     "metadata": {},
     "output_type": "execute_result"
    }
   ],
   "source": [
    "grid_params"
   ]
  },
  {
   "cell_type": "code",
   "execution_count": 8,
   "metadata": {},
   "outputs": [
    {
     "name": "stdout",
     "output_type": "stream",
     "text": [
      "starting training...\n"
     ]
    },
    {
     "data": {
      "text/html": [],
      "text/plain": [
       "<IPython.core.display.HTML object>"
      ]
     },
     "metadata": {},
     "output_type": "display_data"
    },
    {
     "data": {
      "text/html": [],
      "text/plain": [
       "<IPython.core.display.HTML object>"
      ]
     },
     "metadata": {},
     "output_type": "display_data"
    },
    {
     "data": {
      "text/html": [],
      "text/plain": [
       "<IPython.core.display.HTML object>"
      ]
     },
     "metadata": {},
     "output_type": "display_data"
    },
    {
     "name": "stdout",
     "output_type": "stream",
     "text": [
      "saving to name_base: basicexp-45\n",
      "Finished with:\n",
      "\n",
      "{'valid_loss': 0.07596264779567719, 'accuracy': 0.9912891983985901}\n",
      "{'test_loss': 0.29490262269973755, 'test_accuracy': 0.9074074029922485}\n"
     ]
    },
    {
     "data": {
      "text/html": [],
      "text/plain": [
       "<IPython.core.display.HTML object>"
      ]
     },
     "metadata": {},
     "output_type": "display_data"
    },
    {
     "data": {
      "text/html": [],
      "text/plain": [
       "<IPython.core.display.HTML object>"
      ]
     },
     "metadata": {},
     "output_type": "display_data"
    },
    {
     "name": "stdout",
     "output_type": "stream",
     "text": [
      "finished in 251.03 secs\n",
      "\n",
      "starting training...\n"
     ]
    },
    {
     "data": {
      "text/html": [],
      "text/plain": [
       "<IPython.core.display.HTML object>"
      ]
     },
     "metadata": {},
     "output_type": "display_data"
    },
    {
     "data": {
      "text/html": [],
      "text/plain": [
       "<IPython.core.display.HTML object>"
      ]
     },
     "metadata": {},
     "output_type": "display_data"
    },
    {
     "data": {
      "text/html": [],
      "text/plain": [
       "<IPython.core.display.HTML object>"
      ]
     },
     "metadata": {},
     "output_type": "display_data"
    },
    {
     "name": "stdout",
     "output_type": "stream",
     "text": [
      "saving to name_base: basicexp-46\n",
      "Finished with:\n",
      "\n",
      "{'valid_loss': 0.08489661663770676, 'accuracy': 0.99303138256073}\n",
      "{'test_loss': 0.3967060446739197, 'test_accuracy': 0.8518518805503845}\n"
     ]
    },
    {
     "data": {
      "text/html": [],
      "text/plain": [
       "<IPython.core.display.HTML object>"
      ]
     },
     "metadata": {},
     "output_type": "display_data"
    },
    {
     "data": {
      "text/html": [],
      "text/plain": [
       "<IPython.core.display.HTML object>"
      ]
     },
     "metadata": {},
     "output_type": "display_data"
    },
    {
     "name": "stdout",
     "output_type": "stream",
     "text": [
      "finished in 254.87 secs\n",
      "\n",
      "starting training...\n"
     ]
    },
    {
     "data": {
      "text/html": [],
      "text/plain": [
       "<IPython.core.display.HTML object>"
      ]
     },
     "metadata": {},
     "output_type": "display_data"
    },
    {
     "data": {
      "text/html": [],
      "text/plain": [
       "<IPython.core.display.HTML object>"
      ]
     },
     "metadata": {},
     "output_type": "display_data"
    },
    {
     "data": {
      "text/html": [],
      "text/plain": [
       "<IPython.core.display.HTML object>"
      ]
     },
     "metadata": {},
     "output_type": "display_data"
    },
    {
     "name": "stdout",
     "output_type": "stream",
     "text": [
      "saving to name_base: basicexp-47\n",
      "Finished with:\n",
      "\n",
      "{'valid_loss': 0.08166266977787018, 'accuracy': 0.9912891983985901}\n",
      "{'test_loss': 0.3743003308773041, 'test_accuracy': 0.8518518805503845}\n"
     ]
    },
    {
     "data": {
      "text/html": [],
      "text/plain": [
       "<IPython.core.display.HTML object>"
      ]
     },
     "metadata": {},
     "output_type": "display_data"
    },
    {
     "data": {
      "text/html": [],
      "text/plain": [
       "<IPython.core.display.HTML object>"
      ]
     },
     "metadata": {},
     "output_type": "display_data"
    },
    {
     "name": "stdout",
     "output_type": "stream",
     "text": [
      "finished in 252.1 secs\n",
      "\n",
      "starting training...\n"
     ]
    },
    {
     "data": {
      "text/html": [],
      "text/plain": [
       "<IPython.core.display.HTML object>"
      ]
     },
     "metadata": {},
     "output_type": "display_data"
    },
    {
     "data": {
      "text/html": [],
      "text/plain": [
       "<IPython.core.display.HTML object>"
      ]
     },
     "metadata": {},
     "output_type": "display_data"
    },
    {
     "data": {
      "text/html": [],
      "text/plain": [
       "<IPython.core.display.HTML object>"
      ]
     },
     "metadata": {},
     "output_type": "display_data"
    },
    {
     "name": "stdout",
     "output_type": "stream",
     "text": [
      "saving to name_base: basicexp-48\n",
      "Finished with:\n",
      "\n",
      "{'valid_loss': 0.08093757182359695, 'accuracy': 0.99303138256073}\n",
      "{'test_loss': 0.23741617798805237, 'test_accuracy': 0.9197530746459961}\n"
     ]
    },
    {
     "data": {
      "text/html": [],
      "text/plain": [
       "<IPython.core.display.HTML object>"
      ]
     },
     "metadata": {},
     "output_type": "display_data"
    },
    {
     "data": {
      "text/html": [],
      "text/plain": [
       "<IPython.core.display.HTML object>"
      ]
     },
     "metadata": {},
     "output_type": "display_data"
    },
    {
     "name": "stdout",
     "output_type": "stream",
     "text": [
      "finished in 247.96 secs\n",
      "\n",
      "starting training...\n"
     ]
    },
    {
     "data": {
      "text/html": [],
      "text/plain": [
       "<IPython.core.display.HTML object>"
      ]
     },
     "metadata": {},
     "output_type": "display_data"
    },
    {
     "data": {
      "text/html": [],
      "text/plain": [
       "<IPython.core.display.HTML object>"
      ]
     },
     "metadata": {},
     "output_type": "display_data"
    },
    {
     "data": {
      "text/html": [],
      "text/plain": [
       "<IPython.core.display.HTML object>"
      ]
     },
     "metadata": {},
     "output_type": "display_data"
    },
    {
     "name": "stdout",
     "output_type": "stream",
     "text": [
      "saving to name_base: basicexp-49\n",
      "Finished with:\n",
      "\n",
      "{'valid_loss': 0.08279358595609665, 'accuracy': 0.99303138256073}\n",
      "{'test_loss': 0.25184816122055054, 'test_accuracy': 0.9197530746459961}\n"
     ]
    },
    {
     "data": {
      "text/html": [],
      "text/plain": [
       "<IPython.core.display.HTML object>"
      ]
     },
     "metadata": {},
     "output_type": "display_data"
    },
    {
     "data": {
      "text/html": [],
      "text/plain": [
       "<IPython.core.display.HTML object>"
      ]
     },
     "metadata": {},
     "output_type": "display_data"
    },
    {
     "name": "stdout",
     "output_type": "stream",
     "text": [
      "finished in 250.74 secs\n",
      "\n",
      "starting training...\n"
     ]
    },
    {
     "data": {
      "text/html": [],
      "text/plain": [
       "<IPython.core.display.HTML object>"
      ]
     },
     "metadata": {},
     "output_type": "display_data"
    },
    {
     "data": {
      "text/html": [],
      "text/plain": [
       "<IPython.core.display.HTML object>"
      ]
     },
     "metadata": {},
     "output_type": "display_data"
    },
    {
     "data": {
      "text/html": [],
      "text/plain": [
       "<IPython.core.display.HTML object>"
      ]
     },
     "metadata": {},
     "output_type": "display_data"
    },
    {
     "name": "stdout",
     "output_type": "stream",
     "text": [
      "saving to name_base: basicexp-50\n",
      "Finished with:\n",
      "\n",
      "{'valid_loss': 0.09221862256526947, 'accuracy': 0.9912891983985901}\n",
      "{'test_loss': 0.21748173236846924, 'test_accuracy': 0.9135802388191223}\n"
     ]
    },
    {
     "data": {
      "text/html": [],
      "text/plain": [
       "<IPython.core.display.HTML object>"
      ]
     },
     "metadata": {},
     "output_type": "display_data"
    },
    {
     "data": {
      "text/html": [],
      "text/plain": [
       "<IPython.core.display.HTML object>"
      ]
     },
     "metadata": {},
     "output_type": "display_data"
    },
    {
     "name": "stdout",
     "output_type": "stream",
     "text": [
      "finished in 249.88 secs\n",
      "\n"
     ]
    }
   ],
   "source": [
    "for param in grid_params:\n",
    "    \n",
    "    run_params = default_params.copy()\n",
    "    run_params.update(param)\n",
    "    \n",
    "    run_exp(run_params, \n",
    "            name_base='basicexp',\n",
    "            b_msg=True, \n",
    "            b_cuda=True)"
   ]
  },
  {
   "cell_type": "code",
   "execution_count": null,
   "metadata": {},
   "outputs": [],
   "source": []
  },
  {
   "cell_type": "markdown",
   "metadata": {},
   "source": [
    "##### Plot results"
   ]
  },
  {
   "cell_type": "code",
   "execution_count": null,
   "metadata": {},
   "outputs": [],
   "source": []
  },
  {
   "cell_type": "markdown",
   "metadata": {},
   "source": [
    "### Second run"
   ]
  },
  {
   "cell_type": "code",
   "execution_count": 9,
   "metadata": {},
   "outputs": [],
   "source": [
    "seeds = [0,1,2]\n",
    "\n",
    "grid_params = [\n",
    "    {'_expdesign_name': 'baseline50_tune20',\n",
    "     '_condition_name': 'croptop',\n",
    "     '_test_name': 'test-regulation-2-easy',\n",
    "     '_test_path': test_path_easy,\n",
    "     '_model_arch': resnet50,\n",
    "      '_custom_crop': 'my-top-crop',\n",
    "     '_fine_tune_epochs': 20,\n",
    "     '_train_seed': seed,\n",
    "    }  \n",
    "    for seed in seeds]"
   ]
  },
  {
   "cell_type": "code",
   "execution_count": 10,
   "metadata": {},
   "outputs": [
    {
     "data": {
      "text/plain": [
       "[{'_expdesign_name': 'baseline50_tune20',\n",
       "  '_condition_name': 'croptop',\n",
       "  '_test_name': 'test-regulation-2-easy',\n",
       "  '_test_path': Path('../../../other-chess-data/regulation-test-2-easy'),\n",
       "  '_model_arch': <function torchvision.models.resnet.resnet50(pretrained=False, progress=True, **kwargs)>,\n",
       "  '_custom_crop': 'my-top-crop',\n",
       "  '_fine_tune_epochs': 20,\n",
       "  '_train_seed': 0},\n",
       " {'_expdesign_name': 'baseline50_tune20',\n",
       "  '_condition_name': 'croptop',\n",
       "  '_test_name': 'test-regulation-2-easy',\n",
       "  '_test_path': Path('../../../other-chess-data/regulation-test-2-easy'),\n",
       "  '_model_arch': <function torchvision.models.resnet.resnet50(pretrained=False, progress=True, **kwargs)>,\n",
       "  '_custom_crop': 'my-top-crop',\n",
       "  '_fine_tune_epochs': 20,\n",
       "  '_train_seed': 1},\n",
       " {'_expdesign_name': 'baseline50_tune20',\n",
       "  '_condition_name': 'croptop',\n",
       "  '_test_name': 'test-regulation-2-easy',\n",
       "  '_test_path': Path('../../../other-chess-data/regulation-test-2-easy'),\n",
       "  '_model_arch': <function torchvision.models.resnet.resnet50(pretrained=False, progress=True, **kwargs)>,\n",
       "  '_custom_crop': 'my-top-crop',\n",
       "  '_fine_tune_epochs': 20,\n",
       "  '_train_seed': 2}]"
      ]
     },
     "execution_count": 10,
     "metadata": {},
     "output_type": "execute_result"
    }
   ],
   "source": [
    "grid_params"
   ]
  },
  {
   "cell_type": "code",
   "execution_count": 11,
   "metadata": {},
   "outputs": [
    {
     "name": "stdout",
     "output_type": "stream",
     "text": [
      "starting training...\n"
     ]
    },
    {
     "data": {
      "text/html": [],
      "text/plain": [
       "<IPython.core.display.HTML object>"
      ]
     },
     "metadata": {},
     "output_type": "display_data"
    },
    {
     "data": {
      "text/html": [],
      "text/plain": [
       "<IPython.core.display.HTML object>"
      ]
     },
     "metadata": {},
     "output_type": "display_data"
    },
    {
     "data": {
      "text/html": [],
      "text/plain": [
       "<IPython.core.display.HTML object>"
      ]
     },
     "metadata": {},
     "output_type": "display_data"
    },
    {
     "name": "stdout",
     "output_type": "stream",
     "text": [
      "saving to name_base: basicexp-51\n",
      "Finished with:\n",
      "\n",
      "{'valid_loss': 0.07346097379922867, 'accuracy': 0.99303138256073}\n",
      "{'test_loss': 0.3072585463523865, 'test_accuracy': 0.9012345671653748}\n"
     ]
    },
    {
     "data": {
      "text/html": [],
      "text/plain": [
       "<IPython.core.display.HTML object>"
      ]
     },
     "metadata": {},
     "output_type": "display_data"
    },
    {
     "data": {
      "text/html": [],
      "text/plain": [
       "<IPython.core.display.HTML object>"
      ]
     },
     "metadata": {},
     "output_type": "display_data"
    },
    {
     "name": "stdout",
     "output_type": "stream",
     "text": [
      "finished in 395.24 secs\n",
      "\n",
      "starting training...\n"
     ]
    },
    {
     "data": {
      "text/html": [],
      "text/plain": [
       "<IPython.core.display.HTML object>"
      ]
     },
     "metadata": {},
     "output_type": "display_data"
    },
    {
     "data": {
      "text/html": [],
      "text/plain": [
       "<IPython.core.display.HTML object>"
      ]
     },
     "metadata": {},
     "output_type": "display_data"
    },
    {
     "data": {
      "text/html": [],
      "text/plain": [
       "<IPython.core.display.HTML object>"
      ]
     },
     "metadata": {},
     "output_type": "display_data"
    },
    {
     "name": "stdout",
     "output_type": "stream",
     "text": [
      "saving to name_base: basicexp-52\n",
      "Finished with:\n",
      "\n",
      "{'valid_loss': 0.096509650349617, 'accuracy': 0.99303138256073}\n",
      "{'test_loss': 0.3861948251724243, 'test_accuracy': 0.8765432238578796}\n"
     ]
    },
    {
     "data": {
      "text/html": [],
      "text/plain": [
       "<IPython.core.display.HTML object>"
      ]
     },
     "metadata": {},
     "output_type": "display_data"
    },
    {
     "data": {
      "text/html": [],
      "text/plain": [
       "<IPython.core.display.HTML object>"
      ]
     },
     "metadata": {},
     "output_type": "display_data"
    },
    {
     "name": "stdout",
     "output_type": "stream",
     "text": [
      "finished in 390.44 secs\n",
      "\n",
      "starting training...\n"
     ]
    },
    {
     "data": {
      "text/html": [],
      "text/plain": [
       "<IPython.core.display.HTML object>"
      ]
     },
     "metadata": {},
     "output_type": "display_data"
    },
    {
     "data": {
      "text/html": [],
      "text/plain": [
       "<IPython.core.display.HTML object>"
      ]
     },
     "metadata": {},
     "output_type": "display_data"
    },
    {
     "data": {
      "text/html": [],
      "text/plain": [
       "<IPython.core.display.HTML object>"
      ]
     },
     "metadata": {},
     "output_type": "display_data"
    },
    {
     "name": "stdout",
     "output_type": "stream",
     "text": [
      "saving to name_base: basicexp-53\n",
      "Finished with:\n",
      "\n",
      "{'valid_loss': 0.08391337096691132, 'accuracy': 0.9912891983985901}\n",
      "{'test_loss': 0.3506676256656647, 'test_accuracy': 0.8641975522041321}\n"
     ]
    },
    {
     "data": {
      "text/html": [],
      "text/plain": [
       "<IPython.core.display.HTML object>"
      ]
     },
     "metadata": {},
     "output_type": "display_data"
    },
    {
     "data": {
      "text/html": [],
      "text/plain": [
       "<IPython.core.display.HTML object>"
      ]
     },
     "metadata": {},
     "output_type": "display_data"
    },
    {
     "name": "stdout",
     "output_type": "stream",
     "text": [
      "finished in 393.04 secs\n",
      "\n"
     ]
    }
   ],
   "source": [
    "for param in grid_params:\n",
    "    \n",
    "    run_params = default_params.copy()\n",
    "    run_params.update(param)\n",
    "    \n",
    "    run_exp(run_params, \n",
    "            name_base='basicexp',\n",
    "            b_msg=True, \n",
    "            b_cuda=True)"
   ]
  },
  {
   "cell_type": "code",
   "execution_count": null,
   "metadata": {},
   "outputs": [],
   "source": []
  }
 ],
 "metadata": {
  "kernelspec": {
   "display_name": "march21",
   "language": "python",
   "name": "march21"
  },
  "language_info": {
   "codemirror_mode": {
    "name": "ipython",
    "version": 3
   },
   "file_extension": ".py",
   "mimetype": "text/x-python",
   "name": "python",
   "nbconvert_exporter": "python",
   "pygments_lexer": "ipython3",
   "version": "3.7.6"
  }
 },
 "nbformat": 4,
 "nbformat_minor": 2
}
