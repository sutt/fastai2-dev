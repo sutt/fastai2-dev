{
 "cells": [
  {
   "cell_type": "markdown",
   "metadata": {},
   "source": [
    "### Prototype core functions for `expbuilder` module"
   ]
  },
  {
   "cell_type": "code",
   "execution_count": 1,
   "metadata": {},
   "outputs": [],
   "source": [
    "from fastai2.vision.all import *\n",
    "import sys\n",
    "sys.path.append('..')\n",
    "\n",
    "%load_ext autoreload\n",
    "%autoreload 2\n",
    "\n",
    "test_path = Path('../../../other-chess-data/regulation-test-all/')\n",
    "train_path = Path('../../../rf-chess-data/cropped_v1/')"
   ]
  },
  {
   "cell_type": "code",
   "execution_count": 2,
   "metadata": {},
   "outputs": [],
   "source": [
    "from modules.expbuilder import (default_params,\n",
    "                                run_exp\n",
    "                               )"
   ]
  },
  {
   "cell_type": "code",
   "execution_count": 3,
   "metadata": {},
   "outputs": [
    {
     "data": {
      "text/plain": [
       "{'_train_name': 'rf-v1-crops',\n",
       " '_test_name': 'test-regulation-2-all',\n",
       " '_train_path': Path('../../../rf-chess-data/cropped_v1'),\n",
       " '_test_path': Path('../../../other-chess-data/regulation-test-all'),\n",
       " '_model_arch': <function torchvision.models.resnet.resnet50(pretrained=False, progress=True, **kwargs)>,\n",
       " '_fit_one_cycle_epochs': 10,\n",
       " '_fine_tune_epochs': 15,\n",
       " '_train_seed': 0,\n",
       " '_valid_pct': 0.2,\n",
       " '_mult': 1.0,\n",
       " '_max_lighting': 0.9,\n",
       " '_max_warp': 0.4,\n",
       " '_max_rotate': 20.0,\n",
       " '_resize_method': 'pad',\n",
       " '_pad_mode': 'reflection',\n",
       " '_bs': 32,\n",
       " '_p_lighting': 0.75,\n",
       " '_custom_crop': None,\n",
       " '_custom_train_fnames': None,\n",
       " '_custom_train_fnames_args': {}}"
      ]
     },
     "execution_count": 3,
     "metadata": {},
     "output_type": "execute_result"
    }
   ],
   "source": [
    "default_params"
   ]
  },
  {
   "cell_type": "code",
   "execution_count": 4,
   "metadata": {},
   "outputs": [
    {
     "name": "stdout",
     "output_type": "stream",
     "text": [
      "moda-0.pkl_residuals.csv\r\n",
      "moda-0.pkl_test.csv\r\n",
      "moda-0.pkl_valid.csv\r\n",
      "myproto_valid-0_params.json\r\n",
      "myproto_valid-0_residuals.csv\r\n",
      "myproto_valid-0_test.csv\r\n",
      "myproto_valid-0_valid.csv\r\n"
     ]
    }
   ],
   "source": [
    "!ls ../models/model-logs -1"
   ]
  },
  {
   "cell_type": "code",
   "execution_count": 5,
   "metadata": {},
   "outputs": [],
   "source": [
    "my_params = {\n",
    "    '_custom_train_fnames':     'stratify',\n",
    "    '_custom_train_fnames_args': {'path':train_path, \n",
    "                                  'n':200, \n",
    "                                  'np_seed':42},\n",
    "    '_fit_one_cycle_epochs':    3,\n",
    "    '_fine_tune_epochs':        3,\n",
    "}"
   ]
  },
  {
   "cell_type": "code",
   "execution_count": 6,
   "metadata": {},
   "outputs": [],
   "source": [
    "run_params = default_params.copy()\n",
    "run_params.update(my_params)"
   ]
  },
  {
   "cell_type": "code",
   "execution_count": 7,
   "metadata": {},
   "outputs": [
    {
     "data": {
      "text/plain": [
       "{'_train_name': 'rf-v1-crops',\n",
       " '_test_name': 'test-regulation-2-all',\n",
       " '_train_path': Path('../../../rf-chess-data/cropped_v1'),\n",
       " '_test_path': Path('../../../other-chess-data/regulation-test-all'),\n",
       " '_model_arch': <function torchvision.models.resnet.resnet50(pretrained=False, progress=True, **kwargs)>,\n",
       " '_fit_one_cycle_epochs': 3,\n",
       " '_fine_tune_epochs': 3,\n",
       " '_train_seed': 0,\n",
       " '_valid_pct': 0.2,\n",
       " '_mult': 1.0,\n",
       " '_max_lighting': 0.9,\n",
       " '_max_warp': 0.4,\n",
       " '_max_rotate': 20.0,\n",
       " '_resize_method': 'pad',\n",
       " '_pad_mode': 'reflection',\n",
       " '_bs': 32,\n",
       " '_p_lighting': 0.75,\n",
       " '_custom_crop': None,\n",
       " '_custom_train_fnames': 'stratify',\n",
       " '_custom_train_fnames_args': {'path': Path('../../../rf-chess-data/cropped_v1'),\n",
       "  'n': 200,\n",
       "  'np_seed': 42}}"
      ]
     },
     "execution_count": 7,
     "metadata": {},
     "output_type": "execute_result"
    }
   ],
   "source": [
    "run_params"
   ]
  },
  {
   "cell_type": "code",
   "execution_count": 8,
   "metadata": {
    "scrolled": false
   },
   "outputs": [
    {
     "name": "stdout",
     "output_type": "stream",
     "text": [
      "192\n",
      "starting training...\n"
     ]
    },
    {
     "data": {
      "text/html": [],
      "text/plain": [
       "<IPython.core.display.HTML object>"
      ]
     },
     "metadata": {},
     "output_type": "display_data"
    },
    {
     "data": {
      "text/html": [],
      "text/plain": [
       "<IPython.core.display.HTML object>"
      ]
     },
     "metadata": {},
     "output_type": "display_data"
    },
    {
     "data": {
      "text/html": [],
      "text/plain": [
       "<IPython.core.display.HTML object>"
      ]
     },
     "metadata": {},
     "output_type": "display_data"
    },
    {
     "name": "stdout",
     "output_type": "stream",
     "text": [
      "Finished with:\n",
      "\n",
      "valid_loss    0.121838\n",
      "accuracy      0.947368\n",
      "Name: 2, dtype: float64\n",
      "test_loss        5.630883\n",
      "test_accuracy    0.078947\n",
      "Name: 6, dtype: float64\n"
     ]
    },
    {
     "data": {
      "text/html": [],
      "text/plain": [
       "<IPython.core.display.HTML object>"
      ]
     },
     "metadata": {},
     "output_type": "display_data"
    },
    {
     "data": {
      "text/html": [],
      "text/plain": [
       "<IPython.core.display.HTML object>"
      ]
     },
     "metadata": {},
     "output_type": "display_data"
    },
    {
     "name": "stdout",
     "output_type": "stream",
     "text": [
      "finished in 383.01 secs\n",
      "\n"
     ]
    }
   ],
   "source": [
    "run_exp(run_params, name_base='myproto', b_msg=True, b_cuda=False)"
   ]
  },
  {
   "cell_type": "code",
   "execution_count": 9,
   "metadata": {},
   "outputs": [
    {
     "name": "stdout",
     "output_type": "stream",
     "text": [
      "moda-0.pkl_residuals.csv     myproto_valid-0_residuals.csv\r\n",
      "moda-0.pkl_test.csv\t     myproto_valid-0_test.csv\r\n",
      "moda-0.pkl_valid.csv\t     myproto_valid-0_valid.csv\r\n",
      "myproto_valid-0_params.json\r\n"
     ]
    }
   ],
   "source": [
    "!ls ../models/model-logs"
   ]
  },
  {
   "cell_type": "code",
   "execution_count": 11,
   "metadata": {},
   "outputs": [
    {
     "data": {
      "text/html": [
       "<div>\n",
       "<style scoped>\n",
       "    .dataframe tbody tr th:only-of-type {\n",
       "        vertical-align: middle;\n",
       "    }\n",
       "\n",
       "    .dataframe tbody tr th {\n",
       "        vertical-align: top;\n",
       "    }\n",
       "\n",
       "    .dataframe thead th {\n",
       "        text-align: right;\n",
       "    }\n",
       "</style>\n",
       "<table border=\"1\" class=\"dataframe\">\n",
       "  <thead>\n",
       "    <tr style=\"text-align: right;\">\n",
       "      <th></th>\n",
       "      <th>train_loss</th>\n",
       "      <th>valid_loss</th>\n",
       "      <th>accuracy</th>\n",
       "      <th>subcat_color_acc</th>\n",
       "      <th>subcat_piece_acc</th>\n",
       "    </tr>\n",
       "  </thead>\n",
       "  <tbody>\n",
       "    <tr>\n",
       "      <th>0</th>\n",
       "      <td>0.239148</td>\n",
       "      <td>0.169508</td>\n",
       "      <td>0.947368</td>\n",
       "      <td>1.0</td>\n",
       "      <td>0.947368</td>\n",
       "    </tr>\n",
       "    <tr>\n",
       "      <th>1</th>\n",
       "      <td>0.180795</td>\n",
       "      <td>0.208215</td>\n",
       "      <td>0.921053</td>\n",
       "      <td>1.0</td>\n",
       "      <td>0.921053</td>\n",
       "    </tr>\n",
       "    <tr>\n",
       "      <th>2</th>\n",
       "      <td>0.142813</td>\n",
       "      <td>0.245733</td>\n",
       "      <td>0.921053</td>\n",
       "      <td>1.0</td>\n",
       "      <td>0.921053</td>\n",
       "    </tr>\n",
       "  </tbody>\n",
       "</table>\n",
       "</div>"
      ],
      "text/plain": [
       "   train_loss  valid_loss  accuracy  subcat_color_acc  subcat_piece_acc\n",
       "0    0.239148    0.169508  0.947368               1.0          0.947368\n",
       "1    0.180795    0.208215  0.921053               1.0          0.921053\n",
       "2    0.142813    0.245733  0.921053               1.0          0.921053"
      ]
     },
     "execution_count": 11,
     "metadata": {},
     "output_type": "execute_result"
    }
   ],
   "source": [
    "pd.read_csv('../models/model-logs/myproto_valid-1_valid.csv')"
   ]
  },
  {
   "cell_type": "code",
   "execution_count": 12,
   "metadata": {},
   "outputs": [
    {
     "data": {
      "text/html": [
       "<div>\n",
       "<style scoped>\n",
       "    .dataframe tbody tr th:only-of-type {\n",
       "        vertical-align: middle;\n",
       "    }\n",
       "\n",
       "    .dataframe tbody tr th {\n",
       "        vertical-align: top;\n",
       "    }\n",
       "\n",
       "    .dataframe thead th {\n",
       "        text-align: right;\n",
       "    }\n",
       "</style>\n",
       "<table border=\"1\" class=\"dataframe\">\n",
       "  <thead>\n",
       "    <tr style=\"text-align: right;\">\n",
       "      <th></th>\n",
       "      <th>test_loss</th>\n",
       "      <th>test_accuracy</th>\n",
       "      <th>test_subcat_color_acc</th>\n",
       "      <th>test_subcat_piece_acc</th>\n",
       "    </tr>\n",
       "  </thead>\n",
       "  <tbody>\n",
       "    <tr>\n",
       "      <th>0</th>\n",
       "      <td>2.473189</td>\n",
       "      <td>0.192982</td>\n",
       "      <td>0.662281</td>\n",
       "      <td>0.364035</td>\n",
       "    </tr>\n",
       "    <tr>\n",
       "      <th>1</th>\n",
       "      <td>2.644498</td>\n",
       "      <td>0.175439</td>\n",
       "      <td>0.587719</td>\n",
       "      <td>0.364035</td>\n",
       "    </tr>\n",
       "    <tr>\n",
       "      <th>2</th>\n",
       "      <td>3.218844</td>\n",
       "      <td>0.127193</td>\n",
       "      <td>0.578947</td>\n",
       "      <td>0.280702</td>\n",
       "    </tr>\n",
       "    <tr>\n",
       "      <th>3</th>\n",
       "      <td>3.676542</td>\n",
       "      <td>0.114035</td>\n",
       "      <td>0.535088</td>\n",
       "      <td>0.214912</td>\n",
       "    </tr>\n",
       "    <tr>\n",
       "      <th>4</th>\n",
       "      <td>3.821562</td>\n",
       "      <td>0.114035</td>\n",
       "      <td>0.530702</td>\n",
       "      <td>0.214912</td>\n",
       "    </tr>\n",
       "    <tr>\n",
       "      <th>5</th>\n",
       "      <td>4.098573</td>\n",
       "      <td>0.092105</td>\n",
       "      <td>0.517544</td>\n",
       "      <td>0.214912</td>\n",
       "    </tr>\n",
       "    <tr>\n",
       "      <th>6</th>\n",
       "      <td>4.439661</td>\n",
       "      <td>0.105263</td>\n",
       "      <td>0.530702</td>\n",
       "      <td>0.223684</td>\n",
       "    </tr>\n",
       "  </tbody>\n",
       "</table>\n",
       "</div>"
      ],
      "text/plain": [
       "   test_loss  test_accuracy  test_subcat_color_acc  test_subcat_piece_acc\n",
       "0   2.473189       0.192982               0.662281               0.364035\n",
       "1   2.644498       0.175439               0.587719               0.364035\n",
       "2   3.218844       0.127193               0.578947               0.280702\n",
       "3   3.676542       0.114035               0.535088               0.214912\n",
       "4   3.821562       0.114035               0.530702               0.214912\n",
       "5   4.098573       0.092105               0.517544               0.214912\n",
       "6   4.439661       0.105263               0.530702               0.223684"
      ]
     },
     "execution_count": 12,
     "metadata": {},
     "output_type": "execute_result"
    }
   ],
   "source": [
    "pd.read_csv('../models/model-logs/myproto_valid-1_test.csv')"
   ]
  },
  {
   "cell_type": "code",
   "execution_count": null,
   "metadata": {},
   "outputs": [],
   "source": []
  }
 ],
 "metadata": {
  "kernelspec": {
   "display_name": "Python [conda env:fastai2]",
   "language": "python",
   "name": "conda-env-fastai2-py"
  },
  "language_info": {
   "codemirror_mode": {
    "name": "ipython",
    "version": 3
   },
   "file_extension": ".py",
   "mimetype": "text/x-python",
   "name": "python",
   "nbconvert_exporter": "python",
   "pygments_lexer": "ipython3",
   "version": "3.7.6"
  }
 },
 "nbformat": 4,
 "nbformat_minor": 2
}
