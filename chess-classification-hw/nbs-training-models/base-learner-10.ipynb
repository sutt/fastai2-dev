{
 "cells": [
  {
   "cell_type": "markdown",
   "metadata": {},
   "source": [
    "### Base Learner 10  - Use BW Images"
   ]
  },
  {
   "cell_type": "code",
   "execution_count": 1,
   "metadata": {},
   "outputs": [],
   "source": [
    "from fastai2.vision.all import *\n",
    "import sys, torch\n",
    "sys.path.append('..')\n",
    "\n",
    "torch.backends.cudnn.deterministic = True\n",
    "torch.backends.cudnn.benchmark = False\n",
    "\n",
    "\n",
    "# %load_ext autoreload\n",
    "# %autoreload 2\n",
    "\n",
    "from modules.expbuilder import default_params, run_exp, rm_test_recorder\n",
    "from modules.trainutils import piece_class_parse\n",
    "\n",
    "train_path = Path('../../../rf-chess-data/cropped_v1/')\n",
    "train_clean_path = Path('../../../rf-chess-data/cropped_v1.1/')\n",
    "\n",
    "test_path_all = Path('../../../other-chess-data/regulation-test-2-all/')\n",
    "test_path_easy = Path('../../../other-chess-data/regulation-test-2-easy/')"
   ]
  },
  {
   "cell_type": "code",
   "execution_count": 2,
   "metadata": {},
   "outputs": [],
   "source": [
    "def my_weight_func(it_path):\n",
    "    return 3 if 'queen' in it_path.name else 1"
   ]
  },
  {
   "cell_type": "code",
   "execution_count": 3,
   "metadata": {},
   "outputs": [],
   "source": [
    "def mypcp(x):\n",
    "    return piece_class_parse(x.name)"
   ]
  },
  {
   "cell_type": "code",
   "execution_count": 4,
   "metadata": {},
   "outputs": [],
   "source": [
    "Augs = aug_transforms(mult=1.,)"
   ]
  },
  {
   "cell_type": "code",
   "execution_count": 5,
   "metadata": {},
   "outputs": [],
   "source": [
    "dblock = DataBlock(\n",
    "            (ImageBlock(PILImageBW),CategoryBlock),\n",
    "            get_items=get_image_files,\n",
    "            get_y=mypcp,\n",
    "            item_tfms=[Resize(128)],\n",
    "            batch_tfms=Augs,\n",
    "            )\n",
    "\n",
    "dl = dblock.dataloaders(train_path)"
   ]
  },
  {
   "cell_type": "code",
   "execution_count": 6,
   "metadata": {},
   "outputs": [],
   "source": [
    "learn = cnn_learner(dl, resnet50, metrics=accuracy)"
   ]
  },
  {
   "cell_type": "code",
   "execution_count": 7,
   "metadata": {},
   "outputs": [
    {
     "data": {
      "text/html": [
       "<table border=\"1\" class=\"dataframe\">\n",
       "  <thead>\n",
       "    <tr style=\"text-align: left;\">\n",
       "      <th>epoch</th>\n",
       "      <th>train_loss</th>\n",
       "      <th>valid_loss</th>\n",
       "      <th>accuracy</th>\n",
       "      <th>time</th>\n",
       "    </tr>\n",
       "  </thead>\n",
       "  <tbody>\n",
       "    <tr>\n",
       "      <td>0</td>\n",
       "      <td>0.821886</td>\n",
       "      <td>0.303802</td>\n",
       "      <td>0.928571</td>\n",
       "      <td>00:10</td>\n",
       "    </tr>\n",
       "  </tbody>\n",
       "</table>"
      ],
      "text/plain": [
       "<IPython.core.display.HTML object>"
      ]
     },
     "metadata": {},
     "output_type": "display_data"
    }
   ],
   "source": [
    "learn.fit_one_cycle(1)"
   ]
  },
  {
   "cell_type": "code",
   "execution_count": 16,
   "metadata": {},
   "outputs": [],
   "source": [
    "from modules.trainutils import my_test_metrics"
   ]
  },
  {
   "cell_type": "code",
   "execution_count": 17,
   "metadata": {},
   "outputs": [
    {
     "data": {
      "text/html": [],
      "text/plain": [
       "<IPython.core.display.HTML object>"
      ]
     },
     "metadata": {},
     "output_type": "display_data"
    },
    {
     "data": {
      "text/plain": [
       "(2.440389116605123, 0.39473684210526316)"
      ]
     },
     "execution_count": 17,
     "metadata": {},
     "output_type": "execute_result"
    }
   ],
   "source": [
    "my_test_metrics(learn, test_path_all)"
   ]
  },
  {
   "cell_type": "code",
   "execution_count": 18,
   "metadata": {},
   "outputs": [
    {
     "data": {
      "text/html": [],
      "text/plain": [
       "<IPython.core.display.HTML object>"
      ]
     },
     "metadata": {},
     "output_type": "display_data"
    },
    {
     "data": {
      "text/plain": [
       "(2.2590632056012567, 0.4012345679012346)"
      ]
     },
     "execution_count": 18,
     "metadata": {},
     "output_type": "execute_result"
    }
   ],
   "source": [
    "my_test_metrics(learn, test_path_easy)"
   ]
  },
  {
   "cell_type": "code",
   "execution_count": 19,
   "metadata": {},
   "outputs": [
    {
     "data": {
      "text/html": [],
      "text/plain": [
       "<IPython.core.display.HTML object>"
      ]
     },
     "metadata": {},
     "output_type": "display_data"
    },
    {
     "name": "stderr",
     "output_type": "stream",
     "text": [
      "/opt/anaconda3/envs/march21/lib/python3.7/site-packages/sklearn/metrics/_classification.py:1272: UndefinedMetricWarning: Precision and F-score are ill-defined and being set to 0.0 in labels with no predicted samples. Use `zero_division` parameter to control this behavior.\n",
      "  _warn_prf(average, modifier, msg_start, len(result))\n"
     ]
    },
    {
     "name": "stdout",
     "output_type": "stream",
     "text": [
      "              precision    recall  f1-score   support\n",
      "\n",
      "black-bishop       0.50      0.14      0.22        14\n",
      "  black-king       0.33      0.09      0.14        11\n",
      "black-knight       0.71      0.42      0.53        12\n",
      "  black-pawn       0.63      0.75      0.69        16\n",
      " black-queen       0.00      0.00      0.00        13\n",
      "  black-rook       0.38      0.83      0.53        12\n",
      "white-bishop       0.27      0.25      0.26        12\n",
      "  white-king       1.00      0.21      0.35        14\n",
      "white-knight       0.29      0.93      0.44        15\n",
      "  white-pawn       0.29      0.33      0.31        15\n",
      " white-queen       0.33      0.07      0.12        14\n",
      "  white-rook       0.45      0.64      0.53        14\n",
      "\n",
      "    accuracy                           0.40       162\n",
      "   macro avg       0.43      0.39      0.34       162\n",
      "weighted avg       0.44      0.40      0.35       162\n",
      "\n"
     ]
    },
    {
     "data": {
      "image/png": "[encoded data removed]",
      "text/plain": [
       "<Figure size 432x288 with 1 Axes>"
      ]
     },
     "metadata": {
      "needs_background": "light"
     },
     "output_type": "display_data"
    }
   ],
   "source": [
    "easy_test_dl = learn.dls.test_dl(get_image_files(test_path_easy), \n",
    "                                 with_labels=True)\n",
    "\n",
    "interp = ClassificationInterpretation.from_learner(learn, \n",
    "                                                  dl = easy_test_dl)\n",
    "\n",
    "interp.print_classification_report()\n",
    "\n",
    "interp.plot_confusion_matrix()"
   ]
  }
 ],
 "metadata": {
  "kernelspec": {
   "display_name": "march21",
   "language": "python",
   "name": "march21"
  },
  "language_info": {
   "codemirror_mode": {
    "name": "ipython",
    "version": 3
   },
   "file_extension": ".py",
   "mimetype": "text/x-python",
   "name": "python",
   "nbconvert_exporter": "python",
   "pygments_lexer": "ipython3",
   "version": "3.7.6"
  }
 },
 "nbformat": 4,
 "nbformat_minor": 2
}
