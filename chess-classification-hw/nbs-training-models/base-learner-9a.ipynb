{
 "cells": [
  {
   "cell_type": "markdown",
   "metadata": {},
   "source": [
    "### Base Learner 9a  - Use Extreme WeightedDL\n",
    "Can we get better perf on pieces we over-weight?"
   ]
  },
  {
   "cell_type": "code",
   "execution_count": 1,
   "metadata": {},
   "outputs": [],
   "source": [
    "from fastai2.vision.all import *\n",
    "import sys, torch\n",
    "sys.path.append('..')\n",
    "\n",
    "torch.backends.cudnn.deterministic = True\n",
    "torch.backends.cudnn.benchmark = False\n",
    "\n",
    "\n",
    "# %load_ext autoreload\n",
    "# %autoreload 2\n",
    "\n",
    "from modules.expbuilder import default_params, run_exp, rm_test_recorder\n",
    "\n",
    "train_path = Path('../../../rf-chess-data/cropped_v1/')\n",
    "train_clean_path = Path('../../../rf-chess-data/cropped_v1.1/')\n",
    "\n",
    "test_path_all = Path('../../../other-chess-data/regulation-test-2-all/')\n",
    "test_path_easy = Path('../../../other-chess-data/regulation-test-2-easy/')"
   ]
  },
  {
   "cell_type": "code",
   "execution_count": 2,
   "metadata": {},
   "outputs": [],
   "source": [
    "def my_weight_func(it_path):\n",
    "    return 10 if 'queen' in it_path.name else 1"
   ]
  },
  {
   "cell_type": "code",
   "execution_count": 3,
   "metadata": {},
   "outputs": [],
   "source": [
    "my_params = {'_train_seed':0, '_custom_crop': 'my-top-crop', \n",
    "             '_model_arch': resnet50,\n",
    "            '_train_path':train_clean_path,\n",
    "            '_learn_norm': False,\n",
    "             '_weighted_dl': True, \n",
    "             '_weight_func': my_weight_func,\n",
    "             \n",
    "            }\n",
    "default_params.update(my_params)"
   ]
  },
  {
   "cell_type": "code",
   "execution_count": 4,
   "metadata": {},
   "outputs": [],
   "source": [
    "set_seed(42)"
   ]
  },
  {
   "cell_type": "code",
   "execution_count": 5,
   "metadata": {},
   "outputs": [],
   "source": [
    "train_dl, learn = run_exp(default_params, 'dummy', b_ret=True,)"
   ]
  },
  {
   "cell_type": "code",
   "execution_count": 6,
   "metadata": {
    "scrolled": false
   },
   "outputs": [
    {
     "data": {
      "text/html": [],
      "text/plain": [
       "<IPython.core.display.HTML object>"
      ]
     },
     "metadata": {},
     "output_type": "display_data"
    }
   ],
   "source": [
    "set_seed(42)\n",
    "with learn.no_logging(): learn.fit_one_cycle(10)"
   ]
  },
  {
   "cell_type": "markdown",
   "metadata": {},
   "source": [
    "### Interpret and Compare"
   ]
  },
  {
   "cell_type": "code",
   "execution_count": 7,
   "metadata": {},
   "outputs": [
    {
     "data": {
      "text/html": [
       "<div>\n",
       "<style scoped>\n",
       "    .dataframe tbody tr th:only-of-type {\n",
       "        vertical-align: middle;\n",
       "    }\n",
       "\n",
       "    .dataframe tbody tr th {\n",
       "        vertical-align: top;\n",
       "    }\n",
       "\n",
       "    .dataframe thead th {\n",
       "        text-align: right;\n",
       "    }\n",
       "</style>\n",
       "<table border=\"1\" class=\"dataframe\">\n",
       "  <thead>\n",
       "    <tr style=\"text-align: right;\">\n",
       "      <th></th>\n",
       "      <th>0</th>\n",
       "      <th>1</th>\n",
       "      <th>2</th>\n",
       "      <th>3</th>\n",
       "    </tr>\n",
       "  </thead>\n",
       "  <tbody>\n",
       "    <tr>\n",
       "      <th>0</th>\n",
       "      <td>1.956538</td>\n",
       "      <td>0.425439</td>\n",
       "      <td>0.929825</td>\n",
       "      <td>0.478070</td>\n",
       "    </tr>\n",
       "    <tr>\n",
       "      <th>1</th>\n",
       "      <td>1.689802</td>\n",
       "      <td>0.504386</td>\n",
       "      <td>0.916667</td>\n",
       "      <td>0.565789</td>\n",
       "    </tr>\n",
       "    <tr>\n",
       "      <th>2</th>\n",
       "      <td>1.693133</td>\n",
       "      <td>0.504386</td>\n",
       "      <td>0.925439</td>\n",
       "      <td>0.583333</td>\n",
       "    </tr>\n",
       "    <tr>\n",
       "      <th>3</th>\n",
       "      <td>1.507281</td>\n",
       "      <td>0.583333</td>\n",
       "      <td>0.916667</td>\n",
       "      <td>0.675439</td>\n",
       "    </tr>\n",
       "    <tr>\n",
       "      <th>4</th>\n",
       "      <td>1.229396</td>\n",
       "      <td>0.684211</td>\n",
       "      <td>0.925439</td>\n",
       "      <td>0.771930</td>\n",
       "    </tr>\n",
       "    <tr>\n",
       "      <th>5</th>\n",
       "      <td>1.177940</td>\n",
       "      <td>0.688596</td>\n",
       "      <td>0.942982</td>\n",
       "      <td>0.754386</td>\n",
       "    </tr>\n",
       "    <tr>\n",
       "      <th>6</th>\n",
       "      <td>1.049081</td>\n",
       "      <td>0.692982</td>\n",
       "      <td>0.942982</td>\n",
       "      <td>0.758772</td>\n",
       "    </tr>\n",
       "    <tr>\n",
       "      <th>7</th>\n",
       "      <td>1.121989</td>\n",
       "      <td>0.719298</td>\n",
       "      <td>0.947368</td>\n",
       "      <td>0.776316</td>\n",
       "    </tr>\n",
       "    <tr>\n",
       "      <th>8</th>\n",
       "      <td>1.124574</td>\n",
       "      <td>0.692982</td>\n",
       "      <td>0.938596</td>\n",
       "      <td>0.763158</td>\n",
       "    </tr>\n",
       "    <tr>\n",
       "      <th>9</th>\n",
       "      <td>1.013896</td>\n",
       "      <td>0.728070</td>\n",
       "      <td>0.956140</td>\n",
       "      <td>0.785088</td>\n",
       "    </tr>\n",
       "  </tbody>\n",
       "</table>\n",
       "</div>"
      ],
      "text/plain": [
       "          0         1         2         3\n",
       "0  1.956538  0.425439  0.929825  0.478070\n",
       "1  1.689802  0.504386  0.916667  0.565789\n",
       "2  1.693133  0.504386  0.925439  0.583333\n",
       "3  1.507281  0.583333  0.916667  0.675439\n",
       "4  1.229396  0.684211  0.925439  0.771930\n",
       "5  1.177940  0.688596  0.942982  0.754386\n",
       "6  1.049081  0.692982  0.942982  0.758772\n",
       "7  1.121989  0.719298  0.947368  0.776316\n",
       "8  1.124574  0.692982  0.938596  0.763158\n",
       "9  1.013896  0.728070  0.956140  0.785088"
      ]
     },
     "execution_count": 7,
     "metadata": {},
     "output_type": "execute_result"
    }
   ],
   "source": [
    "pd.DataFrame(learn.cbs[3].values)"
   ]
  },
  {
   "cell_type": "code",
   "execution_count": 8,
   "metadata": {},
   "outputs": [
    {
     "data": {
      "text/plain": [
       "TestSetRecorder"
      ]
     },
     "execution_count": 8,
     "metadata": {},
     "output_type": "execute_result"
    }
   ],
   "source": [
    "learn.cbs.pop(3)"
   ]
  },
  {
   "cell_type": "code",
   "execution_count": 9,
   "metadata": {},
   "outputs": [
    {
     "data": {
      "text/html": [],
      "text/plain": [
       "<IPython.core.display.HTML object>"
      ]
     },
     "metadata": {},
     "output_type": "display_data"
    },
    {
     "name": "stdout",
     "output_type": "stream",
     "text": [
      "              precision    recall  f1-score   support\n",
      "\n",
      "black-bishop       1.00      0.79      0.88        14\n",
      "  black-king       0.64      0.82      0.72        11\n",
      "black-knight       0.92      1.00      0.96        12\n",
      "  black-pawn       0.75      0.94      0.83        16\n",
      " black-queen       0.83      0.38      0.53        13\n",
      "  black-rook       0.67      1.00      0.80        12\n",
      "white-bishop       0.56      0.83      0.67        12\n",
      "  white-king       0.77      0.71      0.74        14\n",
      "white-knight       0.93      0.93      0.93        15\n",
      "  white-pawn       0.70      0.93      0.80        15\n",
      " white-queen       1.00      0.29      0.44        14\n",
      "  white-rook       0.80      0.57      0.67        14\n",
      "\n",
      "    accuracy                           0.77       162\n",
      "   macro avg       0.80      0.77      0.75       162\n",
      "weighted avg       0.80      0.77      0.75       162\n",
      "\n"
     ]
    },
    {
     "data": {
      "image/png": "[encoded data removed]",
      "text/plain": [
       "<Figure size 432x288 with 1 Axes>"
      ]
     },
     "metadata": {
      "needs_background": "light"
     },
     "output_type": "display_data"
    }
   ],
   "source": [
    "easy_test_dl = learn.dls.test_dl(get_image_files(test_path_easy), \n",
    "                                 with_labels=True)\n",
    "\n",
    "interp = ClassificationInterpretation.from_learner(learn, \n",
    "                                                  dl = easy_test_dl)\n",
    "\n",
    "interp.print_classification_report()\n",
    "\n",
    "interp.plot_confusion_matrix()"
   ]
  },
  {
   "cell_type": "markdown",
   "metadata": {},
   "source": [
    "### More fitting"
   ]
  },
  {
   "cell_type": "code",
   "execution_count": 17,
   "metadata": {},
   "outputs": [
    {
     "data": {
      "text/html": [],
      "text/plain": [
       "<IPython.core.display.HTML object>"
      ]
     },
     "metadata": {},
     "output_type": "display_data"
    },
    {
     "data": {
      "text/html": [],
      "text/plain": [
       "<IPython.core.display.HTML object>"
      ]
     },
     "metadata": {},
     "output_type": "display_data"
    }
   ],
   "source": [
    "with learn.no_logging(): learn.fine_tune(20)"
   ]
  },
  {
   "cell_type": "code",
   "execution_count": 18,
   "metadata": {},
   "outputs": [
    {
     "data": {
      "text/html": [],
      "text/plain": [
       "<IPython.core.display.HTML object>"
      ]
     },
     "metadata": {},
     "output_type": "display_data"
    },
    {
     "name": "stdout",
     "output_type": "stream",
     "text": [
      "              precision    recall  f1-score   support\n",
      "\n",
      "black-bishop       1.00      1.00      1.00        14\n",
      "  black-king       0.77      0.91      0.83        11\n",
      "black-knight       1.00      0.75      0.86        12\n",
      "  black-pawn       0.89      1.00      0.94        16\n",
      " black-queen       0.92      0.85      0.88        13\n",
      "  black-rook       1.00      1.00      1.00        12\n",
      "white-bishop       0.92      1.00      0.96        12\n",
      "  white-king       1.00      0.79      0.88        14\n",
      "white-knight       0.83      1.00      0.91        15\n",
      "  white-pawn       0.88      1.00      0.94        15\n",
      " white-queen       1.00      0.64      0.78        14\n",
      "  white-rook       0.88      1.00      0.93        14\n",
      "\n",
      "    accuracy                           0.91       162\n",
      "   macro avg       0.92      0.91      0.91       162\n",
      "weighted avg       0.92      0.91      0.91       162\n",
      "\n"
     ]
    },
    {
     "data": {
      "image/png": "[encoded data removed]",
      "text/plain": [
       "<Figure size 432x288 with 1 Axes>"
      ]
     },
     "metadata": {
      "needs_background": "light"
     },
     "output_type": "display_data"
    }
   ],
   "source": [
    "easy_test_dl = learn.dls.test_dl(get_image_files(test_path_easy), \n",
    "                                 with_labels=True)\n",
    "\n",
    "interp = ClassificationInterpretation.from_learner(learn, \n",
    "                                                  dl = easy_test_dl)\n",
    "\n",
    "interp.print_classification_report()\n",
    "\n",
    "interp.plot_confusion_matrix()"
   ]
  },
  {
   "cell_type": "code",
   "execution_count": 27,
   "metadata": {},
   "outputs": [
    {
     "data": {
      "image/png": "[encoded data removed]",
      "text/plain": [
       "<Figure size 432x288 with 1 Axes>"
      ]
     },
     "metadata": {
      "needs_background": "light"
     },
     "output_type": "display_data"
    }
   ],
   "source": [
    "tmp = []\n",
    "for _ in range(10):\n",
    "    x, y = learn.dls[0].one_batch()\n",
    "    tmp += y.detach().tolist()\n",
    "plt.hist(tmp, bins=12);"
   ]
  },
  {
   "cell_type": "code",
   "execution_count": 31,
   "metadata": {},
   "outputs": [
    {
     "data": {
      "text/plain": [
       "[(0, 'black-bishop'),\n",
       " (1, 'black-king'),\n",
       " (2, 'black-knight'),\n",
       " (3, 'black-pawn'),\n",
       " (4, 'black-queen'),\n",
       " (5, 'black-rook'),\n",
       " (6, 'white-bishop'),\n",
       " (7, 'white-king'),\n",
       " (8, 'white-knight'),\n",
       " (9, 'white-pawn'),\n",
       " (10, 'white-queen'),\n",
       " (11, 'white-rook')]"
      ]
     },
     "execution_count": 31,
     "metadata": {},
     "output_type": "execute_result"
    }
   ],
   "source": [
    "list(enumerate(learn.dls.vocab))"
   ]
  },
  {
   "cell_type": "code",
   "execution_count": null,
   "metadata": {},
   "outputs": [],
   "source": []
  }
 ],
 "metadata": {
  "kernelspec": {
   "display_name": "march21",
   "language": "python",
   "name": "march21"
  },
  "language_info": {
   "codemirror_mode": {
    "name": "ipython",
    "version": 3
   },
   "file_extension": ".py",
   "mimetype": "text/x-python",
   "name": "python",
   "nbconvert_exporter": "python",
   "pygments_lexer": "ipython3",
   "version": "3.7.6"
  }
 },
 "nbformat": 4,
 "nbformat_minor": 2
}
