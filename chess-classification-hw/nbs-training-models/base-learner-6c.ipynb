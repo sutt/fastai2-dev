{
 "cells": [
  {
   "cell_type": "markdown",
   "metadata": {},
   "source": [
    "### Base Learner 6c  - Reporduce Normalize experiment"
   ]
  },
  {
   "cell_type": "code",
   "execution_count": 1,
   "metadata": {},
   "outputs": [],
   "source": [
    "from fastai2.vision.all import *\n",
    "import sys, torch\n",
    "sys.path.append('..')\n",
    "\n",
    "torch.backends.cudnn.deterministic = True\n",
    "torch.backends.cudnn.benchmark = False\n",
    "\n",
    "\n",
    "# %load_ext autoreload\n",
    "# %autoreload 2\n",
    "\n",
    "from modules.expbuilder import default_params, run_exp, rm_test_recorder\n",
    "\n",
    "train_path = Path('../../../rf-chess-data/cropped_v1/')\n",
    "train_clean_path = Path('../../../rf-chess-data/cropped_v1.1/')\n",
    "\n",
    "test_path_all = Path('../../../other-chess-data/regulation-test-2-all/')\n",
    "test_path_easy = Path('../../../other-chess-data/regulation-test-2-easy/')"
   ]
  },
  {
   "cell_type": "code",
   "execution_count": 2,
   "metadata": {},
   "outputs": [],
   "source": [
    "my_params = {'_train_seed':0, '_custom_crop': 'my-top-crop', \n",
    "             '_model_arch': resnet50,\n",
    "            '_train_path':train_clean_path,\n",
    "            'rm_norm': False,\n",
    "            }\n",
    "default_params.update(my_params)"
   ]
  },
  {
   "cell_type": "code",
   "execution_count": 3,
   "metadata": {},
   "outputs": [],
   "source": [
    "set_seed(42)"
   ]
  },
  {
   "cell_type": "code",
   "execution_count": 4,
   "metadata": {},
   "outputs": [],
   "source": [
    "train_dl, learn = run_exp(default_params, 'dummy', b_ret=True,\n",
    "                          b_testset_logger=False )"
   ]
  },
  {
   "cell_type": "code",
   "execution_count": 5,
   "metadata": {},
   "outputs": [],
   "source": [
    "pipe0 = learn.dls[0].after_batch\n",
    "\n",
    "pipe0_prime = Pipeline()\n",
    "pipe0_prime.add(pipe0[0])\n",
    "pipe0_prime.add(pipe0[1])\n",
    "pipe0_prime.add(pipe0[2])\n",
    "\n",
    "learn.dls[0].after_batch = pipe0_prime\n",
    "learn.dls[1].after_batch = pipe0_prime\n",
    "learn.dls[2].after_batch = pipe0_prime"
   ]
  },
  {
   "cell_type": "markdown",
   "metadata": {},
   "source": [
    "##### w/o Normalize"
   ]
  },
  {
   "cell_type": "code",
   "execution_count": 5,
   "metadata": {
    "scrolled": false
   },
   "outputs": [
    {
     "data": {
      "text/html": [],
      "text/plain": [
       "<IPython.core.display.HTML object>"
      ]
     },
     "metadata": {},
     "output_type": "display_data"
    }
   ],
   "source": [
    "set_seed(42)\n",
    "with learn.no_logging(): learn.fit_one_cycle(10)"
   ]
  },
  {
   "cell_type": "code",
   "execution_count": 6,
   "metadata": {},
   "outputs": [
    {
     "data": {
      "text/html": [
       "<div>\n",
       "<style scoped>\n",
       "    .dataframe tbody tr th:only-of-type {\n",
       "        vertical-align: middle;\n",
       "    }\n",
       "\n",
       "    .dataframe tbody tr th {\n",
       "        vertical-align: top;\n",
       "    }\n",
       "\n",
       "    .dataframe thead th {\n",
       "        text-align: right;\n",
       "    }\n",
       "</style>\n",
       "<table border=\"1\" class=\"dataframe\">\n",
       "  <thead>\n",
       "    <tr style=\"text-align: right;\">\n",
       "      <th></th>\n",
       "      <th>0</th>\n",
       "      <th>1</th>\n",
       "      <th>2</th>\n",
       "      <th>3</th>\n",
       "    </tr>\n",
       "  </thead>\n",
       "  <tbody>\n",
       "    <tr>\n",
       "      <th>0</th>\n",
       "      <td>1.642789</td>\n",
       "      <td>0.500000</td>\n",
       "      <td>0.929825</td>\n",
       "      <td>0.557018</td>\n",
       "    </tr>\n",
       "    <tr>\n",
       "      <th>1</th>\n",
       "      <td>1.427014</td>\n",
       "      <td>0.627193</td>\n",
       "      <td>0.916667</td>\n",
       "      <td>0.710526</td>\n",
       "    </tr>\n",
       "    <tr>\n",
       "      <th>2</th>\n",
       "      <td>1.135178</td>\n",
       "      <td>0.675439</td>\n",
       "      <td>0.951754</td>\n",
       "      <td>0.719298</td>\n",
       "    </tr>\n",
       "    <tr>\n",
       "      <th>3</th>\n",
       "      <td>1.033293</td>\n",
       "      <td>0.692982</td>\n",
       "      <td>0.960526</td>\n",
       "      <td>0.750000</td>\n",
       "    </tr>\n",
       "    <tr>\n",
       "      <th>4</th>\n",
       "      <td>1.036367</td>\n",
       "      <td>0.706140</td>\n",
       "      <td>0.969298</td>\n",
       "      <td>0.758772</td>\n",
       "    </tr>\n",
       "    <tr>\n",
       "      <th>5</th>\n",
       "      <td>0.925820</td>\n",
       "      <td>0.736842</td>\n",
       "      <td>0.973684</td>\n",
       "      <td>0.780702</td>\n",
       "    </tr>\n",
       "    <tr>\n",
       "      <th>6</th>\n",
       "      <td>0.924357</td>\n",
       "      <td>0.732456</td>\n",
       "      <td>0.960526</td>\n",
       "      <td>0.776316</td>\n",
       "    </tr>\n",
       "    <tr>\n",
       "      <th>7</th>\n",
       "      <td>0.836314</td>\n",
       "      <td>0.741228</td>\n",
       "      <td>0.973684</td>\n",
       "      <td>0.780702</td>\n",
       "    </tr>\n",
       "    <tr>\n",
       "      <th>8</th>\n",
       "      <td>0.866296</td>\n",
       "      <td>0.732456</td>\n",
       "      <td>0.969298</td>\n",
       "      <td>0.776316</td>\n",
       "    </tr>\n",
       "    <tr>\n",
       "      <th>9</th>\n",
       "      <td>0.846266</td>\n",
       "      <td>0.741228</td>\n",
       "      <td>0.969298</td>\n",
       "      <td>0.789474</td>\n",
       "    </tr>\n",
       "  </tbody>\n",
       "</table>\n",
       "</div>"
      ],
      "text/plain": [
       "          0         1         2         3\n",
       "0  1.642789  0.500000  0.929825  0.557018\n",
       "1  1.427014  0.627193  0.916667  0.710526\n",
       "2  1.135178  0.675439  0.951754  0.719298\n",
       "3  1.033293  0.692982  0.960526  0.750000\n",
       "4  1.036367  0.706140  0.969298  0.758772\n",
       "5  0.925820  0.736842  0.973684  0.780702\n",
       "6  0.924357  0.732456  0.960526  0.776316\n",
       "7  0.836314  0.741228  0.973684  0.780702\n",
       "8  0.866296  0.732456  0.969298  0.776316\n",
       "9  0.846266  0.741228  0.969298  0.789474"
      ]
     },
     "execution_count": 6,
     "metadata": {},
     "output_type": "execute_result"
    }
   ],
   "source": [
    "pd.DataFrame(learn.cbs[3].values)"
   ]
  },
  {
   "cell_type": "code",
   "execution_count": 7,
   "metadata": {},
   "outputs": [
    {
     "data": {
      "text/html": [],
      "text/plain": [
       "<IPython.core.display.HTML object>"
      ]
     },
     "metadata": {},
     "output_type": "display_data"
    },
    {
     "data": {
      "text/html": [],
      "text/plain": [
       "<IPython.core.display.HTML object>"
      ]
     },
     "metadata": {},
     "output_type": "display_data"
    }
   ],
   "source": [
    "set_seed(42)\n",
    "with learn.no_logging(): learn.fine_tune(20)"
   ]
  },
  {
   "cell_type": "code",
   "execution_count": 8,
   "metadata": {},
   "outputs": [],
   "source": [
    "saved_tsrecorder = learn.cbs.pop(3)"
   ]
  },
  {
   "cell_type": "code",
   "execution_count": 9,
   "metadata": {},
   "outputs": [
    {
     "data": {
      "text/plain": [
       "(#3) [TrainEvalCallback,Recorder,ProgressCallback]"
      ]
     },
     "execution_count": 9,
     "metadata": {},
     "output_type": "execute_result"
    }
   ],
   "source": [
    "learn.cbs"
   ]
  },
  {
   "cell_type": "code",
   "execution_count": 10,
   "metadata": {},
   "outputs": [
    {
     "data": {
      "text/html": [],
      "text/plain": [
       "<IPython.core.display.HTML object>"
      ]
     },
     "metadata": {},
     "output_type": "display_data"
    },
    {
     "name": "stdout",
     "output_type": "stream",
     "text": [
      "              precision    recall  f1-score   support\n",
      "\n",
      "black-bishop       1.00      1.00      1.00        14\n",
      "  black-king       0.92      1.00      0.96        11\n",
      "black-knight       0.92      1.00      0.96        12\n",
      "  black-pawn       1.00      0.88      0.93        16\n",
      " black-queen       1.00      0.69      0.82        13\n",
      "  black-rook       0.75      1.00      0.86        12\n",
      "white-bishop       1.00      0.92      0.96        12\n",
      "  white-king       1.00      0.93      0.96        14\n",
      "white-knight       0.94      1.00      0.97        15\n",
      "  white-pawn       1.00      1.00      1.00        15\n",
      " white-queen       0.93      1.00      0.97        14\n",
      "  white-rook       1.00      1.00      1.00        14\n",
      "\n",
      "    accuracy                           0.95       162\n",
      "   macro avg       0.96      0.95      0.95       162\n",
      "weighted avg       0.96      0.95      0.95       162\n",
      "\n"
     ]
    }
   ],
   "source": [
    "easy_test_dl = learn.dls.test_dl(get_image_files(test_path_easy), \n",
    "                                 with_labels=True)\n",
    "\n",
    "interp = ClassificationInterpretation.from_learner(learn, \n",
    "                                                  dl = easy_test_dl)\n",
    "\n",
    "interp.print_classification_report()"
   ]
  },
  {
   "cell_type": "code",
   "execution_count": 11,
   "metadata": {},
   "outputs": [
    {
     "data": {
      "image/png": "[encoded data removed]",
      "text/plain": [
       "<Figure size 432x288 with 1 Axes>"
      ]
     },
     "metadata": {
      "needs_background": "light"
     },
     "output_type": "display_data"
    }
   ],
   "source": [
    "interp.plot_confusion_matrix()"
   ]
  },
  {
   "cell_type": "code",
   "execution_count": 14,
   "metadata": {},
   "outputs": [
    {
     "data": {
      "text/plain": [
       "<fastai2.learner.Learner at 0x7fb6f00280d0>"
      ]
     },
     "execution_count": 14,
     "metadata": {},
     "output_type": "execute_result"
    }
   ],
   "source": [
    "learn.add_cb(saved_tsrecorder)"
   ]
  },
  {
   "cell_type": "code",
   "execution_count": 15,
   "metadata": {},
   "outputs": [
    {
     "data": {
      "text/plain": [
       "(#4) [TrainEvalCallback,Recorder,ProgressCallback,TestSetRecorder]"
      ]
     },
     "execution_count": 15,
     "metadata": {},
     "output_type": "execute_result"
    }
   ],
   "source": [
    "learn.cbs"
   ]
  },
  {
   "cell_type": "code",
   "execution_count": 16,
   "metadata": {},
   "outputs": [
    {
     "data": {
      "text/html": [],
      "text/plain": [
       "<IPython.core.display.HTML object>"
      ]
     },
     "metadata": {},
     "output_type": "display_data"
    },
    {
     "data": {
      "text/html": [],
      "text/plain": [
       "<IPython.core.display.HTML object>"
      ]
     },
     "metadata": {},
     "output_type": "display_data"
    }
   ],
   "source": [
    "with learn.no_logging(): learn.fine_tune(5)"
   ]
  },
  {
   "cell_type": "code",
   "execution_count": 20,
   "metadata": {},
   "outputs": [],
   "source": [
    "ret = learn.cbs[3]"
   ]
  },
  {
   "cell_type": "code",
   "execution_count": 22,
   "metadata": {},
   "outputs": [
    {
     "data": {
      "text/html": [
       "<div>\n",
       "<style scoped>\n",
       "    .dataframe tbody tr th:only-of-type {\n",
       "        vertical-align: middle;\n",
       "    }\n",
       "\n",
       "    .dataframe tbody tr th {\n",
       "        vertical-align: top;\n",
       "    }\n",
       "\n",
       "    .dataframe thead th {\n",
       "        text-align: right;\n",
       "    }\n",
       "</style>\n",
       "<table border=\"1\" class=\"dataframe\">\n",
       "  <thead>\n",
       "    <tr style=\"text-align: right;\">\n",
       "      <th></th>\n",
       "      <th>0</th>\n",
       "      <th>1</th>\n",
       "      <th>2</th>\n",
       "      <th>3</th>\n",
       "    </tr>\n",
       "  </thead>\n",
       "  <tbody>\n",
       "    <tr>\n",
       "      <th>27</th>\n",
       "      <td>0.414609</td>\n",
       "      <td>0.899123</td>\n",
       "      <td>0.995614</td>\n",
       "      <td>0.903509</td>\n",
       "    </tr>\n",
       "    <tr>\n",
       "      <th>28</th>\n",
       "      <td>0.383777</td>\n",
       "      <td>0.907895</td>\n",
       "      <td>1.000000</td>\n",
       "      <td>0.912281</td>\n",
       "    </tr>\n",
       "    <tr>\n",
       "      <th>29</th>\n",
       "      <td>0.426165</td>\n",
       "      <td>0.894737</td>\n",
       "      <td>0.995614</td>\n",
       "      <td>0.899123</td>\n",
       "    </tr>\n",
       "    <tr>\n",
       "      <th>30</th>\n",
       "      <td>0.388532</td>\n",
       "      <td>0.899123</td>\n",
       "      <td>0.995614</td>\n",
       "      <td>0.903509</td>\n",
       "    </tr>\n",
       "    <tr>\n",
       "      <th>31</th>\n",
       "      <td>0.376068</td>\n",
       "      <td>0.890351</td>\n",
       "      <td>0.973684</td>\n",
       "      <td>0.929825</td>\n",
       "    </tr>\n",
       "    <tr>\n",
       "      <th>32</th>\n",
       "      <td>0.514063</td>\n",
       "      <td>0.885965</td>\n",
       "      <td>0.995614</td>\n",
       "      <td>0.894737</td>\n",
       "    </tr>\n",
       "    <tr>\n",
       "      <th>33</th>\n",
       "      <td>0.884664</td>\n",
       "      <td>0.771930</td>\n",
       "      <td>0.973684</td>\n",
       "      <td>0.802632</td>\n",
       "    </tr>\n",
       "    <tr>\n",
       "      <th>34</th>\n",
       "      <td>0.328582</td>\n",
       "      <td>0.894737</td>\n",
       "      <td>0.991228</td>\n",
       "      <td>0.912281</td>\n",
       "    </tr>\n",
       "    <tr>\n",
       "      <th>35</th>\n",
       "      <td>0.481955</td>\n",
       "      <td>0.846491</td>\n",
       "      <td>0.982456</td>\n",
       "      <td>0.868421</td>\n",
       "    </tr>\n",
       "    <tr>\n",
       "      <th>36</th>\n",
       "      <td>0.421793</td>\n",
       "      <td>0.877193</td>\n",
       "      <td>0.991228</td>\n",
       "      <td>0.890351</td>\n",
       "    </tr>\n",
       "  </tbody>\n",
       "</table>\n",
       "</div>"
      ],
      "text/plain": [
       "           0         1         2         3\n",
       "27  0.414609  0.899123  0.995614  0.903509\n",
       "28  0.383777  0.907895  1.000000  0.912281\n",
       "29  0.426165  0.894737  0.995614  0.899123\n",
       "30  0.388532  0.899123  0.995614  0.903509\n",
       "31  0.376068  0.890351  0.973684  0.929825\n",
       "32  0.514063  0.885965  0.995614  0.894737\n",
       "33  0.884664  0.771930  0.973684  0.802632\n",
       "34  0.328582  0.894737  0.991228  0.912281\n",
       "35  0.481955  0.846491  0.982456  0.868421\n",
       "36  0.421793  0.877193  0.991228  0.890351"
      ]
     },
     "execution_count": 22,
     "metadata": {},
     "output_type": "execute_result"
    }
   ],
   "source": [
    "pd.DataFrame(ret.values).iloc[-10:,:]"
   ]
  },
  {
   "cell_type": "code",
   "execution_count": 23,
   "metadata": {},
   "outputs": [
    {
     "data": {
      "text/html": [],
      "text/plain": [
       "<IPython.core.display.HTML object>"
      ]
     },
     "metadata": {},
     "output_type": "display_data"
    },
    {
     "data": {
      "text/html": [],
      "text/plain": [
       "<IPython.core.display.HTML object>"
      ]
     },
     "metadata": {},
     "output_type": "display_data"
    }
   ],
   "source": [
    "with learn.no_logging(): learn.fine_tune(5)"
   ]
  },
  {
   "cell_type": "code",
   "execution_count": 24,
   "metadata": {},
   "outputs": [
    {
     "data": {
      "text/html": [
       "<div>\n",
       "<style scoped>\n",
       "    .dataframe tbody tr th:only-of-type {\n",
       "        vertical-align: middle;\n",
       "    }\n",
       "\n",
       "    .dataframe tbody tr th {\n",
       "        vertical-align: top;\n",
       "    }\n",
       "\n",
       "    .dataframe thead th {\n",
       "        text-align: right;\n",
       "    }\n",
       "</style>\n",
       "<table border=\"1\" class=\"dataframe\">\n",
       "  <thead>\n",
       "    <tr style=\"text-align: right;\">\n",
       "      <th></th>\n",
       "      <th>0</th>\n",
       "      <th>1</th>\n",
       "      <th>2</th>\n",
       "      <th>3</th>\n",
       "    </tr>\n",
       "  </thead>\n",
       "  <tbody>\n",
       "    <tr>\n",
       "      <th>28</th>\n",
       "      <td>0.383777</td>\n",
       "      <td>0.907895</td>\n",
       "      <td>1.000000</td>\n",
       "      <td>0.912281</td>\n",
       "    </tr>\n",
       "    <tr>\n",
       "      <th>29</th>\n",
       "      <td>0.426165</td>\n",
       "      <td>0.894737</td>\n",
       "      <td>0.995614</td>\n",
       "      <td>0.899123</td>\n",
       "    </tr>\n",
       "    <tr>\n",
       "      <th>30</th>\n",
       "      <td>0.388532</td>\n",
       "      <td>0.899123</td>\n",
       "      <td>0.995614</td>\n",
       "      <td>0.903509</td>\n",
       "    </tr>\n",
       "    <tr>\n",
       "      <th>31</th>\n",
       "      <td>0.376068</td>\n",
       "      <td>0.890351</td>\n",
       "      <td>0.973684</td>\n",
       "      <td>0.929825</td>\n",
       "    </tr>\n",
       "    <tr>\n",
       "      <th>32</th>\n",
       "      <td>0.514063</td>\n",
       "      <td>0.885965</td>\n",
       "      <td>0.995614</td>\n",
       "      <td>0.894737</td>\n",
       "    </tr>\n",
       "    <tr>\n",
       "      <th>33</th>\n",
       "      <td>0.884664</td>\n",
       "      <td>0.771930</td>\n",
       "      <td>0.973684</td>\n",
       "      <td>0.802632</td>\n",
       "    </tr>\n",
       "    <tr>\n",
       "      <th>34</th>\n",
       "      <td>0.328582</td>\n",
       "      <td>0.894737</td>\n",
       "      <td>0.991228</td>\n",
       "      <td>0.912281</td>\n",
       "    </tr>\n",
       "    <tr>\n",
       "      <th>35</th>\n",
       "      <td>0.481955</td>\n",
       "      <td>0.846491</td>\n",
       "      <td>0.982456</td>\n",
       "      <td>0.868421</td>\n",
       "    </tr>\n",
       "    <tr>\n",
       "      <th>36</th>\n",
       "      <td>0.421793</td>\n",
       "      <td>0.877193</td>\n",
       "      <td>0.991228</td>\n",
       "      <td>0.890351</td>\n",
       "    </tr>\n",
       "    <tr>\n",
       "      <th>37</th>\n",
       "      <td>0.477216</td>\n",
       "      <td>0.885965</td>\n",
       "      <td>0.986842</td>\n",
       "      <td>0.899123</td>\n",
       "    </tr>\n",
       "    <tr>\n",
       "      <th>38</th>\n",
       "      <td>0.488189</td>\n",
       "      <td>0.885965</td>\n",
       "      <td>0.991228</td>\n",
       "      <td>0.894737</td>\n",
       "    </tr>\n",
       "    <tr>\n",
       "      <th>39</th>\n",
       "      <td>0.358045</td>\n",
       "      <td>0.881579</td>\n",
       "      <td>0.982456</td>\n",
       "      <td>0.903509</td>\n",
       "    </tr>\n",
       "    <tr>\n",
       "      <th>40</th>\n",
       "      <td>0.303718</td>\n",
       "      <td>0.894737</td>\n",
       "      <td>0.991228</td>\n",
       "      <td>0.907895</td>\n",
       "    </tr>\n",
       "    <tr>\n",
       "      <th>41</th>\n",
       "      <td>0.315117</td>\n",
       "      <td>0.907895</td>\n",
       "      <td>1.000000</td>\n",
       "      <td>0.916667</td>\n",
       "    </tr>\n",
       "    <tr>\n",
       "      <th>42</th>\n",
       "      <td>0.296111</td>\n",
       "      <td>0.899123</td>\n",
       "      <td>0.991228</td>\n",
       "      <td>0.912281</td>\n",
       "    </tr>\n",
       "  </tbody>\n",
       "</table>\n",
       "</div>"
      ],
      "text/plain": [
       "           0         1         2         3\n",
       "28  0.383777  0.907895  1.000000  0.912281\n",
       "29  0.426165  0.894737  0.995614  0.899123\n",
       "30  0.388532  0.899123  0.995614  0.903509\n",
       "31  0.376068  0.890351  0.973684  0.929825\n",
       "32  0.514063  0.885965  0.995614  0.894737\n",
       "33  0.884664  0.771930  0.973684  0.802632\n",
       "34  0.328582  0.894737  0.991228  0.912281\n",
       "35  0.481955  0.846491  0.982456  0.868421\n",
       "36  0.421793  0.877193  0.991228  0.890351\n",
       "37  0.477216  0.885965  0.986842  0.899123\n",
       "38  0.488189  0.885965  0.991228  0.894737\n",
       "39  0.358045  0.881579  0.982456  0.903509\n",
       "40  0.303718  0.894737  0.991228  0.907895\n",
       "41  0.315117  0.907895  1.000000  0.916667\n",
       "42  0.296111  0.899123  0.991228  0.912281"
      ]
     },
     "execution_count": 24,
     "metadata": {},
     "output_type": "execute_result"
    }
   ],
   "source": [
    "pd.DataFrame(learn.cbs[3].values).iloc[-15:,:]"
   ]
  },
  {
   "cell_type": "code",
   "execution_count": 25,
   "metadata": {},
   "outputs": [
    {
     "data": {
      "text/html": [],
      "text/plain": [
       "<IPython.core.display.HTML object>"
      ]
     },
     "metadata": {},
     "output_type": "display_data"
    },
    {
     "data": {
      "text/html": [],
      "text/plain": [
       "<IPython.core.display.HTML object>"
      ]
     },
     "metadata": {},
     "output_type": "display_data"
    }
   ],
   "source": [
    "with learn.no_logging(): learn.fine_tune(10)"
   ]
  },
  {
   "cell_type": "code",
   "execution_count": 26,
   "metadata": {},
   "outputs": [
    {
     "data": {
      "text/html": [
       "<div>\n",
       "<style scoped>\n",
       "    .dataframe tbody tr th:only-of-type {\n",
       "        vertical-align: middle;\n",
       "    }\n",
       "\n",
       "    .dataframe tbody tr th {\n",
       "        vertical-align: top;\n",
       "    }\n",
       "\n",
       "    .dataframe thead th {\n",
       "        text-align: right;\n",
       "    }\n",
       "</style>\n",
       "<table border=\"1\" class=\"dataframe\">\n",
       "  <thead>\n",
       "    <tr style=\"text-align: right;\">\n",
       "      <th></th>\n",
       "      <th>0</th>\n",
       "      <th>1</th>\n",
       "      <th>2</th>\n",
       "      <th>3</th>\n",
       "    </tr>\n",
       "  </thead>\n",
       "  <tbody>\n",
       "    <tr>\n",
       "      <th>29</th>\n",
       "      <td>0.426165</td>\n",
       "      <td>0.894737</td>\n",
       "      <td>0.995614</td>\n",
       "      <td>0.899123</td>\n",
       "    </tr>\n",
       "    <tr>\n",
       "      <th>30</th>\n",
       "      <td>0.388532</td>\n",
       "      <td>0.899123</td>\n",
       "      <td>0.995614</td>\n",
       "      <td>0.903509</td>\n",
       "    </tr>\n",
       "    <tr>\n",
       "      <th>31</th>\n",
       "      <td>0.376068</td>\n",
       "      <td>0.890351</td>\n",
       "      <td>0.973684</td>\n",
       "      <td>0.929825</td>\n",
       "    </tr>\n",
       "    <tr>\n",
       "      <th>32</th>\n",
       "      <td>0.514063</td>\n",
       "      <td>0.885965</td>\n",
       "      <td>0.995614</td>\n",
       "      <td>0.894737</td>\n",
       "    </tr>\n",
       "    <tr>\n",
       "      <th>33</th>\n",
       "      <td>0.884664</td>\n",
       "      <td>0.771930</td>\n",
       "      <td>0.973684</td>\n",
       "      <td>0.802632</td>\n",
       "    </tr>\n",
       "    <tr>\n",
       "      <th>34</th>\n",
       "      <td>0.328582</td>\n",
       "      <td>0.894737</td>\n",
       "      <td>0.991228</td>\n",
       "      <td>0.912281</td>\n",
       "    </tr>\n",
       "    <tr>\n",
       "      <th>35</th>\n",
       "      <td>0.481955</td>\n",
       "      <td>0.846491</td>\n",
       "      <td>0.982456</td>\n",
       "      <td>0.868421</td>\n",
       "    </tr>\n",
       "    <tr>\n",
       "      <th>36</th>\n",
       "      <td>0.421793</td>\n",
       "      <td>0.877193</td>\n",
       "      <td>0.991228</td>\n",
       "      <td>0.890351</td>\n",
       "    </tr>\n",
       "    <tr>\n",
       "      <th>37</th>\n",
       "      <td>0.477216</td>\n",
       "      <td>0.885965</td>\n",
       "      <td>0.986842</td>\n",
       "      <td>0.899123</td>\n",
       "    </tr>\n",
       "    <tr>\n",
       "      <th>38</th>\n",
       "      <td>0.488189</td>\n",
       "      <td>0.885965</td>\n",
       "      <td>0.991228</td>\n",
       "      <td>0.894737</td>\n",
       "    </tr>\n",
       "    <tr>\n",
       "      <th>39</th>\n",
       "      <td>0.358045</td>\n",
       "      <td>0.881579</td>\n",
       "      <td>0.982456</td>\n",
       "      <td>0.903509</td>\n",
       "    </tr>\n",
       "    <tr>\n",
       "      <th>40</th>\n",
       "      <td>0.303718</td>\n",
       "      <td>0.894737</td>\n",
       "      <td>0.991228</td>\n",
       "      <td>0.907895</td>\n",
       "    </tr>\n",
       "    <tr>\n",
       "      <th>41</th>\n",
       "      <td>0.315117</td>\n",
       "      <td>0.907895</td>\n",
       "      <td>1.000000</td>\n",
       "      <td>0.916667</td>\n",
       "    </tr>\n",
       "    <tr>\n",
       "      <th>42</th>\n",
       "      <td>0.296111</td>\n",
       "      <td>0.899123</td>\n",
       "      <td>0.991228</td>\n",
       "      <td>0.912281</td>\n",
       "    </tr>\n",
       "    <tr>\n",
       "      <th>43</th>\n",
       "      <td>0.455021</td>\n",
       "      <td>0.899123</td>\n",
       "      <td>0.995614</td>\n",
       "      <td>0.903509</td>\n",
       "    </tr>\n",
       "    <tr>\n",
       "      <th>44</th>\n",
       "      <td>0.373227</td>\n",
       "      <td>0.894737</td>\n",
       "      <td>0.995614</td>\n",
       "      <td>0.899123</td>\n",
       "    </tr>\n",
       "    <tr>\n",
       "      <th>45</th>\n",
       "      <td>0.252600</td>\n",
       "      <td>0.925439</td>\n",
       "      <td>1.000000</td>\n",
       "      <td>0.929825</td>\n",
       "    </tr>\n",
       "    <tr>\n",
       "      <th>46</th>\n",
       "      <td>0.471216</td>\n",
       "      <td>0.864035</td>\n",
       "      <td>0.969298</td>\n",
       "      <td>0.890351</td>\n",
       "    </tr>\n",
       "    <tr>\n",
       "      <th>47</th>\n",
       "      <td>0.438196</td>\n",
       "      <td>0.859649</td>\n",
       "      <td>0.991228</td>\n",
       "      <td>0.864035</td>\n",
       "    </tr>\n",
       "    <tr>\n",
       "      <th>48</th>\n",
       "      <td>0.305939</td>\n",
       "      <td>0.903509</td>\n",
       "      <td>0.982456</td>\n",
       "      <td>0.916667</td>\n",
       "    </tr>\n",
       "    <tr>\n",
       "      <th>49</th>\n",
       "      <td>0.391869</td>\n",
       "      <td>0.885965</td>\n",
       "      <td>0.986842</td>\n",
       "      <td>0.907895</td>\n",
       "    </tr>\n",
       "    <tr>\n",
       "      <th>50</th>\n",
       "      <td>0.369406</td>\n",
       "      <td>0.885965</td>\n",
       "      <td>0.995614</td>\n",
       "      <td>0.894737</td>\n",
       "    </tr>\n",
       "    <tr>\n",
       "      <th>51</th>\n",
       "      <td>0.408475</td>\n",
       "      <td>0.881579</td>\n",
       "      <td>0.995614</td>\n",
       "      <td>0.885965</td>\n",
       "    </tr>\n",
       "    <tr>\n",
       "      <th>52</th>\n",
       "      <td>0.367130</td>\n",
       "      <td>0.885965</td>\n",
       "      <td>1.000000</td>\n",
       "      <td>0.890351</td>\n",
       "    </tr>\n",
       "    <tr>\n",
       "      <th>53</th>\n",
       "      <td>0.359082</td>\n",
       "      <td>0.877193</td>\n",
       "      <td>0.995614</td>\n",
       "      <td>0.885965</td>\n",
       "    </tr>\n",
       "  </tbody>\n",
       "</table>\n",
       "</div>"
      ],
      "text/plain": [
       "           0         1         2         3\n",
       "29  0.426165  0.894737  0.995614  0.899123\n",
       "30  0.388532  0.899123  0.995614  0.903509\n",
       "31  0.376068  0.890351  0.973684  0.929825\n",
       "32  0.514063  0.885965  0.995614  0.894737\n",
       "33  0.884664  0.771930  0.973684  0.802632\n",
       "34  0.328582  0.894737  0.991228  0.912281\n",
       "35  0.481955  0.846491  0.982456  0.868421\n",
       "36  0.421793  0.877193  0.991228  0.890351\n",
       "37  0.477216  0.885965  0.986842  0.899123\n",
       "38  0.488189  0.885965  0.991228  0.894737\n",
       "39  0.358045  0.881579  0.982456  0.903509\n",
       "40  0.303718  0.894737  0.991228  0.907895\n",
       "41  0.315117  0.907895  1.000000  0.916667\n",
       "42  0.296111  0.899123  0.991228  0.912281\n",
       "43  0.455021  0.899123  0.995614  0.903509\n",
       "44  0.373227  0.894737  0.995614  0.899123\n",
       "45  0.252600  0.925439  1.000000  0.929825\n",
       "46  0.471216  0.864035  0.969298  0.890351\n",
       "47  0.438196  0.859649  0.991228  0.864035\n",
       "48  0.305939  0.903509  0.982456  0.916667\n",
       "49  0.391869  0.885965  0.986842  0.907895\n",
       "50  0.369406  0.885965  0.995614  0.894737\n",
       "51  0.408475  0.881579  0.995614  0.885965\n",
       "52  0.367130  0.885965  1.000000  0.890351\n",
       "53  0.359082  0.877193  0.995614  0.885965"
      ]
     },
     "execution_count": 26,
     "metadata": {},
     "output_type": "execute_result"
    }
   ],
   "source": [
    "pd.DataFrame(learn.cbs[3].values).iloc[-25:,:]"
   ]
  },
  {
   "cell_type": "code",
   "execution_count": null,
   "metadata": {},
   "outputs": [],
   "source": []
  }
 ],
 "metadata": {
  "kernelspec": {
   "display_name": "march21",
   "language": "python",
   "name": "march21"
  },
  "language_info": {
   "codemirror_mode": {
    "name": "ipython",
    "version": 3
   },
   "file_extension": ".py",
   "mimetype": "text/x-python",
   "name": "python",
   "nbconvert_exporter": "python",
   "pygments_lexer": "ipython3",
   "version": "3.7.6"
  }
 },
 "nbformat": 4,
 "nbformat_minor": 2
}
