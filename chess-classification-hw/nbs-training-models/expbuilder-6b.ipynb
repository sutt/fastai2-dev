{
 "cells": [
  {
   "cell_type": "markdown",
   "metadata": {},
   "source": [
    "### Turning on RandomErase Augmentations\n",
    "three seed, norm on vs off"
   ]
  },
  {
   "cell_type": "code",
   "execution_count": 4,
   "metadata": {},
   "outputs": [
    {
     "name": "stdout",
     "output_type": "stream",
     "text": [
      "The autoreload extension is already loaded. To reload it, use:\n",
      "  %reload_ext autoreload\n"
     ]
    }
   ],
   "source": [
    "from fastai2.vision.all import *\n",
    "import sys\n",
    "sys.path.append('..')\n",
    "\n",
    "%load_ext autoreload\n",
    "%autoreload 2\n",
    "\n",
    "from modules.expbuilder import default_params, run_exp\n",
    "\n",
    "train_path = Path('../../../rf-chess-data/cropped_v1/')\n",
    "train_path = Path('../../../rf-chess-data/cropped_v1.1/')\n",
    "\n",
    "test_path_all = Path('../../../other-chess-data/regulation-test-2-all/')\n",
    "test_path_easy = Path('../../../other-chess-data/regulation-test-2-easy/')"
   ]
  },
  {
   "cell_type": "markdown",
   "metadata": {},
   "source": [
    "##### Run two demo runs"
   ]
  },
  {
   "cell_type": "code",
   "execution_count": 5,
   "metadata": {},
   "outputs": [
    {
     "data": {
      "text/plain": [
       "{'_expdesign_name': 'notnamed',\n",
       " '_condition_name': 'notnamed',\n",
       " '_train_name': 'rf-v1-crops',\n",
       " '_test_name': 'test-regulation-2-all',\n",
       " '_train_path': Path('../../../rf-chess-data/cropped_v1'),\n",
       " '_test_path': Path('../../../other-chess-data/regulation-test-2-all'),\n",
       " '_model_arch': <function torchvision.models.resnet.resnet50(pretrained=False, progress=True, **kwargs)>,\n",
       " '_fit_one_cycle_epochs': 10,\n",
       " '_fine_tune_epochs': 15,\n",
       " '_train_seed': 0,\n",
       " '_valid_pct': 0.2,\n",
       " '_rm_norm': False,\n",
       " '_learn_norm': False,\n",
       " '_mult': 1.0,\n",
       " '_max_lighting': 0.9,\n",
       " '_max_warp': 0.4,\n",
       " '_max_rotate': 20.0,\n",
       " '_resize_method': 'pad',\n",
       " '_pad_mode': 'reflection',\n",
       " '_bs': 32,\n",
       " '_p_lighting': 0.75,\n",
       " '_aug_re': False,\n",
       " '_re_params': {'p': 0.5,\n",
       "  'sl': 0.0,\n",
       "  'sh': 0.3,\n",
       "  'min_aspect': 0.3,\n",
       "  'max_count': 1},\n",
       " '_custom_crop': None,\n",
       " '_custom_train_fnames': None,\n",
       " '_custom_train_fnames_args': {}}"
      ]
     },
     "execution_count": 5,
     "metadata": {},
     "output_type": "execute_result"
    }
   ],
   "source": [
    "default_params"
   ]
  },
  {
   "cell_type": "code",
   "execution_count": 10,
   "metadata": {},
   "outputs": [],
   "source": [
    "seeds = [0,1,2]\n",
    "\n",
    "grid_params = [\n",
    "    {'_expdesign_name': 're_aug',\n",
    "     '_condition_name': f'p{_p}_sh{_sh}',\n",
    "     '_test_name': 'test-regulation-2-easy',\n",
    "     '_test_path': test_path_easy,\n",
    "     '_model_arch': resnet50,\n",
    "      '_custom_crop': 'my-top-crop',\n",
    "     '_fine_tune_epochs': 20,\n",
    "     '_rm_norm': True,\n",
    "     '_aug_re': True,\n",
    "     '_re_params': {'p': _p,'sl': 0.0,'sh': _sh,\n",
    "                    'min_aspect': 0.3,'max_count': 3},\n",
    "     '_train_seed': seed,\n",
    "    }  \n",
    "    for _p, _sh in ([0.8, 0.4], [0.5, 0.6])\n",
    "    for seed in seeds]"
   ]
  },
  {
   "cell_type": "code",
   "execution_count": 11,
   "metadata": {},
   "outputs": [
    {
     "data": {
      "text/plain": [
       "[{'_expdesign_name': 're_aug',\n",
       "  '_condition_name': 'p0.8_sh0.4',\n",
       "  '_test_name': 'test-regulation-2-easy',\n",
       "  '_test_path': Path('../../../other-chess-data/regulation-test-2-easy'),\n",
       "  '_model_arch': <function torchvision.models.resnet.resnet50(pretrained=False, progress=True, **kwargs)>,\n",
       "  '_custom_crop': 'my-top-crop',\n",
       "  '_fine_tune_epochs': 20,\n",
       "  '_rm_norm': True,\n",
       "  '_aug_re': True,\n",
       "  '_re_params': {'p': 0.8,\n",
       "   'sl': 0.0,\n",
       "   'sh': 0.4,\n",
       "   'min_aspect': 0.3,\n",
       "   'max_count': 3},\n",
       "  '_train_seed': 0},\n",
       " {'_expdesign_name': 're_aug',\n",
       "  '_condition_name': 'p0.8_sh0.4',\n",
       "  '_test_name': 'test-regulation-2-easy',\n",
       "  '_test_path': Path('../../../other-chess-data/regulation-test-2-easy'),\n",
       "  '_model_arch': <function torchvision.models.resnet.resnet50(pretrained=False, progress=True, **kwargs)>,\n",
       "  '_custom_crop': 'my-top-crop',\n",
       "  '_fine_tune_epochs': 20,\n",
       "  '_rm_norm': True,\n",
       "  '_aug_re': True,\n",
       "  '_re_params': {'p': 0.8,\n",
       "   'sl': 0.0,\n",
       "   'sh': 0.4,\n",
       "   'min_aspect': 0.3,\n",
       "   'max_count': 3},\n",
       "  '_train_seed': 1},\n",
       " {'_expdesign_name': 're_aug',\n",
       "  '_condition_name': 'p0.8_sh0.4',\n",
       "  '_test_name': 'test-regulation-2-easy',\n",
       "  '_test_path': Path('../../../other-chess-data/regulation-test-2-easy'),\n",
       "  '_model_arch': <function torchvision.models.resnet.resnet50(pretrained=False, progress=True, **kwargs)>,\n",
       "  '_custom_crop': 'my-top-crop',\n",
       "  '_fine_tune_epochs': 20,\n",
       "  '_rm_norm': True,\n",
       "  '_aug_re': True,\n",
       "  '_re_params': {'p': 0.8,\n",
       "   'sl': 0.0,\n",
       "   'sh': 0.4,\n",
       "   'min_aspect': 0.3,\n",
       "   'max_count': 3},\n",
       "  '_train_seed': 2},\n",
       " {'_expdesign_name': 're_aug',\n",
       "  '_condition_name': 'p0.5_sh0.6',\n",
       "  '_test_name': 'test-regulation-2-easy',\n",
       "  '_test_path': Path('../../../other-chess-data/regulation-test-2-easy'),\n",
       "  '_model_arch': <function torchvision.models.resnet.resnet50(pretrained=False, progress=True, **kwargs)>,\n",
       "  '_custom_crop': 'my-top-crop',\n",
       "  '_fine_tune_epochs': 20,\n",
       "  '_rm_norm': True,\n",
       "  '_aug_re': True,\n",
       "  '_re_params': {'p': 0.5,\n",
       "   'sl': 0.0,\n",
       "   'sh': 0.6,\n",
       "   'min_aspect': 0.3,\n",
       "   'max_count': 3},\n",
       "  '_train_seed': 0},\n",
       " {'_expdesign_name': 're_aug',\n",
       "  '_condition_name': 'p0.5_sh0.6',\n",
       "  '_test_name': 'test-regulation-2-easy',\n",
       "  '_test_path': Path('../../../other-chess-data/regulation-test-2-easy'),\n",
       "  '_model_arch': <function torchvision.models.resnet.resnet50(pretrained=False, progress=True, **kwargs)>,\n",
       "  '_custom_crop': 'my-top-crop',\n",
       "  '_fine_tune_epochs': 20,\n",
       "  '_rm_norm': True,\n",
       "  '_aug_re': True,\n",
       "  '_re_params': {'p': 0.5,\n",
       "   'sl': 0.0,\n",
       "   'sh': 0.6,\n",
       "   'min_aspect': 0.3,\n",
       "   'max_count': 3},\n",
       "  '_train_seed': 1},\n",
       " {'_expdesign_name': 're_aug',\n",
       "  '_condition_name': 'p0.5_sh0.6',\n",
       "  '_test_name': 'test-regulation-2-easy',\n",
       "  '_test_path': Path('../../../other-chess-data/regulation-test-2-easy'),\n",
       "  '_model_arch': <function torchvision.models.resnet.resnet50(pretrained=False, progress=True, **kwargs)>,\n",
       "  '_custom_crop': 'my-top-crop',\n",
       "  '_fine_tune_epochs': 20,\n",
       "  '_rm_norm': True,\n",
       "  '_aug_re': True,\n",
       "  '_re_params': {'p': 0.5,\n",
       "   'sl': 0.0,\n",
       "   'sh': 0.6,\n",
       "   'min_aspect': 0.3,\n",
       "   'max_count': 3},\n",
       "  '_train_seed': 2}]"
      ]
     },
     "execution_count": 11,
     "metadata": {},
     "output_type": "execute_result"
    }
   ],
   "source": [
    "grid_params"
   ]
  },
  {
   "cell_type": "code",
   "execution_count": 12,
   "metadata": {
    "scrolled": false
   },
   "outputs": [
    {
     "name": "stdout",
     "output_type": "stream",
     "text": [
      "starting training...\n"
     ]
    },
    {
     "data": {
      "text/html": [],
      "text/plain": [
       "<IPython.core.display.HTML object>"
      ]
     },
     "metadata": {},
     "output_type": "display_data"
    },
    {
     "data": {
      "text/html": [],
      "text/plain": [
       "<IPython.core.display.HTML object>"
      ]
     },
     "metadata": {},
     "output_type": "display_data"
    },
    {
     "data": {
      "text/html": [],
      "text/plain": [
       "<IPython.core.display.HTML object>"
      ]
     },
     "metadata": {},
     "output_type": "display_data"
    },
    {
     "name": "stdout",
     "output_type": "stream",
     "text": [
      "saving to name_base: basicexp-72\n",
      "Finished with:\n",
      "\n",
      "{'valid_loss': 0.07915327697992325, 'accuracy': 0.9912891983985901}\n",
      "{'test_loss': 0.26299726963043213, 'test_accuracy': 0.9012345671653748}\n"
     ]
    },
    {
     "data": {
      "text/html": [],
      "text/plain": [
       "<IPython.core.display.HTML object>"
      ]
     },
     "metadata": {},
     "output_type": "display_data"
    },
    {
     "data": {
      "text/html": [],
      "text/plain": [
       "<IPython.core.display.HTML object>"
      ]
     },
     "metadata": {},
     "output_type": "display_data"
    },
    {
     "name": "stdout",
     "output_type": "stream",
     "text": [
      "finished in 427.31 secs\n",
      "\n",
      "starting training...\n"
     ]
    },
    {
     "data": {
      "text/html": [],
      "text/plain": [
       "<IPython.core.display.HTML object>"
      ]
     },
     "metadata": {},
     "output_type": "display_data"
    },
    {
     "data": {
      "text/html": [],
      "text/plain": [
       "<IPython.core.display.HTML object>"
      ]
     },
     "metadata": {},
     "output_type": "display_data"
    },
    {
     "data": {
      "text/html": [],
      "text/plain": [
       "<IPython.core.display.HTML object>"
      ]
     },
     "metadata": {},
     "output_type": "display_data"
    },
    {
     "name": "stdout",
     "output_type": "stream",
     "text": [
      "saving to name_base: basicexp-73\n",
      "Finished with:\n",
      "\n",
      "{'valid_loss': 0.09224844723939896, 'accuracy': 0.99303138256073}\n",
      "{'test_loss': 0.27182886004447937, 'test_accuracy': 0.9197530746459961}\n"
     ]
    },
    {
     "data": {
      "text/html": [],
      "text/plain": [
       "<IPython.core.display.HTML object>"
      ]
     },
     "metadata": {},
     "output_type": "display_data"
    },
    {
     "data": {
      "text/html": [],
      "text/plain": [
       "<IPython.core.display.HTML object>"
      ]
     },
     "metadata": {},
     "output_type": "display_data"
    },
    {
     "name": "stdout",
     "output_type": "stream",
     "text": [
      "finished in 431.7 secs\n",
      "\n",
      "starting training...\n"
     ]
    },
    {
     "data": {
      "text/html": [],
      "text/plain": [
       "<IPython.core.display.HTML object>"
      ]
     },
     "metadata": {},
     "output_type": "display_data"
    },
    {
     "data": {
      "text/html": [],
      "text/plain": [
       "<IPython.core.display.HTML object>"
      ]
     },
     "metadata": {},
     "output_type": "display_data"
    },
    {
     "data": {
      "text/html": [],
      "text/plain": [
       "<IPython.core.display.HTML object>"
      ]
     },
     "metadata": {},
     "output_type": "display_data"
    },
    {
     "name": "stdout",
     "output_type": "stream",
     "text": [
      "saving to name_base: basicexp-74\n",
      "Finished with:\n",
      "\n",
      "{'valid_loss': 0.08353221416473389, 'accuracy': 0.9912891983985901}\n",
      "{'test_loss': 0.28950104117393494, 'test_accuracy': 0.8827160596847534}\n"
     ]
    },
    {
     "data": {
      "text/html": [],
      "text/plain": [
       "<IPython.core.display.HTML object>"
      ]
     },
     "metadata": {},
     "output_type": "display_data"
    },
    {
     "data": {
      "text/html": [],
      "text/plain": [
       "<IPython.core.display.HTML object>"
      ]
     },
     "metadata": {},
     "output_type": "display_data"
    },
    {
     "name": "stdout",
     "output_type": "stream",
     "text": [
      "finished in 431.81 secs\n",
      "\n",
      "starting training...\n"
     ]
    },
    {
     "data": {
      "text/html": [],
      "text/plain": [
       "<IPython.core.display.HTML object>"
      ]
     },
     "metadata": {},
     "output_type": "display_data"
    },
    {
     "data": {
      "text/html": [],
      "text/plain": [
       "<IPython.core.display.HTML object>"
      ]
     },
     "metadata": {},
     "output_type": "display_data"
    },
    {
     "data": {
      "text/html": [],
      "text/plain": [
       "<IPython.core.display.HTML object>"
      ]
     },
     "metadata": {},
     "output_type": "display_data"
    },
    {
     "name": "stdout",
     "output_type": "stream",
     "text": [
      "saving to name_base: basicexp-75\n",
      "Finished with:\n",
      "\n",
      "{'valid_loss': 0.07413199543952942, 'accuracy': 0.9912891983985901}\n",
      "{'test_loss': 0.23087070882320404, 'test_accuracy': 0.9320987462997437}\n"
     ]
    },
    {
     "data": {
      "text/html": [],
      "text/plain": [
       "<IPython.core.display.HTML object>"
      ]
     },
     "metadata": {},
     "output_type": "display_data"
    },
    {
     "data": {
      "text/html": [],
      "text/plain": [
       "<IPython.core.display.HTML object>"
      ]
     },
     "metadata": {},
     "output_type": "display_data"
    },
    {
     "name": "stdout",
     "output_type": "stream",
     "text": [
      "finished in 432.32 secs\n",
      "\n",
      "starting training...\n"
     ]
    },
    {
     "data": {
      "text/html": [],
      "text/plain": [
       "<IPython.core.display.HTML object>"
      ]
     },
     "metadata": {},
     "output_type": "display_data"
    },
    {
     "data": {
      "text/html": [],
      "text/plain": [
       "<IPython.core.display.HTML object>"
      ]
     },
     "metadata": {},
     "output_type": "display_data"
    },
    {
     "data": {
      "text/html": [],
      "text/plain": [
       "<IPython.core.display.HTML object>"
      ]
     },
     "metadata": {},
     "output_type": "display_data"
    },
    {
     "name": "stdout",
     "output_type": "stream",
     "text": [
      "saving to name_base: basicexp-76\n",
      "Finished with:\n",
      "\n",
      "{'valid_loss': 0.08149763196706772, 'accuracy': 0.99303138256073}\n",
      "{'test_loss': 0.20074312388896942, 'test_accuracy': 0.9197530746459961}\n"
     ]
    },
    {
     "data": {
      "text/html": [],
      "text/plain": [
       "<IPython.core.display.HTML object>"
      ]
     },
     "metadata": {},
     "output_type": "display_data"
    },
    {
     "data": {
      "text/html": [],
      "text/plain": [
       "<IPython.core.display.HTML object>"
      ]
     },
     "metadata": {},
     "output_type": "display_data"
    },
    {
     "name": "stdout",
     "output_type": "stream",
     "text": [
      "finished in 437.51 secs\n",
      "\n",
      "starting training...\n"
     ]
    },
    {
     "data": {
      "text/html": [],
      "text/plain": [
       "<IPython.core.display.HTML object>"
      ]
     },
     "metadata": {},
     "output_type": "display_data"
    },
    {
     "data": {
      "text/html": [],
      "text/plain": [
       "<IPython.core.display.HTML object>"
      ]
     },
     "metadata": {},
     "output_type": "display_data"
    },
    {
     "data": {
      "text/html": [],
      "text/plain": [
       "<IPython.core.display.HTML object>"
      ]
     },
     "metadata": {},
     "output_type": "display_data"
    },
    {
     "name": "stdout",
     "output_type": "stream",
     "text": [
      "saving to name_base: basicexp-77\n",
      "Finished with:\n",
      "\n",
      "{'valid_loss': 0.0906478688120842, 'accuracy': 0.9912891983985901}\n",
      "{'test_loss': 0.1630878746509552, 'test_accuracy': 0.9691358208656311}\n"
     ]
    },
    {
     "data": {
      "text/html": [],
      "text/plain": [
       "<IPython.core.display.HTML object>"
      ]
     },
     "metadata": {},
     "output_type": "display_data"
    },
    {
     "data": {
      "text/html": [],
      "text/plain": [
       "<IPython.core.display.HTML object>"
      ]
     },
     "metadata": {},
     "output_type": "display_data"
    },
    {
     "name": "stdout",
     "output_type": "stream",
     "text": [
      "finished in 436.55 secs\n",
      "\n"
     ]
    }
   ],
   "source": [
    "for param in grid_params:\n",
    "    \n",
    "    run_params = default_params.copy()\n",
    "    run_params.update(param)\n",
    "    \n",
    "    run_exp(run_params, \n",
    "            name_base='basicexp',\n",
    "            b_msg=True, \n",
    "            b_cuda=True)"
   ]
  },
  {
   "cell_type": "code",
   "execution_count": 13,
   "metadata": {},
   "outputs": [],
   "source": [
    "import os, sys\n",
    "import pandas as pd\n",
    "from matplotlib import pyplot as plt\n",
    "from matplotlib import lines as mlines\n",
    "from pathlib import Path\n",
    "\n",
    "from modules.evalutils import get_dir_nums, get_tbls, param_diffs\n",
    "from modules.evalutils import conj_plot_data"
   ]
  },
  {
   "cell_type": "code",
   "execution_count": 14,
   "metadata": {},
   "outputs": [],
   "source": [
    "nums = get_dir_nums(log_dir='../models/model-logs/')"
   ]
  },
  {
   "cell_type": "code",
   "execution_count": 15,
   "metadata": {},
   "outputs": [],
   "source": [
    "ret = get_tbls('basicexp', nums, log_dir='../models/model-logs')\n",
    "\n",
    "d_metrics, d_resid, d_params = ret"
   ]
  },
  {
   "cell_type": "code",
   "execution_count": 16,
   "metadata": {},
   "outputs": [],
   "source": [
    "cmp_param = '_condition_name'"
   ]
  },
  {
   "cell_type": "code",
   "execution_count": 11,
   "metadata": {},
   "outputs": [
    {
     "data": {
      "text/plain": [
       "Index(['basicexp-56', 'basicexp-57', 'basicexp-58', 'basicexp-59'], dtype='object')"
      ]
     },
     "execution_count": 11,
     "metadata": {},
     "output_type": "execute_result"
    }
   ],
   "source": [
    "# exps_default = d_params.iloc[56:60,:].index ; exps_default"
   ]
  },
  {
   "cell_type": "code",
   "execution_count": 17,
   "metadata": {},
   "outputs": [],
   "source": [
    "exps_all = d_params[d_params['_expdesign_name'] == 're_aug'].index"
   ]
  },
  {
   "cell_type": "code",
   "execution_count": 18,
   "metadata": {},
   "outputs": [
    {
     "data": {
      "text/plain": [
       "Index(['basicexp-66', 'basicexp-67', 'basicexp-68', 'basicexp-69',\n",
       "       'basicexp-70', 'basicexp-71', 'basicexp-72', 'basicexp-73',\n",
       "       'basicexp-74', 'basicexp-75', 'basicexp-76', 'basicexp-77'],\n",
       "      dtype='object')"
      ]
     },
     "execution_count": 18,
     "metadata": {},
     "output_type": "execute_result"
    }
   ],
   "source": [
    "# exps_all = exps_default.to_list() \n",
    "# exps_all += exps_diff.to_list()\n",
    "exps_all"
   ]
  },
  {
   "cell_type": "code",
   "execution_count": 19,
   "metadata": {},
   "outputs": [
    {
     "data": {
      "text/plain": [
       "_train_seed         3\n",
       "model_fn           12\n",
       "_condition_name     4\n",
       "dtype: int64"
      ]
     },
     "execution_count": 19,
     "metadata": {},
     "output_type": "execute_result"
    }
   ],
   "source": [
    "exp_params = d_params.T[exps_all]\n",
    "param_diffs(exp_params)"
   ]
  },
  {
   "cell_type": "code",
   "execution_count": 20,
   "metadata": {},
   "outputs": [],
   "source": [
    "tmp  = d_metrics.join(d_params[[cmp_param]], on='exp_name')\n",
    "\n",
    "exp_metrics = tmp[tmp['exp_name'].isin(exps_all)]"
   ]
  },
  {
   "cell_type": "code",
   "execution_count": 21,
   "metadata": {},
   "outputs": [
    {
     "data": {
      "text/plain": [
       "array(['basicexp-66', 'basicexp-67', 'basicexp-68', 'basicexp-69',\n",
       "       'basicexp-70', 'basicexp-71', 'basicexp-72', 'basicexp-73',\n",
       "       'basicexp-74', 'basicexp-75', 'basicexp-76', 'basicexp-77'],\n",
       "      dtype=object)"
      ]
     },
     "execution_count": 21,
     "metadata": {},
     "output_type": "execute_result"
    }
   ],
   "source": [
    "exp_metrics['exp_name'].unique()"
   ]
  },
  {
   "cell_type": "code",
   "execution_count": 22,
   "metadata": {},
   "outputs": [
    {
     "data": {
      "text/plain": [
       "array(['../../../other-chess-data/regulation-test-2-easy'], dtype=object)"
      ]
     },
     "execution_count": 22,
     "metadata": {},
     "output_type": "execute_result"
    }
   ],
   "source": [
    "d_params.loc[exps_all, '_test_path'].unique()"
   ]
  },
  {
   "cell_type": "code",
   "execution_count": 23,
   "metadata": {},
   "outputs": [],
   "source": [
    "df_agg, color_ind = conj_plot_data(exp_metrics, cmp_param)"
   ]
  },
  {
   "cell_type": "code",
   "execution_count": 24,
   "metadata": {},
   "outputs": [],
   "source": [
    "def foo(x): \n",
    "    if pd.isna(x):return 'blue'\n",
    "    else: return x"
   ]
  },
  {
   "cell_type": "code",
   "execution_count": 25,
   "metadata": {
    "scrolled": false
   },
   "outputs": [
    {
     "data": {
      "image/png": "[encoded data removed]",
      "text/plain": [
       "<Figure size 432x288 with 1 Axes>"
      ]
     },
     "metadata": {
      "needs_background": "light"
     },
     "output_type": "display_data"
    }
   ],
   "source": [
    "for i in range(df_agg.shape[0]):\n",
    "    plt.plot(df_agg.T.iloc[:-1,i], \n",
    "             c=foo(df_agg.T.loc['color'][i]))\n",
    "    \n",
    "plt.title('NewHorizons: Crop vs. Pad \\n test-set: 2-easy \\n using all other best params ')\n",
    "plt.ylabel('accuracy')\n",
    "plt.xlabel('epoch')\n",
    "\n",
    "handles = [mlines.Line2D([],[],c=foo(color)) \n",
    "           for color in color_ind.values ]\n",
    "plt.legend(handles, [str(e) for e in color_ind.index])\n",
    "\n",
    "axes = plt.gca()\n",
    "axes.set_ylim([.7, 1.0]);"
   ]
  },
  {
   "cell_type": "code",
   "execution_count": 27,
   "metadata": {},
   "outputs": [],
   "source": [
    "df_agg, color_ind = conj_plot_data(exp_metrics, cmp_param\n",
    "                            ,values='test_loss')"
   ]
  },
  {
   "cell_type": "code",
   "execution_count": 28,
   "metadata": {},
   "outputs": [
    {
     "data": {
      "image/png": "[encoded data removed]",
      "text/plain": [
       "<Figure size 432x288 with 1 Axes>"
      ]
     },
     "metadata": {
      "needs_background": "light"
     },
     "output_type": "display_data"
    }
   ],
   "source": [
    "for i in range(df_agg.shape[0]):\n",
    "    plt.plot(df_agg.T.iloc[:-1,i], \n",
    "             c=foo(df_agg.T.loc['color'][i]))\n",
    "    \n",
    "plt.title('NewHorizons: Crop vs. Pad \\n test-set: 2-easy \\n using all other best params ')\n",
    "plt.ylabel('loss')\n",
    "plt.xlabel('epoch')\n",
    "\n",
    "handles = [mlines.Line2D([],[],c=foo(color)) \n",
    "           for color in color_ind.values ]\n",
    "plt.legend(handles, [str(e) for e in color_ind.index])\n",
    "\n",
    "axes = plt.gca()\n",
    "axes.set_ylim([0.0, 0.6]);"
   ]
  },
  {
   "cell_type": "code",
   "execution_count": null,
   "metadata": {},
   "outputs": [],
   "source": []
  },
  {
   "cell_type": "markdown",
   "metadata": {},
   "source": [
    "##### Plot results"
   ]
  },
  {
   "cell_type": "code",
   "execution_count": 6,
   "metadata": {},
   "outputs": [],
   "source": [
    "import os, sys\n",
    "import pandas as pd\n",
    "from matplotlib import pyplot as plt\n",
    "from matplotlib import lines as mlines\n",
    "from pathlib import Path\n",
    "\n",
    "from modules.evalutils import get_dir_nums, get_tbls, param_diffs\n",
    "from modules.evalutils import conj_plot_data"
   ]
  },
  {
   "cell_type": "code",
   "execution_count": 10,
   "metadata": {},
   "outputs": [],
   "source": [
    "nums = get_dir_nums(log_dir='../models/model-logs/')"
   ]
  },
  {
   "cell_type": "code",
   "execution_count": 11,
   "metadata": {},
   "outputs": [],
   "source": [
    "ret = get_tbls('basicexp', nums, log_dir='../models/model-logs')\n",
    "\n",
    "d_metrics, d_resid, d_params = ret"
   ]
  },
  {
   "cell_type": "code",
   "execution_count": 12,
   "metadata": {},
   "outputs": [],
   "source": [
    "cmp_param = '_condition_name'"
   ]
  },
  {
   "cell_type": "code",
   "execution_count": 13,
   "metadata": {},
   "outputs": [],
   "source": [
    "exps_all = d_params[d_params['_expdesign_name'] == 'rm_norm'].index"
   ]
  },
  {
   "cell_type": "code",
   "execution_count": 14,
   "metadata": {},
   "outputs": [
    {
     "data": {
      "text/plain": [
       "_train_seed        3\n",
       "model_fn           6\n",
       "_condition_name    2\n",
       "_rm_norm           2\n",
       "dtype: int64"
      ]
     },
     "execution_count": 14,
     "metadata": {},
     "output_type": "execute_result"
    }
   ],
   "source": [
    "exp_params = d_params.T[exps_all]\n",
    "param_diffs(exp_params)"
   ]
  },
  {
   "cell_type": "code",
   "execution_count": 15,
   "metadata": {},
   "outputs": [],
   "source": [
    "tmp  = d_metrics.join(d_params[[cmp_param]], on='exp_name')\n",
    "\n",
    "exp_metrics = tmp[tmp['exp_name'].isin(exps_all)]"
   ]
  },
  {
   "cell_type": "code",
   "execution_count": 16,
   "metadata": {},
   "outputs": [
    {
     "data": {
      "text/plain": [
       "array(['basicexp-54', 'basicexp-55', 'basicexp-56', 'basicexp-57',\n",
       "       'basicexp-58', 'basicexp-59'], dtype=object)"
      ]
     },
     "execution_count": 16,
     "metadata": {},
     "output_type": "execute_result"
    }
   ],
   "source": [
    "exp_metrics['exp_name'].unique()"
   ]
  },
  {
   "cell_type": "code",
   "execution_count": 17,
   "metadata": {},
   "outputs": [
    {
     "data": {
      "text/plain": [
       "array(['../../../other-chess-data/regulation-test-2-easy'], dtype=object)"
      ]
     },
     "execution_count": 17,
     "metadata": {},
     "output_type": "execute_result"
    }
   ],
   "source": [
    "d_params.loc[exps_all, '_test_path'].unique()"
   ]
  },
  {
   "cell_type": "code",
   "execution_count": 18,
   "metadata": {},
   "outputs": [],
   "source": [
    "df_agg, color_ind = conj_plot_data(exp_metrics, cmp_param)"
   ]
  },
  {
   "cell_type": "code",
   "execution_count": 20,
   "metadata": {},
   "outputs": [],
   "source": [
    "def foo(x): \n",
    "    if pd.isna(x):return 'blue'\n",
    "    else: return x"
   ]
  },
  {
   "cell_type": "code",
   "execution_count": 21,
   "metadata": {
    "scrolled": false
   },
   "outputs": [
    {
     "data": {
      "image/png": "[encoded data removed]",
      "text/plain": [
       "<Figure size 432x288 with 1 Axes>"
      ]
     },
     "metadata": {
      "needs_background": "light"
     },
     "output_type": "display_data"
    }
   ],
   "source": [
    "for i in range(df_agg.shape[0]):\n",
    "    plt.plot(df_agg.T.iloc[:-1,i], \n",
    "             c=foo(df_agg.T.loc['color'][i]))\n",
    "    \n",
    "plt.title('Normalize: On vs. Off\\n test-set: 2-easy \\n using all other best params ')\n",
    "plt.ylabel('accuracy')\n",
    "plt.xlabel('epoch')\n",
    "\n",
    "handles = [mlines.Line2D([],[],c=foo(color)) \n",
    "           for color in color_ind.values ]\n",
    "plt.legend(handles, [str(e) for e in color_ind.index])\n",
    "\n",
    "axes = plt.gca()\n",
    "axes.set_ylim([.6, 1.0]);"
   ]
  },
  {
   "cell_type": "code",
   "execution_count": null,
   "metadata": {},
   "outputs": [],
   "source": []
  }
 ],
 "metadata": {
  "kernelspec": {
   "display_name": "march21",
   "language": "python",
   "name": "march21"
  },
  "language_info": {
   "codemirror_mode": {
    "name": "ipython",
    "version": 3
   },
   "file_extension": ".py",
   "mimetype": "text/x-python",
   "name": "python",
   "nbconvert_exporter": "python",
   "pygments_lexer": "ipython3",
   "version": "3.7.6"
  }
 },
 "nbformat": 4,
 "nbformat_minor": 2
}
