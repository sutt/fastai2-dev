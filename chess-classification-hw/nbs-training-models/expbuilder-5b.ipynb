{
 "cells": [
  {
   "cell_type": "markdown",
   "metadata": {},
   "source": [
    "### NewHorizons\n",
    "Try different seeds and train longer"
   ]
  },
  {
   "cell_type": "code",
   "execution_count": 1,
   "metadata": {},
   "outputs": [],
   "source": [
    "from fastai2.vision.all import *\n",
    "import sys\n",
    "sys.path.append('..')\n",
    "\n",
    "# %load_ext autoreload\n",
    "# %autoreload 2\n",
    "\n",
    "from modules.expbuilder import default_params, run_exp\n",
    "\n",
    "train_path = Path('../../../rf-chess-data/cropped_v1/')\n",
    "train_path = Path('../../../rf-chess-data/cropped_v1.1/')\n",
    "\n",
    "test_path_all = Path('../../../other-chess-data/regulation-test-2-all/')\n",
    "test_path_easy = Path('../../../other-chess-data/regulation-test-2-easy/')"
   ]
  },
  {
   "cell_type": "markdown",
   "metadata": {},
   "source": [
    "##### Run two demo runs"
   ]
  },
  {
   "cell_type": "code",
   "execution_count": 2,
   "metadata": {
    "collapsed": true
   },
   "outputs": [
    {
     "data": {
      "text/plain": [
       "{'_expdesign_name': 'notnamed',\n",
       " '_condition_name': 'notnamed',\n",
       " '_train_name': 'rf-v1-crops',\n",
       " '_test_name': 'test-regulation-2-all',\n",
       " '_train_path': Path('../../../rf-chess-data/cropped_v1'),\n",
       " '_test_path': Path('../../../other-chess-data/regulation-test-2-all'),\n",
       " '_model_arch': <function torchvision.models.resnet.resnet50(pretrained=False, progress=True, **kwargs)>,\n",
       " '_fit_one_cycle_epochs': 10,\n",
       " '_fine_tune_epochs': 15,\n",
       " '_train_seed': 0,\n",
       " '_valid_pct': 0.2,\n",
       " '_rm_norm': True,\n",
       " '_mult': 1.0,\n",
       " '_max_lighting': 0.9,\n",
       " '_max_warp': 0.4,\n",
       " '_max_rotate': 20.0,\n",
       " '_resize_method': 'pad',\n",
       " '_pad_mode': 'reflection',\n",
       " '_bs': 32,\n",
       " '_p_lighting': 0.75,\n",
       " '_custom_crop': None,\n",
       " '_custom_train_fnames': None,\n",
       " '_custom_train_fnames_args': {}}"
      ]
     },
     "execution_count": 2,
     "metadata": {},
     "output_type": "execute_result"
    }
   ],
   "source": [
    "default_params"
   ]
  },
  {
   "cell_type": "code",
   "execution_count": 2,
   "metadata": {},
   "outputs": [],
   "source": [
    "seeds = [3,4,5]\n",
    "\n",
    "grid_params = [\n",
    "    {'_expdesign_name': 'new_horizons',\n",
    "     '_condition_name': 'pad' if _custom_crop is None else 'crop',\n",
    "     '_test_name': 'test-regulation-2-easy',\n",
    "     '_test_path': test_path_easy,\n",
    "     '_model_arch': resnet50,\n",
    "      '_custom_crop': _custom_crop,\n",
    "     '_fine_tune_epochs': 25,\n",
    "     '_rm_norm': True,\n",
    "     '_train_seed': seed,\n",
    "    }  \n",
    "    for _custom_crop in ('my-top-crop',None)\n",
    "    for seed in seeds]"
   ]
  },
  {
   "cell_type": "code",
   "execution_count": 3,
   "metadata": {},
   "outputs": [
    {
     "data": {
      "text/plain": [
       "[{'_expdesign_name': 'new_horizons',\n",
       "  '_condition_name': 'crop',\n",
       "  '_test_name': 'test-regulation-2-easy',\n",
       "  '_test_path': Path('../../../other-chess-data/regulation-test-2-easy'),\n",
       "  '_model_arch': <function torchvision.models.resnet.resnet50(pretrained=False, progress=True, **kwargs)>,\n",
       "  '_custom_crop': 'my-top-crop',\n",
       "  '_fine_tune_epochs': 25,\n",
       "  '_rm_norm': True,\n",
       "  '_train_seed': 3},\n",
       " {'_expdesign_name': 'new_horizons',\n",
       "  '_condition_name': 'crop',\n",
       "  '_test_name': 'test-regulation-2-easy',\n",
       "  '_test_path': Path('../../../other-chess-data/regulation-test-2-easy'),\n",
       "  '_model_arch': <function torchvision.models.resnet.resnet50(pretrained=False, progress=True, **kwargs)>,\n",
       "  '_custom_crop': 'my-top-crop',\n",
       "  '_fine_tune_epochs': 25,\n",
       "  '_rm_norm': True,\n",
       "  '_train_seed': 4},\n",
       " {'_expdesign_name': 'new_horizons',\n",
       "  '_condition_name': 'crop',\n",
       "  '_test_name': 'test-regulation-2-easy',\n",
       "  '_test_path': Path('../../../other-chess-data/regulation-test-2-easy'),\n",
       "  '_model_arch': <function torchvision.models.resnet.resnet50(pretrained=False, progress=True, **kwargs)>,\n",
       "  '_custom_crop': 'my-top-crop',\n",
       "  '_fine_tune_epochs': 25,\n",
       "  '_rm_norm': True,\n",
       "  '_train_seed': 5},\n",
       " {'_expdesign_name': 'new_horizons',\n",
       "  '_condition_name': 'pad',\n",
       "  '_test_name': 'test-regulation-2-easy',\n",
       "  '_test_path': Path('../../../other-chess-data/regulation-test-2-easy'),\n",
       "  '_model_arch': <function torchvision.models.resnet.resnet50(pretrained=False, progress=True, **kwargs)>,\n",
       "  '_custom_crop': None,\n",
       "  '_fine_tune_epochs': 25,\n",
       "  '_rm_norm': True,\n",
       "  '_train_seed': 3},\n",
       " {'_expdesign_name': 'new_horizons',\n",
       "  '_condition_name': 'pad',\n",
       "  '_test_name': 'test-regulation-2-easy',\n",
       "  '_test_path': Path('../../../other-chess-data/regulation-test-2-easy'),\n",
       "  '_model_arch': <function torchvision.models.resnet.resnet50(pretrained=False, progress=True, **kwargs)>,\n",
       "  '_custom_crop': None,\n",
       "  '_fine_tune_epochs': 25,\n",
       "  '_rm_norm': True,\n",
       "  '_train_seed': 4},\n",
       " {'_expdesign_name': 'new_horizons',\n",
       "  '_condition_name': 'pad',\n",
       "  '_test_name': 'test-regulation-2-easy',\n",
       "  '_test_path': Path('../../../other-chess-data/regulation-test-2-easy'),\n",
       "  '_model_arch': <function torchvision.models.resnet.resnet50(pretrained=False, progress=True, **kwargs)>,\n",
       "  '_custom_crop': None,\n",
       "  '_fine_tune_epochs': 25,\n",
       "  '_rm_norm': True,\n",
       "  '_train_seed': 5}]"
      ]
     },
     "execution_count": 3,
     "metadata": {},
     "output_type": "execute_result"
    }
   ],
   "source": [
    "grid_params"
   ]
  },
  {
   "cell_type": "code",
   "execution_count": 4,
   "metadata": {
    "scrolled": false
   },
   "outputs": [
    {
     "name": "stdout",
     "output_type": "stream",
     "text": [
      "starting training...\n"
     ]
    },
    {
     "data": {
      "text/html": [],
      "text/plain": [
       "<IPython.core.display.HTML object>"
      ]
     },
     "metadata": {},
     "output_type": "display_data"
    },
    {
     "data": {
      "text/html": [],
      "text/plain": [
       "<IPython.core.display.HTML object>"
      ]
     },
     "metadata": {},
     "output_type": "display_data"
    },
    {
     "data": {
      "text/html": [],
      "text/plain": [
       "<IPython.core.display.HTML object>"
      ]
     },
     "metadata": {},
     "output_type": "display_data"
    },
    {
     "name": "stdout",
     "output_type": "stream",
     "text": [
      "saving to name_base: basicexp-60\n",
      "Finished with:\n",
      "\n",
      "{'valid_loss': 0.07905662059783936, 'accuracy': 0.9912891983985901}\n",
      "{'test_loss': 0.2155417948961258, 'test_accuracy': 0.9197530746459961}\n"
     ]
    },
    {
     "data": {
      "text/html": [],
      "text/plain": [
       "<IPython.core.display.HTML object>"
      ]
     },
     "metadata": {},
     "output_type": "display_data"
    },
    {
     "data": {
      "text/html": [],
      "text/plain": [
       "<IPython.core.display.HTML object>"
      ]
     },
     "metadata": {},
     "output_type": "display_data"
    },
    {
     "name": "stdout",
     "output_type": "stream",
     "text": [
      "finished in 499.35 secs\n",
      "\n",
      "starting training...\n"
     ]
    },
    {
     "data": {
      "text/html": [],
      "text/plain": [
       "<IPython.core.display.HTML object>"
      ]
     },
     "metadata": {},
     "output_type": "display_data"
    },
    {
     "data": {
      "text/html": [],
      "text/plain": [
       "<IPython.core.display.HTML object>"
      ]
     },
     "metadata": {},
     "output_type": "display_data"
    },
    {
     "data": {
      "text/html": [],
      "text/plain": [
       "<IPython.core.display.HTML object>"
      ]
     },
     "metadata": {},
     "output_type": "display_data"
    },
    {
     "name": "stdout",
     "output_type": "stream",
     "text": [
      "saving to name_base: basicexp-61\n",
      "Finished with:\n",
      "\n",
      "{'valid_loss': 0.07580095529556274, 'accuracy': 0.9895470142364502}\n",
      "{'test_loss': 0.1304355412721634, 'test_accuracy': 0.9629629850387573}\n"
     ]
    },
    {
     "data": {
      "text/html": [],
      "text/plain": [
       "<IPython.core.display.HTML object>"
      ]
     },
     "metadata": {},
     "output_type": "display_data"
    },
    {
     "data": {
      "text/html": [],
      "text/plain": [
       "<IPython.core.display.HTML object>"
      ]
     },
     "metadata": {},
     "output_type": "display_data"
    },
    {
     "name": "stdout",
     "output_type": "stream",
     "text": [
      "finished in 502.92 secs\n",
      "\n",
      "starting training...\n"
     ]
    },
    {
     "data": {
      "text/html": [],
      "text/plain": [
       "<IPython.core.display.HTML object>"
      ]
     },
     "metadata": {},
     "output_type": "display_data"
    },
    {
     "data": {
      "text/html": [],
      "text/plain": [
       "<IPython.core.display.HTML object>"
      ]
     },
     "metadata": {},
     "output_type": "display_data"
    },
    {
     "data": {
      "text/html": [],
      "text/plain": [
       "<IPython.core.display.HTML object>"
      ]
     },
     "metadata": {},
     "output_type": "display_data"
    },
    {
     "name": "stdout",
     "output_type": "stream",
     "text": [
      "saving to name_base: basicexp-62\n",
      "Finished with:\n",
      "\n",
      "{'valid_loss': 0.11896596103906631, 'accuracy': 0.9895470142364502}\n",
      "{'test_loss': 0.1820327788591385, 'test_accuracy': 0.9320987462997437}\n"
     ]
    },
    {
     "data": {
      "text/html": [],
      "text/plain": [
       "<IPython.core.display.HTML object>"
      ]
     },
     "metadata": {},
     "output_type": "display_data"
    },
    {
     "data": {
      "text/html": [],
      "text/plain": [
       "<IPython.core.display.HTML object>"
      ]
     },
     "metadata": {},
     "output_type": "display_data"
    },
    {
     "name": "stdout",
     "output_type": "stream",
     "text": [
      "finished in 504.42 secs\n",
      "\n",
      "starting training...\n"
     ]
    },
    {
     "data": {
      "text/html": [],
      "text/plain": [
       "<IPython.core.display.HTML object>"
      ]
     },
     "metadata": {},
     "output_type": "display_data"
    },
    {
     "data": {
      "text/html": [],
      "text/plain": [
       "<IPython.core.display.HTML object>"
      ]
     },
     "metadata": {},
     "output_type": "display_data"
    },
    {
     "data": {
      "text/html": [],
      "text/plain": [
       "<IPython.core.display.HTML object>"
      ]
     },
     "metadata": {},
     "output_type": "display_data"
    },
    {
     "name": "stdout",
     "output_type": "stream",
     "text": [
      "saving to name_base: basicexp-63\n",
      "Finished with:\n",
      "\n",
      "{'valid_loss': 0.08455890417098999, 'accuracy': 0.9912891983985901}\n",
      "{'test_loss': 0.3264925479888916, 'test_accuracy': 0.9012345671653748}\n"
     ]
    },
    {
     "data": {
      "text/html": [],
      "text/plain": [
       "<IPython.core.display.HTML object>"
      ]
     },
     "metadata": {},
     "output_type": "display_data"
    },
    {
     "data": {
      "text/html": [],
      "text/plain": [
       "<IPython.core.display.HTML object>"
      ]
     },
     "metadata": {},
     "output_type": "display_data"
    },
    {
     "name": "stdout",
     "output_type": "stream",
     "text": [
      "finished in 507.3 secs\n",
      "\n",
      "starting training...\n"
     ]
    },
    {
     "data": {
      "text/html": [],
      "text/plain": [
       "<IPython.core.display.HTML object>"
      ]
     },
     "metadata": {},
     "output_type": "display_data"
    },
    {
     "data": {
      "text/html": [],
      "text/plain": [
       "<IPython.core.display.HTML object>"
      ]
     },
     "metadata": {},
     "output_type": "display_data"
    },
    {
     "data": {
      "text/html": [],
      "text/plain": [
       "<IPython.core.display.HTML object>"
      ]
     },
     "metadata": {},
     "output_type": "display_data"
    },
    {
     "name": "stdout",
     "output_type": "stream",
     "text": [
      "saving to name_base: basicexp-64\n",
      "Finished with:\n",
      "\n",
      "{'valid_loss': 0.07988352328538895, 'accuracy': 0.9912891983985901}\n",
      "{'test_loss': 0.3435076177120209, 'test_accuracy': 0.8888888955116272}\n"
     ]
    },
    {
     "data": {
      "text/html": [],
      "text/plain": [
       "<IPython.core.display.HTML object>"
      ]
     },
     "metadata": {},
     "output_type": "display_data"
    },
    {
     "data": {
      "text/html": [],
      "text/plain": [
       "<IPython.core.display.HTML object>"
      ]
     },
     "metadata": {},
     "output_type": "display_data"
    },
    {
     "name": "stdout",
     "output_type": "stream",
     "text": [
      "finished in 507.57 secs\n",
      "\n",
      "starting training...\n"
     ]
    },
    {
     "data": {
      "text/html": [],
      "text/plain": [
       "<IPython.core.display.HTML object>"
      ]
     },
     "metadata": {},
     "output_type": "display_data"
    },
    {
     "data": {
      "text/html": [],
      "text/plain": [
       "<IPython.core.display.HTML object>"
      ]
     },
     "metadata": {},
     "output_type": "display_data"
    },
    {
     "data": {
      "text/html": [],
      "text/plain": [
       "<IPython.core.display.HTML object>"
      ]
     },
     "metadata": {},
     "output_type": "display_data"
    },
    {
     "name": "stdout",
     "output_type": "stream",
     "text": [
      "saving to name_base: basicexp-65\n",
      "Finished with:\n",
      "\n",
      "{'valid_loss': 0.10754705220460892, 'accuracy': 0.9895470142364502}\n",
      "{'test_loss': 0.35021916031837463, 'test_accuracy': 0.8827160596847534}\n"
     ]
    },
    {
     "data": {
      "text/html": [],
      "text/plain": [
       "<IPython.core.display.HTML object>"
      ]
     },
     "metadata": {},
     "output_type": "display_data"
    },
    {
     "data": {
      "text/html": [],
      "text/plain": [
       "<IPython.core.display.HTML object>"
      ]
     },
     "metadata": {},
     "output_type": "display_data"
    },
    {
     "name": "stdout",
     "output_type": "stream",
     "text": [
      "finished in 507.73 secs\n",
      "\n"
     ]
    }
   ],
   "source": [
    "for param in grid_params:\n",
    "    \n",
    "    run_params = default_params.copy()\n",
    "    run_params.update(param)\n",
    "    \n",
    "    run_exp(run_params, \n",
    "            name_base='basicexp',\n",
    "            b_msg=True, \n",
    "            b_cuda=True)"
   ]
  },
  {
   "cell_type": "code",
   "execution_count": null,
   "metadata": {},
   "outputs": [],
   "source": []
  },
  {
   "cell_type": "markdown",
   "metadata": {},
   "source": [
    "##### Plot results"
   ]
  },
  {
   "cell_type": "code",
   "execution_count": 2,
   "metadata": {},
   "outputs": [],
   "source": [
    "import os, sys\n",
    "import pandas as pd\n",
    "from matplotlib import pyplot as plt\n",
    "from matplotlib import lines as mlines\n",
    "from pathlib import Path\n",
    "\n",
    "from modules.evalutils import get_dir_nums, get_tbls, param_diffs\n",
    "from modules.evalutils import conj_plot_data"
   ]
  },
  {
   "cell_type": "code",
   "execution_count": 3,
   "metadata": {},
   "outputs": [],
   "source": [
    "nums = get_dir_nums(log_dir='../models/model-logs/')"
   ]
  },
  {
   "cell_type": "code",
   "execution_count": 4,
   "metadata": {},
   "outputs": [],
   "source": [
    "ret = get_tbls('basicexp', nums, log_dir='../models/model-logs')\n",
    "\n",
    "d_metrics, d_resid, d_params = ret"
   ]
  },
  {
   "cell_type": "code",
   "execution_count": 5,
   "metadata": {},
   "outputs": [],
   "source": [
    "cmp_param = '_condition_name'"
   ]
  },
  {
   "cell_type": "code",
   "execution_count": 6,
   "metadata": {},
   "outputs": [],
   "source": [
    "exps_all = d_params[d_params['_expdesign_name'] == 'new_horizons'].index"
   ]
  },
  {
   "cell_type": "code",
   "execution_count": 7,
   "metadata": {},
   "outputs": [
    {
     "data": {
      "text/plain": [
       "_train_seed        3\n",
       "_custom_crop       2\n",
       "model_fn           6\n",
       "_condition_name    2\n",
       "dtype: int64"
      ]
     },
     "execution_count": 7,
     "metadata": {},
     "output_type": "execute_result"
    }
   ],
   "source": [
    "exp_params = d_params.T[exps_all]\n",
    "param_diffs(exp_params)"
   ]
  },
  {
   "cell_type": "code",
   "execution_count": 8,
   "metadata": {},
   "outputs": [],
   "source": [
    "tmp  = d_metrics.join(d_params[[cmp_param]], on='exp_name')\n",
    "\n",
    "exp_metrics = tmp[tmp['exp_name'].isin(exps_all)]"
   ]
  },
  {
   "cell_type": "code",
   "execution_count": 9,
   "metadata": {},
   "outputs": [
    {
     "data": {
      "text/plain": [
       "array(['basicexp-60', 'basicexp-61', 'basicexp-62', 'basicexp-63',\n",
       "       'basicexp-64', 'basicexp-65'], dtype=object)"
      ]
     },
     "execution_count": 9,
     "metadata": {},
     "output_type": "execute_result"
    }
   ],
   "source": [
    "exp_metrics['exp_name'].unique()"
   ]
  },
  {
   "cell_type": "code",
   "execution_count": 10,
   "metadata": {},
   "outputs": [
    {
     "data": {
      "text/plain": [
       "array(['../../../other-chess-data/regulation-test-2-easy'], dtype=object)"
      ]
     },
     "execution_count": 10,
     "metadata": {},
     "output_type": "execute_result"
    }
   ],
   "source": [
    "d_params.loc[exps_all, '_test_path'].unique()"
   ]
  },
  {
   "cell_type": "code",
   "execution_count": 11,
   "metadata": {},
   "outputs": [],
   "source": [
    "df_agg, color_ind = conj_plot_data(exp_metrics, cmp_param)"
   ]
  },
  {
   "cell_type": "code",
   "execution_count": 12,
   "metadata": {},
   "outputs": [],
   "source": [
    "def foo(x): \n",
    "    if pd.isna(x):return 'blue'\n",
    "    else: return x"
   ]
  },
  {
   "cell_type": "code",
   "execution_count": 13,
   "metadata": {
    "scrolled": false
   },
   "outputs": [
    {
     "data": {
      "image/png": "[encoded data removed]",
      "text/plain": [
       "<Figure size 432x288 with 1 Axes>"
      ]
     },
     "metadata": {
      "needs_background": "light"
     },
     "output_type": "display_data"
    }
   ],
   "source": [
    "for i in range(df_agg.shape[0]):\n",
    "    plt.plot(df_agg.T.iloc[:-1,i], \n",
    "             c=foo(df_agg.T.loc['color'][i]))\n",
    "    \n",
    "plt.title('NewHorizons: Crop vs. Pad \\n test-set: 2-easy \\n using all other best params ')\n",
    "plt.ylabel('accuracy')\n",
    "plt.xlabel('epoch')\n",
    "\n",
    "handles = [mlines.Line2D([],[],c=foo(color)) \n",
    "           for color in color_ind.values ]\n",
    "plt.legend(handles, [str(e) for e in color_ind.index])\n",
    "\n",
    "axes = plt.gca()\n",
    "axes.set_ylim([.6, 1.0]);"
   ]
  },
  {
   "cell_type": "code",
   "execution_count": 14,
   "metadata": {},
   "outputs": [],
   "source": [
    "df_agg, color_ind = conj_plot_data(exp_metrics, cmp_param\n",
    "                            ,values='test_loss')"
   ]
  },
  {
   "cell_type": "code",
   "execution_count": 16,
   "metadata": {},
   "outputs": [
    {
     "data": {
      "image/png": "[encoded data removed]",
      "text/plain": [
       "<Figure size 432x288 with 1 Axes>"
      ]
     },
     "metadata": {
      "needs_background": "light"
     },
     "output_type": "display_data"
    }
   ],
   "source": [
    "for i in range(df_agg.shape[0]):\n",
    "    plt.plot(df_agg.T.iloc[:-1,i], \n",
    "             c=foo(df_agg.T.loc['color'][i]))\n",
    "    \n",
    "plt.title('NewHorizons: Crop vs. Pad \\n test-set: 2-easy \\n using all other best params ')\n",
    "plt.ylabel('loss')\n",
    "plt.xlabel('epoch')\n",
    "\n",
    "handles = [mlines.Line2D([],[],c=foo(color)) \n",
    "           for color in color_ind.values ]\n",
    "plt.legend(handles, [str(e) for e in color_ind.index])\n",
    "\n",
    "axes = plt.gca()\n",
    "axes.set_ylim([0.0, 0.6]);"
   ]
  },
  {
   "cell_type": "code",
   "execution_count": null,
   "metadata": {},
   "outputs": [],
   "source": []
  }
 ],
 "metadata": {
  "kernelspec": {
   "display_name": "march21",
   "language": "python",
   "name": "march21"
  },
  "language_info": {
   "codemirror_mode": {
    "name": "ipython",
    "version": 3
   },
   "file_extension": ".py",
   "mimetype": "text/x-python",
   "name": "python",
   "nbconvert_exporter": "python",
   "pygments_lexer": "ipython3",
   "version": "3.7.6"
  }
 },
 "nbformat": 4,
 "nbformat_minor": 2
}
