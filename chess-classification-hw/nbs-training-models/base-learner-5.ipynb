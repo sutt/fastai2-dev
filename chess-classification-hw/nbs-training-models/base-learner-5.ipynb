{
 "cells": [
  {
   "cell_type": "markdown",
   "metadata": {},
   "source": [
    "### Base Learner 5"
   ]
  },
  {
   "cell_type": "code",
   "execution_count": 1,
   "metadata": {},
   "outputs": [],
   "source": [
    "from fastai2.vision.all import *\n",
    "import sys, torch\n",
    "sys.path.append('..')\n",
    "\n",
    "torch.backends.cudnn.deterministic = True\n",
    "torch.backends.cudnn.benchmark = False\n",
    "\n",
    "\n",
    "# %load_ext autoreload\n",
    "# %autoreload 2\n",
    "\n",
    "from modules.expbuilder import default_params, run_exp, rm_test_recorder\n",
    "\n",
    "train_path = Path('../../../rf-chess-data/cropped_v1/')\n",
    "train_clean_path = Path('../../../rf-chess-data/cropped_v1.1/')\n",
    "\n",
    "test_path_all = Path('../../../other-chess-data/regulation-test-2-all/')\n",
    "test_path_easy = Path('../../../other-chess-data/regulation-test-2-easy/')"
   ]
  },
  {
   "cell_type": "code",
   "execution_count": 2,
   "metadata": {},
   "outputs": [],
   "source": [
    "my_params = {'_train_seed':0, '_custom_crop': 'my-top-crop', \n",
    "             '_model_arch': resnet50,\n",
    "            '_train_path':train_clean_path}\n",
    "default_params.update(my_params)"
   ]
  },
  {
   "cell_type": "code",
   "execution_count": 3,
   "metadata": {},
   "outputs": [],
   "source": [
    "set_seed(42)"
   ]
  },
  {
   "cell_type": "code",
   "execution_count": 4,
   "metadata": {},
   "outputs": [],
   "source": [
    "train_dl, learn = run_exp(default_params, 'dummy', b_ret=True,\n",
    "                          b_testset_logger=True )"
   ]
  },
  {
   "cell_type": "code",
   "execution_count": 5,
   "metadata": {
    "scrolled": false
   },
   "outputs": [
    {
     "data": {
      "text/html": [
       "<table border=\"1\" class=\"dataframe\">\n",
       "  <thead>\n",
       "    <tr style=\"text-align: left;\">\n",
       "      <th>epoch</th>\n",
       "      <th>train_loss</th>\n",
       "      <th>valid_loss</th>\n",
       "      <th>accuracy</th>\n",
       "      <th>subcat_color_acc</th>\n",
       "      <th>subcat_piece_acc</th>\n",
       "      <th>time</th>\n",
       "    </tr>\n",
       "  </thead>\n",
       "  <tbody>\n",
       "    <tr>\n",
       "      <td>0</td>\n",
       "      <td>2.035525</td>\n",
       "      <td>0.166896</td>\n",
       "      <td>0.951219</td>\n",
       "      <td>0.996516</td>\n",
       "      <td>0.954704</td>\n",
       "      <td>00:12</td>\n",
       "    </tr>\n",
       "    <tr>\n",
       "    </tr>\n",
       "    <tr>\n",
       "      <td>1</td>\n",
       "      <td>0.927814</td>\n",
       "      <td>0.029467</td>\n",
       "      <td>0.993031</td>\n",
       "      <td>0.998258</td>\n",
       "      <td>0.993031</td>\n",
       "      <td>00:10</td>\n",
       "    </tr>\n",
       "    <tr>\n",
       "    </tr>\n",
       "    <tr>\n",
       "      <td>2</td>\n",
       "      <td>0.527179</td>\n",
       "      <td>0.017993</td>\n",
       "      <td>0.994774</td>\n",
       "      <td>1.000000</td>\n",
       "      <td>0.996516</td>\n",
       "      <td>00:10</td>\n",
       "    </tr>\n",
       "    <tr>\n",
       "    </tr>\n",
       "    <tr>\n",
       "      <td>3</td>\n",
       "      <td>0.377658</td>\n",
       "      <td>0.015557</td>\n",
       "      <td>0.993031</td>\n",
       "      <td>0.998258</td>\n",
       "      <td>0.996516</td>\n",
       "      <td>00:10</td>\n",
       "    </tr>\n",
       "    <tr>\n",
       "    </tr>\n",
       "    <tr>\n",
       "      <td>4</td>\n",
       "      <td>0.282305</td>\n",
       "      <td>0.003648</td>\n",
       "      <td>0.998258</td>\n",
       "      <td>0.998258</td>\n",
       "      <td>0.998258</td>\n",
       "      <td>00:10</td>\n",
       "    </tr>\n",
       "    <tr>\n",
       "    </tr>\n",
       "    <tr>\n",
       "      <td>5</td>\n",
       "      <td>0.238716</td>\n",
       "      <td>0.002747</td>\n",
       "      <td>0.998258</td>\n",
       "      <td>0.998258</td>\n",
       "      <td>0.998258</td>\n",
       "      <td>00:10</td>\n",
       "    </tr>\n",
       "    <tr>\n",
       "    </tr>\n",
       "    <tr>\n",
       "      <td>6</td>\n",
       "      <td>0.201685</td>\n",
       "      <td>0.004665</td>\n",
       "      <td>0.996516</td>\n",
       "      <td>0.998258</td>\n",
       "      <td>0.996516</td>\n",
       "      <td>00:10</td>\n",
       "    </tr>\n",
       "    <tr>\n",
       "    </tr>\n",
       "    <tr>\n",
       "      <td>7</td>\n",
       "      <td>0.150982</td>\n",
       "      <td>0.006428</td>\n",
       "      <td>0.996516</td>\n",
       "      <td>0.998258</td>\n",
       "      <td>0.996516</td>\n",
       "      <td>00:10</td>\n",
       "    </tr>\n",
       "    <tr>\n",
       "    </tr>\n",
       "    <tr>\n",
       "      <td>8</td>\n",
       "      <td>0.135638</td>\n",
       "      <td>0.006362</td>\n",
       "      <td>0.996516</td>\n",
       "      <td>0.998258</td>\n",
       "      <td>0.996516</td>\n",
       "      <td>00:10</td>\n",
       "    </tr>\n",
       "    <tr>\n",
       "    </tr>\n",
       "    <tr>\n",
       "      <td>9</td>\n",
       "      <td>0.140082</td>\n",
       "      <td>0.006139</td>\n",
       "      <td>0.996516</td>\n",
       "      <td>0.998258</td>\n",
       "      <td>0.996516</td>\n",
       "      <td>00:10</td>\n",
       "    </tr>\n",
       "    <tr>\n",
       "    </tr>\n",
       "  </tbody>\n",
       "</table>"
      ],
      "text/plain": [
       "<IPython.core.display.HTML object>"
      ]
     },
     "metadata": {},
     "output_type": "display_data"
    }
   ],
   "source": [
    "learn.fit_one_cycle(10)"
   ]
  },
  {
   "cell_type": "code",
   "execution_count": 6,
   "metadata": {},
   "outputs": [
    {
     "data": {
      "text/html": [
       "<div>\n",
       "<style scoped>\n",
       "    .dataframe tbody tr th:only-of-type {\n",
       "        vertical-align: middle;\n",
       "    }\n",
       "\n",
       "    .dataframe tbody tr th {\n",
       "        vertical-align: top;\n",
       "    }\n",
       "\n",
       "    .dataframe thead th {\n",
       "        text-align: right;\n",
       "    }\n",
       "</style>\n",
       "<table border=\"1\" class=\"dataframe\">\n",
       "  <thead>\n",
       "    <tr style=\"text-align: right;\">\n",
       "      <th></th>\n",
       "      <th>0</th>\n",
       "      <th>1</th>\n",
       "      <th>2</th>\n",
       "      <th>3</th>\n",
       "    </tr>\n",
       "  </thead>\n",
       "  <tbody>\n",
       "    <tr>\n",
       "      <th>0</th>\n",
       "      <td>1.514243</td>\n",
       "      <td>0.521930</td>\n",
       "      <td>0.921053</td>\n",
       "      <td>0.600877</td>\n",
       "    </tr>\n",
       "    <tr>\n",
       "      <th>1</th>\n",
       "      <td>1.481977</td>\n",
       "      <td>0.592105</td>\n",
       "      <td>0.912281</td>\n",
       "      <td>0.684211</td>\n",
       "    </tr>\n",
       "    <tr>\n",
       "      <th>2</th>\n",
       "      <td>1.233375</td>\n",
       "      <td>0.653509</td>\n",
       "      <td>0.934211</td>\n",
       "      <td>0.714912</td>\n",
       "    </tr>\n",
       "    <tr>\n",
       "      <th>3</th>\n",
       "      <td>1.227663</td>\n",
       "      <td>0.627193</td>\n",
       "      <td>0.938596</td>\n",
       "      <td>0.697368</td>\n",
       "    </tr>\n",
       "    <tr>\n",
       "      <th>4</th>\n",
       "      <td>0.993416</td>\n",
       "      <td>0.692982</td>\n",
       "      <td>0.951754</td>\n",
       "      <td>0.745614</td>\n",
       "    </tr>\n",
       "    <tr>\n",
       "      <th>5</th>\n",
       "      <td>0.997622</td>\n",
       "      <td>0.692982</td>\n",
       "      <td>0.964912</td>\n",
       "      <td>0.741228</td>\n",
       "    </tr>\n",
       "    <tr>\n",
       "      <th>6</th>\n",
       "      <td>0.822157</td>\n",
       "      <td>0.741228</td>\n",
       "      <td>0.947368</td>\n",
       "      <td>0.802632</td>\n",
       "    </tr>\n",
       "    <tr>\n",
       "      <th>7</th>\n",
       "      <td>0.800383</td>\n",
       "      <td>0.701754</td>\n",
       "      <td>0.960526</td>\n",
       "      <td>0.767544</td>\n",
       "    </tr>\n",
       "    <tr>\n",
       "      <th>8</th>\n",
       "      <td>0.786314</td>\n",
       "      <td>0.719298</td>\n",
       "      <td>0.938596</td>\n",
       "      <td>0.793860</td>\n",
       "    </tr>\n",
       "    <tr>\n",
       "      <th>9</th>\n",
       "      <td>0.759224</td>\n",
       "      <td>0.732456</td>\n",
       "      <td>0.964912</td>\n",
       "      <td>0.776316</td>\n",
       "    </tr>\n",
       "  </tbody>\n",
       "</table>\n",
       "</div>"
      ],
      "text/plain": [
       "          0         1         2         3\n",
       "0  1.514243  0.521930  0.921053  0.600877\n",
       "1  1.481977  0.592105  0.912281  0.684211\n",
       "2  1.233375  0.653509  0.934211  0.714912\n",
       "3  1.227663  0.627193  0.938596  0.697368\n",
       "4  0.993416  0.692982  0.951754  0.745614\n",
       "5  0.997622  0.692982  0.964912  0.741228\n",
       "6  0.822157  0.741228  0.947368  0.802632\n",
       "7  0.800383  0.701754  0.960526  0.767544\n",
       "8  0.786314  0.719298  0.938596  0.793860\n",
       "9  0.759224  0.732456  0.964912  0.776316"
      ]
     },
     "execution_count": 6,
     "metadata": {},
     "output_type": "execute_result"
    }
   ],
   "source": [
    "pd.DataFrame(learn.cbs[3].values)"
   ]
  },
  {
   "cell_type": "code",
   "execution_count": 8,
   "metadata": {},
   "outputs": [],
   "source": [
    "old_path = learn.path\n",
    "learn.path = Path('../models')\n",
    "learn.export('resnet50-fit10-0.pkl')\n",
    "learn.path = old_path"
   ]
  },
  {
   "cell_type": "markdown",
   "metadata": {},
   "source": [
    "### Reload Model"
   ]
  },
  {
   "cell_type": "code",
   "execution_count": 9,
   "metadata": {},
   "outputs": [],
   "source": [
    "from modules.learnutils import learner_add_testset_2"
   ]
  },
  {
   "cell_type": "code",
   "execution_count": 10,
   "metadata": {},
   "outputs": [],
   "source": [
    "learn = load_learner('../models/resnet50-fit10-0.pkl')"
   ]
  },
  {
   "cell_type": "code",
   "execution_count": 11,
   "metadata": {},
   "outputs": [],
   "source": [
    "learn.path = old_path"
   ]
  },
  {
   "cell_type": "code",
   "execution_count": 12,
   "metadata": {},
   "outputs": [
    {
     "data": {
      "text/plain": [
       "Path('../../../rf-chess-data/cropped_v1.1')"
      ]
     },
     "execution_count": 12,
     "metadata": {},
     "output_type": "execute_result"
    }
   ],
   "source": [
    "learn.path"
   ]
  },
  {
   "cell_type": "code",
   "execution_count": 13,
   "metadata": {},
   "outputs": [],
   "source": [
    "train_dl, _ = run_exp(default_params, 'dummy', b_ret=True,\n",
    "                          b_testset_logger=True )"
   ]
  },
  {
   "cell_type": "code",
   "execution_count": 14,
   "metadata": {},
   "outputs": [],
   "source": [
    "learn.dls = train_dl"
   ]
  },
  {
   "cell_type": "code",
   "execution_count": 15,
   "metadata": {},
   "outputs": [
    {
     "data": {
      "text/plain": [
       "Path('../../../rf-chess-data/cropped_v1.1/02291_black-king.jpg')"
      ]
     },
     "execution_count": 15,
     "metadata": {},
     "output_type": "execute_result"
    }
   ],
   "source": [
    "learn.dls[0].items[0]"
   ]
  },
  {
   "cell_type": "code",
   "execution_count": 16,
   "metadata": {},
   "outputs": [],
   "source": [
    "learner_add_testset_2(learn, test_path_all, b_cuda=True)"
   ]
  },
  {
   "cell_type": "markdown",
   "metadata": {},
   "source": [
    "### First Pass"
   ]
  },
  {
   "cell_type": "code",
   "execution_count": 17,
   "metadata": {},
   "outputs": [
    {
     "data": {
      "text/html": [],
      "text/plain": [
       "<IPython.core.display.HTML object>"
      ]
     },
     "metadata": {},
     "output_type": "display_data"
    },
    {
     "data": {
      "text/plain": [
       "SuggestedLRs(lr_min=5.248074739938602e-06, lr_steep=7.585775847473997e-07)"
      ]
     },
     "execution_count": 17,
     "metadata": {},
     "output_type": "execute_result"
    },
    {
     "data": {
      "image/png": "[encoded data removed]",
      "text/plain": [
       "<Figure size 432x288 with 1 Axes>"
      ]
     },
     "metadata": {
      "needs_background": "light"
     },
     "output_type": "display_data"
    }
   ],
   "source": [
    "set_seed(42)\n",
    "learn.lr_find()"
   ]
  },
  {
   "cell_type": "code",
   "execution_count": 18,
   "metadata": {},
   "outputs": [
    {
     "data": {
      "text/html": [],
      "text/plain": [
       "<IPython.core.display.HTML object>"
      ]
     },
     "metadata": {},
     "output_type": "display_data"
    },
    {
     "data": {
      "text/html": [],
      "text/plain": [
       "<IPython.core.display.HTML object>"
      ]
     },
     "metadata": {},
     "output_type": "display_data"
    }
   ],
   "source": [
    "set_seed(42)\n",
    "with learn.no_logging():\n",
    "    learn.fine_tune(10)"
   ]
  },
  {
   "cell_type": "code",
   "execution_count": 19,
   "metadata": {},
   "outputs": [
    {
     "data": {
      "text/html": [
       "<div>\n",
       "<style scoped>\n",
       "    .dataframe tbody tr th:only-of-type {\n",
       "        vertical-align: middle;\n",
       "    }\n",
       "\n",
       "    .dataframe tbody tr th {\n",
       "        vertical-align: top;\n",
       "    }\n",
       "\n",
       "    .dataframe thead th {\n",
       "        text-align: right;\n",
       "    }\n",
       "</style>\n",
       "<table border=\"1\" class=\"dataframe\">\n",
       "  <thead>\n",
       "    <tr style=\"text-align: right;\">\n",
       "      <th></th>\n",
       "      <th>0</th>\n",
       "      <th>1</th>\n",
       "      <th>2</th>\n",
       "      <th>3</th>\n",
       "    </tr>\n",
       "  </thead>\n",
       "  <tbody>\n",
       "    <tr>\n",
       "      <th>10</th>\n",
       "      <td>NaN</td>\n",
       "      <td>NaN</td>\n",
       "      <td>NaN</td>\n",
       "      <td>NaN</td>\n",
       "    </tr>\n",
       "    <tr>\n",
       "      <th>11</th>\n",
       "      <td>0.874475</td>\n",
       "      <td>0.745614</td>\n",
       "      <td>0.964912</td>\n",
       "      <td>0.807018</td>\n",
       "    </tr>\n",
       "    <tr>\n",
       "      <th>12</th>\n",
       "      <td>0.705188</td>\n",
       "      <td>0.785088</td>\n",
       "      <td>0.978070</td>\n",
       "      <td>0.815789</td>\n",
       "    </tr>\n",
       "    <tr>\n",
       "      <th>13</th>\n",
       "      <td>0.877337</td>\n",
       "      <td>0.745614</td>\n",
       "      <td>0.951754</td>\n",
       "      <td>0.815789</td>\n",
       "    </tr>\n",
       "    <tr>\n",
       "      <th>14</th>\n",
       "      <td>0.870674</td>\n",
       "      <td>0.771930</td>\n",
       "      <td>0.960526</td>\n",
       "      <td>0.815789</td>\n",
       "    </tr>\n",
       "    <tr>\n",
       "      <th>15</th>\n",
       "      <td>0.721224</td>\n",
       "      <td>0.771930</td>\n",
       "      <td>0.960526</td>\n",
       "      <td>0.828947</td>\n",
       "    </tr>\n",
       "    <tr>\n",
       "      <th>16</th>\n",
       "      <td>0.601009</td>\n",
       "      <td>0.824561</td>\n",
       "      <td>0.964912</td>\n",
       "      <td>0.859649</td>\n",
       "    </tr>\n",
       "    <tr>\n",
       "      <th>17</th>\n",
       "      <td>0.465289</td>\n",
       "      <td>0.846491</td>\n",
       "      <td>0.978070</td>\n",
       "      <td>0.877193</td>\n",
       "    </tr>\n",
       "    <tr>\n",
       "      <th>18</th>\n",
       "      <td>0.347981</td>\n",
       "      <td>0.881579</td>\n",
       "      <td>0.978070</td>\n",
       "      <td>0.903509</td>\n",
       "    </tr>\n",
       "    <tr>\n",
       "      <th>19</th>\n",
       "      <td>0.311348</td>\n",
       "      <td>0.907895</td>\n",
       "      <td>0.991228</td>\n",
       "      <td>0.921053</td>\n",
       "    </tr>\n",
       "    <tr>\n",
       "      <th>20</th>\n",
       "      <td>0.339821</td>\n",
       "      <td>0.890351</td>\n",
       "      <td>0.982456</td>\n",
       "      <td>0.912281</td>\n",
       "    </tr>\n",
       "    <tr>\n",
       "      <th>21</th>\n",
       "      <td>0.296278</td>\n",
       "      <td>0.881579</td>\n",
       "      <td>0.978070</td>\n",
       "      <td>0.912281</td>\n",
       "    </tr>\n",
       "  </tbody>\n",
       "</table>\n",
       "</div>"
      ],
      "text/plain": [
       "           0         1         2         3\n",
       "10       NaN       NaN       NaN       NaN\n",
       "11  0.874475  0.745614  0.964912  0.807018\n",
       "12  0.705188  0.785088  0.978070  0.815789\n",
       "13  0.877337  0.745614  0.951754  0.815789\n",
       "14  0.870674  0.771930  0.960526  0.815789\n",
       "15  0.721224  0.771930  0.960526  0.828947\n",
       "16  0.601009  0.824561  0.964912  0.859649\n",
       "17  0.465289  0.846491  0.978070  0.877193\n",
       "18  0.347981  0.881579  0.978070  0.903509\n",
       "19  0.311348  0.907895  0.991228  0.921053\n",
       "20  0.339821  0.890351  0.982456  0.912281\n",
       "21  0.296278  0.881579  0.978070  0.912281"
      ]
     },
     "execution_count": 19,
     "metadata": {},
     "output_type": "execute_result"
    }
   ],
   "source": [
    "pd.DataFrame(learn.cbs[3].values).iloc[-12:,:]"
   ]
  },
  {
   "cell_type": "code",
   "execution_count": 20,
   "metadata": {},
   "outputs": [],
   "source": [
    "easy_test_dl = learn.dls.test_dl(get_image_files(test_path_easy), \n",
    "                                 with_labels=True)"
   ]
  },
  {
   "cell_type": "code",
   "execution_count": 21,
   "metadata": {},
   "outputs": [
    {
     "data": {
      "text/html": [],
      "text/plain": [
       "<IPython.core.display.HTML object>"
      ]
     },
     "metadata": {},
     "output_type": "display_data"
    },
    {
     "data": {
      "text/html": [],
      "text/plain": [
       "<IPython.core.display.HTML object>"
      ]
     },
     "metadata": {},
     "output_type": "display_data"
    }
   ],
   "source": [
    "interp = ClassificationInterpretation.from_learner(learn, \n",
    "                                                  dl = easy_test_dl)"
   ]
  },
  {
   "cell_type": "code",
   "execution_count": 22,
   "metadata": {},
   "outputs": [
    {
     "name": "stdout",
     "output_type": "stream",
     "text": [
      "              precision    recall  f1-score   support\n",
      "\n",
      "black-bishop       0.92      0.61      0.73        18\n",
      "  black-king       0.78      0.95      0.86        19\n",
      "black-knight       0.86      0.95      0.90        19\n",
      "  black-pawn       0.95      1.00      0.97        19\n",
      " black-queen       1.00      0.85      0.92        20\n",
      "  black-rook       0.94      0.89      0.92        19\n",
      "white-bishop       0.84      0.84      0.84        19\n",
      "  white-king       1.00      0.79      0.88        19\n",
      "white-knight       0.82      0.95      0.88        19\n",
      "  white-pawn       0.86      1.00      0.93        19\n",
      " white-queen       0.93      0.74      0.82        19\n",
      "  white-rook       0.79      1.00      0.88        19\n",
      "\n",
      "    accuracy                           0.88       228\n",
      "   macro avg       0.89      0.88      0.88       228\n",
      "weighted avg       0.89      0.88      0.88       228\n",
      "\n"
     ]
    }
   ],
   "source": [
    "interp.print_classification_report()"
   ]
  },
  {
   "cell_type": "code",
   "execution_count": 23,
   "metadata": {},
   "outputs": [
    {
     "data": {
      "image/png": "[encoded data removed]",
      "text/plain": [
       "<Figure size 432x288 with 1 Axes>"
      ]
     },
     "metadata": {
      "needs_background": "light"
     },
     "output_type": "display_data"
    }
   ],
   "source": [
    "interp.plot_confusion_matrix()"
   ]
  },
  {
   "cell_type": "code",
   "execution_count": null,
   "metadata": {},
   "outputs": [],
   "source": []
  },
  {
   "cell_type": "markdown",
   "metadata": {},
   "source": [
    "### First Pass Part - 2"
   ]
  },
  {
   "cell_type": "code",
   "execution_count": 24,
   "metadata": {},
   "outputs": [
    {
     "data": {
      "text/html": [],
      "text/plain": [
       "<IPython.core.display.HTML object>"
      ]
     },
     "metadata": {},
     "output_type": "display_data"
    },
    {
     "data": {
      "text/html": [],
      "text/plain": [
       "<IPython.core.display.HTML object>"
      ]
     },
     "metadata": {},
     "output_type": "display_data"
    }
   ],
   "source": [
    "set_seed(42)\n",
    "with learn.no_logging():\n",
    "    learn.fine_tune(5, base_lr=1e-5)"
   ]
  },
  {
   "cell_type": "code",
   "execution_count": 25,
   "metadata": {},
   "outputs": [
    {
     "data": {
      "text/html": [
       "<div>\n",
       "<style scoped>\n",
       "    .dataframe tbody tr th:only-of-type {\n",
       "        vertical-align: middle;\n",
       "    }\n",
       "\n",
       "    .dataframe tbody tr th {\n",
       "        vertical-align: top;\n",
       "    }\n",
       "\n",
       "    .dataframe thead th {\n",
       "        text-align: right;\n",
       "    }\n",
       "</style>\n",
       "<table border=\"1\" class=\"dataframe\">\n",
       "  <thead>\n",
       "    <tr style=\"text-align: right;\">\n",
       "      <th></th>\n",
       "      <th>0</th>\n",
       "      <th>1</th>\n",
       "      <th>2</th>\n",
       "      <th>3</th>\n",
       "    </tr>\n",
       "  </thead>\n",
       "  <tbody>\n",
       "    <tr>\n",
       "      <th>22</th>\n",
       "      <td>0.296278</td>\n",
       "      <td>0.881579</td>\n",
       "      <td>0.978070</td>\n",
       "      <td>0.912281</td>\n",
       "    </tr>\n",
       "    <tr>\n",
       "      <th>23</th>\n",
       "      <td>0.275816</td>\n",
       "      <td>0.912281</td>\n",
       "      <td>0.986842</td>\n",
       "      <td>0.921053</td>\n",
       "    </tr>\n",
       "    <tr>\n",
       "      <th>24</th>\n",
       "      <td>0.283550</td>\n",
       "      <td>0.899123</td>\n",
       "      <td>0.991228</td>\n",
       "      <td>0.916667</td>\n",
       "    </tr>\n",
       "    <tr>\n",
       "      <th>25</th>\n",
       "      <td>0.291828</td>\n",
       "      <td>0.899123</td>\n",
       "      <td>0.986842</td>\n",
       "      <td>0.921053</td>\n",
       "    </tr>\n",
       "    <tr>\n",
       "      <th>26</th>\n",
       "      <td>0.313462</td>\n",
       "      <td>0.907895</td>\n",
       "      <td>0.986842</td>\n",
       "      <td>0.925439</td>\n",
       "    </tr>\n",
       "    <tr>\n",
       "      <th>27</th>\n",
       "      <td>0.289048</td>\n",
       "      <td>0.907895</td>\n",
       "      <td>0.982456</td>\n",
       "      <td>0.929825</td>\n",
       "    </tr>\n",
       "    <tr>\n",
       "      <th>28</th>\n",
       "      <td>0.303481</td>\n",
       "      <td>0.903509</td>\n",
       "      <td>0.986842</td>\n",
       "      <td>0.921053</td>\n",
       "    </tr>\n",
       "  </tbody>\n",
       "</table>\n",
       "</div>"
      ],
      "text/plain": [
       "           0         1         2         3\n",
       "22  0.296278  0.881579  0.978070  0.912281\n",
       "23  0.275816  0.912281  0.986842  0.921053\n",
       "24  0.283550  0.899123  0.991228  0.916667\n",
       "25  0.291828  0.899123  0.986842  0.921053\n",
       "26  0.313462  0.907895  0.986842  0.925439\n",
       "27  0.289048  0.907895  0.982456  0.929825\n",
       "28  0.303481  0.903509  0.986842  0.921053"
      ]
     },
     "execution_count": 25,
     "metadata": {},
     "output_type": "execute_result"
    }
   ],
   "source": [
    "pd.DataFrame(learn.cbs[3].values).iloc[-7:,:]"
   ]
  },
  {
   "cell_type": "code",
   "execution_count": 27,
   "metadata": {},
   "outputs": [],
   "source": [
    "easy_test_dl = learn.dls.test_dl(get_image_files(test_path_easy), \n",
    "                                 with_labels=True)"
   ]
  },
  {
   "cell_type": "code",
   "execution_count": 28,
   "metadata": {},
   "outputs": [
    {
     "data": {
      "text/html": [],
      "text/plain": [
       "<IPython.core.display.HTML object>"
      ]
     },
     "metadata": {},
     "output_type": "display_data"
    },
    {
     "data": {
      "text/html": [],
      "text/plain": [
       "<IPython.core.display.HTML object>"
      ]
     },
     "metadata": {},
     "output_type": "display_data"
    }
   ],
   "source": [
    "interp = ClassificationInterpretation.from_learner(learn, \n",
    "                                                  dl = easy_test_dl)"
   ]
  },
  {
   "cell_type": "code",
   "execution_count": 29,
   "metadata": {},
   "outputs": [
    {
     "name": "stdout",
     "output_type": "stream",
     "text": [
      "              precision    recall  f1-score   support\n",
      "\n",
      "black-bishop       0.93      0.78      0.85        18\n",
      "  black-king       0.82      0.95      0.88        19\n",
      "black-knight       0.86      0.95      0.90        19\n",
      "  black-pawn       0.95      1.00      0.97        19\n",
      " black-queen       1.00      0.85      0.92        20\n",
      "  black-rook       0.94      0.89      0.92        19\n",
      "white-bishop       0.94      0.89      0.92        19\n",
      "  white-king       0.94      0.89      0.92        19\n",
      "white-knight       0.82      0.95      0.88        19\n",
      "  white-pawn       0.90      1.00      0.95        19\n",
      " white-queen       1.00      0.68      0.81        19\n",
      "  white-rook       0.83      1.00      0.90        19\n",
      "\n",
      "    accuracy                           0.90       228\n",
      "   macro avg       0.91      0.90      0.90       228\n",
      "weighted avg       0.91      0.90      0.90       228\n",
      "\n"
     ]
    }
   ],
   "source": [
    "interp.print_classification_report()"
   ]
  },
  {
   "cell_type": "code",
   "execution_count": 30,
   "metadata": {},
   "outputs": [
    {
     "data": {
      "image/png": "[encoded data removed]",
      "text/plain": [
       "<Figure size 432x288 with 1 Axes>"
      ]
     },
     "metadata": {
      "needs_background": "light"
     },
     "output_type": "display_data"
    }
   ],
   "source": [
    "interp.plot_confusion_matrix()"
   ]
  },
  {
   "cell_type": "markdown",
   "metadata": {},
   "source": [
    "### First Pass Part - 3"
   ]
  },
  {
   "cell_type": "code",
   "execution_count": 31,
   "metadata": {},
   "outputs": [
    {
     "data": {
      "text/html": [],
      "text/plain": [
       "<IPython.core.display.HTML object>"
      ]
     },
     "metadata": {},
     "output_type": "display_data"
    },
    {
     "data": {
      "text/html": [],
      "text/plain": [
       "<IPython.core.display.HTML object>"
      ]
     },
     "metadata": {},
     "output_type": "display_data"
    },
    {
     "data": {
      "text/html": [
       "<div>\n",
       "<style scoped>\n",
       "    .dataframe tbody tr th:only-of-type {\n",
       "        vertical-align: middle;\n",
       "    }\n",
       "\n",
       "    .dataframe tbody tr th {\n",
       "        vertical-align: top;\n",
       "    }\n",
       "\n",
       "    .dataframe thead th {\n",
       "        text-align: right;\n",
       "    }\n",
       "</style>\n",
       "<table border=\"1\" class=\"dataframe\">\n",
       "  <thead>\n",
       "    <tr style=\"text-align: right;\">\n",
       "      <th></th>\n",
       "      <th>0</th>\n",
       "      <th>1</th>\n",
       "      <th>2</th>\n",
       "      <th>3</th>\n",
       "    </tr>\n",
       "  </thead>\n",
       "  <tbody>\n",
       "    <tr>\n",
       "      <th>29</th>\n",
       "      <td>0.303481</td>\n",
       "      <td>0.903509</td>\n",
       "      <td>0.986842</td>\n",
       "      <td>0.921053</td>\n",
       "    </tr>\n",
       "    <tr>\n",
       "      <th>30</th>\n",
       "      <td>0.274635</td>\n",
       "      <td>0.916667</td>\n",
       "      <td>0.986842</td>\n",
       "      <td>0.934211</td>\n",
       "    </tr>\n",
       "    <tr>\n",
       "      <th>31</th>\n",
       "      <td>0.298114</td>\n",
       "      <td>0.921053</td>\n",
       "      <td>0.991228</td>\n",
       "      <td>0.925439</td>\n",
       "    </tr>\n",
       "    <tr>\n",
       "      <th>32</th>\n",
       "      <td>0.324032</td>\n",
       "      <td>0.894737</td>\n",
       "      <td>0.991228</td>\n",
       "      <td>0.907895</td>\n",
       "    </tr>\n",
       "    <tr>\n",
       "      <th>33</th>\n",
       "      <td>0.281617</td>\n",
       "      <td>0.912281</td>\n",
       "      <td>0.991228</td>\n",
       "      <td>0.925439</td>\n",
       "    </tr>\n",
       "    <tr>\n",
       "      <th>34</th>\n",
       "      <td>0.305224</td>\n",
       "      <td>0.899123</td>\n",
       "      <td>0.986842</td>\n",
       "      <td>0.921053</td>\n",
       "    </tr>\n",
       "    <tr>\n",
       "      <th>35</th>\n",
       "      <td>0.302623</td>\n",
       "      <td>0.903509</td>\n",
       "      <td>0.986842</td>\n",
       "      <td>0.925439</td>\n",
       "    </tr>\n",
       "  </tbody>\n",
       "</table>\n",
       "</div>"
      ],
      "text/plain": [
       "           0         1         2         3\n",
       "29  0.303481  0.903509  0.986842  0.921053\n",
       "30  0.274635  0.916667  0.986842  0.934211\n",
       "31  0.298114  0.921053  0.991228  0.925439\n",
       "32  0.324032  0.894737  0.991228  0.907895\n",
       "33  0.281617  0.912281  0.991228  0.925439\n",
       "34  0.305224  0.899123  0.986842  0.921053\n",
       "35  0.302623  0.903509  0.986842  0.925439"
      ]
     },
     "execution_count": 31,
     "metadata": {},
     "output_type": "execute_result"
    }
   ],
   "source": [
    "set_seed(42)\n",
    "with learn.no_logging():\n",
    "    learn.fine_tune(5, base_lr=1e-5)\n",
    "\n",
    "pd.DataFrame(learn.cbs[3].values).iloc[-7:,:]"
   ]
  },
  {
   "cell_type": "code",
   "execution_count": null,
   "metadata": {},
   "outputs": [],
   "source": []
  },
  {
   "cell_type": "markdown",
   "metadata": {},
   "source": [
    "### Look at Validation"
   ]
  },
  {
   "cell_type": "code",
   "execution_count": 34,
   "metadata": {},
   "outputs": [
    {
     "data": {
      "text/plain": [
       "TestSetRecorder"
      ]
     },
     "execution_count": 34,
     "metadata": {},
     "output_type": "execute_result"
    }
   ],
   "source": [
    "learn.cbs.pop(3)"
   ]
  },
  {
   "cell_type": "code",
   "execution_count": 35,
   "metadata": {},
   "outputs": [
    {
     "data": {
      "text/html": [],
      "text/plain": [
       "<IPython.core.display.HTML object>"
      ]
     },
     "metadata": {},
     "output_type": "display_data"
    }
   ],
   "source": [
    "interp = ClassificationInterpretation.from_learner(learn, ds_idx=1)"
   ]
  },
  {
   "cell_type": "code",
   "execution_count": 36,
   "metadata": {},
   "outputs": [
    {
     "name": "stdout",
     "output_type": "stream",
     "text": [
      "              precision    recall  f1-score   support\n",
      "\n",
      "black-bishop       1.00      1.00      1.00        21\n",
      "  black-king       1.00      1.00      1.00        32\n",
      "black-knight       1.00      1.00      1.00        43\n",
      "  black-pawn       1.00      1.00      1.00       136\n",
      " black-queen       1.00      1.00      1.00        20\n",
      "  black-rook       1.00      1.00      1.00        35\n",
      "white-bishop       1.00      1.00      1.00        31\n",
      "  white-king       1.00      1.00      1.00        24\n",
      "white-knight       1.00      1.00      1.00        42\n",
      "  white-pawn       1.00      1.00      1.00       131\n",
      " white-queen       1.00      1.00      1.00        22\n",
      "  white-rook       1.00      1.00      1.00        37\n",
      "\n",
      "    accuracy                           1.00       574\n",
      "   macro avg       1.00      1.00      1.00       574\n",
      "weighted avg       1.00      1.00      1.00       574\n",
      "\n"
     ]
    }
   ],
   "source": [
    "interp.print_classification_report()"
   ]
  },
  {
   "cell_type": "code",
   "execution_count": 37,
   "metadata": {},
   "outputs": [
    {
     "data": {
      "image/png": "[encoded data removed]",
      "text/plain": [
       "<Figure size 432x288 with 1 Axes>"
      ]
     },
     "metadata": {
      "needs_background": "light"
     },
     "output_type": "display_data"
    }
   ],
   "source": [
    "interp.plot_confusion_matrix()"
   ]
  },
  {
   "cell_type": "code",
   "execution_count": 38,
   "metadata": {},
   "outputs": [
    {
     "data": {
      "text/html": [],
      "text/plain": [
       "<IPython.core.display.HTML object>"
      ]
     },
     "metadata": {},
     "output_type": "display_data"
    }
   ],
   "source": [
    "interp = ClassificationInterpretation.from_learner(learn, ds_idx=0)"
   ]
  },
  {
   "cell_type": "code",
   "execution_count": 39,
   "metadata": {},
   "outputs": [
    {
     "name": "stdout",
     "output_type": "stream",
     "text": [
      "              precision    recall  f1-score   support\n",
      "\n",
      "black-bishop       0.98      0.99      0.99       117\n",
      "  black-king       0.98      1.00      0.99       116\n",
      "black-knight       0.99      0.97      0.98       158\n",
      "  black-pawn       1.00      1.00      1.00       523\n",
      " black-queen       1.00      0.96      0.98        67\n",
      "  black-rook       0.99      1.00      0.99       166\n",
      "white-bishop       0.99      1.00      1.00       141\n",
      "  white-king       1.00      0.96      0.98       126\n",
      "white-knight       0.99      0.99      0.99       142\n",
      "  white-pawn       0.99      1.00      0.99       508\n",
      " white-queen       0.97      0.98      0.97        88\n",
      "  white-rook       0.99      0.99      0.99       144\n",
      "\n",
      "    accuracy                           0.99      2296\n",
      "   macro avg       0.99      0.99      0.99      2296\n",
      "weighted avg       0.99      0.99      0.99      2296\n",
      "\n"
     ]
    }
   ],
   "source": [
    "interp.print_classification_report()"
   ]
  },
  {
   "cell_type": "code",
   "execution_count": 40,
   "metadata": {},
   "outputs": [
    {
     "data": {
      "image/png": "[encoded data removed]",
      "text/plain": [
       "<Figure size 432x288 with 1 Axes>"
      ]
     },
     "metadata": {
      "needs_background": "light"
     },
     "output_type": "display_data"
    }
   ],
   "source": [
    "interp.plot_confusion_matrix()"
   ]
  },
  {
   "cell_type": "markdown",
   "metadata": {},
   "source": [
    "### Look at Normalize"
   ]
  },
  {
   "cell_type": "code",
   "execution_count": 73,
   "metadata": {},
   "outputs": [],
   "source": [
    "norm0 = learn.dls[0].after_batch[3]\n",
    "norm1 = learn.dls[1].after_batch[3]\n",
    "norm2 = learn.dls[2].after_batch[3]"
   ]
  },
  {
   "cell_type": "code",
   "execution_count": 77,
   "metadata": {},
   "outputs": [
    {
     "data": {
      "text/plain": [
       "tensor([[[[0.4850]],\n",
       "\n",
       "         [[0.4560]],\n",
       "\n",
       "         [[0.4060]]]], device='cuda:0')"
      ]
     },
     "execution_count": 77,
     "metadata": {},
     "output_type": "execute_result"
    }
   ],
   "source": [
    "norm0.mean"
   ]
  },
  {
   "cell_type": "code",
   "execution_count": 78,
   "metadata": {},
   "outputs": [
    {
     "data": {
      "text/plain": [
       "tensor([[[[0.4850]],\n",
       "\n",
       "         [[0.4560]],\n",
       "\n",
       "         [[0.4060]]]], device='cuda:0')"
      ]
     },
     "execution_count": 78,
     "metadata": {},
     "output_type": "execute_result"
    }
   ],
   "source": [
    "norm1.mean"
   ]
  },
  {
   "cell_type": "code",
   "execution_count": 84,
   "metadata": {},
   "outputs": [],
   "source": [
    "s = train_dl.train.sample()"
   ]
  },
  {
   "cell_type": "code",
   "execution_count": 89,
   "metadata": {},
   "outputs": [],
   "source": [
    "tmp = train_dl.train_ds"
   ]
  },
  {
   "cell_type": "code",
   "execution_count": 98,
   "metadata": {},
   "outputs": [],
   "source": [
    "x = L([[1,2,3],[4,5,6]])"
   ]
  },
  {
   "cell_type": "code",
   "execution_count": 99,
   "metadata": {},
   "outputs": [
    {
     "data": {
      "text/plain": [
       "(#2) [3,6]"
      ]
     },
     "execution_count": 99,
     "metadata": {},
     "output_type": "execute_result"
    }
   ],
   "source": [
    "x.itemgot(2)"
   ]
  },
  {
   "cell_type": "code",
   "execution_count": null,
   "metadata": {},
   "outputs": [],
   "source": []
  },
  {
   "cell_type": "code",
   "execution_count": 154,
   "metadata": {},
   "outputs": [],
   "source": [
    "tmp = []\n",
    "for i in range(200):\n",
    "    x,y = train_dl.train.one_batch()\n",
    "    m0 = x.mean(0).mean(1).mean(1).cpu().numpy().tolist()\n",
    "    tmp.append(m0)"
   ]
  },
  {
   "cell_type": "code",
   "execution_count": 153,
   "metadata": {},
   "outputs": [
    {
     "data": {
      "text/plain": [
       "tensor([-0.0849,  0.1119,  0.0337])"
      ]
     },
     "execution_count": 153,
     "metadata": {},
     "output_type": "execute_result"
    }
   ],
   "source": [
    "tensor(tmp).mean(0)"
   ]
  },
  {
   "cell_type": "code",
   "execution_count": 155,
   "metadata": {},
   "outputs": [
    {
     "data": {
      "text/plain": [
       "tensor([-0.0469,  0.1522,  0.0727])"
      ]
     },
     "execution_count": 155,
     "metadata": {},
     "output_type": "execute_result"
    }
   ],
   "source": [
    "tensor(tmp).mean(0)"
   ]
  },
  {
   "cell_type": "code",
   "execution_count": 143,
   "metadata": {},
   "outputs": [],
   "source": [
    "tmp = []\n",
    "for i in range(100):\n",
    "    x,y = train_dl.valid.one_batch()\n",
    "    m0 = x.mean(0).mean(1).mean(1).cpu().numpy().tolist()\n",
    "    tmp.append(m0)"
   ]
  },
  {
   "cell_type": "code",
   "execution_count": 142,
   "metadata": {},
   "outputs": [
    {
     "data": {
      "text/plain": [
       "tensor([-0.0105,  0.2085,  0.0193])"
      ]
     },
     "execution_count": 142,
     "metadata": {},
     "output_type": "execute_result"
    }
   ],
   "source": [
    "tensor(tmp).mean(0)"
   ]
  },
  {
   "cell_type": "code",
   "execution_count": 144,
   "metadata": {},
   "outputs": [
    {
     "data": {
      "text/plain": [
       "tensor([-0.0105,  0.2085,  0.0193])"
      ]
     },
     "execution_count": 144,
     "metadata": {},
     "output_type": "execute_result"
    }
   ],
   "source": [
    "tensor(tmp).mean(0)"
   ]
  },
  {
   "cell_type": "code",
   "execution_count": 150,
   "metadata": {},
   "outputs": [],
   "source": [
    "tmp = []\n",
    "for i in range(100):\n",
    "    x,y = easy_test_dl.one_batch()\n",
    "    m0 = x.mean(0).mean(1).mean(1).cpu().numpy().tolist()\n",
    "    tmp.append(m0)"
   ]
  },
  {
   "cell_type": "code",
   "execution_count": 149,
   "metadata": {},
   "outputs": [
    {
     "data": {
      "text/plain": [
       "tensor([0.1609, 0.2663, 0.2650])"
      ]
     },
     "execution_count": 149,
     "metadata": {},
     "output_type": "execute_result"
    }
   ],
   "source": [
    "tensor(tmp).mean(0)"
   ]
  },
  {
   "cell_type": "code",
   "execution_count": 151,
   "metadata": {},
   "outputs": [
    {
     "data": {
      "text/plain": [
       "tensor([0.1609, 0.2663, 0.2650])"
      ]
     },
     "execution_count": 151,
     "metadata": {},
     "output_type": "execute_result"
    }
   ],
   "source": [
    "tensor(tmp).mean(0)"
   ]
  },
  {
   "cell_type": "code",
   "execution_count": null,
   "metadata": {},
   "outputs": [],
   "source": []
  },
  {
   "cell_type": "code",
   "execution_count": null,
   "metadata": {},
   "outputs": [],
   "source": []
  },
  {
   "cell_type": "code",
   "execution_count": null,
   "metadata": {},
   "outputs": [],
   "source": []
  },
  {
   "cell_type": "code",
   "execution_count": 108,
   "metadata": {},
   "outputs": [
    {
     "ename": "TypeError",
     "evalue": "mean() received an invalid combination of arguments - got (torch.Size, int, keepdim=bool), but expected one of:\n * (Tensor input, torch.dtype dtype)\n * (Tensor input, tuple of names dim, bool keepdim, torch.dtype dtype, Tensor out)\n * (Tensor input, tuple of ints dim, bool keepdim, torch.dtype dtype, Tensor out)\n",
     "output_type": "error",
     "traceback": [
      "\u001b[0;31m---------------------------------------------------------------------------\u001b[0m",
      "\u001b[0;31mTypeError\u001b[0m                                 Traceback (most recent call last)",
      "\u001b[0;32m<ipython-input-108-ef52e6d93aea>\u001b[0m in \u001b[0;36m<module>\u001b[0;34m\u001b[0m\n\u001b[0;32m----> 1\u001b[0;31m \u001b[0mtorch\u001b[0m\u001b[0;34m.\u001b[0m\u001b[0mmean\u001b[0m\u001b[0;34m(\u001b[0m\u001b[0mx\u001b[0m\u001b[0;34m.\u001b[0m\u001b[0mshape\u001b[0m\u001b[0;34m,\u001b[0m \u001b[0;36m1\u001b[0m\u001b[0;34m,\u001b[0m \u001b[0mkeepdim\u001b[0m\u001b[0;34m=\u001b[0m\u001b[0;32mTrue\u001b[0m\u001b[0;34m)\u001b[0m\u001b[0;34m\u001b[0m\u001b[0;34m\u001b[0m\u001b[0m\n\u001b[0m",
      "\u001b[0;31mTypeError\u001b[0m: mean() received an invalid combination of arguments - got (torch.Size, int, keepdim=bool), but expected one of:\n * (Tensor input, torch.dtype dtype)\n * (Tensor input, tuple of names dim, bool keepdim, torch.dtype dtype, Tensor out)\n * (Tensor input, tuple of ints dim, bool keepdim, torch.dtype dtype, Tensor out)\n"
     ]
    }
   ],
   "source": [
    "torch.mean(x.shape, 1, keepdim=True)"
   ]
  },
  {
   "cell_type": "code",
   "execution_count": 91,
   "metadata": {},
   "outputs": [
    {
     "ename": "TypeError",
     "evalue": "int() argument must be a string, a bytes-like object or a number, not 'slice'",
     "output_type": "error",
     "traceback": [
      "\u001b[0;31m---------------------------------------------------------------------------\u001b[0m",
      "\u001b[0;31mTypeError\u001b[0m                                 Traceback (most recent call last)",
      "\u001b[0;32m<ipython-input-91-ba3a640dc81c>\u001b[0m in \u001b[0;36m<module>\u001b[0;34m\u001b[0m\n\u001b[0;32m----> 1\u001b[0;31m \u001b[0mtmp\u001b[0m\u001b[0;34m[\u001b[0m\u001b[0;34m:\u001b[0m\u001b[0;34m,\u001b[0m\u001b[0;36m0\u001b[0m\u001b[0;34m]\u001b[0m\u001b[0;34m\u001b[0m\u001b[0;34m\u001b[0m\u001b[0m\n\u001b[0m",
      "\u001b[0;32m~/fastai2-dev/fastai2/fastai2/data/core.py\u001b[0m in \u001b[0;36m__getitem__\u001b[0;34m(self, it)\u001b[0m\n\u001b[1;32m    282\u001b[0m \u001b[0;34m\u001b[0m\u001b[0m\n\u001b[1;32m    283\u001b[0m     \u001b[0;32mdef\u001b[0m \u001b[0m__getitem__\u001b[0m\u001b[0;34m(\u001b[0m\u001b[0mself\u001b[0m\u001b[0;34m,\u001b[0m \u001b[0mit\u001b[0m\u001b[0;34m)\u001b[0m\u001b[0;34m:\u001b[0m\u001b[0;34m\u001b[0m\u001b[0;34m\u001b[0m\u001b[0m\n\u001b[0;32m--> 284\u001b[0;31m         \u001b[0mres\u001b[0m \u001b[0;34m=\u001b[0m \u001b[0mtuple\u001b[0m\u001b[0;34m(\u001b[0m\u001b[0;34m[\u001b[0m\u001b[0mtl\u001b[0m\u001b[0;34m[\u001b[0m\u001b[0mit\u001b[0m\u001b[0;34m]\u001b[0m \u001b[0;32mfor\u001b[0m \u001b[0mtl\u001b[0m \u001b[0;32min\u001b[0m \u001b[0mself\u001b[0m\u001b[0;34m.\u001b[0m\u001b[0mtls\u001b[0m\u001b[0;34m]\u001b[0m\u001b[0;34m)\u001b[0m\u001b[0;34m\u001b[0m\u001b[0;34m\u001b[0m\u001b[0m\n\u001b[0m\u001b[1;32m    285\u001b[0m         \u001b[0;32mreturn\u001b[0m \u001b[0mres\u001b[0m \u001b[0;32mif\u001b[0m \u001b[0mis_indexer\u001b[0m\u001b[0;34m(\u001b[0m\u001b[0mit\u001b[0m\u001b[0;34m)\u001b[0m \u001b[0;32melse\u001b[0m \u001b[0mlist\u001b[0m\u001b[0;34m(\u001b[0m\u001b[0mzip\u001b[0m\u001b[0;34m(\u001b[0m\u001b[0;34m*\u001b[0m\u001b[0mres\u001b[0m\u001b[0;34m)\u001b[0m\u001b[0;34m)\u001b[0m\u001b[0;34m\u001b[0m\u001b[0;34m\u001b[0m\u001b[0m\n\u001b[1;32m    286\u001b[0m \u001b[0;34m\u001b[0m\u001b[0m\n",
      "\u001b[0;32m~/fastai2-dev/fastai2/fastai2/data/core.py\u001b[0m in \u001b[0;36m<listcomp>\u001b[0;34m(.0)\u001b[0m\n\u001b[1;32m    282\u001b[0m \u001b[0;34m\u001b[0m\u001b[0m\n\u001b[1;32m    283\u001b[0m     \u001b[0;32mdef\u001b[0m \u001b[0m__getitem__\u001b[0m\u001b[0;34m(\u001b[0m\u001b[0mself\u001b[0m\u001b[0;34m,\u001b[0m \u001b[0mit\u001b[0m\u001b[0;34m)\u001b[0m\u001b[0;34m:\u001b[0m\u001b[0;34m\u001b[0m\u001b[0;34m\u001b[0m\u001b[0m\n\u001b[0;32m--> 284\u001b[0;31m         \u001b[0mres\u001b[0m \u001b[0;34m=\u001b[0m \u001b[0mtuple\u001b[0m\u001b[0;34m(\u001b[0m\u001b[0;34m[\u001b[0m\u001b[0mtl\u001b[0m\u001b[0;34m[\u001b[0m\u001b[0mit\u001b[0m\u001b[0;34m]\u001b[0m \u001b[0;32mfor\u001b[0m \u001b[0mtl\u001b[0m \u001b[0;32min\u001b[0m \u001b[0mself\u001b[0m\u001b[0;34m.\u001b[0m\u001b[0mtls\u001b[0m\u001b[0;34m]\u001b[0m\u001b[0;34m)\u001b[0m\u001b[0;34m\u001b[0m\u001b[0;34m\u001b[0m\u001b[0m\n\u001b[0m\u001b[1;32m    285\u001b[0m         \u001b[0;32mreturn\u001b[0m \u001b[0mres\u001b[0m \u001b[0;32mif\u001b[0m \u001b[0mis_indexer\u001b[0m\u001b[0;34m(\u001b[0m\u001b[0mit\u001b[0m\u001b[0;34m)\u001b[0m \u001b[0;32melse\u001b[0m \u001b[0mlist\u001b[0m\u001b[0;34m(\u001b[0m\u001b[0mzip\u001b[0m\u001b[0;34m(\u001b[0m\u001b[0;34m*\u001b[0m\u001b[0mres\u001b[0m\u001b[0;34m)\u001b[0m\u001b[0;34m)\u001b[0m\u001b[0;34m\u001b[0m\u001b[0;34m\u001b[0m\u001b[0m\n\u001b[1;32m    286\u001b[0m \u001b[0;34m\u001b[0m\u001b[0m\n",
      "\u001b[0;32m~/fastai2-dev/fastai2/fastai2/data/core.py\u001b[0m in \u001b[0;36m__getitem__\u001b[0;34m(self, idx)\u001b[0m\n\u001b[1;32m    257\u001b[0m \u001b[0;34m\u001b[0m\u001b[0m\n\u001b[1;32m    258\u001b[0m     \u001b[0;32mdef\u001b[0m \u001b[0m__getitem__\u001b[0m\u001b[0;34m(\u001b[0m\u001b[0mself\u001b[0m\u001b[0;34m,\u001b[0m \u001b[0midx\u001b[0m\u001b[0;34m)\u001b[0m\u001b[0;34m:\u001b[0m\u001b[0;34m\u001b[0m\u001b[0;34m\u001b[0m\u001b[0m\n\u001b[0;32m--> 259\u001b[0;31m         \u001b[0mres\u001b[0m \u001b[0;34m=\u001b[0m \u001b[0msuper\u001b[0m\u001b[0;34m(\u001b[0m\u001b[0;34m)\u001b[0m\u001b[0;34m.\u001b[0m\u001b[0m__getitem__\u001b[0m\u001b[0;34m(\u001b[0m\u001b[0midx\u001b[0m\u001b[0;34m)\u001b[0m\u001b[0;34m\u001b[0m\u001b[0;34m\u001b[0m\u001b[0m\n\u001b[0m\u001b[1;32m    260\u001b[0m         \u001b[0;32mif\u001b[0m \u001b[0mself\u001b[0m\u001b[0;34m.\u001b[0m\u001b[0m_after_item\u001b[0m \u001b[0;32mis\u001b[0m \u001b[0;32mNone\u001b[0m\u001b[0;34m:\u001b[0m \u001b[0;32mreturn\u001b[0m \u001b[0mres\u001b[0m\u001b[0;34m\u001b[0m\u001b[0;34m\u001b[0m\u001b[0m\n\u001b[1;32m    261\u001b[0m         \u001b[0;32mreturn\u001b[0m \u001b[0mself\u001b[0m\u001b[0;34m.\u001b[0m\u001b[0m_after_item\u001b[0m\u001b[0;34m(\u001b[0m\u001b[0mres\u001b[0m\u001b[0;34m)\u001b[0m \u001b[0;32mif\u001b[0m \u001b[0mis_indexer\u001b[0m\u001b[0;34m(\u001b[0m\u001b[0midx\u001b[0m\u001b[0;34m)\u001b[0m \u001b[0;32melse\u001b[0m \u001b[0mres\u001b[0m\u001b[0;34m.\u001b[0m\u001b[0mmap\u001b[0m\u001b[0;34m(\u001b[0m\u001b[0mself\u001b[0m\u001b[0;34m.\u001b[0m\u001b[0m_after_item\u001b[0m\u001b[0;34m)\u001b[0m\u001b[0;34m\u001b[0m\u001b[0;34m\u001b[0m\u001b[0m\n",
      "\u001b[0;32m~/fastai2-dev/fastcore/fastcore/foundation.py\u001b[0m in \u001b[0;36m__getitem__\u001b[0;34m(self, idx)\u001b[0m\n\u001b[1;32m    321\u001b[0m     \u001b[0;32mdef\u001b[0m \u001b[0m_xtra\u001b[0m\u001b[0;34m(\u001b[0m\u001b[0mself\u001b[0m\u001b[0;34m)\u001b[0m\u001b[0;34m:\u001b[0m \u001b[0;32mreturn\u001b[0m \u001b[0;32mNone\u001b[0m\u001b[0;34m\u001b[0m\u001b[0;34m\u001b[0m\u001b[0m\n\u001b[1;32m    322\u001b[0m     \u001b[0;32mdef\u001b[0m \u001b[0m_new\u001b[0m\u001b[0;34m(\u001b[0m\u001b[0mself\u001b[0m\u001b[0;34m,\u001b[0m \u001b[0mitems\u001b[0m\u001b[0;34m,\u001b[0m \u001b[0;34m*\u001b[0m\u001b[0margs\u001b[0m\u001b[0;34m,\u001b[0m \u001b[0;34m**\u001b[0m\u001b[0mkwargs\u001b[0m\u001b[0;34m)\u001b[0m\u001b[0;34m:\u001b[0m \u001b[0;32mreturn\u001b[0m \u001b[0mtype\u001b[0m\u001b[0;34m(\u001b[0m\u001b[0mself\u001b[0m\u001b[0;34m)\u001b[0m\u001b[0;34m(\u001b[0m\u001b[0mitems\u001b[0m\u001b[0;34m,\u001b[0m \u001b[0;34m*\u001b[0m\u001b[0margs\u001b[0m\u001b[0;34m,\u001b[0m \u001b[0muse_list\u001b[0m\u001b[0;34m=\u001b[0m\u001b[0;32mNone\u001b[0m\u001b[0;34m,\u001b[0m \u001b[0;34m**\u001b[0m\u001b[0mkwargs\u001b[0m\u001b[0;34m)\u001b[0m\u001b[0;34m\u001b[0m\u001b[0;34m\u001b[0m\u001b[0m\n\u001b[0;32m--> 323\u001b[0;31m     \u001b[0;32mdef\u001b[0m \u001b[0m__getitem__\u001b[0m\u001b[0;34m(\u001b[0m\u001b[0mself\u001b[0m\u001b[0;34m,\u001b[0m \u001b[0midx\u001b[0m\u001b[0;34m)\u001b[0m\u001b[0;34m:\u001b[0m \u001b[0;32mreturn\u001b[0m \u001b[0mself\u001b[0m\u001b[0;34m.\u001b[0m\u001b[0m_get\u001b[0m\u001b[0;34m(\u001b[0m\u001b[0midx\u001b[0m\u001b[0;34m)\u001b[0m \u001b[0;32mif\u001b[0m \u001b[0mis_indexer\u001b[0m\u001b[0;34m(\u001b[0m\u001b[0midx\u001b[0m\u001b[0;34m)\u001b[0m \u001b[0;32melse\u001b[0m \u001b[0mL\u001b[0m\u001b[0;34m(\u001b[0m\u001b[0mself\u001b[0m\u001b[0;34m.\u001b[0m\u001b[0m_get\u001b[0m\u001b[0;34m(\u001b[0m\u001b[0midx\u001b[0m\u001b[0;34m)\u001b[0m\u001b[0;34m,\u001b[0m \u001b[0muse_list\u001b[0m\u001b[0;34m=\u001b[0m\u001b[0;32mNone\u001b[0m\u001b[0;34m)\u001b[0m\u001b[0;34m\u001b[0m\u001b[0;34m\u001b[0m\u001b[0m\n\u001b[0m\u001b[1;32m    324\u001b[0m     \u001b[0;32mdef\u001b[0m \u001b[0mcopy\u001b[0m\u001b[0;34m(\u001b[0m\u001b[0mself\u001b[0m\u001b[0;34m)\u001b[0m\u001b[0;34m:\u001b[0m \u001b[0;32mreturn\u001b[0m \u001b[0mself\u001b[0m\u001b[0;34m.\u001b[0m\u001b[0m_new\u001b[0m\u001b[0;34m(\u001b[0m\u001b[0mself\u001b[0m\u001b[0;34m.\u001b[0m\u001b[0mitems\u001b[0m\u001b[0;34m.\u001b[0m\u001b[0mcopy\u001b[0m\u001b[0;34m(\u001b[0m\u001b[0;34m)\u001b[0m\u001b[0;34m)\u001b[0m\u001b[0;34m\u001b[0m\u001b[0;34m\u001b[0m\u001b[0m\n\u001b[1;32m    325\u001b[0m \u001b[0;34m\u001b[0m\u001b[0m\n",
      "\u001b[0;32m~/fastai2-dev/fastcore/fastcore/foundation.py\u001b[0m in \u001b[0;36m_get\u001b[0;34m(self, i)\u001b[0m\n\u001b[1;32m    326\u001b[0m     \u001b[0;32mdef\u001b[0m \u001b[0m_get\u001b[0m\u001b[0;34m(\u001b[0m\u001b[0mself\u001b[0m\u001b[0;34m,\u001b[0m \u001b[0mi\u001b[0m\u001b[0;34m)\u001b[0m\u001b[0;34m:\u001b[0m\u001b[0;34m\u001b[0m\u001b[0;34m\u001b[0m\u001b[0m\n\u001b[1;32m    327\u001b[0m         \u001b[0;32mif\u001b[0m \u001b[0mis_indexer\u001b[0m\u001b[0;34m(\u001b[0m\u001b[0mi\u001b[0m\u001b[0;34m)\u001b[0m \u001b[0;32mor\u001b[0m \u001b[0misinstance\u001b[0m\u001b[0;34m(\u001b[0m\u001b[0mi\u001b[0m\u001b[0;34m,\u001b[0m\u001b[0mslice\u001b[0m\u001b[0;34m)\u001b[0m\u001b[0;34m:\u001b[0m \u001b[0;32mreturn\u001b[0m \u001b[0mgetattr\u001b[0m\u001b[0;34m(\u001b[0m\u001b[0mself\u001b[0m\u001b[0;34m.\u001b[0m\u001b[0mitems\u001b[0m\u001b[0;34m,\u001b[0m\u001b[0;34m'iloc'\u001b[0m\u001b[0;34m,\u001b[0m\u001b[0mself\u001b[0m\u001b[0;34m.\u001b[0m\u001b[0mitems\u001b[0m\u001b[0;34m)\u001b[0m\u001b[0;34m[\u001b[0m\u001b[0mi\u001b[0m\u001b[0;34m]\u001b[0m\u001b[0;34m\u001b[0m\u001b[0;34m\u001b[0m\u001b[0m\n\u001b[0;32m--> 328\u001b[0;31m         \u001b[0mi\u001b[0m \u001b[0;34m=\u001b[0m \u001b[0mmask2idxs\u001b[0m\u001b[0;34m(\u001b[0m\u001b[0mi\u001b[0m\u001b[0;34m)\u001b[0m\u001b[0;34m\u001b[0m\u001b[0;34m\u001b[0m\u001b[0m\n\u001b[0m\u001b[1;32m    329\u001b[0m         return (self.items.iloc[list(i)] if hasattr(self.items,'iloc')\n\u001b[1;32m    330\u001b[0m                 \u001b[0;32melse\u001b[0m \u001b[0mself\u001b[0m\u001b[0;34m.\u001b[0m\u001b[0mitems\u001b[0m\u001b[0;34m.\u001b[0m\u001b[0m__array__\u001b[0m\u001b[0;34m(\u001b[0m\u001b[0;34m)\u001b[0m\u001b[0;34m[\u001b[0m\u001b[0;34m(\u001b[0m\u001b[0mi\u001b[0m\u001b[0;34m,\u001b[0m\u001b[0;34m)\u001b[0m\u001b[0;34m]\u001b[0m \u001b[0;32mif\u001b[0m \u001b[0mhasattr\u001b[0m\u001b[0;34m(\u001b[0m\u001b[0mself\u001b[0m\u001b[0;34m.\u001b[0m\u001b[0mitems\u001b[0m\u001b[0;34m,\u001b[0m\u001b[0;34m'__array__'\u001b[0m\u001b[0;34m)\u001b[0m\u001b[0;34m\u001b[0m\u001b[0;34m\u001b[0m\u001b[0m\n",
      "\u001b[0;32m~/fastai2-dev/fastcore/fastcore/foundation.py\u001b[0m in \u001b[0;36mmask2idxs\u001b[0;34m(mask)\u001b[0m\n\u001b[1;32m    265\u001b[0m     \u001b[0;32mif\u001b[0m \u001b[0mhasattr\u001b[0m\u001b[0;34m(\u001b[0m\u001b[0mit\u001b[0m\u001b[0;34m,\u001b[0m\u001b[0;34m'item'\u001b[0m\u001b[0;34m)\u001b[0m\u001b[0;34m:\u001b[0m \u001b[0mit\u001b[0m \u001b[0;34m=\u001b[0m \u001b[0mit\u001b[0m\u001b[0;34m.\u001b[0m\u001b[0mitem\u001b[0m\u001b[0;34m(\u001b[0m\u001b[0;34m)\u001b[0m\u001b[0;34m\u001b[0m\u001b[0;34m\u001b[0m\u001b[0m\n\u001b[1;32m    266\u001b[0m     \u001b[0;32mif\u001b[0m \u001b[0misinstance\u001b[0m\u001b[0;34m(\u001b[0m\u001b[0mit\u001b[0m\u001b[0;34m,\u001b[0m\u001b[0;34m(\u001b[0m\u001b[0mbool\u001b[0m\u001b[0;34m,\u001b[0m\u001b[0mNoneType\u001b[0m\u001b[0;34m,\u001b[0m\u001b[0mnp\u001b[0m\u001b[0;34m.\u001b[0m\u001b[0mbool_\u001b[0m\u001b[0;34m)\u001b[0m\u001b[0;34m)\u001b[0m\u001b[0;34m:\u001b[0m \u001b[0;32mreturn\u001b[0m \u001b[0;34m[\u001b[0m\u001b[0mi\u001b[0m \u001b[0;32mfor\u001b[0m \u001b[0mi\u001b[0m\u001b[0;34m,\u001b[0m\u001b[0mm\u001b[0m \u001b[0;32min\u001b[0m \u001b[0menumerate\u001b[0m\u001b[0;34m(\u001b[0m\u001b[0mmask\u001b[0m\u001b[0;34m)\u001b[0m \u001b[0;32mif\u001b[0m \u001b[0mm\u001b[0m\u001b[0;34m]\u001b[0m\u001b[0;34m\u001b[0m\u001b[0;34m\u001b[0m\u001b[0m\n\u001b[0;32m--> 267\u001b[0;31m     \u001b[0;32mreturn\u001b[0m \u001b[0;34m[\u001b[0m\u001b[0mint\u001b[0m\u001b[0;34m(\u001b[0m\u001b[0mi\u001b[0m\u001b[0;34m)\u001b[0m \u001b[0;32mfor\u001b[0m \u001b[0mi\u001b[0m \u001b[0;32min\u001b[0m \u001b[0mmask\u001b[0m\u001b[0;34m]\u001b[0m\u001b[0;34m\u001b[0m\u001b[0;34m\u001b[0m\u001b[0m\n\u001b[0m\u001b[1;32m    268\u001b[0m \u001b[0;34m\u001b[0m\u001b[0m\n\u001b[1;32m    269\u001b[0m \u001b[0;31m# Cell\u001b[0m\u001b[0;34m\u001b[0m\u001b[0;34m\u001b[0m\u001b[0;34m\u001b[0m\u001b[0m\n",
      "\u001b[0;32m~/fastai2-dev/fastcore/fastcore/foundation.py\u001b[0m in \u001b[0;36m<listcomp>\u001b[0;34m(.0)\u001b[0m\n\u001b[1;32m    265\u001b[0m     \u001b[0;32mif\u001b[0m \u001b[0mhasattr\u001b[0m\u001b[0;34m(\u001b[0m\u001b[0mit\u001b[0m\u001b[0;34m,\u001b[0m\u001b[0;34m'item'\u001b[0m\u001b[0;34m)\u001b[0m\u001b[0;34m:\u001b[0m \u001b[0mit\u001b[0m \u001b[0;34m=\u001b[0m \u001b[0mit\u001b[0m\u001b[0;34m.\u001b[0m\u001b[0mitem\u001b[0m\u001b[0;34m(\u001b[0m\u001b[0;34m)\u001b[0m\u001b[0;34m\u001b[0m\u001b[0;34m\u001b[0m\u001b[0m\n\u001b[1;32m    266\u001b[0m     \u001b[0;32mif\u001b[0m \u001b[0misinstance\u001b[0m\u001b[0;34m(\u001b[0m\u001b[0mit\u001b[0m\u001b[0;34m,\u001b[0m\u001b[0;34m(\u001b[0m\u001b[0mbool\u001b[0m\u001b[0;34m,\u001b[0m\u001b[0mNoneType\u001b[0m\u001b[0;34m,\u001b[0m\u001b[0mnp\u001b[0m\u001b[0;34m.\u001b[0m\u001b[0mbool_\u001b[0m\u001b[0;34m)\u001b[0m\u001b[0;34m)\u001b[0m\u001b[0;34m:\u001b[0m \u001b[0;32mreturn\u001b[0m \u001b[0;34m[\u001b[0m\u001b[0mi\u001b[0m \u001b[0;32mfor\u001b[0m \u001b[0mi\u001b[0m\u001b[0;34m,\u001b[0m\u001b[0mm\u001b[0m \u001b[0;32min\u001b[0m \u001b[0menumerate\u001b[0m\u001b[0;34m(\u001b[0m\u001b[0mmask\u001b[0m\u001b[0;34m)\u001b[0m \u001b[0;32mif\u001b[0m \u001b[0mm\u001b[0m\u001b[0;34m]\u001b[0m\u001b[0;34m\u001b[0m\u001b[0;34m\u001b[0m\u001b[0m\n\u001b[0;32m--> 267\u001b[0;31m     \u001b[0;32mreturn\u001b[0m \u001b[0;34m[\u001b[0m\u001b[0mint\u001b[0m\u001b[0;34m(\u001b[0m\u001b[0mi\u001b[0m\u001b[0;34m)\u001b[0m \u001b[0;32mfor\u001b[0m \u001b[0mi\u001b[0m \u001b[0;32min\u001b[0m \u001b[0mmask\u001b[0m\u001b[0;34m]\u001b[0m\u001b[0;34m\u001b[0m\u001b[0;34m\u001b[0m\u001b[0m\n\u001b[0m\u001b[1;32m    268\u001b[0m \u001b[0;34m\u001b[0m\u001b[0m\n\u001b[1;32m    269\u001b[0m \u001b[0;31m# Cell\u001b[0m\u001b[0;34m\u001b[0m\u001b[0;34m\u001b[0m\u001b[0;34m\u001b[0m\u001b[0m\n",
      "\u001b[0;31mTypeError\u001b[0m: int() argument must be a string, a bytes-like object or a number, not 'slice'"
     ]
    }
   ],
   "source": [
    "tmp[:,0]"
   ]
  },
  {
   "cell_type": "code",
   "execution_count": 86,
   "metadata": {},
   "outputs": [
    {
     "data": {
      "text/plain": [
       "[1255,\n",
       " 1878,\n",
       " 1231,\n",
       " 1006,\n",
       " 588,\n",
       " 1104,\n",
       " 295,\n",
       " 959,\n",
       " 1390,\n",
       " 892,\n",
       " 348,\n",
       " 317,\n",
       " 9,\n",
       " 674,\n",
       " 229,\n",
       " 967,\n",
       " 1849,\n",
       " 1893,\n",
       " 1941,\n",
       " 231,\n",
       " 1322,\n",
       " 1593,\n",
       " 1107,\n",
       " 125,\n",
       " 1164,\n",
       " 1679,\n",
       " 500,\n",
       " 168,\n",
       " 1998,\n",
       " 849,\n",
       " 1619,\n",
       " 974,\n",
       " 298,\n",
       " 725,\n",
       " 363,\n",
       " 1786,\n",
       " 1537,\n",
       " 584,\n",
       " 1206,\n",
       " 778,\n",
       " 1195,\n",
       " 591,\n",
       " 1645,\n",
       " 1507,\n",
       " 795,\n",
       " 440,\n",
       " 576,\n",
       " 830,\n",
       " 1246,\n",
       " 481,\n",
       " 524,\n",
       " 1124,\n",
       " 1923,\n",
       " 353,\n",
       " 293,\n",
       " 1111,\n",
       " 977,\n",
       " 268,\n",
       " 61,\n",
       " 1770,\n",
       " 1921,\n",
       " 193,\n",
       " 749,\n",
       " 1798,\n",
       " 865,\n",
       " 478,\n",
       " 1532,\n",
       " 1281,\n",
       " 1304,\n",
       " 314,\n",
       " 95,\n",
       " 1918,\n",
       " 1454,\n",
       " 1325,\n",
       " 1800,\n",
       " 1144,\n",
       " 1217,\n",
       " 553,\n",
       " 876,\n",
       " 1068,\n",
       " 379,\n",
       " 2250,\n",
       " 732,\n",
       " 1355,\n",
       " 816,\n",
       " 1792,\n",
       " 1078,\n",
       " 195,\n",
       " 1233,\n",
       " 131,\n",
       " 1423,\n",
       " 451,\n",
       " 199,\n",
       " 307,\n",
       " 139,\n",
       " 438,\n",
       " 563,\n",
       " 521,\n",
       " 226,\n",
       " 290,\n",
       " 1425,\n",
       " 1840,\n",
       " 667,\n",
       " 982,\n",
       " 407,\n",
       " 1749,\n",
       " 1004,\n",
       " 1301,\n",
       " 20,\n",
       " 1378,\n",
       " 1209,\n",
       " 422,\n",
       " 1497,\n",
       " 79,\n",
       " 154,\n",
       " 1070,\n",
       " 623,\n",
       " 1551,\n",
       " 449,\n",
       " 2276,\n",
       " 715,\n",
       " 1825,\n",
       " 2043,\n",
       " 107,\n",
       " 1053,\n",
       " 1522,\n",
       " 147,\n",
       " 165,\n",
       " 874,\n",
       " 1924,\n",
       " 302,\n",
       " 1847,\n",
       " 1651,\n",
       " 936,\n",
       " 110,\n",
       " 1875,\n",
       " 1189,\n",
       " 2041,\n",
       " 978,\n",
       " 1997,\n",
       " 2186,\n",
       " 1388,\n",
       " 776,\n",
       " 1582,\n",
       " 1298,\n",
       " 284,\n",
       " 2222,\n",
       " 1389,\n",
       " 275,\n",
       " 1127,\n",
       " 151,\n",
       " 2253,\n",
       " 815,\n",
       " 2024,\n",
       " 570,\n",
       " 564,\n",
       " 369,\n",
       " 2185,\n",
       " 918,\n",
       " 130,\n",
       " 1253,\n",
       " 2232,\n",
       " 1964,\n",
       " 1212,\n",
       " 825,\n",
       " 220,\n",
       " 1080,\n",
       " 1155,\n",
       " 1876,\n",
       " 552,\n",
       " 819,\n",
       " 109,\n",
       " 2162,\n",
       " 677,\n",
       " 984,\n",
       " 2094,\n",
       " 1539,\n",
       " 719,\n",
       " 2009,\n",
       " 748,\n",
       " 1664,\n",
       " 836,\n",
       " 890,\n",
       " 518,\n",
       " 1776,\n",
       " 245,\n",
       " 63,\n",
       " 0,\n",
       " 1395,\n",
       " 1055,\n",
       " 1784,\n",
       " 75,\n",
       " 91,\n",
       " 180,\n",
       " 1833,\n",
       " 962,\n",
       " 692,\n",
       " 459,\n",
       " 115,\n",
       " 1156,\n",
       " 1738,\n",
       " 1723,\n",
       " 1379,\n",
       " 1044,\n",
       " 1348,\n",
       " 230,\n",
       " 996,\n",
       " 1909,\n",
       " 596,\n",
       " 1517,\n",
       " 1809,\n",
       " 555,\n",
       " 1791,\n",
       " 2234,\n",
       " 1987,\n",
       " 270,\n",
       " 572,\n",
       " 2077,\n",
       " 1266,\n",
       " 2153,\n",
       " 1568,\n",
       " 1694,\n",
       " 234,\n",
       " 1289,\n",
       " 574,\n",
       " 1803,\n",
       " 1869,\n",
       " 380,\n",
       " 2092,\n",
       " 598,\n",
       " 606,\n",
       " 1942,\n",
       " 989,\n",
       " 1117,\n",
       " 2288,\n",
       " 504,\n",
       " 662,\n",
       " 503,\n",
       " 1177,\n",
       " 2008,\n",
       " 2098,\n",
       " 248,\n",
       " 792,\n",
       " 846,\n",
       " 534,\n",
       " 767,\n",
       " 1076,\n",
       " 1828,\n",
       " 1870,\n",
       " 1678,\n",
       " 1636,\n",
       " 898,\n",
       " 361,\n",
       " 1846,\n",
       " 1252,\n",
       " 1248,\n",
       " 297,\n",
       " 2056,\n",
       " 976,\n",
       " 1983,\n",
       " 1350,\n",
       " 2068,\n",
       " 626,\n",
       " 192,\n",
       " 789,\n",
       " 40,\n",
       " 42,\n",
       " 1352,\n",
       " 1969,\n",
       " 693,\n",
       " 665,\n",
       " 1814,\n",
       " 354,\n",
       " 2075,\n",
       " 1466,\n",
       " 1291,\n",
       " 1218,\n",
       " 2216,\n",
       " 1198,\n",
       " 157,\n",
       " 127,\n",
       " 1795,\n",
       " 820,\n",
       " 1680,\n",
       " 1244,\n",
       " 1649,\n",
       " 1780,\n",
       " 2281,\n",
       " 1308,\n",
       " 896,\n",
       " 891,\n",
       " 2061,\n",
       " 738,\n",
       " 806,\n",
       " 2103,\n",
       " 2164,\n",
       " 2282,\n",
       " 871,\n",
       " 2260,\n",
       " 2044,\n",
       " 241,\n",
       " 752,\n",
       " 2112,\n",
       " 93,\n",
       " 2100,\n",
       " 751,\n",
       " 8,\n",
       " 34,\n",
       " 1228,\n",
       " 366,\n",
       " 507,\n",
       " 973,\n",
       " 1123,\n",
       " 1712,\n",
       " 537,\n",
       " 1484,\n",
       " 1570,\n",
       " 101,\n",
       " 947,\n",
       " 1396,\n",
       " 24,\n",
       " 337,\n",
       " 390,\n",
       " 140,\n",
       " 2279,\n",
       " 1638,\n",
       " 1810,\n",
       " 346,\n",
       " 1066,\n",
       " 1523,\n",
       " 1083,\n",
       " 1245,\n",
       " 1594,\n",
       " 912,\n",
       " 2205,\n",
       " 1907,\n",
       " 200,\n",
       " 1609,\n",
       " 1138,\n",
       " 1148,\n",
       " 1511,\n",
       " 1549,\n",
       " 1540,\n",
       " 546,\n",
       " 1612,\n",
       " 1296,\n",
       " 1113,\n",
       " 1815,\n",
       " 1546,\n",
       " 562,\n",
       " 854,\n",
       " 1525,\n",
       " 1633,\n",
       " 188,\n",
       " 468,\n",
       " 1839,\n",
       " 1899,\n",
       " 1392,\n",
       " 1438,\n",
       " 1927,\n",
       " 2156,\n",
       " 2278,\n",
       " 1103,\n",
       " 1232,\n",
       " 1247,\n",
       " 341,\n",
       " 83,\n",
       " 839,\n",
       " 861,\n",
       " 1658,\n",
       " 64,\n",
       " 1514,\n",
       " 1991,\n",
       " 291,\n",
       " 1275,\n",
       " 2152,\n",
       " 2218,\n",
       " 2241,\n",
       " 2146,\n",
       " 2168,\n",
       " 1618,\n",
       " 2209,\n",
       " 1223,\n",
       " 408,\n",
       " 1237,\n",
       " 577,\n",
       " 1343,\n",
       " 397,\n",
       " 2132,\n",
       " 1087,\n",
       " 1321,\n",
       " 480,\n",
       " 250,\n",
       " 587,\n",
       " 1935,\n",
       " 201,\n",
       " 1891,\n",
       " 559,\n",
       " 1714,\n",
       " 1305,\n",
       " 1553,\n",
       " 222,\n",
       " 158,\n",
       " 1715,\n",
       " 701,\n",
       " 1528,\n",
       " 1543,\n",
       " 1173,\n",
       " 790,\n",
       " 185,\n",
       " 827,\n",
       " 2157,\n",
       " 875,\n",
       " 1368,\n",
       " 1806,\n",
       " 800,\n",
       " 1495,\n",
       " 994,\n",
       " 696,\n",
       " 1807,\n",
       " 2134,\n",
       " 149,\n",
       " 1601,\n",
       " 1257,\n",
       " 1399,\n",
       " 2135,\n",
       " 880,\n",
       " 1152,\n",
       " 1243,\n",
       " 1946,\n",
       " 620,\n",
       " 2004,\n",
       " 15,\n",
       " 1950,\n",
       " 1142,\n",
       " 313,\n",
       " 1413,\n",
       " 1025,\n",
       " 1662,\n",
       " 1225,\n",
       " 1362,\n",
       " 1560,\n",
       " 1313,\n",
       " 1261,\n",
       " 1626,\n",
       " 1446,\n",
       " 44,\n",
       " 829,\n",
       " 643,\n",
       " 261,\n",
       " 2166,\n",
       " 1503,\n",
       " 1215,\n",
       " 2143,\n",
       " 624,\n",
       " 554,\n",
       " 2292,\n",
       " 980,\n",
       " 1625,\n",
       " 720,\n",
       " 186,\n",
       " 1734,\n",
       " 467,\n",
       " 2069,\n",
       " 1187,\n",
       " 1591,\n",
       " 2251,\n",
       " 592,\n",
       " 508,\n",
       " 625,\n",
       " 1666,\n",
       " 1531,\n",
       " 1358,\n",
       " 1980,\n",
       " 209,\n",
       " 835,\n",
       " 2099,\n",
       " 2012,\n",
       " 1500,\n",
       " 960,\n",
       " 26,\n",
       " 1802,\n",
       " 464,\n",
       " 741,\n",
       " 822,\n",
       " 17,\n",
       " 821,\n",
       " 2128,\n",
       " 1479,\n",
       " 1644,\n",
       " 723,\n",
       " 1042,\n",
       " 942,\n",
       " 1333,\n",
       " 2101,\n",
       " 1970,\n",
       " 216,\n",
       " 1105,\n",
       " 257,\n",
       " 2151,\n",
       " 402,\n",
       " 470,\n",
       " 837,\n",
       " 911,\n",
       " 743,\n",
       " 716,\n",
       " 197,\n",
       " 1883,\n",
       " 614,\n",
       " 945,\n",
       " 2183,\n",
       " 1908,\n",
       " 2144,\n",
       " 62,\n",
       " 427,\n",
       " 1745,\n",
       " 1671,\n",
       " 583,\n",
       " 1708,\n",
       " 1744,\n",
       " 997,\n",
       " 1689,\n",
       " 1359,\n",
       " 1061,\n",
       " 2046,\n",
       " 1300,\n",
       " 593,\n",
       " 1338,\n",
       " 768,\n",
       " 1465,\n",
       " 908,\n",
       " 903,\n",
       " 1318,\n",
       " 981,\n",
       " 316,\n",
       " 2011,\n",
       " 455,\n",
       " 338,\n",
       " 763,\n",
       " 803,\n",
       " 2,\n",
       " 950,\n",
       " 1292,\n",
       " 1473,\n",
       " 1260,\n",
       " 512,\n",
       " 758,\n",
       " 1705,\n",
       " 84,\n",
       " 1226,\n",
       " 722,\n",
       " 1084,\n",
       " 1159,\n",
       " 2256,\n",
       " 709,\n",
       " 1162,\n",
       " 389,\n",
       " 1439,\n",
       " 687,\n",
       " 1341,\n",
       " 2158,\n",
       " 1713,\n",
       " 244,\n",
       " 1376,\n",
       " 1890,\n",
       " 13,\n",
       " 1393,\n",
       " 1088,\n",
       " 538,\n",
       " 1494,\n",
       " 1277,\n",
       " 1312,\n",
       " 1384,\n",
       " 1565,\n",
       " 356,\n",
       " 993,\n",
       " 1477,\n",
       " 889,\n",
       " 1824,\n",
       " 1760,\n",
       " 1818,\n",
       " 439,\n",
       " 1196,\n",
       " 2081,\n",
       " 1851,\n",
       " 531,\n",
       " 710,\n",
       " 958,\n",
       " 1091,\n",
       " 146,\n",
       " 1934,\n",
       " 1667,\n",
       " 2066,\n",
       " 893,\n",
       " 636,\n",
       " 666,\n",
       " 910,\n",
       " 274,\n",
       " 1401,\n",
       " 1600,\n",
       " 1557,\n",
       " 714,\n",
       " 1081,\n",
       " 2130,\n",
       " 2212,\n",
       " 60,\n",
       " 2125,\n",
       " 309,\n",
       " 909,\n",
       " 406,\n",
       " 1430,\n",
       " 203,\n",
       " 1704,\n",
       " 2030,\n",
       " 646,\n",
       " 1799,\n",
       " 365,\n",
       " 1596,\n",
       " 934,\n",
       " 445,\n",
       " 937,\n",
       " 1863,\n",
       " 1777,\n",
       " 1404,\n",
       " 2182,\n",
       " 1094,\n",
       " 561,\n",
       " 1036,\n",
       " 1238,\n",
       " 616,\n",
       " 1947,\n",
       " 27,\n",
       " 1555,\n",
       " 560,\n",
       " 1911,\n",
       " 992,\n",
       " 171,\n",
       " 420,\n",
       " 1071,\n",
       " 1132,\n",
       " 1534,\n",
       " 399,\n",
       " 1599,\n",
       " 1448,\n",
       " 47,\n",
       " 2233,\n",
       " 673,\n",
       " 1108,\n",
       " 1762,\n",
       " 1092,\n",
       " 495,\n",
       " 1347,\n",
       " 1428,\n",
       " 121,\n",
       " 520,\n",
       " 1772,\n",
       " 1023,\n",
       " 1307,\n",
       " 1211,\n",
       " 1221,\n",
       " 2052,\n",
       " 721,\n",
       " 1559,\n",
       " 430,\n",
       " 629,\n",
       " 1179,\n",
       " 734,\n",
       " 2184,\n",
       " 144,\n",
       " 2255,\n",
       " 2095,\n",
       " 1054,\n",
       " 1,\n",
       " 597,\n",
       " 1637,\n",
       " 1562,\n",
       " 169,\n",
       " 1536,\n",
       " 2243,\n",
       " 94,\n",
       " 990,\n",
       " 1459,\n",
       " 1767,\n",
       " 1937,\n",
       " 1690,\n",
       " 669,\n",
       " 28,\n",
       " 1973,\n",
       " 1917,\n",
       " 2022,\n",
       " 167,\n",
       " 660,\n",
       " 381,\n",
       " 1920,\n",
       " 269,\n",
       " 1758,\n",
       " 16,\n",
       " 386,\n",
       " 54,\n",
       " 1110,\n",
       " 1153,\n",
       " 53,\n",
       " 404,\n",
       " 1302,\n",
       " 1822,\n",
       " 1101,\n",
       " 1047,\n",
       " 1085,\n",
       " 1640,\n",
       " 1436,\n",
       " 1147,\n",
       " 2087,\n",
       " 1330,\n",
       " 1750,\n",
       " 1079,\n",
       " 238,\n",
       " 742,\n",
       " 1962,\n",
       " 1957,\n",
       " 1813,\n",
       " 183,\n",
       " 68,\n",
       " 179,\n",
       " 213,\n",
       " 1862,\n",
       " 99,\n",
       " 56,\n",
       " 2159,\n",
       " 527,\n",
       " 1426,\n",
       " 2195,\n",
       " 281,\n",
       " 650,\n",
       " 2015,\n",
       " 1677,\n",
       " 991,\n",
       " 452,\n",
       " 119,\n",
       " 895,\n",
       " 340,\n",
       " 1136,\n",
       " 511,\n",
       " 1197,\n",
       " 1216,\n",
       " 1029,\n",
       " 2223,\n",
       " 1470,\n",
       " 1137,\n",
       " 943,\n",
       " 2230,\n",
       " 2083,\n",
       " 988,\n",
       " 1157,\n",
       " 844,\n",
       " 55,\n",
       " 2086,\n",
       " 780,\n",
       " 292,\n",
       " 1106,\n",
       " 2089,\n",
       " 321,\n",
       " 739,\n",
       " 2239,\n",
       " 826,\n",
       " 2211,\n",
       " 675,\n",
       " 1541,\n",
       " 2019,\n",
       " 1140,\n",
       " 483,\n",
       " 852,\n",
       " 1382,\n",
       " 425,\n",
       " 1545,\n",
       " 879,\n",
       " 953,\n",
       " 568,\n",
       " 919,\n",
       " 1775,\n",
       " 319,\n",
       " 1306,\n",
       " 753,\n",
       " 1873,\n",
       " 1887,\n",
       " 628,\n",
       " 1171,\n",
       " 1912,\n",
       " 1904,\n",
       " 2064,\n",
       " 1462,\n",
       " 509,\n",
       " 2265,\n",
       " 272,\n",
       " 1900,\n",
       " 1508,\n",
       " 1702,\n",
       " 172,\n",
       " 327,\n",
       " 571,\n",
       " 233,\n",
       " 1925,\n",
       " 1610,\n",
       " 1561,\n",
       " 18,\n",
       " 505,\n",
       " 1122,\n",
       " 436,\n",
       " 556,\n",
       " 1049,\n",
       " 812,\n",
       " 498,\n",
       " 85,\n",
       " 1096,\n",
       " 808,\n",
       " 1280,\n",
       " 1188,\n",
       " 1631,\n",
       " 873,\n",
       " 1974,\n",
       " 1598,\n",
       " 900,\n",
       " 2285,\n",
       " 1172,\n",
       " 4,\n",
       " 781,\n",
       " 972,\n",
       " 435,\n",
       " 417,\n",
       " 320,\n",
       " 211,\n",
       " 1406,\n",
       " 1051,\n",
       " 239,\n",
       " 1163,\n",
       " 318,\n",
       " 1823,\n",
       " 1128,\n",
       " 2266,\n",
       " 557,\n",
       " 2261,\n",
       " 928,\n",
       " 2226,\n",
       " 1481,\n",
       " 649,\n",
       " 466,\n",
       " 339,\n",
       " 540,\n",
       " 496,\n",
       " 2163,\n",
       " 631,\n",
       " 2201,\n",
       " 2200,\n",
       " 1653,\n",
       " 178,\n",
       " 159,\n",
       " 804,\n",
       " 2054,\n",
       " 645,\n",
       " 549,\n",
       " 2247,\n",
       " 2040,\n",
       " 1145,\n",
       " 277,\n",
       " 477,\n",
       " 1817,\n",
       " 567,\n",
       " 1630,\n",
       " 2060,\n",
       " 1831,\n",
       " 676,\n",
       " 2020,\n",
       " 1919,\n",
       " 1474,\n",
       " 1827,\n",
       " 1939,\n",
       " 72,\n",
       " 2271,\n",
       " 986,\n",
       " 488,\n",
       " 358,\n",
       " 166,\n",
       " 393,\n",
       " 1372,\n",
       " 1046,\n",
       " 2084,\n",
       " 1022,\n",
       " 2246,\n",
       " 1447,\n",
       " 2010,\n",
       " 862,\n",
       " 1185,\n",
       " 190,\n",
       " 931,\n",
       " 2007,\n",
       " 1143,\n",
       " 2000,\n",
       " 458,\n",
       " 717,\n",
       " 2167,\n",
       " 1364,\n",
       " 1272,\n",
       " 971,\n",
       " 797,\n",
       " 1984,\n",
       " 1524,\n",
       " 29,\n",
       " 968,\n",
       " 655,\n",
       " 1779,\n",
       " 1654,\n",
       " 1753,\n",
       " 1455,\n",
       " 798,\n",
       " 1334,\n",
       " 578,\n",
       " 1953,\n",
       " 479,\n",
       " 1982,\n",
       " 899,\n",
       " 1845,\n",
       " 491,\n",
       " 400,\n",
       " 1746,\n",
       " 419,\n",
       " 1985,\n",
       " 191,\n",
       " 1445,\n",
       " 2127,\n",
       " 1309,\n",
       " 1154,\n",
       " 1592,\n",
       " 1311,\n",
       " 236,\n",
       " 182,\n",
       " 133,\n",
       " 2221,\n",
       " 545,\n",
       " 1716,\n",
       " 1056,\n",
       " 2110,\n",
       " 52,\n",
       " 1884,\n",
       " 1910,\n",
       " 765,\n",
       " 1316,\n",
       " 2031,\n",
       " 2114,\n",
       " 1344,\n",
       " 642,\n",
       " 322,\n",
       " 1420,\n",
       " 1109,\n",
       " 1028,\n",
       " 956,\n",
       " 210,\n",
       " 1635,\n",
       " 1960,\n",
       " 694,\n",
       " 612,\n",
       " 1264,\n",
       " 1295,\n",
       " 344,\n",
       " 634,\n",
       " 1728,\n",
       " 1421,\n",
       " 791,\n",
       " 2259,\n",
       " 1790,\n",
       " 1169,\n",
       " 453,\n",
       " 1256,\n",
       " 1509,\n",
       " 219,\n",
       " 1864,\n",
       " 1449,\n",
       " 1857,\n",
       " 2203,\n",
       " 312,\n",
       " 2155,\n",
       " 1711,\n",
       " 1000,\n",
       " 242,\n",
       " 184,\n",
       " 1299,\n",
       " 351,\n",
       " 672,\n",
       " 2177,\n",
       " 342,\n",
       " 1440,\n",
       " 1578,\n",
       " 1954,\n",
       " 924,\n",
       " 332,\n",
       " 2210,\n",
       " 105,\n",
       " 249,\n",
       " 707,\n",
       " 347,\n",
       " 1367,\n",
       " 747,\n",
       " ...]"
      ]
     },
     "execution_count": 86,
     "metadata": {},
     "output_type": "execute_result"
    }
   ],
   "source": [
    "[s for s in train_dl.train.sample()]"
   ]
  },
  {
   "cell_type": "code",
   "execution_count": null,
   "metadata": {},
   "outputs": [],
   "source": []
  },
  {
   "cell_type": "code",
   "execution_count": 80,
   "metadata": {},
   "outputs": [
    {
     "data": {
      "text/plain": [
       "(#2) ['mean','std']"
      ]
     },
     "execution_count": 80,
     "metadata": {},
     "output_type": "execute_result"
    }
   ],
   "source": [
    "norm2."
   ]
  },
  {
   "cell_type": "code",
   "execution_count": 79,
   "metadata": {},
   "outputs": [
    {
     "data": {
      "text/plain": [
       "tensor([[[[0.4850]],\n",
       "\n",
       "         [[0.4560]],\n",
       "\n",
       "         [[0.4060]]]], device='cuda:0')"
      ]
     },
     "execution_count": 79,
     "metadata": {},
     "output_type": "execute_result"
    }
   ],
   "source": [
    "norm2.mean"
   ]
  },
  {
   "cell_type": "markdown",
   "metadata": {},
   "source": [
    "### Attempt Blur"
   ]
  },
  {
   "cell_type": "code",
   "execution_count": null,
   "metadata": {},
   "outputs": [],
   "source": []
  },
  {
   "cell_type": "code",
   "execution_count": 43,
   "metadata": {},
   "outputs": [],
   "source": [
    "from fastai2.medical.imaging import uniform_blur2d"
   ]
  },
  {
   "cell_type": "code",
   "execution_count": 51,
   "metadata": {},
   "outputs": [
    {
     "data": {
      "image/png": "[encoded data removed]",
      "text/plain": [
       "<PIL.JpegImagePlugin.JpegImageFile image mode=RGB size=193x324 at 0x7F212C1851D0>"
      ]
     },
     "execution_count": 51,
     "metadata": {},
     "output_type": "execute_result"
    }
   ],
   "source": [
    "img = Image.open(train_dl.train.items[0]); img"
   ]
  },
  {
   "cell_type": "code",
   "execution_count": 53,
   "metadata": {},
   "outputs": [],
   "source": [
    "b = train_dl.one_batch()"
   ]
  },
  {
   "cell_type": "code",
   "execution_count": 55,
   "metadata": {},
   "outputs": [
    {
     "data": {
      "text/plain": [
       "torch.Size([3, 128, 128])"
      ]
     },
     "execution_count": 55,
     "metadata": {},
     "output_type": "execute_result"
    }
   ],
   "source": [
    "b[0][0].shape"
   ]
  },
  {
   "cell_type": "code",
   "execution_count": null,
   "metadata": {},
   "outputs": [],
   "source": [
    "b.itemgot(0)"
   ]
  },
  {
   "cell_type": "code",
   "execution_count": 69,
   "metadata": {},
   "outputs": [
    {
     "ename": "RuntimeError",
     "evalue": "Given groups=1, weight of size 1 1 1 10, expected input[1, 3, 128, 128] to have 1 channels, but got 3 channels instead",
     "output_type": "error",
     "traceback": [
      "\u001b[0;31m---------------------------------------------------------------------------\u001b[0m",
      "\u001b[0;31mRuntimeError\u001b[0m                              Traceback (most recent call last)",
      "\u001b[0;32m<ipython-input-69-482cd1d99ea1>\u001b[0m in \u001b[0;36m<module>\u001b[0;34m\u001b[0m\n\u001b[1;32m      1\u001b[0m \u001b[0;31m# uniform_blur2d(b[0][0].unsqueeze(0), 1)\u001b[0m\u001b[0;34m\u001b[0m\u001b[0;34m\u001b[0m\u001b[0;34m\u001b[0m\u001b[0m\n\u001b[0;32m----> 2\u001b[0;31m \u001b[0muniform_blur2d\u001b[0m\u001b[0;34m(\u001b[0m\u001b[0mb\u001b[0m\u001b[0;34m[\u001b[0m\u001b[0;36m0\u001b[0m\u001b[0;34m]\u001b[0m\u001b[0;34m[\u001b[0m\u001b[0;36m0\u001b[0m\u001b[0;34m]\u001b[0m\u001b[0;34m,\u001b[0m \u001b[0;36m10\u001b[0m\u001b[0;34m)\u001b[0m\u001b[0;34m\u001b[0m\u001b[0;34m\u001b[0m\u001b[0m\n\u001b[0m",
      "\u001b[0;32m~/fastai2-dev/fastai2/fastai2/medical/imaging.py\u001b[0m in \u001b[0;36muniform_blur2d\u001b[0;34m(x, s)\u001b[0m\n\u001b[1;32m    169\u001b[0m     \u001b[0;31m# Factor 2d conv into 2 1d convs\u001b[0m\u001b[0;34m\u001b[0m\u001b[0;34m\u001b[0m\u001b[0;34m\u001b[0m\u001b[0m\n\u001b[1;32m    170\u001b[0m     \u001b[0mx\u001b[0m \u001b[0;34m=\u001b[0m \u001b[0munsqueeze\u001b[0m\u001b[0;34m(\u001b[0m\u001b[0mx\u001b[0m\u001b[0;34m,\u001b[0m \u001b[0mdim\u001b[0m\u001b[0;34m=\u001b[0m\u001b[0;36m0\u001b[0m\u001b[0;34m,\u001b[0m \u001b[0mn\u001b[0m\u001b[0;34m=\u001b[0m\u001b[0;36m4\u001b[0m\u001b[0;34m-\u001b[0m\u001b[0mx\u001b[0m\u001b[0;34m.\u001b[0m\u001b[0mdim\u001b[0m\u001b[0;34m(\u001b[0m\u001b[0;34m)\u001b[0m\u001b[0;34m)\u001b[0m\u001b[0;34m\u001b[0m\u001b[0;34m\u001b[0m\u001b[0m\n\u001b[0;32m--> 171\u001b[0;31m     \u001b[0mr\u001b[0m \u001b[0;34m=\u001b[0m \u001b[0;34m(\u001b[0m\u001b[0mF\u001b[0m\u001b[0;34m.\u001b[0m\u001b[0mconv2d\u001b[0m\u001b[0;34m(\u001b[0m\u001b[0mx\u001b[0m\u001b[0;34m,\u001b[0m \u001b[0mw\u001b[0m\u001b[0;34m,\u001b[0m \u001b[0mpadding\u001b[0m\u001b[0;34m=\u001b[0m\u001b[0ms\u001b[0m\u001b[0;34m//\u001b[0m\u001b[0;36m2\u001b[0m\u001b[0;34m)\u001b[0m\u001b[0;34m)\u001b[0m\u001b[0;34m\u001b[0m\u001b[0;34m\u001b[0m\u001b[0m\n\u001b[0m\u001b[1;32m    172\u001b[0m     \u001b[0mr\u001b[0m \u001b[0;34m=\u001b[0m \u001b[0;34m(\u001b[0m\u001b[0mF\u001b[0m\u001b[0;34m.\u001b[0m\u001b[0mconv2d\u001b[0m\u001b[0;34m(\u001b[0m\u001b[0mr\u001b[0m\u001b[0;34m,\u001b[0m \u001b[0mw\u001b[0m\u001b[0;34m.\u001b[0m\u001b[0mtranspose\u001b[0m\u001b[0;34m(\u001b[0m\u001b[0;34m-\u001b[0m\u001b[0;36m1\u001b[0m\u001b[0;34m,\u001b[0m\u001b[0;34m-\u001b[0m\u001b[0;36m2\u001b[0m\u001b[0;34m)\u001b[0m\u001b[0;34m,\u001b[0m \u001b[0mpadding\u001b[0m\u001b[0;34m=\u001b[0m\u001b[0ms\u001b[0m\u001b[0;34m//\u001b[0m\u001b[0;36m2\u001b[0m\u001b[0;34m)\u001b[0m\u001b[0;34m)\u001b[0m\u001b[0;34m.\u001b[0m\u001b[0mcpu\u001b[0m\u001b[0;34m(\u001b[0m\u001b[0;34m)\u001b[0m\u001b[0;34m[\u001b[0m\u001b[0;34m:\u001b[0m\u001b[0;34m,\u001b[0m\u001b[0;36m0\u001b[0m\u001b[0;34m]\u001b[0m\u001b[0;34m\u001b[0m\u001b[0;34m\u001b[0m\u001b[0m\n\u001b[1;32m    173\u001b[0m     \u001b[0;32mreturn\u001b[0m \u001b[0mr\u001b[0m\u001b[0;34m.\u001b[0m\u001b[0msqueeze\u001b[0m\u001b[0;34m(\u001b[0m\u001b[0;34m)\u001b[0m\u001b[0;34m\u001b[0m\u001b[0;34m\u001b[0m\u001b[0m\n",
      "\u001b[0;31mRuntimeError\u001b[0m: Given groups=1, weight of size 1 1 1 10, expected input[1, 3, 128, 128] to have 1 channels, but got 3 channels instead"
     ]
    }
   ],
   "source": [
    "# uniform_blur2d(b[0][0].unsqueeze(0), 1)\n",
    "uniform_blur2d(b[0][0], 10)"
   ]
  },
  {
   "cell_type": "code",
   "execution_count": 62,
   "metadata": {},
   "outputs": [],
   "source": [
    "t_img = b[0][0]"
   ]
  },
  {
   "cell_type": "code",
   "execution_count": 63,
   "metadata": {},
   "outputs": [
    {
     "data": {
      "text/plain": [
       "torch.Size([3, 128, 128])"
      ]
     },
     "execution_count": 63,
     "metadata": {},
     "output_type": "execute_result"
    }
   ],
   "source": [
    "t_img.shape"
   ]
  },
  {
   "cell_type": "code",
   "execution_count": 65,
   "metadata": {},
   "outputs": [
    {
     "data": {
      "text/plain": [
       "torch.Size([1, 3, 128, 128])"
      ]
     },
     "execution_count": 65,
     "metadata": {},
     "output_type": "execute_result"
    }
   ],
   "source": [
    "t_img.unsqueeze(0).shape"
   ]
  },
  {
   "cell_type": "code",
   "execution_count": null,
   "metadata": {},
   "outputs": [],
   "source": []
  },
  {
   "cell_type": "code",
   "execution_count": 44,
   "metadata": {},
   "outputs": [
    {
     "data": {
      "text/plain": [
       "<function fastai2.medical.imaging.uniform_blur2d(x, s)>"
      ]
     },
     "execution_count": 44,
     "metadata": {},
     "output_type": "execute_result"
    }
   ],
   "source": [
    "uniform_blur2d()"
   ]
  },
  {
   "cell_type": "code",
   "execution_count": null,
   "metadata": {},
   "outputs": [],
   "source": []
  }
 ],
 "metadata": {
  "kernelspec": {
   "display_name": "march21",
   "language": "python",
   "name": "march21"
  },
  "language_info": {
   "codemirror_mode": {
    "name": "ipython",
    "version": 3
   },
   "file_extension": ".py",
   "mimetype": "text/x-python",
   "name": "python",
   "nbconvert_exporter": "python",
   "pygments_lexer": "ipython3",
   "version": "3.7.6"
  }
 },
 "nbformat": 4,
 "nbformat_minor": 2
}
