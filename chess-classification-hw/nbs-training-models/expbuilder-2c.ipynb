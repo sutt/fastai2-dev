{
 "cells": [
  {
   "cell_type": "markdown",
   "metadata": {},
   "source": [
    "### Expbuilder-2: compare Arch: resnet18, resnet34, resnet50\n",
    "Two seed, A vs B vs C comparison run, on test-2-easy\n",
    "\n",
    "Comparison: \n",
    " - My-Augs are already in `default_params`.\n",
    "\n",
    " - These are the default values built into fastai:\n",
    "```\n",
    "mult=1.0,\n",
    "max_rotate=10.0,\n",
    "max_lighting=0.2,\n",
    "max_warp=0.2,\n",
    "p_lighting=0.75,\n",
    "pad_mode='reflection'\n",
    "```"
   ]
  },
  {
   "cell_type": "code",
   "execution_count": 3,
   "metadata": {},
   "outputs": [
    {
     "name": "stdout",
     "output_type": "stream",
     "text": [
      "The autoreload extension is already loaded. To reload it, use:\n",
      "  %reload_ext autoreload\n"
     ]
    }
   ],
   "source": [
    "from fastai2.vision.all import *\n",
    "import sys\n",
    "sys.path.append('..')\n",
    "\n",
    "%load_ext autoreload\n",
    "%autoreload 2\n",
    "\n",
    "from modules.expbuilder import default_params, run_exp\n",
    "\n",
    "train_path = Path('../../../rf-chess-data/cropped_v1/')\n",
    "\n",
    "test_path_all = Path('../../../other-chess-data/regulation-test-2-all/')\n",
    "test_path_easy = Path('../../../other-chess-data/regulation-test-2-easy/')"
   ]
  },
  {
   "cell_type": "markdown",
   "metadata": {},
   "source": [
    "##### Run two demo runs"
   ]
  },
  {
   "cell_type": "code",
   "execution_count": 5,
   "metadata": {},
   "outputs": [],
   "source": [
    "seeds = [0,1]\n",
    "\n",
    "crop_params = [\n",
    "    {'_train_seed': seed,\n",
    "     '_custom_crop': _custom_crop,\n",
    "     '_resize_method': _resize_method,\n",
    "    '_test_path': Path('../../../other-chess-data/regulation-test-2-easy/'),\n",
    "    '_test_name':'test-regulation-2-easy',\n",
    "    }  \n",
    "    for _custom_crop, _resize_method in ((None, ResizeMethod.Crop),\n",
    "                                 ('my-top-crop', ResizeMethod.Crop))\n",
    "    for seed in seeds]"
   ]
  },
  {
   "cell_type": "code",
   "execution_count": 6,
   "metadata": {},
   "outputs": [
    {
     "data": {
      "text/plain": [
       "[{'_train_seed': 0,\n",
       "  '_custom_crop': None,\n",
       "  '_resize_method': 'crop',\n",
       "  '_test_path': Path('../../../other-chess-data/regulation-test-2-easy'),\n",
       "  '_test_name': 'test-regulation-2-easy'},\n",
       " {'_train_seed': 1,\n",
       "  '_custom_crop': None,\n",
       "  '_resize_method': 'crop',\n",
       "  '_test_path': Path('../../../other-chess-data/regulation-test-2-easy'),\n",
       "  '_test_name': 'test-regulation-2-easy'},\n",
       " {'_train_seed': 0,\n",
       "  '_custom_crop': 'my-top-crop',\n",
       "  '_resize_method': 'crop',\n",
       "  '_test_path': Path('../../../other-chess-data/regulation-test-2-easy'),\n",
       "  '_test_name': 'test-regulation-2-easy'},\n",
       " {'_train_seed': 1,\n",
       "  '_custom_crop': 'my-top-crop',\n",
       "  '_resize_method': 'crop',\n",
       "  '_test_path': Path('../../../other-chess-data/regulation-test-2-easy'),\n",
       "  '_test_name': 'test-regulation-2-easy'}]"
      ]
     },
     "execution_count": 6,
     "metadata": {},
     "output_type": "execute_result"
    }
   ],
   "source": [
    "crop_params"
   ]
  },
  {
   "cell_type": "code",
   "execution_count": 7,
   "metadata": {},
   "outputs": [
    {
     "name": "stdout",
     "output_type": "stream",
     "text": [
      "starting training...\n"
     ]
    },
    {
     "data": {
      "text/html": [],
      "text/plain": [
       "<IPython.core.display.HTML object>"
      ]
     },
     "metadata": {},
     "output_type": "display_data"
    },
    {
     "data": {
      "text/html": [],
      "text/plain": [
       "<IPython.core.display.HTML object>"
      ]
     },
     "metadata": {},
     "output_type": "display_data"
    },
    {
     "data": {
      "text/html": [],
      "text/plain": [
       "<IPython.core.display.HTML object>"
      ]
     },
     "metadata": {},
     "output_type": "display_data"
    },
    {
     "name": "stdout",
     "output_type": "stream",
     "text": [
      "saving to name_base: basicexp-14\n",
      "Finished with:\n",
      "\n",
      "{'valid_loss': 0.08265125751495361, 'accuracy': 0.9912891983985901}\n",
      "{'test_loss': 0.6368991732597351, 'test_accuracy': 0.7716049551963806}\n"
     ]
    },
    {
     "data": {
      "text/html": [],
      "text/plain": [
       "<IPython.core.display.HTML object>"
      ]
     },
     "metadata": {},
     "output_type": "display_data"
    },
    {
     "data": {
      "text/html": [],
      "text/plain": [
       "<IPython.core.display.HTML object>"
      ]
     },
     "metadata": {},
     "output_type": "display_data"
    },
    {
     "name": "stdout",
     "output_type": "stream",
     "text": [
      "finished in 332.77 secs\n",
      "\n",
      "starting training...\n"
     ]
    },
    {
     "data": {
      "text/html": [],
      "text/plain": [
       "<IPython.core.display.HTML object>"
      ]
     },
     "metadata": {},
     "output_type": "display_data"
    },
    {
     "data": {
      "text/html": [],
      "text/plain": [
       "<IPython.core.display.HTML object>"
      ]
     },
     "metadata": {},
     "output_type": "display_data"
    },
    {
     "data": {
      "text/html": [],
      "text/plain": [
       "<IPython.core.display.HTML object>"
      ]
     },
     "metadata": {},
     "output_type": "display_data"
    },
    {
     "name": "stdout",
     "output_type": "stream",
     "text": [
      "saving to name_base: basicexp-15\n",
      "Finished with:\n",
      "\n",
      "{'valid_loss': 0.0941808670759201, 'accuracy': 0.9895470142364502}\n",
      "{'test_loss': 0.6436266899108887, 'test_accuracy': 0.790123462677002}\n"
     ]
    },
    {
     "data": {
      "text/html": [],
      "text/plain": [
       "<IPython.core.display.HTML object>"
      ]
     },
     "metadata": {},
     "output_type": "display_data"
    },
    {
     "data": {
      "text/html": [],
      "text/plain": [
       "<IPython.core.display.HTML object>"
      ]
     },
     "metadata": {},
     "output_type": "display_data"
    },
    {
     "name": "stdout",
     "output_type": "stream",
     "text": [
      "finished in 329.88 secs\n",
      "\n",
      "starting training...\n"
     ]
    },
    {
     "data": {
      "text/html": [],
      "text/plain": [
       "<IPython.core.display.HTML object>"
      ]
     },
     "metadata": {},
     "output_type": "display_data"
    },
    {
     "data": {
      "text/html": [],
      "text/plain": [
       "<IPython.core.display.HTML object>"
      ]
     },
     "metadata": {},
     "output_type": "display_data"
    },
    {
     "data": {
      "text/html": [],
      "text/plain": [
       "<IPython.core.display.HTML object>"
      ]
     },
     "metadata": {},
     "output_type": "display_data"
    },
    {
     "name": "stdout",
     "output_type": "stream",
     "text": [
      "saving to name_base: basicexp-16\n",
      "Finished with:\n",
      "\n",
      "{'valid_loss': 0.07876937836408615, 'accuracy': 0.99303138256073}\n",
      "{'test_loss': 0.2707425653934479, 'test_accuracy': 0.9074074029922485}\n"
     ]
    },
    {
     "data": {
      "text/html": [],
      "text/plain": [
       "<IPython.core.display.HTML object>"
      ]
     },
     "metadata": {},
     "output_type": "display_data"
    },
    {
     "data": {
      "text/html": [],
      "text/plain": [
       "<IPython.core.display.HTML object>"
      ]
     },
     "metadata": {},
     "output_type": "display_data"
    },
    {
     "name": "stdout",
     "output_type": "stream",
     "text": [
      "finished in 327.17 secs\n",
      "\n",
      "starting training...\n"
     ]
    },
    {
     "data": {
      "text/html": [],
      "text/plain": [
       "<IPython.core.display.HTML object>"
      ]
     },
     "metadata": {},
     "output_type": "display_data"
    },
    {
     "data": {
      "text/html": [],
      "text/plain": [
       "<IPython.core.display.HTML object>"
      ]
     },
     "metadata": {},
     "output_type": "display_data"
    },
    {
     "data": {
      "text/html": [],
      "text/plain": [
       "<IPython.core.display.HTML object>"
      ]
     },
     "metadata": {},
     "output_type": "display_data"
    },
    {
     "name": "stdout",
     "output_type": "stream",
     "text": [
      "saving to name_base: basicexp-17\n",
      "Finished with:\n",
      "\n",
      "{'valid_loss': 0.08368194103240967, 'accuracy': 0.99303138256073}\n",
      "{'test_loss': 0.31700119376182556, 'test_accuracy': 0.8888888955116272}\n"
     ]
    },
    {
     "data": {
      "text/html": [],
      "text/plain": [
       "<IPython.core.display.HTML object>"
      ]
     },
     "metadata": {},
     "output_type": "display_data"
    },
    {
     "data": {
      "text/html": [],
      "text/plain": [
       "<IPython.core.display.HTML object>"
      ]
     },
     "metadata": {},
     "output_type": "display_data"
    },
    {
     "name": "stdout",
     "output_type": "stream",
     "text": [
      "finished in 325.8 secs\n",
      "\n"
     ]
    }
   ],
   "source": [
    "for param in crop_params:\n",
    "    \n",
    "    run_params = default_params.copy()\n",
    "    run_params.update(param)\n",
    "    \n",
    "    run_exp(run_params, \n",
    "            name_base='basicexp',\n",
    "            b_msg=True, \n",
    "            b_cuda=True)"
   ]
  },
  {
   "cell_type": "code",
   "execution_count": null,
   "metadata": {},
   "outputs": [],
   "source": []
  },
  {
   "cell_type": "markdown",
   "metadata": {},
   "source": [
    "##### Plot results"
   ]
  },
  {
   "cell_type": "code",
   "execution_count": null,
   "metadata": {},
   "outputs": [],
   "source": []
  }
 ],
 "metadata": {
  "kernelspec": {
   "display_name": "march21",
   "language": "python",
   "name": "march21"
  },
  "language_info": {
   "codemirror_mode": {
    "name": "ipython",
    "version": 3
   },
   "file_extension": ".py",
   "mimetype": "text/x-python",
   "name": "python",
   "nbconvert_exporter": "python",
   "pygments_lexer": "ipython3",
   "version": "3.7.6"
  }
 },
 "nbformat": 4,
 "nbformat_minor": 2
}
