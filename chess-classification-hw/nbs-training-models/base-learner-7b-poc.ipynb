{
 "cells": [
  {
   "cell_type": "markdown",
   "metadata": {},
   "source": [
    "### Base Learner 7b  - Proof of Concept\n",
    "Prove that we can emulate base-learner-6 (96% acc) by loading a fit10 model and then applying the finetune on top."
   ]
  },
  {
   "cell_type": "code",
   "execution_count": 1,
   "metadata": {},
   "outputs": [],
   "source": [
    "from fastai2.vision.all import *\n",
    "import sys, torch\n",
    "sys.path.append('..')\n",
    "\n",
    "torch.backends.cudnn.deterministic = True\n",
    "torch.backends.cudnn.benchmark = False\n",
    "\n",
    "\n",
    "# %load_ext autoreload\n",
    "# %autoreload 2\n",
    "\n",
    "from modules.expbuilder import default_params, run_exp, rm_test_recorder\n",
    "\n",
    "train_path = Path('../../../rf-chess-data/cropped_v1/')\n",
    "train_clean_path = Path('../../../rf-chess-data/cropped_v1.1/')\n",
    "\n",
    "test_path_all = Path('../../../other-chess-data/regulation-test-2-all/')\n",
    "test_path_easy = Path('../../../other-chess-data/regulation-test-2-easy/')"
   ]
  },
  {
   "cell_type": "code",
   "execution_count": 2,
   "metadata": {},
   "outputs": [],
   "source": [
    "learn = load_learner('../models/base-learner7-fit10.pkl')"
   ]
  },
  {
   "cell_type": "code",
   "execution_count": 3,
   "metadata": {},
   "outputs": [
    {
     "data": {
      "text/plain": [
       "Path('../models')"
      ]
     },
     "execution_count": 3,
     "metadata": {},
     "output_type": "execute_result"
    }
   ],
   "source": [
    "learn.path"
   ]
  },
  {
   "cell_type": "code",
   "execution_count": 4,
   "metadata": {},
   "outputs": [],
   "source": [
    "learn.path = Path('../../../rf-chess-data/cropped_v1.1')"
   ]
  },
  {
   "cell_type": "code",
   "execution_count": 5,
   "metadata": {},
   "outputs": [],
   "source": [
    "my_params = {'_train_seed':0, '_custom_crop': 'my-top-crop', \n",
    "             '_model_arch': resnet50,\n",
    "            '_train_path':train_clean_path,\n",
    "            '_learn_norm': False,\n",
    "            }\n",
    "default_params.update(my_params)\n",
    "\n",
    "set_seed(42)\n",
    "train_dl, learn_fresh = run_exp(default_params, 'dummy', b_ret=True,)"
   ]
  },
  {
   "cell_type": "code",
   "execution_count": 6,
   "metadata": {},
   "outputs": [
    {
     "data": {
      "text/plain": [
       "(#4) [TrainEvalCallback,Recorder,ProgressCallback,TestSetRecorder]"
      ]
     },
     "execution_count": 6,
     "metadata": {},
     "output_type": "execute_result"
    }
   ],
   "source": [
    "learn.cbs"
   ]
  },
  {
   "cell_type": "code",
   "execution_count": 7,
   "metadata": {},
   "outputs": [
    {
     "data": {
      "text/plain": [
       "TestSetRecorder"
      ]
     },
     "execution_count": 7,
     "metadata": {},
     "output_type": "execute_result"
    }
   ],
   "source": [
    "learn.cbs.pop(3)"
   ]
  },
  {
   "cell_type": "code",
   "execution_count": 8,
   "metadata": {},
   "outputs": [
    {
     "data": {
      "text/plain": [
       "(#3) [TrainEvalCallback,Recorder,ProgressCallback]"
      ]
     },
     "execution_count": 8,
     "metadata": {},
     "output_type": "execute_result"
    }
   ],
   "source": [
    "learn.cbs"
   ]
  },
  {
   "cell_type": "code",
   "execution_count": 9,
   "metadata": {},
   "outputs": [],
   "source": [
    "learn.dls = learn_fresh.dls"
   ]
  },
  {
   "cell_type": "markdown",
   "metadata": {},
   "source": [
    "### Assess Loaded Model"
   ]
  },
  {
   "cell_type": "code",
   "execution_count": 10,
   "metadata": {},
   "outputs": [
    {
     "data": {
      "text/html": [],
      "text/plain": [
       "<IPython.core.display.HTML object>"
      ]
     },
     "metadata": {},
     "output_type": "display_data"
    },
    {
     "name": "stdout",
     "output_type": "stream",
     "text": [
      "              precision    recall  f1-score   support\n",
      "\n",
      "black-bishop       0.85      0.79      0.81        14\n",
      "  black-king       0.83      0.91      0.87        11\n",
      "black-knight       0.80      1.00      0.89        12\n",
      "  black-pawn       0.84      1.00      0.91        16\n",
      " black-queen       1.00      0.31      0.47        13\n",
      "  black-rook       0.71      1.00      0.83        12\n",
      "white-bishop       0.59      0.83      0.69        12\n",
      "  white-king       0.73      0.79      0.76        14\n",
      "white-knight       0.88      0.93      0.90        15\n",
      "  white-pawn       0.88      0.93      0.90        15\n",
      " white-queen       1.00      0.21      0.35        14\n",
      "  white-rook       0.80      0.86      0.83        14\n",
      "\n",
      "    accuracy                           0.80       162\n",
      "   macro avg       0.82      0.80      0.77       162\n",
      "weighted avg       0.83      0.80      0.77       162\n",
      "\n"
     ]
    },
    {
     "data": {
      "image/png": "[encoded data removed]",
      "text/plain": [
       "<Figure size 432x288 with 1 Axes>"
      ]
     },
     "metadata": {
      "needs_background": "light"
     },
     "output_type": "display_data"
    }
   ],
   "source": [
    "easy_test_dl = learn.dls.test_dl(get_image_files(test_path_easy), \n",
    "                                 with_labels=True)\n",
    "\n",
    "interp = ClassificationInterpretation.from_learner(learn, \n",
    "                                                  dl = easy_test_dl)\n",
    "\n",
    "interp.print_classification_report()\n",
    "\n",
    "interp.plot_confusion_matrix()"
   ]
  },
  {
   "cell_type": "markdown",
   "metadata": {},
   "source": [
    "### Continuing Fitting"
   ]
  },
  {
   "cell_type": "code",
   "execution_count": 11,
   "metadata": {},
   "outputs": [],
   "source": [
    "from modules.learnutils import TestSetRecorder"
   ]
  },
  {
   "cell_type": "code",
   "execution_count": 12,
   "metadata": {},
   "outputs": [
    {
     "data": {
      "text/plain": [
       "<fastai2.learner.Learner at 0x7f59104a2e90>"
      ]
     },
     "execution_count": 12,
     "metadata": {},
     "output_type": "execute_result"
    }
   ],
   "source": [
    "learn.add_cb(TestSetRecorder())"
   ]
  },
  {
   "cell_type": "code",
   "execution_count": 13,
   "metadata": {},
   "outputs": [
    {
     "data": {
      "text/plain": [
       "(#4) [TrainEvalCallback,Recorder,ProgressCallback,TestSetRecorder]"
      ]
     },
     "execution_count": 13,
     "metadata": {},
     "output_type": "execute_result"
    }
   ],
   "source": [
    "learn.cbs"
   ]
  },
  {
   "cell_type": "code",
   "execution_count": 14,
   "metadata": {},
   "outputs": [
    {
     "data": {
      "text/html": [],
      "text/plain": [
       "<IPython.core.display.HTML object>"
      ]
     },
     "metadata": {},
     "output_type": "display_data"
    },
    {
     "data": {
      "text/html": [],
      "text/plain": [
       "<IPython.core.display.HTML object>"
      ]
     },
     "metadata": {},
     "output_type": "display_data"
    }
   ],
   "source": [
    "set_seed(42)\n",
    "with learn.no_logging(): learn.fine_tune(20)"
   ]
  },
  {
   "cell_type": "code",
   "execution_count": 15,
   "metadata": {},
   "outputs": [
    {
     "data": {
      "text/html": [
       "<div>\n",
       "<style scoped>\n",
       "    .dataframe tbody tr th:only-of-type {\n",
       "        vertical-align: middle;\n",
       "    }\n",
       "\n",
       "    .dataframe tbody tr th {\n",
       "        vertical-align: top;\n",
       "    }\n",
       "\n",
       "    .dataframe thead th {\n",
       "        text-align: right;\n",
       "    }\n",
       "</style>\n",
       "<table border=\"1\" class=\"dataframe\">\n",
       "  <thead>\n",
       "    <tr style=\"text-align: right;\">\n",
       "      <th></th>\n",
       "      <th>0</th>\n",
       "      <th>1</th>\n",
       "      <th>2</th>\n",
       "      <th>3</th>\n",
       "    </tr>\n",
       "  </thead>\n",
       "  <tbody>\n",
       "    <tr>\n",
       "      <th>0</th>\n",
       "      <td>0.967428</td>\n",
       "      <td>0.732456</td>\n",
       "      <td>0.964912</td>\n",
       "      <td>0.780702</td>\n",
       "    </tr>\n",
       "    <tr>\n",
       "      <th>1</th>\n",
       "      <td>0.807136</td>\n",
       "      <td>0.736842</td>\n",
       "      <td>0.969298</td>\n",
       "      <td>0.780702</td>\n",
       "    </tr>\n",
       "    <tr>\n",
       "      <th>2</th>\n",
       "      <td>0.796439</td>\n",
       "      <td>0.767544</td>\n",
       "      <td>0.956140</td>\n",
       "      <td>0.815789</td>\n",
       "    </tr>\n",
       "    <tr>\n",
       "      <th>3</th>\n",
       "      <td>0.742108</td>\n",
       "      <td>0.785088</td>\n",
       "      <td>0.973684</td>\n",
       "      <td>0.820175</td>\n",
       "    </tr>\n",
       "    <tr>\n",
       "      <th>4</th>\n",
       "      <td>0.824949</td>\n",
       "      <td>0.741228</td>\n",
       "      <td>0.956140</td>\n",
       "      <td>0.807018</td>\n",
       "    </tr>\n",
       "    <tr>\n",
       "      <th>5</th>\n",
       "      <td>1.001205</td>\n",
       "      <td>0.741228</td>\n",
       "      <td>0.986842</td>\n",
       "      <td>0.776316</td>\n",
       "    </tr>\n",
       "    <tr>\n",
       "      <th>6</th>\n",
       "      <td>0.725388</td>\n",
       "      <td>0.798246</td>\n",
       "      <td>0.969298</td>\n",
       "      <td>0.842105</td>\n",
       "    </tr>\n",
       "    <tr>\n",
       "      <th>7</th>\n",
       "      <td>0.640379</td>\n",
       "      <td>0.820175</td>\n",
       "      <td>0.982456</td>\n",
       "      <td>0.842105</td>\n",
       "    </tr>\n",
       "    <tr>\n",
       "      <th>8</th>\n",
       "      <td>0.725513</td>\n",
       "      <td>0.811404</td>\n",
       "      <td>0.973684</td>\n",
       "      <td>0.846491</td>\n",
       "    </tr>\n",
       "    <tr>\n",
       "      <th>9</th>\n",
       "      <td>0.860195</td>\n",
       "      <td>0.793860</td>\n",
       "      <td>0.991228</td>\n",
       "      <td>0.807018</td>\n",
       "    </tr>\n",
       "    <tr>\n",
       "      <th>10</th>\n",
       "      <td>0.685766</td>\n",
       "      <td>0.807018</td>\n",
       "      <td>0.991228</td>\n",
       "      <td>0.824561</td>\n",
       "    </tr>\n",
       "    <tr>\n",
       "      <th>11</th>\n",
       "      <td>0.513537</td>\n",
       "      <td>0.864035</td>\n",
       "      <td>1.000000</td>\n",
       "      <td>0.881579</td>\n",
       "    </tr>\n",
       "    <tr>\n",
       "      <th>12</th>\n",
       "      <td>0.510603</td>\n",
       "      <td>0.872807</td>\n",
       "      <td>0.995614</td>\n",
       "      <td>0.881579</td>\n",
       "    </tr>\n",
       "    <tr>\n",
       "      <th>13</th>\n",
       "      <td>0.631620</td>\n",
       "      <td>0.824561</td>\n",
       "      <td>0.995614</td>\n",
       "      <td>0.828947</td>\n",
       "    </tr>\n",
       "    <tr>\n",
       "      <th>14</th>\n",
       "      <td>0.560330</td>\n",
       "      <td>0.824561</td>\n",
       "      <td>0.973684</td>\n",
       "      <td>0.855263</td>\n",
       "    </tr>\n",
       "    <tr>\n",
       "      <th>15</th>\n",
       "      <td>0.557558</td>\n",
       "      <td>0.824561</td>\n",
       "      <td>1.000000</td>\n",
       "      <td>0.837719</td>\n",
       "    </tr>\n",
       "    <tr>\n",
       "      <th>16</th>\n",
       "      <td>0.519153</td>\n",
       "      <td>0.828947</td>\n",
       "      <td>0.991228</td>\n",
       "      <td>0.842105</td>\n",
       "    </tr>\n",
       "    <tr>\n",
       "      <th>17</th>\n",
       "      <td>0.585282</td>\n",
       "      <td>0.837719</td>\n",
       "      <td>1.000000</td>\n",
       "      <td>0.846491</td>\n",
       "    </tr>\n",
       "    <tr>\n",
       "      <th>18</th>\n",
       "      <td>0.506060</td>\n",
       "      <td>0.846491</td>\n",
       "      <td>1.000000</td>\n",
       "      <td>0.855263</td>\n",
       "    </tr>\n",
       "    <tr>\n",
       "      <th>19</th>\n",
       "      <td>0.539108</td>\n",
       "      <td>0.842105</td>\n",
       "      <td>1.000000</td>\n",
       "      <td>0.855263</td>\n",
       "    </tr>\n",
       "    <tr>\n",
       "      <th>20</th>\n",
       "      <td>0.537673</td>\n",
       "      <td>0.846491</td>\n",
       "      <td>1.000000</td>\n",
       "      <td>0.859649</td>\n",
       "    </tr>\n",
       "  </tbody>\n",
       "</table>\n",
       "</div>"
      ],
      "text/plain": [
       "           0         1         2         3\n",
       "0   0.967428  0.732456  0.964912  0.780702\n",
       "1   0.807136  0.736842  0.969298  0.780702\n",
       "2   0.796439  0.767544  0.956140  0.815789\n",
       "3   0.742108  0.785088  0.973684  0.820175\n",
       "4   0.824949  0.741228  0.956140  0.807018\n",
       "5   1.001205  0.741228  0.986842  0.776316\n",
       "6   0.725388  0.798246  0.969298  0.842105\n",
       "7   0.640379  0.820175  0.982456  0.842105\n",
       "8   0.725513  0.811404  0.973684  0.846491\n",
       "9   0.860195  0.793860  0.991228  0.807018\n",
       "10  0.685766  0.807018  0.991228  0.824561\n",
       "11  0.513537  0.864035  1.000000  0.881579\n",
       "12  0.510603  0.872807  0.995614  0.881579\n",
       "13  0.631620  0.824561  0.995614  0.828947\n",
       "14  0.560330  0.824561  0.973684  0.855263\n",
       "15  0.557558  0.824561  1.000000  0.837719\n",
       "16  0.519153  0.828947  0.991228  0.842105\n",
       "17  0.585282  0.837719  1.000000  0.846491\n",
       "18  0.506060  0.846491  1.000000  0.855263\n",
       "19  0.539108  0.842105  1.000000  0.855263\n",
       "20  0.537673  0.846491  1.000000  0.859649"
      ]
     },
     "execution_count": 15,
     "metadata": {},
     "output_type": "execute_result"
    }
   ],
   "source": [
    "pd.DataFrame(learn.cbs[3].values)"
   ]
  },
  {
   "cell_type": "markdown",
   "metadata": {},
   "source": [
    "##### Don't forget to pop-off the Test Recorder before doing interp"
   ]
  },
  {
   "cell_type": "code",
   "execution_count": 16,
   "metadata": {},
   "outputs": [
    {
     "data": {
      "text/plain": [
       "(#4) [TrainEvalCallback,Recorder,ProgressCallback,TestSetRecorder]"
      ]
     },
     "execution_count": 16,
     "metadata": {},
     "output_type": "execute_result"
    }
   ],
   "source": [
    "learn.cbs"
   ]
  },
  {
   "cell_type": "code",
   "execution_count": 17,
   "metadata": {},
   "outputs": [
    {
     "data": {
      "text/plain": [
       "TestSetRecorder"
      ]
     },
     "execution_count": 17,
     "metadata": {},
     "output_type": "execute_result"
    }
   ],
   "source": [
    "learn.cbs.pop(3)"
   ]
  },
  {
   "cell_type": "code",
   "execution_count": 18,
   "metadata": {},
   "outputs": [
    {
     "data": {
      "text/html": [],
      "text/plain": [
       "<IPython.core.display.HTML object>"
      ]
     },
     "metadata": {},
     "output_type": "display_data"
    },
    {
     "name": "stdout",
     "output_type": "stream",
     "text": [
      "              precision    recall  f1-score   support\n",
      "\n",
      "black-bishop       1.00      0.93      0.96        14\n",
      "  black-king       0.90      0.82      0.86        11\n",
      "black-knight       1.00      1.00      1.00        12\n",
      "  black-pawn       1.00      1.00      1.00        16\n",
      " black-queen       0.80      0.62      0.70        13\n",
      "  black-rook       0.71      1.00      0.83        12\n",
      "white-bishop       0.80      1.00      0.89        12\n",
      "  white-king       1.00      0.79      0.88        14\n",
      "white-knight       1.00      1.00      1.00        15\n",
      "  white-pawn       1.00      1.00      1.00        15\n",
      " white-queen       0.89      0.57      0.70        14\n",
      "  white-rook       0.74      1.00      0.85        14\n",
      "\n",
      "    accuracy                           0.90       162\n",
      "   macro avg       0.90      0.89      0.89       162\n",
      "weighted avg       0.91      0.90      0.89       162\n",
      "\n"
     ]
    },
    {
     "data": {
      "image/png": "[encoded data removed]",
      "text/plain": [
       "<Figure size 432x288 with 1 Axes>"
      ]
     },
     "metadata": {
      "needs_background": "light"
     },
     "output_type": "display_data"
    }
   ],
   "source": [
    "easy_test_dl = learn.dls.test_dl(get_image_files(test_path_easy), \n",
    "                                 with_labels=True)\n",
    "\n",
    "interp = ClassificationInterpretation.from_learner(learn, \n",
    "                                                  dl = easy_test_dl)\n",
    "\n",
    "interp.print_classification_report()\n",
    "\n",
    "interp.plot_confusion_matrix()"
   ]
  },
  {
   "cell_type": "code",
   "execution_count": 19,
   "metadata": {},
   "outputs": [
    {
     "data": {
      "text/plain": [
       "device(type='cuda', index=0)"
      ]
     },
     "execution_count": 19,
     "metadata": {},
     "output_type": "execute_result"
    }
   ],
   "source": [
    "learn.dls.device"
   ]
  },
  {
   "cell_type": "code",
   "execution_count": 21,
   "metadata": {},
   "outputs": [
    {
     "data": {
      "text/plain": [
       "Pipeline: IntToFloatTensor -> AffineCoordTfm -> LightingTfm"
      ]
     },
     "execution_count": 21,
     "metadata": {},
     "output_type": "execute_result"
    }
   ],
   "source": [
    "learn.dls[0].after_batch"
   ]
  },
  {
   "cell_type": "code",
   "execution_count": null,
   "metadata": {},
   "outputs": [],
   "source": []
  }
 ],
 "metadata": {
  "kernelspec": {
   "display_name": "march21",
   "language": "python",
   "name": "march21"
  },
  "language_info": {
   "codemirror_mode": {
    "name": "ipython",
    "version": 3
   },
   "file_extension": ".py",
   "mimetype": "text/x-python",
   "name": "python",
   "nbconvert_exporter": "python",
   "pygments_lexer": "ipython3",
   "version": "3.7.6"
  }
 },
 "nbformat": 4,
 "nbformat_minor": 2
}
