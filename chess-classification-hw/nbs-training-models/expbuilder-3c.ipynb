{
 "cells": [
  {
   "cell_type": "markdown",
   "metadata": {},
   "source": [
    "### Compare data size\n",
    "Two seed, A vs B comparison run, on test-2-all\n",
    "\n",
    "Comparison: \n",
    " - My-Augs are already in `default_params`.\n",
    "\n",
    " - These are the default values built into fastai:\n",
    "```\n",
    "mult=1.0,\n",
    "max_rotate=10.0,\n",
    "max_lighting=0.2,\n",
    "max_warp=0.2,\n",
    "p_lighting=0.75,\n",
    "pad_mode='reflection'\n",
    "```"
   ]
  },
  {
   "cell_type": "code",
   "execution_count": 1,
   "metadata": {},
   "outputs": [],
   "source": [
    "from fastai2.vision.all import *\n",
    "import sys\n",
    "sys.path.append('..')\n",
    "\n",
    "%load_ext autoreload\n",
    "%autoreload 2\n",
    "\n",
    "from modules.expbuilder import default_params, run_exp\n",
    "\n",
    "train_path = Path('../../../rf-chess-data/cropped_v1/')\n",
    "# train_path = Path('../../../rf-chess-data/cropped_v1.1/')\n",
    "\n",
    "test_path_all = Path('../../../other-chess-data/regulation-test-2-all/')\n",
    "test_path_easy = Path('../../../other-chess-data/regulation-test-2-easy/')"
   ]
  },
  {
   "cell_type": "code",
   "execution_count": 2,
   "metadata": {},
   "outputs": [
    {
     "data": {
      "text/plain": [
       "2874"
      ]
     },
     "execution_count": 2,
     "metadata": {},
     "output_type": "execute_result"
    }
   ],
   "source": [
    "len(train_path.ls())"
   ]
  },
  {
   "cell_type": "markdown",
   "metadata": {},
   "source": [
    "##### Run two demo runs"
   ]
  },
  {
   "cell_type": "code",
   "execution_count": 3,
   "metadata": {
    "collapsed": true
   },
   "outputs": [
    {
     "data": {
      "text/plain": [
       "{'_expdesign_name': 'notnamed',\n",
       " '_condition_name': 'notnamed',\n",
       " '_train_name': 'rf-v1-crops',\n",
       " '_test_name': 'test-regulation-2-all',\n",
       " '_train_path': Path('../../../rf-chess-data/cropped_v1'),\n",
       " '_test_path': Path('../../../other-chess-data/regulation-test-2-all'),\n",
       " '_model_arch': <function torchvision.models.resnet.resnet50(pretrained=False, progress=True, **kwargs)>,\n",
       " '_fit_one_cycle_epochs': 10,\n",
       " '_fine_tune_epochs': 15,\n",
       " '_train_seed': 0,\n",
       " '_valid_pct': 0.2,\n",
       " '_mult': 1.0,\n",
       " '_max_lighting': 0.9,\n",
       " '_max_warp': 0.4,\n",
       " '_max_rotate': 20.0,\n",
       " '_resize_method': 'pad',\n",
       " '_pad_mode': 'reflection',\n",
       " '_bs': 32,\n",
       " '_p_lighting': 0.75,\n",
       " '_custom_crop': None,\n",
       " '_custom_train_fnames': None,\n",
       " '_custom_train_fnames_args': {}}"
      ]
     },
     "execution_count": 3,
     "metadata": {},
     "output_type": "execute_result"
    }
   ],
   "source": [
    "default_params"
   ]
  },
  {
   "cell_type": "code",
   "execution_count": 4,
   "metadata": {},
   "outputs": [],
   "source": [
    "seeds = [0,1]\n",
    "\n",
    "grid_params = [\n",
    "    {'_expdesign_name': 'data-amount',\n",
    "     '_condition_name': f'n={_n}',\n",
    "     '_test_name': 'test-regulation-2-easy',\n",
    "     '_test_path': test_path_easy,\n",
    "     '_custom_train_fnames': 'stratify',\n",
    "     '_custom_train_fnames_args': {'path':train_path, \n",
    "                                   'n':_n, \n",
    "                                   'np_seed':seed},\n",
    "     '_train_seed': seed,\n",
    "    }  \n",
    "    for _n in (800, 1400, 2200)\n",
    "    for seed in seeds]"
   ]
  },
  {
   "cell_type": "code",
   "execution_count": 5,
   "metadata": {},
   "outputs": [
    {
     "data": {
      "text/plain": [
       "[{'_expdesign_name': 'data-amount',\n",
       "  '_condition_name': 'n=800',\n",
       "  '_test_name': 'test-regulation-2-easy',\n",
       "  '_test_path': Path('../../../other-chess-data/regulation-test-2-easy'),\n",
       "  '_custom_train_fnames': 'stratify',\n",
       "  '_custom_train_fnames_args': {'path': Path('../../../rf-chess-data/cropped_v1'),\n",
       "   'n': 800,\n",
       "   'np_seed': 0},\n",
       "  '_train_seed': 0},\n",
       " {'_expdesign_name': 'data-amount',\n",
       "  '_condition_name': 'n=800',\n",
       "  '_test_name': 'test-regulation-2-easy',\n",
       "  '_test_path': Path('../../../other-chess-data/regulation-test-2-easy'),\n",
       "  '_custom_train_fnames': 'stratify',\n",
       "  '_custom_train_fnames_args': {'path': Path('../../../rf-chess-data/cropped_v1'),\n",
       "   'n': 800,\n",
       "   'np_seed': 1},\n",
       "  '_train_seed': 1},\n",
       " {'_expdesign_name': 'data-amount',\n",
       "  '_condition_name': 'n=1400',\n",
       "  '_test_name': 'test-regulation-2-easy',\n",
       "  '_test_path': Path('../../../other-chess-data/regulation-test-2-easy'),\n",
       "  '_custom_train_fnames': 'stratify',\n",
       "  '_custom_train_fnames_args': {'path': Path('../../../rf-chess-data/cropped_v1'),\n",
       "   'n': 1400,\n",
       "   'np_seed': 0},\n",
       "  '_train_seed': 0},\n",
       " {'_expdesign_name': 'data-amount',\n",
       "  '_condition_name': 'n=1400',\n",
       "  '_test_name': 'test-regulation-2-easy',\n",
       "  '_test_path': Path('../../../other-chess-data/regulation-test-2-easy'),\n",
       "  '_custom_train_fnames': 'stratify',\n",
       "  '_custom_train_fnames_args': {'path': Path('../../../rf-chess-data/cropped_v1'),\n",
       "   'n': 1400,\n",
       "   'np_seed': 1},\n",
       "  '_train_seed': 1},\n",
       " {'_expdesign_name': 'data-amount',\n",
       "  '_condition_name': 'n=2200',\n",
       "  '_test_name': 'test-regulation-2-easy',\n",
       "  '_test_path': Path('../../../other-chess-data/regulation-test-2-easy'),\n",
       "  '_custom_train_fnames': 'stratify',\n",
       "  '_custom_train_fnames_args': {'path': Path('../../../rf-chess-data/cropped_v1'),\n",
       "   'n': 2200,\n",
       "   'np_seed': 0},\n",
       "  '_train_seed': 0},\n",
       " {'_expdesign_name': 'data-amount',\n",
       "  '_condition_name': 'n=2200',\n",
       "  '_test_name': 'test-regulation-2-easy',\n",
       "  '_test_path': Path('../../../other-chess-data/regulation-test-2-easy'),\n",
       "  '_custom_train_fnames': 'stratify',\n",
       "  '_custom_train_fnames_args': {'path': Path('../../../rf-chess-data/cropped_v1'),\n",
       "   'n': 2200,\n",
       "   'np_seed': 1},\n",
       "  '_train_seed': 1}]"
      ]
     },
     "execution_count": 5,
     "metadata": {},
     "output_type": "execute_result"
    }
   ],
   "source": [
    "grid_params"
   ]
  },
  {
   "cell_type": "code",
   "execution_count": 6,
   "metadata": {
    "scrolled": false
   },
   "outputs": [
    {
     "name": "stdout",
     "output_type": "stream",
     "text": [
      "starting training...\n"
     ]
    },
    {
     "data": {
      "text/html": [],
      "text/plain": [
       "<IPython.core.display.HTML object>"
      ]
     },
     "metadata": {},
     "output_type": "display_data"
    },
    {
     "data": {
      "text/html": [],
      "text/plain": [
       "<IPython.core.display.HTML object>"
      ]
     },
     "metadata": {},
     "output_type": "display_data"
    },
    {
     "data": {
      "text/html": [],
      "text/plain": [
       "<IPython.core.display.HTML object>"
      ]
     },
     "metadata": {},
     "output_type": "display_data"
    },
    {
     "name": "stdout",
     "output_type": "stream",
     "text": [
      "saving to name_base: basicexp-39\n",
      "Finished with:\n",
      "\n",
      "{'valid_loss': 0.06052057072520256, 'accuracy': 0.9936708807945251}\n",
      "{'test_loss': 0.7070672512054443, 'test_accuracy': 0.7777777910232544}\n"
     ]
    },
    {
     "data": {
      "text/html": [],
      "text/plain": [
       "<IPython.core.display.HTML object>"
      ]
     },
     "metadata": {},
     "output_type": "display_data"
    },
    {
     "data": {
      "text/html": [],
      "text/plain": [
       "<IPython.core.display.HTML object>"
      ]
     },
     "metadata": {},
     "output_type": "display_data"
    },
    {
     "name": "stdout",
     "output_type": "stream",
     "text": [
      "finished in 119.77 secs\n",
      "\n",
      "starting training...\n"
     ]
    },
    {
     "data": {
      "text/html": [],
      "text/plain": [
       "<IPython.core.display.HTML object>"
      ]
     },
     "metadata": {},
     "output_type": "display_data"
    },
    {
     "data": {
      "text/html": [],
      "text/plain": [
       "<IPython.core.display.HTML object>"
      ]
     },
     "metadata": {},
     "output_type": "display_data"
    },
    {
     "data": {
      "text/html": [],
      "text/plain": [
       "<IPython.core.display.HTML object>"
      ]
     },
     "metadata": {},
     "output_type": "display_data"
    },
    {
     "name": "stdout",
     "output_type": "stream",
     "text": [
      "saving to name_base: basicexp-40\n",
      "Finished with:\n",
      "\n",
      "{'valid_loss': 0.010645275004208088, 'accuracy': 0.9936708807945251}\n",
      "{'test_loss': 0.7433488368988037, 'test_accuracy': 0.7407407164573669}\n"
     ]
    },
    {
     "data": {
      "text/html": [],
      "text/plain": [
       "<IPython.core.display.HTML object>"
      ]
     },
     "metadata": {},
     "output_type": "display_data"
    },
    {
     "data": {
      "text/html": [],
      "text/plain": [
       "<IPython.core.display.HTML object>"
      ]
     },
     "metadata": {},
     "output_type": "display_data"
    },
    {
     "name": "stdout",
     "output_type": "stream",
     "text": [
      "finished in 116.44 secs\n",
      "\n",
      "starting training...\n"
     ]
    },
    {
     "data": {
      "text/html": [],
      "text/plain": [
       "<IPython.core.display.HTML object>"
      ]
     },
     "metadata": {},
     "output_type": "display_data"
    },
    {
     "data": {
      "text/html": [],
      "text/plain": [
       "<IPython.core.display.HTML object>"
      ]
     },
     "metadata": {},
     "output_type": "display_data"
    },
    {
     "data": {
      "text/html": [],
      "text/plain": [
       "<IPython.core.display.HTML object>"
      ]
     },
     "metadata": {},
     "output_type": "display_data"
    },
    {
     "name": "stdout",
     "output_type": "stream",
     "text": [
      "saving to name_base: basicexp-41\n",
      "Finished with:\n",
      "\n",
      "{'valid_loss': 0.0890723392367363, 'accuracy': 0.9892086386680603}\n",
      "{'test_loss': 0.40794551372528076, 'test_accuracy': 0.8518518805503845}\n"
     ]
    },
    {
     "data": {
      "text/html": [],
      "text/plain": [
       "<IPython.core.display.HTML object>"
      ]
     },
     "metadata": {},
     "output_type": "display_data"
    },
    {
     "data": {
      "text/html": [],
      "text/plain": [
       "<IPython.core.display.HTML object>"
      ]
     },
     "metadata": {},
     "output_type": "display_data"
    },
    {
     "name": "stdout",
     "output_type": "stream",
     "text": [
      "finished in 181.25 secs\n",
      "\n",
      "starting training...\n"
     ]
    },
    {
     "data": {
      "text/html": [],
      "text/plain": [
       "<IPython.core.display.HTML object>"
      ]
     },
     "metadata": {},
     "output_type": "display_data"
    },
    {
     "data": {
      "text/html": [],
      "text/plain": [
       "<IPython.core.display.HTML object>"
      ]
     },
     "metadata": {},
     "output_type": "display_data"
    },
    {
     "data": {
      "text/html": [],
      "text/plain": [
       "<IPython.core.display.HTML object>"
      ]
     },
     "metadata": {},
     "output_type": "display_data"
    },
    {
     "name": "stdout",
     "output_type": "stream",
     "text": [
      "saving to name_base: basicexp-42\n",
      "Finished with:\n",
      "\n",
      "{'valid_loss': 0.02782459929585457, 'accuracy': 0.9964028596878052}\n",
      "{'test_loss': 0.4670140743255615, 'test_accuracy': 0.8518518805503845}\n"
     ]
    },
    {
     "data": {
      "text/html": [],
      "text/plain": [
       "<IPython.core.display.HTML object>"
      ]
     },
     "metadata": {},
     "output_type": "display_data"
    },
    {
     "data": {
      "text/html": [],
      "text/plain": [
       "<IPython.core.display.HTML object>"
      ]
     },
     "metadata": {},
     "output_type": "display_data"
    },
    {
     "name": "stdout",
     "output_type": "stream",
     "text": [
      "finished in 180.74 secs\n",
      "\n",
      "starting training...\n"
     ]
    },
    {
     "data": {
      "text/html": [],
      "text/plain": [
       "<IPython.core.display.HTML object>"
      ]
     },
     "metadata": {},
     "output_type": "display_data"
    },
    {
     "data": {
      "text/html": [],
      "text/plain": [
       "<IPython.core.display.HTML object>"
      ]
     },
     "metadata": {},
     "output_type": "display_data"
    },
    {
     "data": {
      "text/html": [],
      "text/plain": [
       "<IPython.core.display.HTML object>"
      ]
     },
     "metadata": {},
     "output_type": "display_data"
    },
    {
     "name": "stdout",
     "output_type": "stream",
     "text": [
      "saving to name_base: basicexp-43\n",
      "Finished with:\n",
      "\n",
      "{'valid_loss': 0.08906175941228867, 'accuracy': 0.9886105060577393}\n",
      "{'test_loss': 0.4799933135509491, 'test_accuracy': 0.845678985118866}\n"
     ]
    },
    {
     "data": {
      "text/html": [],
      "text/plain": [
       "<IPython.core.display.HTML object>"
      ]
     },
     "metadata": {},
     "output_type": "display_data"
    },
    {
     "data": {
      "text/html": [],
      "text/plain": [
       "<IPython.core.display.HTML object>"
      ]
     },
     "metadata": {},
     "output_type": "display_data"
    },
    {
     "name": "stdout",
     "output_type": "stream",
     "text": [
      "finished in 264.92 secs\n",
      "\n",
      "starting training...\n"
     ]
    },
    {
     "data": {
      "text/html": [],
      "text/plain": [
       "<IPython.core.display.HTML object>"
      ]
     },
     "metadata": {},
     "output_type": "display_data"
    },
    {
     "data": {
      "text/html": [],
      "text/plain": [
       "<IPython.core.display.HTML object>"
      ]
     },
     "metadata": {},
     "output_type": "display_data"
    },
    {
     "data": {
      "text/html": [],
      "text/plain": [
       "<IPython.core.display.HTML object>"
      ]
     },
     "metadata": {},
     "output_type": "display_data"
    },
    {
     "name": "stdout",
     "output_type": "stream",
     "text": [
      "saving to name_base: basicexp-44\n",
      "Finished with:\n",
      "\n",
      "{'valid_loss': 0.05757013335824013, 'accuracy': 0.9931662678718567}\n",
      "{'test_loss': 0.4810658097267151, 'test_accuracy': 0.8580247163772583}\n"
     ]
    },
    {
     "data": {
      "text/html": [],
      "text/plain": [
       "<IPython.core.display.HTML object>"
      ]
     },
     "metadata": {},
     "output_type": "display_data"
    },
    {
     "data": {
      "text/html": [],
      "text/plain": [
       "<IPython.core.display.HTML object>"
      ]
     },
     "metadata": {},
     "output_type": "display_data"
    },
    {
     "name": "stdout",
     "output_type": "stream",
     "text": [
      "finished in 263.87 secs\n",
      "\n"
     ]
    }
   ],
   "source": [
    "for param in grid_params:\n",
    "    \n",
    "    run_params = default_params.copy()\n",
    "    run_params.update(param)\n",
    "    \n",
    "    run_exp(run_params, \n",
    "            name_base='basicexp',\n",
    "            b_msg=True, \n",
    "            b_cuda=True)"
   ]
  },
  {
   "cell_type": "code",
   "execution_count": null,
   "metadata": {},
   "outputs": [],
   "source": []
  },
  {
   "cell_type": "markdown",
   "metadata": {},
   "source": [
    "##### Plot results"
   ]
  },
  {
   "cell_type": "code",
   "execution_count": null,
   "metadata": {},
   "outputs": [],
   "source": []
  }
 ],
 "metadata": {
  "kernelspec": {
   "display_name": "march21",
   "language": "python",
   "name": "march21"
  },
  "language_info": {
   "codemirror_mode": {
    "name": "ipython",
    "version": 3
   },
   "file_extension": ".py",
   "mimetype": "text/x-python",
   "name": "python",
   "nbconvert_exporter": "python",
   "pygments_lexer": "ipython3",
   "version": "3.7.6"
  }
 },
 "nbformat": 4,
 "nbformat_minor": 2
}
