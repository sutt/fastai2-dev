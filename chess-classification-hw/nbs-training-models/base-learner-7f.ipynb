{
 "cells": [
  {
   "cell_type": "markdown",
   "metadata": {},
   "source": [
    "### Base Learner 7f  - Load Fit10 Model, fit_once_cylce slice on top"
   ]
  },
  {
   "cell_type": "code",
   "execution_count": 7,
   "metadata": {},
   "outputs": [],
   "source": [
    "from fastai2.vision.all import *\n",
    "import sys, torch\n",
    "sys.path.append('..')\n",
    "\n",
    "torch.backends.cudnn.deterministic = True\n",
    "torch.backends.cudnn.benchmark = False\n",
    "\n",
    "\n",
    "# %load_ext autoreload\n",
    "# %autoreload 2\n",
    "from modules.learnutils import TestSetRecorder\n",
    "from modules.expbuilder import default_params, run_exp, rm_test_recorder\n",
    "\n",
    "train_path = Path('../../../rf-chess-data/cropped_v1/')\n",
    "train_clean_path = Path('../../../rf-chess-data/cropped_v1.1/')\n",
    "\n",
    "test_path_all = Path('../../../other-chess-data/regulation-test-2-all/')\n",
    "test_path_easy = Path('../../../other-chess-data/regulation-test-2-easy/')"
   ]
  },
  {
   "cell_type": "code",
   "execution_count": 8,
   "metadata": {
    "scrolled": false
   },
   "outputs": [
    {
     "data": {
      "text/plain": [
       "<fastai2.learner.Learner at 0x7f316c2c48d0>"
      ]
     },
     "execution_count": 8,
     "metadata": {},
     "output_type": "execute_result"
    }
   ],
   "source": [
    "learn = load_learner('../models/base-learner7-fit10.pkl')\n",
    "learn.path = Path('../../../rf-chess-data/cropped_v1.1')\n",
    "\n",
    "my_params = {'_train_seed':0, '_custom_crop': 'my-top-crop', \n",
    "             '_model_arch': resnet50,\n",
    "            '_train_path':train_clean_path,\n",
    "            '_learn_norm': False,\n",
    "            }\n",
    "default_params.update(my_params)\n",
    "set_seed(42)\n",
    "\n",
    "train_dl, learn_fresh = run_exp(default_params, 'dummy', b_ret=True,)\n",
    "\n",
    "learn.cbs.pop(3)\n",
    "\n",
    "learn.dls = learn_fresh.dls\n",
    "\n",
    "learn.add_cb(TestSetRecorder())"
   ]
  },
  {
   "cell_type": "markdown",
   "metadata": {},
   "source": [
    "##### New Fit"
   ]
  },
  {
   "cell_type": "code",
   "execution_count": 3,
   "metadata": {},
   "outputs": [],
   "source": [
    "learn.unfreeze()"
   ]
  },
  {
   "cell_type": "code",
   "execution_count": 4,
   "metadata": {},
   "outputs": [
    {
     "data": {
      "text/html": [
       "<table border=\"1\" class=\"dataframe\">\n",
       "  <thead>\n",
       "    <tr style=\"text-align: left;\">\n",
       "      <th>epoch</th>\n",
       "      <th>train_loss</th>\n",
       "      <th>valid_loss</th>\n",
       "      <th>accuracy</th>\n",
       "      <th>subcat_color_acc</th>\n",
       "      <th>subcat_piece_acc</th>\n",
       "      <th>time</th>\n",
       "    </tr>\n",
       "  </thead>\n",
       "  <tbody>\n",
       "    <tr>\n",
       "      <td>0</td>\n",
       "      <td>0.120849</td>\n",
       "      <td>0.001298</td>\n",
       "      <td>1.000000</td>\n",
       "      <td>1.000000</td>\n",
       "      <td>1.000000</td>\n",
       "      <td>00:14</td>\n",
       "    </tr>\n",
       "    <tr>\n",
       "      <td>1</td>\n",
       "      <td>0.073554</td>\n",
       "      <td>0.002223</td>\n",
       "      <td>0.998258</td>\n",
       "      <td>0.998258</td>\n",
       "      <td>0.998258</td>\n",
       "      <td>00:14</td>\n",
       "    </tr>\n",
       "    <tr>\n",
       "      <td>2</td>\n",
       "      <td>0.047045</td>\n",
       "      <td>0.001834</td>\n",
       "      <td>1.000000</td>\n",
       "      <td>1.000000</td>\n",
       "      <td>1.000000</td>\n",
       "      <td>00:14</td>\n",
       "    </tr>\n",
       "    <tr>\n",
       "      <td>3</td>\n",
       "      <td>0.025016</td>\n",
       "      <td>0.002325</td>\n",
       "      <td>0.998258</td>\n",
       "      <td>0.998258</td>\n",
       "      <td>0.998258</td>\n",
       "      <td>00:14</td>\n",
       "    </tr>\n",
       "    <tr>\n",
       "      <td>4</td>\n",
       "      <td>0.015420</td>\n",
       "      <td>0.003089</td>\n",
       "      <td>0.998258</td>\n",
       "      <td>0.998258</td>\n",
       "      <td>0.998258</td>\n",
       "      <td>00:14</td>\n",
       "    </tr>\n",
       "    <tr>\n",
       "      <td>5</td>\n",
       "      <td>0.011352</td>\n",
       "      <td>0.002442</td>\n",
       "      <td>0.998258</td>\n",
       "      <td>0.998258</td>\n",
       "      <td>0.998258</td>\n",
       "      <td>00:14</td>\n",
       "    </tr>\n",
       "    <tr>\n",
       "      <td>6</td>\n",
       "      <td>0.010414</td>\n",
       "      <td>0.002119</td>\n",
       "      <td>0.998258</td>\n",
       "      <td>0.998258</td>\n",
       "      <td>0.998258</td>\n",
       "      <td>00:14</td>\n",
       "    </tr>\n",
       "    <tr>\n",
       "      <td>7</td>\n",
       "      <td>0.015071</td>\n",
       "      <td>0.002739</td>\n",
       "      <td>0.998258</td>\n",
       "      <td>0.998258</td>\n",
       "      <td>0.998258</td>\n",
       "      <td>00:14</td>\n",
       "    </tr>\n",
       "    <tr>\n",
       "      <td>8</td>\n",
       "      <td>0.039555</td>\n",
       "      <td>0.002045</td>\n",
       "      <td>1.000000</td>\n",
       "      <td>1.000000</td>\n",
       "      <td>1.000000</td>\n",
       "      <td>00:14</td>\n",
       "    </tr>\n",
       "  </tbody>\n",
       "</table>"
      ],
      "text/plain": [
       "<IPython.core.display.HTML object>"
      ]
     },
     "metadata": {},
     "output_type": "display_data"
    }
   ],
   "source": [
    "set_seed(42)\n",
    "learn.fit_one_cycle(9, lr_max=slice(1e-6,1e-4))"
   ]
  },
  {
   "cell_type": "code",
   "execution_count": 10,
   "metadata": {},
   "outputs": [
    {
     "data": {
      "text/html": [
       "<div>\n",
       "<style scoped>\n",
       "    .dataframe tbody tr th:only-of-type {\n",
       "        vertical-align: middle;\n",
       "    }\n",
       "\n",
       "    .dataframe tbody tr th {\n",
       "        vertical-align: top;\n",
       "    }\n",
       "\n",
       "    .dataframe thead th {\n",
       "        text-align: right;\n",
       "    }\n",
       "</style>\n",
       "<table border=\"1\" class=\"dataframe\">\n",
       "  <thead>\n",
       "    <tr style=\"text-align: right;\">\n",
       "      <th></th>\n",
       "      <th>0</th>\n",
       "      <th>1</th>\n",
       "      <th>2</th>\n",
       "      <th>3</th>\n",
       "    </tr>\n",
       "  </thead>\n",
       "  <tbody>\n",
       "    <tr>\n",
       "      <th>0</th>\n",
       "      <td>0.846266</td>\n",
       "      <td>0.741228</td>\n",
       "      <td>0.969298</td>\n",
       "      <td>0.789474</td>\n",
       "    </tr>\n",
       "  </tbody>\n",
       "</table>\n",
       "</div>"
      ],
      "text/plain": [
       "          0         1         2         3\n",
       "0  0.846266  0.741228  0.969298  0.789474"
      ]
     },
     "execution_count": 10,
     "metadata": {},
     "output_type": "execute_result"
    }
   ],
   "source": [
    "pd.DataFrame(learn.cbs[3].values)"
   ]
  },
  {
   "cell_type": "code",
   "execution_count": 9,
   "metadata": {},
   "outputs": [
    {
     "data": {
      "text/html": [],
      "text/plain": [
       "<IPython.core.display.HTML object>"
      ]
     },
     "metadata": {},
     "output_type": "display_data"
    },
    {
     "data": {
      "text/html": [],
      "text/plain": [
       "<IPython.core.display.HTML object>"
      ]
     },
     "metadata": {},
     "output_type": "display_data"
    },
    {
     "name": "stdout",
     "output_type": "stream",
     "text": [
      "              precision    recall  f1-score   support\n",
      "\n",
      "black-bishop       0.86      0.67      0.75        18\n",
      "  black-king       0.80      0.84      0.82        19\n",
      "black-knight       0.60      0.95      0.73        19\n",
      "  black-pawn       0.76      1.00      0.86        19\n",
      " black-queen       1.00      0.25      0.40        20\n",
      "  black-rook       0.68      0.89      0.77        19\n",
      "white-bishop       0.57      0.68      0.62        19\n",
      "  white-king       0.72      0.68      0.70        19\n",
      "white-knight       0.84      0.84      0.84        19\n",
      "  white-pawn       0.85      0.89      0.87        19\n",
      " white-queen       1.00      0.32      0.48        19\n",
      "  white-rook       0.74      0.89      0.81        19\n",
      "\n",
      "    accuracy                           0.74       228\n",
      "   macro avg       0.78      0.74      0.72       228\n",
      "weighted avg       0.79      0.74      0.72       228\n",
      "\n"
     ]
    }
   ],
   "source": [
    "easy_test_dl = learn.dls.test_dl(get_image_files(test_path_easy), \n",
    "                                 with_labels=True)\n",
    "\n",
    "interp = ClassificationInterpretation.from_learner(learn, \n",
    "                                                  dl = easy_test_dl)\n",
    "\n",
    "interp.print_classification_report()"
   ]
  },
  {
   "cell_type": "code",
   "execution_count": null,
   "metadata": {},
   "outputs": [],
   "source": []
  }
 ],
 "metadata": {
  "kernelspec": {
   "display_name": "march21",
   "language": "python",
   "name": "march21"
  },
  "language_info": {
   "codemirror_mode": {
    "name": "ipython",
    "version": 3
   },
   "file_extension": ".py",
   "mimetype": "text/x-python",
   "name": "python",
   "nbconvert_exporter": "python",
   "pygments_lexer": "ipython3",
   "version": "3.7.6"
  }
 },
 "nbformat": 4,
 "nbformat_minor": 2
}
