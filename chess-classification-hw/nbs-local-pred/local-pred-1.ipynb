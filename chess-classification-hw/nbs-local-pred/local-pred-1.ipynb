{
 "cells": [
  {
   "cell_type": "code",
   "execution_count": 1,
   "metadata": {},
   "outputs": [],
   "source": [
    "# from utils import *\n",
    "from fastai2.vision.all import *\n",
    "from nbdev.showdoc import *\n",
    "from ipywidgets import widgets\n",
    "from pandas.api.types import CategoricalDtype\n",
    "\n",
    "import matplotlib as mpl\n",
    "# mpl.rcParams['figure.dpi']= 200\n",
    "mpl.rcParams['savefig.dpi']= 200\n",
    "mpl.rcParams['font.size']=12\n",
    "\n",
    "set_seed(42)\n",
    "torch.backends.cudnn.deterministic = True\n",
    "torch.backends.cudnn.benchmark = False\n",
    "pd.set_option('display.max_columns',999)\n",
    "np.set_printoptions(linewidth=200)\n",
    "torch.set_printoptions(linewidth=200)\n",
    "\n",
    "from fastai2.vision.widgets import *\n",
    "import time"
   ]
  },
  {
   "cell_type": "code",
   "execution_count": 2,
   "metadata": {},
   "outputs": [],
   "source": [
    "#from fastai2.learner import load_lerner"
   ]
  },
  {
   "cell_type": "code",
   "execution_count": 7,
   "metadata": {},
   "outputs": [
    {
     "name": "stdout",
     "output_type": "stream",
     "text": [
      "total 99M\r\n",
      "46M chess1.pkl\t53M stadard-piece-2.pkl\r\n"
     ]
    }
   ],
   "source": [
    "!ls models -sh"
   ]
  },
  {
   "cell_type": "code",
   "execution_count": 10,
   "metadata": {},
   "outputs": [],
   "source": [
    "def piece_class_parse(fn): \n",
    "    fn = fn.split('_')[1]\n",
    "    fn = fn.split('.')[0]\n",
    "    return fn"
   ]
  },
  {
   "cell_type": "code",
   "execution_count": 20,
   "metadata": {},
   "outputs": [],
   "source": [
    "learn2 = load_learner('models/chess1.pkl')"
   ]
  },
  {
   "cell_type": "code",
   "execution_count": 21,
   "metadata": {},
   "outputs": [],
   "source": [
    "learn = load_learner('models/stadard-piece-2.pkl')"
   ]
  },
  {
   "cell_type": "code",
   "execution_count": 69,
   "metadata": {},
   "outputs": [],
   "source": [
    "img_fns = [ Path('img-tmp/white-pawn-2.jpg'),\n",
    "            Path('img-tmp/white-bishop-2.jpg'),\n",
    "            Path('img-tmp/black-knight-2.jpg'),\n",
    "            Path('img-tmp/white-bishop-3.jpg'),\n",
    "            Path('img-tmp/black-knight-3.jpg'),]"
   ]
  },
  {
   "cell_type": "code",
   "execution_count": 64,
   "metadata": {},
   "outputs": [
    {
     "name": "stdout",
     "output_type": "stream",
     "text": [
      "img-tmp/white-pawn-2.jpg\n"
     ]
    },
    {
     "data": {
      "text/html": [],
      "text/plain": [
       "<IPython.core.display.HTML object>"
      ]
     },
     "metadata": {},
     "output_type": "display_data"
    },
    {
     "data": {
      "text/html": [],
      "text/plain": [
       "<IPython.core.display.HTML object>"
      ]
     },
     "metadata": {},
     "output_type": "display_data"
    },
    {
     "data": {
      "text/plain": [
       "(('black-bishop',\n",
       "  tensor(0),\n",
       "  tensor([8.7558e-01, 1.8214e-02, 6.9944e-03, 5.6010e-05, 4.5798e-03, 1.7799e-03, 7.4306e-03, 1.8005e-03, 6.8108e-02, 5.3980e-04, 1.4241e-02, 6.7362e-04])),\n",
       " '\\n-----\\n',\n",
       " ('bishop-chess-piece', tensor(0), tensor([0.9368, 0.0037, 0.0596])))"
      ]
     },
     "execution_count": 64,
     "metadata": {},
     "output_type": "execute_result"
    }
   ],
   "source": [
    "path = img_fns[0]\n",
    "print(path)\n",
    "ret1 = learn.predict(path)\n",
    "ret2 = learn2.predict(path)\n",
    "ret1, '\\n-----\\n', ret2"
   ]
  },
  {
   "cell_type": "code",
   "execution_count": 59,
   "metadata": {},
   "outputs": [
    {
     "name": "stdout",
     "output_type": "stream",
     "text": [
      "img-tmp/white-bishop-2.jpg\n"
     ]
    },
    {
     "data": {
      "text/html": [],
      "text/plain": [
       "<IPython.core.display.HTML object>"
      ]
     },
     "metadata": {},
     "output_type": "display_data"
    },
    {
     "data": {
      "text/html": [],
      "text/plain": [
       "<IPython.core.display.HTML object>"
      ]
     },
     "metadata": {},
     "output_type": "display_data"
    },
    {
     "data": {
      "text/plain": [
       "(('black-bishop',\n",
       "  tensor(0),\n",
       "  tensor([7.8089e-01, 2.5202e-02, 2.8375e-03, 4.7862e-05, 4.2133e-03, 1.4603e-03, 6.0035e-03, 8.9760e-04, 2.1610e-02, 8.2166e-04, 1.5548e-01, 5.3737e-04])),\n",
       " '\\n-----\\n',\n",
       " ('bishop-chess-piece', tensor(0), tensor([0.7603, 0.0545, 0.1852])))"
      ]
     },
     "execution_count": 59,
     "metadata": {},
     "output_type": "execute_result"
    }
   ],
   "source": [
    "path = img_fns[1]\n",
    "print(path)\n",
    "ret1 = learn.predict(path)\n",
    "ret2 = learn2.predict(path)\n",
    "ret1, '\\n-----\\n', ret2"
   ]
  },
  {
   "cell_type": "code",
   "execution_count": 60,
   "metadata": {},
   "outputs": [
    {
     "name": "stdout",
     "output_type": "stream",
     "text": [
      "img-tmp/black-knight-2.jpg\n"
     ]
    },
    {
     "data": {
      "text/html": [],
      "text/plain": [
       "<IPython.core.display.HTML object>"
      ]
     },
     "metadata": {},
     "output_type": "display_data"
    },
    {
     "data": {
      "text/html": [],
      "text/plain": [
       "<IPython.core.display.HTML object>"
      ]
     },
     "metadata": {},
     "output_type": "display_data"
    },
    {
     "data": {
      "text/plain": [
       "(('black-bishop',\n",
       "  tensor(0),\n",
       "  tensor([8.7023e-01, 2.2105e-02, 8.6094e-03, 5.1441e-05, 1.3258e-03, 3.0431e-03, 6.1525e-03, 3.2259e-03, 5.6260e-02, 2.3834e-04, 2.7582e-02, 1.1790e-03])),\n",
       " '\\n-----\\n',\n",
       " ('knight-chess-piece', tensor(1), tensor([0.0808, 0.7212, 0.1980])))"
      ]
     },
     "execution_count": 60,
     "metadata": {},
     "output_type": "execute_result"
    }
   ],
   "source": [
    "path = img_fns[2]\n",
    "print(path)\n",
    "ret1 = learn.predict(path)\n",
    "ret2 = learn2.predict(path)\n",
    "ret1, '\\n-----\\n', ret2"
   ]
  },
  {
   "cell_type": "code",
   "execution_count": 68,
   "metadata": {},
   "outputs": [
    {
     "name": "stdout",
     "output_type": "stream",
     "text": [
      "img-tmp/white-bishop-3.jpg\n"
     ]
    },
    {
     "data": {
      "text/html": [],
      "text/plain": [
       "<IPython.core.display.HTML object>"
      ]
     },
     "metadata": {},
     "output_type": "display_data"
    },
    {
     "data": {
      "text/html": [],
      "text/plain": [
       "<IPython.core.display.HTML object>"
      ]
     },
     "metadata": {},
     "output_type": "display_data"
    },
    {
     "data": {
      "text/plain": [
       "(('black-king',\n",
       "  tensor(1),\n",
       "  tensor([9.3090e-02, 5.9271e-01, 1.7507e-03, 1.1534e-06, 5.7421e-03, 1.7357e-02, 2.5563e-01, 5.1287e-04, 2.0054e-02, 2.0993e-05, 1.3220e-03, 1.1813e-02])),\n",
       " '\\n-----\\n',\n",
       " ('pawn-chess-piece', tensor(2), tensor([0.0360, 0.0161, 0.9480])))"
      ]
     },
     "execution_count": 68,
     "metadata": {},
     "output_type": "execute_result"
    }
   ],
   "source": [
    "path = img_fns[3]\n",
    "print(path)\n",
    "ret1 = learn.predict(path)\n",
    "ret2 = learn2.predict(path)\n",
    "ret1, '\\n-----\\n', ret2"
   ]
  },
  {
   "cell_type": "code",
   "execution_count": 70,
   "metadata": {},
   "outputs": [
    {
     "name": "stdout",
     "output_type": "stream",
     "text": [
      "img-tmp/black-knight-3.jpg\n"
     ]
    },
    {
     "data": {
      "text/html": [],
      "text/plain": [
       "<IPython.core.display.HTML object>"
      ]
     },
     "metadata": {},
     "output_type": "display_data"
    },
    {
     "data": {
      "text/html": [],
      "text/plain": [
       "<IPython.core.display.HTML object>"
      ]
     },
     "metadata": {},
     "output_type": "display_data"
    },
    {
     "data": {
      "text/plain": [
       "(('white-knight',\n",
       "  tensor(8),\n",
       "  tensor([2.4380e-01, 8.4150e-03, 2.1388e-02, 5.6534e-05, 2.1004e-03, 1.4356e-02, 8.7938e-05, 5.3382e-04, 6.5479e-01, 1.9675e-07, 2.9393e-03, 5.1530e-02])),\n",
       " '\\n-----\\n',\n",
       " ('knight-chess-piece',\n",
       "  tensor(1),\n",
       "  tensor([5.4399e-04, 9.9373e-01, 5.7257e-03])))"
      ]
     },
     "execution_count": 70,
     "metadata": {},
     "output_type": "execute_result"
    }
   ],
   "source": [
    "path = img_fns[4]\n",
    "print(path)\n",
    "ret1 = learn.predict(path)\n",
    "ret2 = learn2.predict(path)\n",
    "ret1, '\\n-----\\n', ret2"
   ]
  },
  {
   "cell_type": "markdown",
   "metadata": {},
   "source": [
    "##### Make a DL to see batch of tfms"
   ]
  },
  {
   "cell_type": "code",
   "execution_count": 32,
   "metadata": {},
   "outputs": [],
   "source": [
    "path = Path('img-tmp')\n",
    "pieces = ImageDataLoaders.from_name_func(\n",
    "                path, \n",
    "                get_image_files(path),\n",
    "                valid_pct=0.1, \n",
    "                seed=42,\n",
    "                label_func=lambda x: x, \n",
    "                item_tfms=Resize(128),\n",
    "#                 item_tfms=RandomResizedCrop(128, min_scale=0.5),\n",
    "                batch_tfms=aug_transforms(),\n",
    "                )"
   ]
  },
  {
   "cell_type": "code",
   "execution_count": 57,
   "metadata": {},
   "outputs": [
    {
     "data": {
      "text/plain": [
       "fastai2.data.core.DataLoaders"
      ]
     },
     "execution_count": 57,
     "metadata": {},
     "output_type": "execute_result"
    }
   ],
   "source": [
    "type(pieces)"
   ]
  },
  {
   "cell_type": "code",
   "execution_count": 33,
   "metadata": {},
   "outputs": [
    {
     "data": {
      "text/plain": [
       "(#6) [Path('img-tmp/black-knight-1.jpg'),Path('img-tmp/black-knight-2.jpg'),Path('img-tmp/white-bishop-1.jpg'),Path('img-tmp/white-bishop-2.jpg'),Path('img-tmp/white-pawn-1.jpg'),Path('img-tmp/white-pawn-2.jpg')]"
      ]
     },
     "execution_count": 33,
     "metadata": {},
     "output_type": "execute_result"
    }
   ],
   "source": [
    "get_image_files(path)"
   ]
  },
  {
   "cell_type": "code",
   "execution_count": 56,
   "metadata": {},
   "outputs": [
    {
     "data": {
      "text/plain": [
       "(#6) ['black-knight-1.jpg','black-knight-2.jpg','white-bishop-1.jpg','white-bishop-2.jpg','white-pawn-1.jpg','white-pawn-2.jpg']"
      ]
     },
     "execution_count": 56,
     "metadata": {},
     "output_type": "execute_result"
    }
   ],
   "source": [
    "pieces.vocab"
   ]
  },
  {
   "cell_type": "code",
   "execution_count": null,
   "metadata": {},
   "outputs": [],
   "source": []
  }
 ],
 "metadata": {
  "kernelspec": {
   "display_name": "Python [conda env:fastai2]",
   "language": "python",
   "name": "conda-env-fastai2-py"
  },
  "language_info": {
   "codemirror_mode": {
    "name": "ipython",
    "version": 3
   },
   "file_extension": ".py",
   "mimetype": "text/x-python",
   "name": "python",
   "nbconvert_exporter": "python",
   "pygments_lexer": "ipython3",
   "version": "3.7.6"
  }
 },
 "nbformat": 4,
 "nbformat_minor": 2
}
