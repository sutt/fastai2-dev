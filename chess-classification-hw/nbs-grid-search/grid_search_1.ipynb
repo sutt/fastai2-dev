{
 "cells": [
  {
   "cell_type": "markdown",
   "metadata": {},
   "source": [
    "### grid_search - demo modules\n",
    "\n"
   ]
  },
  {
   "cell_type": "code",
   "execution_count": 1,
   "metadata": {},
   "outputs": [],
   "source": [
    "from fastai2.vision.all import *\n",
    "import time\n",
    "import copy\n",
    "import pickle"
   ]
  },
  {
   "cell_type": "code",
   "execution_count": 20,
   "metadata": {},
   "outputs": [
    {
     "name": "stdout",
     "output_type": "stream",
     "text": [
      "The autoreload extension is already loaded. To reload it, use:\n",
      "  %reload_ext autoreload\n"
     ]
    }
   ],
   "source": [
    "%load_ext autoreload\n",
    "%autoreload 2\n",
    "\n",
    "from ..modules.trainutils import init_trainer, grid_exp\n",
    "from ..modules.trainutils import stratify_sample, piece_class_parse"
   ]
  },
  {
   "cell_type": "code",
   "execution_count": 8,
   "metadata": {},
   "outputs": [],
   "source": [
    "path = Path('../../rf-chess-data/cropped_v1/')"
   ]
  },
  {
   "cell_type": "markdown",
   "metadata": {},
   "source": [
    "##### doing `grid_exp` manually"
   ]
  },
  {
   "cell_type": "code",
   "execution_count": 9,
   "metadata": {},
   "outputs": [],
   "source": [
    "test_seed = 42\n",
    "test_n = 100\n",
    "\n",
    "test = ImageDataLoaders.from_name_func(\n",
    "                path, \n",
    "                stratify_sample(path, n=test_n, np_seed=test_seed),\n",
    "                valid_pct=0.0, \n",
    "                seed=None,# randomSplitter has no effect\n",
    "                label_func=piece_class_parse, \n",
    "                item_tfms=RandomResizedCrop(128, min_scale=0.5),\n",
    "                batch_tfms=aug_transforms(),\n",
    "                )"
   ]
  },
  {
   "cell_type": "code",
   "execution_count": 12,
   "metadata": {},
   "outputs": [
    {
     "name": "stdout",
     "output_type": "stream",
     "text": [
      "training 100 samples from seed None ########\n",
      "\n",
      "epoch:     0 | acc_t: 0.042 | acc_v: 0.042 | time: 18.678\n",
      "epoch:     1 | acc_t: 0.083 | acc_v: 0.073 | time: 10.35\n",
      "epoch:     2 | acc_t: 0.167 | acc_v: 0.146 | time:  9.98\n",
      "epoch:     3 | acc_t:  0.25 | acc_v:  0.25 | time: 10.22\n",
      "epoch:     4 | acc_t: 0.333 | acc_v: 0.302 | time: 16.39\n"
     ]
    }
   ],
   "source": [
    "init_trainer(path, test, train_n=100, epochs=5)"
   ]
  },
  {
   "cell_type": "code",
   "execution_count": 19,
   "metadata": {},
   "outputs": [
    {
     "name": "stdout",
     "output_type": "stream",
     "text": [
      "training 50 samples from seed None ########\n",
      "\n",
      "epoch:     0 | acc_t: 0.062 | acc_v: 0.042 | time: 3.206\n",
      "epoch:     1 | acc_t: 0.062 | acc_v: 0.042 | time:  2.99\n",
      "epoch:     2 | acc_t: 0.062 | acc_v: 0.042 | time:  2.72\n",
      "epoch:     3 | acc_t: 0.062 | acc_v: 0.042 | time: 2.877\n",
      "epoch:     4 | acc_t: 0.062 | acc_v: 0.042 | time: 2.859\n"
     ]
    }
   ],
   "source": [
    "init_trainer(path, test, train_n=50, epochs=5)"
   ]
  },
  {
   "cell_type": "markdown",
   "metadata": {},
   "source": [
    "##### full search"
   ]
  },
  {
   "cell_type": "code",
   "execution_count": 42,
   "metadata": {},
   "outputs": [],
   "source": [
    "d_exps = [\n",
    "        {'train_n': 100, 'train_seed': None},\n",
    "        {'train_n': 100, 'train_seed': None},\n",
    "          ]"
   ]
  },
  {
   "cell_type": "code",
   "execution_count": 43,
   "metadata": {},
   "outputs": [
    {
     "name": "stdout",
     "output_type": "stream",
     "text": [
      "\n",
      "training 100 samples from seed None ########\n",
      "\n",
      "epoch:     0 | acc_t: 0.115 | acc_v: 0.062 | time: 23.895\n",
      "epoch:     1 | acc_t: 0.156 | acc_v: 0.125 | time: 17.355\n",
      "epoch:     2 | acc_t: 0.198 | acc_v: 0.167 | time: 13.539\n",
      "epoch:     3 | acc_t: 0.229 | acc_v: 0.188 | time: 11.927\n",
      "epoch:     4 | acc_t: 0.312 | acc_v: 0.302 | time: 11.767\n",
      "\n",
      "training 100 samples from seed None ########\n",
      "\n",
      "epoch:     0 | acc_t: 0.104 | acc_v: 0.104 | time: 14.391\n",
      "epoch:     1 | acc_t: 0.125 | acc_v: 0.104 | time: 13.629\n",
      "epoch:     2 | acc_t: 0.219 | acc_v: 0.156 | time: 11.73\n",
      "epoch:     3 | acc_t:  0.26 | acc_v: 0.229 | time: 12.066\n",
      "epoch:     4 | acc_t: 0.302 | acc_v: 0.271 | time: 12.034\n"
     ]
    }
   ],
   "source": [
    "d = grid_exp(path,d_exps, epochs=5)"
   ]
  },
  {
   "cell_type": "code",
   "execution_count": 63,
   "metadata": {},
   "outputs": [],
   "source": [
    "data_dir = '../data/exp-data/exp-1/'\n",
    "with open(data_dir + 'grid-search-1.pkl', 'wb') as f:\n",
    "    pickle.dump(d, f)"
   ]
  },
  {
   "cell_type": "markdown",
   "metadata": {},
   "source": [
    "##### Plot results"
   ]
  },
  {
   "cell_type": "code",
   "execution_count": 110,
   "metadata": {},
   "outputs": [],
   "source": [
    "colors = ['blue','green','red','magenta','yellow','black',]"
   ]
  },
  {
   "cell_type": "code",
   "execution_count": 111,
   "metadata": {},
   "outputs": [],
   "source": [
    "data = [\n",
    "    ('epochs=5', 'grid-search-1.pkl'),\n",
    "    ('epochs=10', 'grid-search-2.pkl'),\n",
    "]\n",
    "\n",
    "d_exps = {}\n",
    "\n",
    "for label, fn in data:\n",
    "    \n",
    "    with open(fn, 'rb') as f:\n",
    "        tmp = pickle.load(f)\n",
    "    \n",
    "    d_exps[label] = tmp.get('exps', None)\n",
    "        "
   ]
  },
  {
   "cell_type": "code",
   "execution_count": 112,
   "metadata": {
    "scrolled": false
   },
   "outputs": [
    {
     "data": {
      "text/plain": [
       "<matplotlib.legend.Legend at 0x7fccd90afc10>"
      ]
     },
     "execution_count": 112,
     "metadata": {},
     "output_type": "execute_result"
    },
    {
     "data": {
      "image/png": "[encoded data removed]",
      "text/plain": [
       "<Figure size 432x288 with 1 Axes>"
      ]
     },
     "metadata": {
      "needs_background": "light"
     },
     "output_type": "display_data"
    }
   ],
   "source": [
    "# exps = d['exps']\n",
    "i = 0\n",
    "for i, (label, exps) in enumerate(d_exps.items()):\n",
    "    \n",
    "    for acc_t in [e['acc_t'] for e in exps ]:\n",
    "        _x = plt.plot(acc_t, c=colors[i], linestyle='--', label='train')\n",
    "\n",
    "    for acc_v in [e['acc_v'] for e in exps ]:\n",
    "        _y = plt.plot(acc_v, c=colors[i], linestyle='-', label='test')\n",
    "    \n",
    "plt.ylabel('Accuracy (train dashed, test solid)')\n",
    "plt.xlabel('Epochs')\n",
    "plt.xticks( list(range(len(acc_v)) )); \n",
    "\n",
    "handles = [mlines.Line2D([],[],c=colors[i]) \n",
    "            for i in range(len(d_exps.keys())) ]\n",
    "\n",
    "plt.legend(handles, list(d_exps.keys()))\n"
   ]
  },
  {
   "cell_type": "code",
   "execution_count": null,
   "metadata": {},
   "outputs": [],
   "source": []
  }
 ],
 "metadata": {
  "kernelspec": {
   "display_name": "Python [conda env:fastai2]",
   "language": "python",
   "name": "conda-env-fastai2-py"
  },
  "language_info": {
   "codemirror_mode": {
    "name": "ipython",
    "version": 3
   },
   "file_extension": ".py",
   "mimetype": "text/x-python",
   "name": "python",
   "nbconvert_exporter": "python",
   "pygments_lexer": "ipython3",
   "version": "3.7.6"
  }
 },
 "nbformat": 4,
 "nbformat_minor": 2
}
