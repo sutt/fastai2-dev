{
 "cells": [
  {
   "cell_type": "markdown",
   "metadata": {},
   "source": [
    "### Helping port model to newfastai\n",
    "This need to be run in the root of chess-classification-hw\n",
    "\n",
    "This will save the pytorch model and then we can re-instatiate the training dl with new fastai\n",
    "\n"
   ]
  },
  {
   "cell_type": "code",
   "execution_count": 1,
   "metadata": {},
   "outputs": [],
   "source": [
    "# from utils import *\n",
    "import torch\n",
    "from fastai2.vision.all import *\n",
    "# from nbdev.showdoc import *\n",
    "from ipywidgets import widgets\n",
    "from pandas.api.types import CategoricalDtype\n",
    "\n",
    "import matplotlib as mpl\n",
    "# mpl.rcParams['figure.dpi']= 200\n",
    "mpl.rcParams['savefig.dpi']= 200\n",
    "mpl.rcParams['font.size']=12\n",
    "\n",
    "set_seed(42)\n",
    "torch.backends.cudnn.deterministic = True\n",
    "torch.backends.cudnn.benchmark = False\n",
    "pd.set_option('display.max_columns',999)\n",
    "np.set_printoptions(linewidth=200)\n",
    "torch.set_printoptions(linewidth=200)\n",
    "\n",
    "from fastai2.vision.widgets import *\n",
    "import time"
   ]
  },
  {
   "cell_type": "code",
   "execution_count": 2,
   "metadata": {},
   "outputs": [],
   "source": [
    "def piece_class_parse(fn): \n",
    "    fn = fn.split('_')[1]\n",
    "    fn = fn.split('.')[0]\n",
    "    return fn"
   ]
  },
  {
   "cell_type": "code",
   "execution_count": 4,
   "metadata": {},
   "outputs": [],
   "source": [
    "learn = load_learner('models/base-learner-13-fit25.pkl')"
   ]
  },
  {
   "cell_type": "code",
   "execution_count": 9,
   "metadata": {},
   "outputs": [],
   "source": [
    "torch.save(learn.model.state_dict(), 'models/base-learner-13-fit25.pth')"
   ]
  },
  {
   "cell_type": "code",
   "execution_count": 11,
   "metadata": {},
   "outputs": [],
   "source": [
    "learn = load_learner('models/base-learner-6.pkl')\n",
    "torch.save(learn.model.state_dict(), 'models/base-learner-6.pth')"
   ]
  },
  {
   "cell_type": "code",
   "execution_count": null,
   "metadata": {},
   "outputs": [],
   "source": []
  }
 ],
 "metadata": {
  "kernelspec": {
   "display_name": "Python 3",
   "language": "python",
   "name": "python3"
  },
  "language_info": {
   "codemirror_mode": {
    "name": "ipython",
    "version": 3
   },
   "file_extension": ".py",
   "mimetype": "text/x-python",
   "name": "python",
   "nbconvert_exporter": "python",
   "pygments_lexer": "ipython3",
   "version": "3.7.6"
  }
 },
 "nbformat": 4,
 "nbformat_minor": 4
}
