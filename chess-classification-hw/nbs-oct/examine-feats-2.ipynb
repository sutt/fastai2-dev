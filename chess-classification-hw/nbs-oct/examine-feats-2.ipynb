{
 "cells": [
  {
   "cell_type": "markdown",
   "metadata": {},
   "source": [
    "### Build up features, join to clusters"
   ]
  },
  {
   "cell_type": "code",
   "execution_count": 1,
   "metadata": {},
   "outputs": [],
   "source": [
    "import numpy as np\n",
    "import os, sys, json\n",
    "import PIL\n",
    "import pandas as pd\n",
    "from pathlib import Path\n",
    "import matplotlib.pyplot as plt\n",
    "from ast import literal_eval\n",
    "import warnings\n",
    "warnings.filterwarnings('ignore')\n",
    "\n",
    "sys.path.append('..')\n",
    "%load_ext autoreload\n",
    "%autoreload 2\n",
    "\n",
    "from modules.overlaputils import foo\n",
    "\n",
    "crop_dir = '../../../rf-chess-data/cropped_verify/'"
   ]
  },
  {
   "cell_type": "code",
   "execution_count": 2,
   "metadata": {},
   "outputs": [
    {
     "name": "stdout",
     "output_type": "stream",
     "text": [
      "data_aug_v1.csv  data_v1.1.csv\tdata_v1.csv\r\n"
     ]
    }
   ],
   "source": [
    "!ls ../data/rf-annotate/"
   ]
  },
  {
   "cell_type": "code",
   "execution_count": 3,
   "metadata": {},
   "outputs": [
    {
     "name": "stdout",
     "output_type": "stream",
     "text": [
      "cropped_v1\teda_1.ipynb  roboflow\t verify.files\r\n",
      "cropped_verify\teda_2.ipynb  v1.1.files\r\n"
     ]
    }
   ],
   "source": [
    "!ls ../../../rf-chess-data/"
   ]
  },
  {
   "cell_type": "code",
   "execution_count": 33,
   "metadata": {},
   "outputs": [
    {
     "data": {
      "text/plain": [
       "Path('../../../rf-chess-data/cropped_v1')"
      ]
     },
     "execution_count": 33,
     "metadata": {},
     "output_type": "execute_result"
    }
   ],
   "source": [
    "train_path"
   ]
  },
  {
   "cell_type": "code",
   "execution_count": 35,
   "metadata": {},
   "outputs": [
    {
     "data": {
      "text/plain": [
       "(#4) [Path('../../../rf-chess-data/cropped_v1/00000_white-pawn.jpg'),Path('../../../rf-chess-data/cropped_v1/00001_black-queen.jpg'),Path('../../../rf-chess-data/cropped_v1/00002_black-pawn.jpg'),Path('../../../rf-chess-data/cropped_v1/00003_white-pawn.jpg')]"
      ]
     },
     "execution_count": 35,
     "metadata": {},
     "output_type": "execute_result"
    }
   ],
   "source": [
    "train_path.ls()[:4]"
   ]
  },
  {
   "cell_type": "markdown",
   "metadata": {},
   "source": [
    "### Setup Twin Pairs"
   ]
  },
  {
   "cell_type": "code",
   "execution_count": 4,
   "metadata": {},
   "outputs": [],
   "source": [
    "df = pd.read_csv('../data/rf-annotate/data_v1.csv')  # '../data/rf-annotate/data_v1.1.csv'\n",
    "df['bbox'] = df['bbox'].map(lambda x: literal_eval(x))"
   ]
  },
  {
   "cell_type": "code",
   "execution_count": 5,
   "metadata": {},
   "outputs": [
    {
     "data": {
      "text/plain": [
       "(87, 17)"
      ]
     },
     "execution_count": 5,
     "metadata": {},
     "output_type": "execute_result"
    }
   ],
   "source": [
    "bq = foo(df, 'black-queen', b_ret=True)\n",
    "            #crop_dir='../../../rf-chess-data/cropped_verify/',\n",
    "\n",
    "bq.shape\n",
    "\n",
    "# bq.head(3)"
   ]
  },
  {
   "cell_type": "code",
   "execution_count": 6,
   "metadata": {},
   "outputs": [],
   "source": [
    "amts = bq.groupby('twin_set_cluster_obj').agg('count').iloc[:,1]\n",
    "# amts"
   ]
  },
  {
   "cell_type": "code",
   "execution_count": 7,
   "metadata": {},
   "outputs": [],
   "source": [
    "max_show = 99 \n",
    "matched = amts[amts > 1]\n",
    "unmatched = amts[amts == 1]\n",
    "\n",
    "iters = matched.sort_values(ascending=False).index[:max_show]"
   ]
  },
  {
   "cell_type": "code",
   "execution_count": 8,
   "metadata": {},
   "outputs": [
    {
     "data": {
      "text/plain": [
       "Index(['[7, 11, 13, 14, 21, 23, 28, 40, 50, 51, 52, 54, 56, 62, 63, 70, 79, 81, 83]',\n",
       "       '[2, 18, 29, 37, 38, 46, 48, 57, 59, 66, 67, 72, 73, 78]',\n",
       "       '[5, 6, 16, 20, 30, 32, 33, 39, 47, 60, 69, 86]',\n",
       "       '[1, 4, 8, 10, 22, 43, 44, 53, 65, 68, 75, 84]',\n",
       "       '[9, 17, 19, 35, 55, 71, 85]', '[3, 24, 26]', '[45, 58]', '[42, 49]',\n",
       "       '[27, 74]'],\n",
       "      dtype='object', name='twin_set_cluster_obj')"
      ]
     },
     "execution_count": 8,
     "metadata": {},
     "output_type": "execute_result"
    }
   ],
   "source": [
    "iters"
   ]
  },
  {
   "cell_type": "code",
   "execution_count": 9,
   "metadata": {},
   "outputs": [
    {
     "data": {
      "text/plain": [
       "[7, 11, 13, 14, 21, 23, 28, 40, 50, 51, 52, 54, 56, 62, 63, 70, 79, 81, 83]"
      ]
     },
     "execution_count": 9,
     "metadata": {},
     "output_type": "execute_result"
    }
   ],
   "source": [
    "literal_eval(iters[0])"
   ]
  },
  {
   "cell_type": "code",
   "execution_count": 10,
   "metadata": {},
   "outputs": [
    {
     "data": {
      "text/html": [
       "<div>\n",
       "<style scoped>\n",
       "    .dataframe tbody tr th:only-of-type {\n",
       "        vertical-align: middle;\n",
       "    }\n",
       "\n",
       "    .dataframe tbody tr th {\n",
       "        vertical-align: top;\n",
       "    }\n",
       "\n",
       "    .dataframe thead th {\n",
       "        text-align: right;\n",
       "    }\n",
       "</style>\n",
       "<table border=\"1\" class=\"dataframe\">\n",
       "  <thead>\n",
       "    <tr style=\"text-align: right;\">\n",
       "      <th></th>\n",
       "      <th>twin_sets</th>\n",
       "      <th>twin_sets_obj</th>\n",
       "      <th>twin_set_cluster</th>\n",
       "      <th>twin_set_cluster_obj</th>\n",
       "    </tr>\n",
       "  </thead>\n",
       "  <tbody>\n",
       "    <tr>\n",
       "      <th>1</th>\n",
       "      <td>[0]</td>\n",
       "      <td>[0]</td>\n",
       "      <td>[0]</td>\n",
       "      <td>[0]</td>\n",
       "    </tr>\n",
       "    <tr>\n",
       "      <th>19</th>\n",
       "      <td>[1, 4, 8, 10, 22, 43, 44, 53, 65, 68, 75, 84]</td>\n",
       "      <td>[1, 4, 8, 10, 22, 43, 44, 53, 65, 68, 75, 84]</td>\n",
       "      <td>[1, 4, 8, 10, 22, 43, 44, 53, 65, 68, 75, 84]</td>\n",
       "      <td>[1, 4, 8, 10, 22, 43, 44, 53, 65, 68, 75, 84]</td>\n",
       "    </tr>\n",
       "    <tr>\n",
       "      <th>83</th>\n",
       "      <td>[2, 67]</td>\n",
       "      <td>[2, 67]</td>\n",
       "      <td>[2, 18, 29, 37, 38, 46, 48, 57, 59, 66, 67, 72...</td>\n",
       "      <td>[2, 18, 29, 37, 38, 46, 48, 57, 59, 66, 67, 72...</td>\n",
       "    </tr>\n",
       "    <tr>\n",
       "      <th>188</th>\n",
       "      <td>[3, 24, 26]</td>\n",
       "      <td>[3, 24, 26]</td>\n",
       "      <td>[3, 24, 26]</td>\n",
       "      <td>[3, 24, 26]</td>\n",
       "    </tr>\n",
       "  </tbody>\n",
       "</table>\n",
       "</div>"
      ],
      "text/plain": [
       "                                         twin_sets  \\\n",
       "1                                              [0]   \n",
       "19   [1, 4, 8, 10, 22, 43, 44, 53, 65, 68, 75, 84]   \n",
       "83                                         [2, 67]   \n",
       "188                                    [3, 24, 26]   \n",
       "\n",
       "                                     twin_sets_obj  \\\n",
       "1                                              [0]   \n",
       "19   [1, 4, 8, 10, 22, 43, 44, 53, 65, 68, 75, 84]   \n",
       "83                                         [2, 67]   \n",
       "188                                    [3, 24, 26]   \n",
       "\n",
       "                                      twin_set_cluster  \\\n",
       "1                                                  [0]   \n",
       "19       [1, 4, 8, 10, 22, 43, 44, 53, 65, 68, 75, 84]   \n",
       "83   [2, 18, 29, 37, 38, 46, 48, 57, 59, 66, 67, 72...   \n",
       "188                                        [3, 24, 26]   \n",
       "\n",
       "                                  twin_set_cluster_obj  \n",
       "1                                                  [0]  \n",
       "19       [1, 4, 8, 10, 22, 43, 44, 53, 65, 68, 75, 84]  \n",
       "83   [2, 18, 29, 37, 38, 46, 48, 57, 59, 66, 67, 72...  \n",
       "188                                        [3, 24, 26]  "
      ]
     },
     "execution_count": 10,
     "metadata": {},
     "output_type": "execute_result"
    }
   ],
   "source": [
    "bq.iloc[:4, 13:]"
   ]
  },
  {
   "cell_type": "markdown",
   "metadata": {},
   "source": [
    "### Setup Data / Learner"
   ]
  },
  {
   "cell_type": "code",
   "execution_count": 11,
   "metadata": {},
   "outputs": [],
   "source": [
    "import torch\n",
    "from fastai.vision.all import *"
   ]
  },
  {
   "cell_type": "code",
   "execution_count": 12,
   "metadata": {},
   "outputs": [],
   "source": [
    "def piece_class_parse(fn): \n",
    "    fn = fn.split('_')[1]\n",
    "    fn = fn.split('.')[0]\n",
    "    return fn\n",
    "\n",
    "train_path = Path('../../../rf-chess-data/cropped_v1/')\n",
    "\n",
    "Crop = Resize(128, ResizeMethod.Pad, pad_mode='reflection')\n",
    "\n",
    "train_dl = ImageDataLoaders.from_name_func(\n",
    "                    \n",
    "                    train_path, \n",
    "                    get_image_files(train_path),                 \n",
    "                    label_func=piece_class_parse, \n",
    "                    item_tfms=Crop,\n",
    "                    \n",
    "                    # these are for an evaluation run\n",
    "                    shuffle_train=False,\n",
    "                    valid_pct=.0,\n",
    "                    drop_last=False,\n",
    "                    num_workers=0,\n",
    "                    bs=16,\n",
    "                    )"
   ]
  },
  {
   "cell_type": "code",
   "execution_count": 13,
   "metadata": {},
   "outputs": [],
   "source": [
    "learn = cnn_learner(train_dl, resnet50, metrics=[], normalize=False)\n",
    "\n",
    "PATH = '../models/base-learner-6.pth'\n",
    "\n",
    "model = learn.model\n",
    "model.load_state_dict(torch.load(PATH))\n",
    "model.eval();\n",
    "learn.model = model"
   ]
  },
  {
   "cell_type": "code",
   "execution_count": 14,
   "metadata": {},
   "outputs": [],
   "source": [
    "new_model = torch.nn.modules.container.Sequential(model[0], model[1][:2])\n",
    "learn.model = new_model"
   ]
  },
  {
   "cell_type": "markdown",
   "metadata": {},
   "source": [
    "### Run all observations to create features\n",
    "Note the order between this and the cropping"
   ]
  },
  {
   "cell_type": "code",
   "execution_count": 15,
   "metadata": {},
   "outputs": [],
   "source": [
    "train = train_dl[0]"
   ]
  },
  {
   "cell_type": "code",
   "execution_count": 57,
   "metadata": {},
   "outputs": [],
   "source": [
    "items = train.items.copy()\n",
    "idxs  = train.get_idxs().copy()"
   ]
  },
  {
   "cell_type": "code",
   "execution_count": 17,
   "metadata": {},
   "outputs": [
    {
     "data": {
      "text/plain": [
       "179.375"
      ]
     },
     "execution_count": 17,
     "metadata": {},
     "output_type": "execute_result"
    }
   ],
   "source": [
    "num_batches = len(train.items) / train.bs\n",
    "num_batches"
   ]
  },
  {
   "cell_type": "code",
   "execution_count": 18,
   "metadata": {},
   "outputs": [],
   "source": [
    "# counter = 0\n",
    "# for x,y in train:\n",
    "#     counter += 1\n",
    "#     if counter > 50: break\n",
    "# counter"
   ]
  },
  {
   "cell_type": "code",
   "execution_count": 19,
   "metadata": {},
   "outputs": [],
   "source": [
    "counter = 0\n",
    "y_all = torch.tensor([])\n",
    "feats_all = torch.tensor([])"
   ]
  },
  {
   "cell_type": "code",
   "execution_count": 20,
   "metadata": {
    "collapsed": true
   },
   "outputs": [
    {
     "name": "stdout",
     "output_type": "stream",
     "text": [
      "1\n",
      "2\n",
      "3\n",
      "4\n",
      "5\n",
      "6\n",
      "7\n",
      "8\n",
      "9\n",
      "10\n",
      "11\n",
      "12\n",
      "13\n",
      "14\n",
      "15\n",
      "16\n",
      "17\n",
      "18\n",
      "19\n",
      "20\n",
      "21\n",
      "22\n",
      "23\n",
      "24\n",
      "25\n",
      "26\n",
      "27\n",
      "28\n",
      "29\n",
      "30\n",
      "31\n",
      "32\n",
      "33\n",
      "34\n",
      "35\n",
      "36\n",
      "37\n",
      "38\n",
      "39\n",
      "40\n",
      "41\n",
      "42\n",
      "43\n",
      "44\n",
      "45\n",
      "46\n",
      "47\n",
      "48\n",
      "49\n",
      "50\n",
      "51\n",
      "52\n",
      "53\n",
      "54\n",
      "55\n",
      "56\n",
      "57\n",
      "58\n",
      "59\n",
      "60\n",
      "61\n",
      "62\n",
      "63\n",
      "64\n",
      "65\n",
      "66\n",
      "67\n",
      "68\n",
      "69\n",
      "70\n",
      "71\n",
      "72\n",
      "73\n",
      "74\n",
      "75\n",
      "76\n",
      "77\n",
      "78\n",
      "79\n",
      "80\n",
      "81\n",
      "82\n",
      "83\n",
      "84\n",
      "85\n",
      "86\n",
      "87\n",
      "88\n",
      "89\n",
      "90\n",
      "91\n",
      "92\n",
      "93\n",
      "94\n",
      "95\n",
      "96\n",
      "97\n",
      "98\n",
      "99\n",
      "100\n",
      "101\n",
      "102\n",
      "103\n",
      "104\n",
      "105\n",
      "106\n",
      "107\n",
      "108\n",
      "109\n",
      "110\n",
      "111\n",
      "112\n",
      "113\n",
      "114\n",
      "115\n",
      "116\n",
      "117\n",
      "118\n",
      "119\n",
      "120\n",
      "121\n",
      "122\n",
      "123\n",
      "124\n",
      "125\n",
      "126\n",
      "127\n",
      "128\n",
      "129\n",
      "130\n",
      "131\n",
      "132\n",
      "133\n",
      "134\n",
      "135\n",
      "136\n",
      "137\n",
      "138\n",
      "139\n",
      "140\n",
      "141\n",
      "142\n",
      "143\n",
      "144\n",
      "145\n",
      "146\n",
      "147\n",
      "148\n",
      "149\n",
      "150\n",
      "151\n",
      "152\n",
      "153\n",
      "154\n",
      "155\n",
      "156\n",
      "157\n",
      "158\n",
      "159\n",
      "160\n",
      "161\n",
      "162\n",
      "163\n",
      "164\n",
      "165\n",
      "166\n",
      "167\n",
      "168\n",
      "169\n",
      "170\n",
      "171\n",
      "172\n",
      "173\n",
      "174\n",
      "175\n",
      "176\n",
      "177\n",
      "178\n",
      "179\n",
      "180\n"
     ]
    },
    {
     "data": {
      "text/plain": [
       "180"
      ]
     },
     "execution_count": 20,
     "metadata": {},
     "output_type": "execute_result"
    }
   ],
   "source": [
    "for x,y in train:\n",
    "    \n",
    "    _feats = new_model(x)\n",
    "    \n",
    "    y_all =     torch.cat((y_all, y))\n",
    "    feats_all = torch.cat((feats_all, _feats.detach()))\n",
    "    \n",
    "    counter += 1\n",
    "    print(counter)\n",
    "    #if counter > 10: break\n",
    "    if counter > int(num_batches) + 1: break\n",
    "counter"
   ]
  },
  {
   "cell_type": "code",
   "execution_count": 21,
   "metadata": {},
   "outputs": [
    {
     "data": {
      "text/plain": [
       "torch.Size([2870, 4096])"
      ]
     },
     "execution_count": 21,
     "metadata": {},
     "output_type": "execute_result"
    }
   ],
   "source": [
    "feats_all.shape"
   ]
  },
  {
   "cell_type": "code",
   "execution_count": 22,
   "metadata": {},
   "outputs": [
    {
     "data": {
      "text/plain": [
       "torch.Size([2870])"
      ]
     },
     "execution_count": 22,
     "metadata": {},
     "output_type": "execute_result"
    }
   ],
   "source": [
    "y_all.shape"
   ]
  },
  {
   "cell_type": "markdown",
   "metadata": {},
   "source": [
    "#### Build df_feats to join"
   ]
  },
  {
   "cell_type": "code",
   "execution_count": 84,
   "metadata": {},
   "outputs": [],
   "source": [
    "df_items = pd.DataFrame(items, columns=['fn'])\n",
    "\n",
    "df_feats_all = pd.DataFrame(\n",
    "                feats_all, \n",
    "                columns=['f'+str(i) for i in range(feats_all.shape[1])]\n",
    "               )\n",
    "\n",
    "df_y_all = pd.DataFrame(y_all, columns=['y'])"
   ]
  },
  {
   "cell_type": "code",
   "execution_count": 85,
   "metadata": {},
   "outputs": [],
   "source": [
    "df_feats = pd.concat((df_items, df_y_all, df_feats_all), axis=1)\n",
    "\n",
    "df_feats['y']           = df_feats['y'].astype('int')\n",
    "df_feats                = df_feats.sort_values(by='fn')\n",
    "df_feats['feats_index'] = df_feats.index\n",
    "df_feats.reset_index(inplace=True)\n",
    "df_feats['crop_index'] = df_feats.index"
   ]
  },
  {
   "cell_type": "code",
   "execution_count": 243,
   "metadata": {},
   "outputs": [],
   "source": [
    "df_feats.to_csv('../data/feats-df/feats-2.csv', index=False)"
   ]
  },
  {
   "cell_type": "markdown",
   "metadata": {},
   "source": [
    "#### Build group_df to join"
   ]
  },
  {
   "cell_type": "code",
   "execution_count": 86,
   "metadata": {},
   "outputs": [
    {
     "data": {
      "text/plain": [
       "(87, 17)"
      ]
     },
     "execution_count": 86,
     "metadata": {},
     "output_type": "execute_result"
    }
   ],
   "source": [
    "df = pd.read_csv('../data/rf-annotate/data_v1.csv')  # '../data/rf-annotate/data_v1.1.csv'\n",
    "df['bbox'] = df['bbox'].map(lambda x: literal_eval(x))\n",
    "\n",
    "cluster_df = foo(df, 'black-queen', b_ret=True)\n",
    "            #crop_dir='../../../rf-chess-data/cropped_verify/',\n",
    "\n",
    "cluster_df.shape"
   ]
  },
  {
   "cell_type": "code",
   "execution_count": 87,
   "metadata": {},
   "outputs": [],
   "source": [
    "amts = bq.groupby('twin_set_cluster_obj').agg('count').iloc[:,1]\n",
    "\n",
    "matched = amts[amts > 1]\n",
    "unmatched = amts[amts == 1]\n",
    "\n",
    "iters = matched.sort_values(ascending=False).index"
   ]
  },
  {
   "cell_type": "code",
   "execution_count": 88,
   "metadata": {},
   "outputs": [
    {
     "data": {
      "text/plain": [
       "[[7, 11, 13, 14, 21, 23, 28, 40, 50, 51, 52, 54, 56, 62, 63, 70, 79, 81, 83],\n",
       " [2, 18, 29, 37, 38, 46, 48, 57, 59, 66, 67, 72, 73, 78],\n",
       " [5, 6, 16, 20, 30, 32, 33, 39, 47, 60, 69, 86],\n",
       " [1, 4, 8, 10, 22, 43, 44, 53, 65, 68, 75, 84],\n",
       " [9, 17, 19, 35, 55, 71, 85],\n",
       " [3, 24, 26],\n",
       " [45, 58],\n",
       " [42, 49],\n",
       " [27, 74]]"
      ]
     },
     "execution_count": 88,
     "metadata": {},
     "output_type": "execute_result"
    }
   ],
   "source": [
    "clusters = [literal_eval(e) for e in iters]\n",
    "clusters"
   ]
  },
  {
   "cell_type": "code",
   "execution_count": 89,
   "metadata": {},
   "outputs": [],
   "source": [
    "group_df = bq.copy()\n",
    "\n",
    "group_df['crop_index'] = group_df.index\n",
    "group_df.reset_index(inplace=True)\n",
    "group_df['group_index'] = group_df.index"
   ]
  },
  {
   "cell_type": "markdown",
   "metadata": {},
   "source": [
    "#### join_df"
   ]
  },
  {
   "cell_type": "code",
   "execution_count": 115,
   "metadata": {},
   "outputs": [],
   "source": [
    "join_df = pd.merge(left=group_df, right=df_feats, on=['crop_index'], how='left')"
   ]
  },
  {
   "cell_type": "code",
   "execution_count": 116,
   "metadata": {},
   "outputs": [
    {
     "data": {
      "text/plain": [
       "(87, 4120)"
      ]
     },
     "execution_count": 116,
     "metadata": {},
     "output_type": "execute_result"
    }
   ],
   "source": [
    "join_df.shape"
   ]
  },
  {
   "cell_type": "markdown",
   "metadata": {},
   "source": [
    "### PCA"
   ]
  },
  {
   "cell_type": "code",
   "execution_count": 210,
   "metadata": {},
   "outputs": [
    {
     "data": {
      "text/plain": [
       "PCA(n_components=12)"
      ]
     },
     "execution_count": 210,
     "metadata": {},
     "output_type": "execute_result"
    }
   ],
   "source": [
    "from sklearn.decomposition import PCA\n",
    "\n",
    "N_random = 200\n",
    "xi = np.random.choice(range(df_feats_all.shape[0]), N_random).tolist()\n",
    "\n",
    "pca = PCA(n_components=12)\n",
    "pca.fit(df_feats.iloc[xi,3:-2])"
   ]
  },
  {
   "cell_type": "code",
   "execution_count": 249,
   "metadata": {},
   "outputs": [
    {
     "data": {
      "image/png": "[encoded data removed]",
      "text/plain": [
       "<Figure size 432x288 with 1 Axes>"
      ]
     },
     "metadata": {
      "needs_background": "light"
     },
     "output_type": "display_data"
    }
   ],
   "source": [
    "tmp = [0] + pca.explained_variance_ratio_.cumsum().tolist()\n",
    "plt.plot(tmp); plt.ylim(0,1); plt.title('Explained vVariance of PCA'); plt.xlabel('features');"
   ]
  },
  {
   "cell_type": "code",
   "execution_count": 211,
   "metadata": {},
   "outputs": [],
   "source": [
    "random_obs_t = pca.transform(df_feats.iloc[xi,3:-2])\n",
    "random_obs_meta = df_feats.iloc[xi,:].loc[:,['y']]"
   ]
  },
  {
   "cell_type": "code",
   "execution_count": 212,
   "metadata": {},
   "outputs": [],
   "source": [
    "player_color = [1 if e <= 5 else 0 for e in random_obs_meta['y'].tolist()]\n",
    "d_color = ['orange', 'blue']\n",
    "player_color = [d_color[e] for e in player_color]"
   ]
  },
  {
   "cell_type": "markdown",
   "metadata": {},
   "source": [
    "#### Simple Plotting"
   ]
  },
  {
   "cell_type": "code",
   "execution_count": 213,
   "metadata": {},
   "outputs": [
    {
     "data": {
      "image/png": "[encoded data removed]",
      "text/plain": [
       "<Figure size 576x576 with 1 Axes>"
      ]
     },
     "metadata": {
      "needs_background": "light"
     },
     "output_type": "display_data"
    }
   ],
   "source": [
    "plt.figure(figsize=(8,8))\n",
    "plt.scatter(random_obs_t[:,0], random_obs_t[:,1], c=player_color, alpha=0.3);"
   ]
  },
  {
   "cell_type": "code",
   "execution_count": 214,
   "metadata": {},
   "outputs": [
    {
     "data": {
      "image/png": "[encoded data removed]",
      "text/plain": [
       "<Figure size 576x576 with 1 Axes>"
      ]
     },
     "metadata": {
      "needs_background": "light"
     },
     "output_type": "display_data"
    }
   ],
   "source": [
    "vocab = list(train_dl.vocab).copy()\n",
    "\n",
    "vocab_piece = [e.split('-')[-1] for e in vocab]\n",
    "\n",
    "d_color = {'knight': 'orange', \n",
    "           'rook':  'green',\n",
    "           'pawn': 'red',\n",
    "           'queen': 'black',\n",
    "           'king':  'yellow',\n",
    "           'bishop': 'pink',\n",
    "          }\n",
    "\n",
    "piece_color = [d_color[vocab_piece[e]] for e in random_obs_meta['y'].tolist()]\n",
    "\n",
    "plt.figure(figsize=(8,8))\n",
    "plt.scatter(random_obs_t[:,0], random_obs_t[:,1], c=piece_color, alpha=0.3);"
   ]
  },
  {
   "cell_type": "code",
   "execution_count": 215,
   "metadata": {},
   "outputs": [
    {
     "data": {
      "text/plain": [
       "[7, 11, 13, 14, 21, 23, 28, 40, 50, 51, 52, 54, 56, 62, 63, 70, 79, 81, 83]"
      ]
     },
     "execution_count": 215,
     "metadata": {},
     "output_type": "execute_result"
    }
   ],
   "source": [
    "cluster_ind = 0\n",
    "this_cluster = clusters[cluster_ind]\n",
    "this_cluster"
   ]
  },
  {
   "cell_type": "code",
   "execution_count": 216,
   "metadata": {},
   "outputs": [],
   "source": [
    "x_in = join_df['group_index'].isin(this_cluster)\n",
    "x_out = x_in.map(lambda x: not(x))\n",
    "\n",
    "in_cluster =  join_df[x_in]\n",
    "out_cluster = join_df[x_out]\n",
    "\n",
    "n_features = 4096\n",
    "fcols = ['f' + str(i) for i in range(n_features)]\n",
    "\n",
    "in_t =  pca.transform(in_cluster.loc[:,fcols])\n",
    "out_t = pca.transform(out_cluster.loc[:,fcols])\n",
    "                    "
   ]
  },
  {
   "cell_type": "markdown",
   "metadata": {},
   "source": [
    "### Final Display Graph\n",
    "Results: clusters of pseudo-duplicates are not revealed with pca 1+2 clusters.\n",
    "\n",
    "This indicates that comparing the full feature set from a trained CNN's backbone does not help us identify images of simlarity"
   ]
  },
  {
   "cell_type": "code",
   "execution_count": 234,
   "metadata": {},
   "outputs": [],
   "source": [
    "from matplotlib import lines as mlines"
   ]
  },
  {
   "cell_type": "code",
   "execution_count": 236,
   "metadata": {},
   "outputs": [
    {
     "data": {
      "image/png": "[encoded data removed]",
      "text/plain": [
       "<Figure size 576x576 with 1 Axes>"
      ]
     },
     "metadata": {
      "needs_background": "light"
     },
     "output_type": "display_data"
    }
   ],
   "source": [
    "piece_color = [d_color[vocab_piece[e]] for e in random_obs_meta['y'].tolist()]\n",
    "\n",
    "plt.figure(figsize=(8,8))\n",
    "plt.scatter(random_obs_t[:,0], random_obs_t[:,1], c=piece_color, alpha=0.5);\n",
    "plt.scatter(out_t[:,0], out_t[:,1], c='blue', alpha=0.4, marker='x')\n",
    "plt.scatter(in_t[:,0], in_t[:,1], c='black', alpha=0.6, marker='o');\n",
    "\n",
    "title =  'PCA 1+2 on Features - Each Piece Class separated by Color\\n'\n",
    "title += 'in-cluster is one cluster within a piece class;\\n out-cluster is all other of that group'\n",
    "plt.title(title);\n",
    "\n",
    "handles = [mlines.Line2D([0],[0], marker='o', c=color) for color in d_color.values()]\n",
    "l_keys = [str(e) for e in d_color.keys()]\n",
    "handles += [mlines.Line2D([0],[0], marker='x', c='blue') ]\n",
    "handles += [mlines.Line2D([0],[0], marker='o', c='black')]\n",
    "l_keys += ['out cluster', 'in cluster']\n",
    "plt.legend(handles, l_keys);"
   ]
  },
  {
   "cell_type": "code",
   "execution_count": null,
   "metadata": {},
   "outputs": [],
   "source": []
  }
 ],
 "metadata": {
  "kernelspec": {
   "display_name": "Python 3.7.9 64-bit ('newfastai': conda)",
   "language": "python",
   "name": "python37964bitnewfastaiconda61873d9b96114f3394d8a334bb8891ae"
  },
  "language_info": {
   "codemirror_mode": {
    "name": "ipython",
    "version": 3
   },
   "file_extension": ".py",
   "mimetype": "text/x-python",
   "name": "python",
   "nbconvert_exporter": "python",
   "pygments_lexer": "ipython3",
   "version": "3.7.9"
  }
 },
 "nbformat": 4,
 "nbformat_minor": 4
}
