{
 "cells": [
  {
   "cell_type": "markdown",
   "metadata": {},
   "source": [
    "### Build up features, join to clusters"
   ]
  },
  {
   "cell_type": "code",
   "execution_count": 1,
   "metadata": {},
   "outputs": [],
   "source": [
    "import numpy as np\n",
    "import os, sys, json\n",
    "import PIL\n",
    "import pandas as pd\n",
    "from pathlib import Path\n",
    "import matplotlib.pyplot as plt\n",
    "from ast import literal_eval\n",
    "import warnings\n",
    "warnings.filterwarnings('ignore')\n",
    "\n",
    "sys.path.append('..')\n",
    "%load_ext autoreload\n",
    "%autoreload 2\n",
    "\n",
    "from modules.overlaputils import foo\n",
    "\n",
    "crop_dir = '../../../rf-chess-data/cropped_verify/'"
   ]
  },
  {
   "cell_type": "code",
   "execution_count": 2,
   "metadata": {},
   "outputs": [
    {
     "name": "stdout",
     "output_type": "stream",
     "text": [
      "data_aug_v1.csv  data_v1.1.csv\tdata_v1.csv\r\n"
     ]
    }
   ],
   "source": [
    "!ls ../data/rf-annotate/"
   ]
  },
  {
   "cell_type": "code",
   "execution_count": 3,
   "metadata": {},
   "outputs": [
    {
     "name": "stdout",
     "output_type": "stream",
     "text": [
      "cropped_v1\teda_1.ipynb  roboflow\t verify.files\r\n",
      "cropped_verify\teda_2.ipynb  v1.1.files\r\n"
     ]
    }
   ],
   "source": [
    "!ls ../../../rf-chess-data/"
   ]
  },
  {
   "cell_type": "markdown",
   "metadata": {},
   "source": [
    "### Setup Twin Pairs"
   ]
  },
  {
   "cell_type": "code",
   "execution_count": 4,
   "metadata": {},
   "outputs": [],
   "source": [
    "df = pd.read_csv('../data/rf-annotate/data_v1.csv')  # '../data/rf-annotate/data_v1.1.csv'\n",
    "df['bbox'] = df['bbox'].map(lambda x: literal_eval(x))"
   ]
  },
  {
   "cell_type": "code",
   "execution_count": 5,
   "metadata": {},
   "outputs": [
    {
     "data": {
      "text/plain": [
       "(87, 17)"
      ]
     },
     "execution_count": 5,
     "metadata": {},
     "output_type": "execute_result"
    }
   ],
   "source": [
    "bq = foo(df, 'black-queen')\n",
    "\n",
    "bq.shape\n",
    "\n",
    "# bq.head(3)"
   ]
  },
  {
   "cell_type": "code",
   "execution_count": 6,
   "metadata": {},
   "outputs": [],
   "source": [
    "amts = bq.groupby('twin_set_cluster_obj').agg('count').iloc[:,1]\n",
    "# amts"
   ]
  },
  {
   "cell_type": "code",
   "execution_count": 7,
   "metadata": {},
   "outputs": [],
   "source": [
    "max_show = 99 \n",
    "matched = amts[amts > 1]\n",
    "unmatched = amts[amts == 1]\n",
    "\n",
    "iters = matched.sort_values(ascending=False).index[:max_show]"
   ]
  },
  {
   "cell_type": "code",
   "execution_count": 8,
   "metadata": {},
   "outputs": [
    {
     "data": {
      "text/plain": [
       "Index(['[7, 11, 13, 14, 21, 23, 28, 40, 50, 51, 52, 54, 56, 62, 63, 70, 79, 81, 83]',\n",
       "       '[2, 18, 29, 37, 38, 46, 48, 57, 59, 66, 67, 72, 73, 78]',\n",
       "       '[5, 6, 16, 20, 30, 32, 33, 39, 47, 60, 69, 86]',\n",
       "       '[1, 4, 8, 10, 22, 43, 44, 53, 65, 68, 75, 84]',\n",
       "       '[9, 17, 19, 35, 55, 71, 85]', '[3, 24, 26]', '[45, 58]', '[42, 49]',\n",
       "       '[27, 74]'],\n",
       "      dtype='object', name='twin_set_cluster_obj')"
      ]
     },
     "execution_count": 8,
     "metadata": {},
     "output_type": "execute_result"
    }
   ],
   "source": [
    "iters"
   ]
  },
  {
   "cell_type": "code",
   "execution_count": 9,
   "metadata": {},
   "outputs": [
    {
     "data": {
      "text/plain": [
       "[7, 11, 13, 14, 21, 23, 28, 40, 50, 51, 52, 54, 56, 62, 63, 70, 79, 81, 83]"
      ]
     },
     "execution_count": 9,
     "metadata": {},
     "output_type": "execute_result"
    }
   ],
   "source": [
    "literal_eval(iters[0])"
   ]
  },
  {
   "cell_type": "code",
   "execution_count": 10,
   "metadata": {},
   "outputs": [
    {
     "data": {
      "text/html": [
       "<div>\n",
       "<style scoped>\n",
       "    .dataframe tbody tr th:only-of-type {\n",
       "        vertical-align: middle;\n",
       "    }\n",
       "\n",
       "    .dataframe tbody tr th {\n",
       "        vertical-align: top;\n",
       "    }\n",
       "\n",
       "    .dataframe thead th {\n",
       "        text-align: right;\n",
       "    }\n",
       "</style>\n",
       "<table border=\"1\" class=\"dataframe\">\n",
       "  <thead>\n",
       "    <tr style=\"text-align: right;\">\n",
       "      <th></th>\n",
       "      <th>twin_sets</th>\n",
       "      <th>twin_sets_obj</th>\n",
       "      <th>twin_set_cluster</th>\n",
       "      <th>twin_set_cluster_obj</th>\n",
       "    </tr>\n",
       "  </thead>\n",
       "  <tbody>\n",
       "    <tr>\n",
       "      <th>1</th>\n",
       "      <td>[0]</td>\n",
       "      <td>[0]</td>\n",
       "      <td>[0]</td>\n",
       "      <td>[0]</td>\n",
       "    </tr>\n",
       "    <tr>\n",
       "      <th>19</th>\n",
       "      <td>[1, 4, 8, 10, 22, 43, 44, 53, 65, 68, 75, 84]</td>\n",
       "      <td>[1, 4, 8, 10, 22, 43, 44, 53, 65, 68, 75, 84]</td>\n",
       "      <td>[1, 4, 8, 10, 22, 43, 44, 53, 65, 68, 75, 84]</td>\n",
       "      <td>[1, 4, 8, 10, 22, 43, 44, 53, 65, 68, 75, 84]</td>\n",
       "    </tr>\n",
       "    <tr>\n",
       "      <th>83</th>\n",
       "      <td>[2, 67]</td>\n",
       "      <td>[2, 67]</td>\n",
       "      <td>[2, 18, 29, 37, 38, 46, 48, 57, 59, 66, 67, 72...</td>\n",
       "      <td>[2, 18, 29, 37, 38, 46, 48, 57, 59, 66, 67, 72...</td>\n",
       "    </tr>\n",
       "    <tr>\n",
       "      <th>188</th>\n",
       "      <td>[3, 24, 26]</td>\n",
       "      <td>[3, 24, 26]</td>\n",
       "      <td>[3, 24, 26]</td>\n",
       "      <td>[3, 24, 26]</td>\n",
       "    </tr>\n",
       "  </tbody>\n",
       "</table>\n",
       "</div>"
      ],
      "text/plain": [
       "                                         twin_sets  \\\n",
       "1                                              [0]   \n",
       "19   [1, 4, 8, 10, 22, 43, 44, 53, 65, 68, 75, 84]   \n",
       "83                                         [2, 67]   \n",
       "188                                    [3, 24, 26]   \n",
       "\n",
       "                                     twin_sets_obj  \\\n",
       "1                                              [0]   \n",
       "19   [1, 4, 8, 10, 22, 43, 44, 53, 65, 68, 75, 84]   \n",
       "83                                         [2, 67]   \n",
       "188                                    [3, 24, 26]   \n",
       "\n",
       "                                      twin_set_cluster  \\\n",
       "1                                                  [0]   \n",
       "19       [1, 4, 8, 10, 22, 43, 44, 53, 65, 68, 75, 84]   \n",
       "83   [2, 18, 29, 37, 38, 46, 48, 57, 59, 66, 67, 72...   \n",
       "188                                        [3, 24, 26]   \n",
       "\n",
       "                                  twin_set_cluster_obj  \n",
       "1                                                  [0]  \n",
       "19       [1, 4, 8, 10, 22, 43, 44, 53, 65, 68, 75, 84]  \n",
       "83   [2, 18, 29, 37, 38, 46, 48, 57, 59, 66, 67, 72...  \n",
       "188                                        [3, 24, 26]  "
      ]
     },
     "execution_count": 10,
     "metadata": {},
     "output_type": "execute_result"
    }
   ],
   "source": [
    "bq.iloc[:4, 13:]"
   ]
  },
  {
   "cell_type": "markdown",
   "metadata": {},
   "source": [
    "### Setup Data / Learner"
   ]
  },
  {
   "cell_type": "code",
   "execution_count": 11,
   "metadata": {},
   "outputs": [],
   "source": [
    "import torch\n",
    "from fastai.vision.all import *"
   ]
  },
  {
   "cell_type": "code",
   "execution_count": 12,
   "metadata": {},
   "outputs": [],
   "source": [
    "def piece_class_parse(fn): \n",
    "    fn = fn.split('_')[1]\n",
    "    fn = fn.split('.')[0]\n",
    "    return fn\n",
    "\n",
    "train_path = Path('../../../rf-chess-data/cropped_v1/')\n",
    "\n",
    "Crop = Resize(128, ResizeMethod.Pad, pad_mode='reflection')\n",
    "\n",
    "train_dl = ImageDataLoaders.from_name_func(\n",
    "                    \n",
    "                    train_path, \n",
    "                    get_image_files(train_path),                 \n",
    "                    label_func=piece_class_parse, \n",
    "                    item_tfms=Crop,\n",
    "                    \n",
    "                    # these are for an evaluation run\n",
    "                    shuffle_train=False,\n",
    "                    valid_pct=.0,\n",
    "                    drop_last=False,\n",
    "                    num_workers=0,\n",
    "                    bs=16,\n",
    "                    )"
   ]
  },
  {
   "cell_type": "code",
   "execution_count": 13,
   "metadata": {},
   "outputs": [],
   "source": [
    "learn = cnn_learner(train_dl, resnet50, metrics=[], normalize=False)\n",
    "\n",
    "PATH = '../models/base-learner-6.pth'\n",
    "\n",
    "model = learn.model\n",
    "model.load_state_dict(torch.load(PATH))\n",
    "model.eval();\n",
    "learn.model = model"
   ]
  },
  {
   "cell_type": "code",
   "execution_count": 14,
   "metadata": {},
   "outputs": [],
   "source": [
    "new_model = torch.nn.modules.container.Sequential(model[0], model[1][:2])\n",
    "learn.model = new_model"
   ]
  },
  {
   "cell_type": "markdown",
   "metadata": {},
   "source": [
    "### Build Dataset from Loader"
   ]
  },
  {
   "cell_type": "code",
   "execution_count": 15,
   "metadata": {},
   "outputs": [],
   "source": [
    "train = train_dl[0]"
   ]
  },
  {
   "cell_type": "code",
   "execution_count": 16,
   "metadata": {},
   "outputs": [],
   "source": [
    "items = train.items.copy()\n",
    "idxs  = train.get_idxs().copy()"
   ]
  },
  {
   "cell_type": "code",
   "execution_count": 17,
   "metadata": {},
   "outputs": [
    {
     "data": {
      "text/plain": [
       "179.375"
      ]
     },
     "execution_count": 17,
     "metadata": {},
     "output_type": "execute_result"
    }
   ],
   "source": [
    "num_batches = len(train.items) / train.bs\n",
    "num_batches"
   ]
  },
  {
   "cell_type": "code",
   "execution_count": 42,
   "metadata": {},
   "outputs": [],
   "source": [
    "# counter = 0\n",
    "# for x,y in train:\n",
    "#     counter += 1\n",
    "#     if counter > 50: break\n",
    "# counter"
   ]
  },
  {
   "cell_type": "code",
   "execution_count": 43,
   "metadata": {},
   "outputs": [],
   "source": [
    "counter = 0\n",
    "y_all = torch.tensor([])\n",
    "feats_all = torch.tensor([])"
   ]
  },
  {
   "cell_type": "code",
   "execution_count": null,
   "metadata": {},
   "outputs": [],
   "source": [
    "for x,y in train:\n",
    "    \n",
    "    _feats = new_model(x)\n",
    "    \n",
    "    y_all =     torch.cat((y_all, y))\n",
    "    feats_all = torch.cat((feats_all, _feats))\n",
    "    \n",
    "    counter += 1\n",
    "    #if counter > 10: break\n",
    "    if counter > int(num_batches) + 1: break\n",
    "counter"
   ]
  },
  {
   "cell_type": "code",
   "execution_count": null,
   "metadata": {},
   "outputs": [],
   "source": [
    "feats_all.shape"
   ]
  },
  {
   "cell_type": "code",
   "execution_count": null,
   "metadata": {},
   "outputs": [],
   "source": [
    "y_all.shape"
   ]
  },
  {
   "cell_type": "code",
   "execution_count": null,
   "metadata": {},
   "outputs": [],
   "source": []
  }
 ],
 "metadata": {
  "kernelspec": {
   "display_name": "Python 3.7.9 64-bit ('newfastai': conda)",
   "language": "python",
   "name": "python37964bitnewfastaiconda61873d9b96114f3394d8a334bb8891ae"
  },
  "language_info": {
   "codemirror_mode": {
    "name": "ipython",
    "version": 3
   },
   "file_extension": ".py",
   "mimetype": "text/x-python",
   "name": "python",
   "nbconvert_exporter": "python",
   "pygments_lexer": "ipython3",
   "version": "3.7.9"
  }
 },
 "nbformat": 4,
 "nbformat_minor": 4
}
