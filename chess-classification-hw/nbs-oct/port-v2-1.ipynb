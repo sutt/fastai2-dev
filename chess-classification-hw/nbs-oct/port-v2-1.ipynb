{
 "cells": [
  {
   "cell_type": "markdown",
   "metadata": {},
   "source": [
    "### Get this to work for new version of fastai\n",
    "We need to load a pth torch object instead of fastai learner (from pkl).\n",
    "\n",
    "This is because pickle preserve of the python object breaks when loading with new import name.\n",
    "\n",
    "\n",
    "10.14.2020"
   ]
  },
  {
   "cell_type": "code",
   "execution_count": 1,
   "metadata": {},
   "outputs": [],
   "source": [
    "import torch\n",
    "from fastai.vision.all import *"
   ]
  },
  {
   "cell_type": "code",
   "execution_count": 2,
   "metadata": {
    "collapsed": true
   },
   "outputs": [
    {
     "name": "stdout",
     "output_type": "stream",
     "text": [
      "total 1.6G\r\n",
      " 99M base-learner-12.pkl\t   0 model-config    105M myproto-8.pkl\r\n",
      " 99M base-learner-13-fit25.pkl\t   0 model-logs      105M myproto-9.pkl\r\n",
      "107M base-learner-13-fit25.pth\t105M myproto-0.pkl   105M myproto_valid-0.pkl\r\n",
      " 99M base-learner-6.pkl\t\t105M myproto-10.pkl   99M resnet50-acc75.pkl\r\n",
      " 48M bing-clean-2.pkl\t\t105M myproto-1.pkl    53M stadard-piece-2.pkl\r\n",
      " 46M chess1.pkl\t\t\t   0 myproto-3.pkl      0 tmpmod-a-0.pkl\r\n",
      "101M expmod-b-1.pkl\t\t105M myproto-5.pkl    51M tmpmod-a-1.pkl\r\n",
      "   0 model-analysis\t\t105M myproto-7.pkl\r\n"
     ]
    }
   ],
   "source": [
    "!ls ../models -sh"
   ]
  },
  {
   "cell_type": "code",
   "execution_count": 5,
   "metadata": {},
   "outputs": [],
   "source": [
    "def piece_class_parse(fn): \n",
    "    fn = fn.split('_')[1]\n",
    "    fn = fn.split('.')[0]\n",
    "    return fn"
   ]
  },
  {
   "cell_type": "markdown",
   "metadata": {},
   "source": [
    "### Build Learn + Train_DL"
   ]
  },
  {
   "cell_type": "code",
   "execution_count": 7,
   "metadata": {},
   "outputs": [],
   "source": [
    "_train_path = Path('../../../rf-chess-data/cropped_v1/')"
   ]
  },
  {
   "cell_type": "code",
   "execution_count": 8,
   "metadata": {},
   "outputs": [
    {
     "data": {
      "text/plain": [
       "(#2871) [Path('../../../rf-chess-data/cropped_v1/00000_white-pawn.jpg'),Path('../../../rf-chess-data/cropped_v1/00001_black-queen.jpg'),Path('../../../rf-chess-data/cropped_v1/00002_black-pawn.jpg'),Path('../../../rf-chess-data/cropped_v1/00003_white-pawn.jpg'),Path('../../../rf-chess-data/cropped_v1/00004_white-bishop.jpg'),Path('../../../rf-chess-data/cropped_v1/00005_white-king.jpg'),Path('../../../rf-chess-data/cropped_v1/00006_white-queen.jpg'),Path('../../../rf-chess-data/cropped_v1/00007_white-rook.jpg'),Path('../../../rf-chess-data/cropped_v1/00008_white-knight.jpg'),Path('../../../rf-chess-data/cropped_v1/00009_white-pawn.jpg')...]"
      ]
     },
     "execution_count": 8,
     "metadata": {},
     "output_type": "execute_result"
    }
   ],
   "source": [
    "_train_path.ls()"
   ]
  },
  {
   "cell_type": "code",
   "execution_count": 9,
   "metadata": {},
   "outputs": [],
   "source": [
    "train_fnames = get_image_files(_train_path)"
   ]
  },
  {
   "cell_type": "code",
   "execution_count": 10,
   "metadata": {},
   "outputs": [],
   "source": [
    "train_dl = ImageDataLoaders.from_name_func(\n",
    "                    _train_path, \n",
    "                    train_fnames,\n",
    "                    valid_pct=.2, \n",
    "#                     seed=_train_seed,\n",
    "                    label_func=piece_class_parse, \n",
    "#                     item_tfms=Crop,\n",
    "#                     batch_tfms=Augs,\n",
    "#                     bs=_bs,\n",
    "                    # num_workers=0,\n",
    "                    )"
   ]
  },
  {
   "cell_type": "code",
   "execution_count": 11,
   "metadata": {},
   "outputs": [
    {
     "data": {
      "text/plain": [
       "<fastai.data.core.DataLoaders at 0x7fecd442ea10>"
      ]
     },
     "execution_count": 11,
     "metadata": {},
     "output_type": "execute_result"
    }
   ],
   "source": [
    "train_dl"
   ]
  },
  {
   "cell_type": "code",
   "execution_count": 12,
   "metadata": {},
   "outputs": [],
   "source": [
    "learn = cnn_learner(train_dl, resnet50, metrics=[],\n",
    "                        normalize=False)\n"
   ]
  },
  {
   "cell_type": "markdown",
   "metadata": {},
   "source": [
    "### Load StateDict from pth"
   ]
  },
  {
   "cell_type": "code",
   "execution_count": 14,
   "metadata": {},
   "outputs": [],
   "source": [
    "PATH = '../models/base-learner-13-fit25.pth'\n",
    "\n",
    "model = learn.model\n",
    "\n",
    "model.load_state_dict(torch.load(PATH))\n",
    "\n",
    "model.eval()"
   ]
  },
  {
   "cell_type": "markdown",
   "metadata": {},
   "source": [
    "### View Predictions - not great"
   ]
  },
  {
   "cell_type": "code",
   "execution_count": 20,
   "metadata": {},
   "outputs": [],
   "source": [
    "import os\n",
    "d = '../../../other-chess-data/regulation-pieces-1//crops/'\n",
    "fns = os.listdir(d)\n",
    "img_fns = [d + fn for fn in fns[:10]]\n"
   ]
  },
  {
   "cell_type": "code",
   "execution_count": 23,
   "metadata": {},
   "outputs": [],
   "source": [
    "actuals = [Path(e).name for e in img_fns]"
   ]
  },
  {
   "cell_type": "code",
   "execution_count": 24,
   "metadata": {},
   "outputs": [
    {
     "data": {
      "text/html": [],
      "text/plain": [
       "<IPython.core.display.HTML object>"
      ]
     },
     "metadata": {},
     "output_type": "display_data"
    },
    {
     "data": {
      "text/html": [],
      "text/plain": [
       "<IPython.core.display.HTML object>"
      ]
     },
     "metadata": {},
     "output_type": "display_data"
    },
    {
     "data": {
      "text/html": [],
      "text/plain": [
       "<IPython.core.display.HTML object>"
      ]
     },
     "metadata": {},
     "output_type": "display_data"
    },
    {
     "data": {
      "text/html": [],
      "text/plain": [
       "<IPython.core.display.HTML object>"
      ]
     },
     "metadata": {},
     "output_type": "display_data"
    },
    {
     "data": {
      "text/html": [],
      "text/plain": [
       "<IPython.core.display.HTML object>"
      ]
     },
     "metadata": {},
     "output_type": "display_data"
    },
    {
     "data": {
      "text/html": [],
      "text/plain": [
       "<IPython.core.display.HTML object>"
      ]
     },
     "metadata": {},
     "output_type": "display_data"
    },
    {
     "data": {
      "text/html": [],
      "text/plain": [
       "<IPython.core.display.HTML object>"
      ]
     },
     "metadata": {},
     "output_type": "display_data"
    },
    {
     "data": {
      "text/html": [],
      "text/plain": [
       "<IPython.core.display.HTML object>"
      ]
     },
     "metadata": {},
     "output_type": "display_data"
    },
    {
     "data": {
      "text/html": [],
      "text/plain": [
       "<IPython.core.display.HTML object>"
      ]
     },
     "metadata": {},
     "output_type": "display_data"
    },
    {
     "data": {
      "text/html": [],
      "text/plain": [
       "<IPython.core.display.HTML object>"
      ]
     },
     "metadata": {},
     "output_type": "display_data"
    }
   ],
   "source": [
    "preds = [learn.predict(e)[0] for e in img_fns]"
   ]
  },
  {
   "cell_type": "code",
   "execution_count": 25,
   "metadata": {},
   "outputs": [
    {
     "data": {
      "text/plain": [
       "[('00000_white-king.jpg', 'white-knight'),\n",
       " ('00001_black-rook.jpg', 'black-rook'),\n",
       " ('00002_black-knight.jpg', 'black-rook'),\n",
       " ('00003_white-knight.jpg', 'white-pawn'),\n",
       " ('00004_white-pawn.jpg', 'white-pawn'),\n",
       " ('00005_black-pawn.jpg', 'white-bishop'),\n",
       " ('00006_white-bishop.jpg', 'white-pawn'),\n",
       " ('00007_white-rook.jpg', 'white-pawn'),\n",
       " ('00008_white-queen.jpg', 'white-knight'),\n",
       " ('00009_black-bishop.jpg', 'white-pawn')]"
      ]
     },
     "execution_count": 25,
     "metadata": {},
     "output_type": "execute_result"
    }
   ],
   "source": [
    "[(a,b) for a,b in zip(actuals, preds)]"
   ]
  },
  {
   "cell_type": "code",
   "execution_count": null,
   "metadata": {},
   "outputs": [],
   "source": []
  }
 ],
 "metadata": {
  "kernelspec": {
   "display_name": "Python 3.7.9 64-bit ('newfastai': conda)",
   "language": "python",
   "name": "python37964bitnewfastaiconda61873d9b96114f3394d8a334bb8891ae"
  },
  "language_info": {
   "codemirror_mode": {
    "name": "ipython",
    "version": 3
   },
   "file_extension": ".py",
   "mimetype": "text/x-python",
   "name": "python",
   "nbconvert_exporter": "python",
   "pygments_lexer": "ipython3",
   "version": "3.7.9"
  }
 },
 "nbformat": 4,
 "nbformat_minor": 4
}
