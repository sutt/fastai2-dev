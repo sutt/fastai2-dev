{
 "cells": [
  {
   "cell_type": "markdown",
   "metadata": {},
   "source": [
    "### Style Transfer Results\n",
    "\n",
    "**Abstract:** Applying the results of the FastAI style lectures from [Jeremy Howard](https://www.youtube.com/watch?v=xXXiC4YRGrQ) and [Zach Mueller](https://www.youtube.com/watch?v=4w3sEgqDvSo) with `fastai_v2`\n",
    "\n",
    "**Resources:**\n",
    "\n",
    "| Topic | Description | Link |\n",
    "| --- | --- | --- |\n",
    "| Training Models | notebooks for training style models | [ink](./train_ink.ipynb) [biggie](./train_biggie.ipynb) [watercolor](./train_watercolor.ipynb)|\n",
    "| Result Tabulation | notebooks for formatting results | [style-transfer-results.ipynb](./style_transfer_results.ipynb)|\n",
    "| Scratch Book | converting original lesson to my own | [demo_load_model.ipynb](./demo_load_model.ipynb)|\n",
    "| Original Lesson | zach's lesson with addtions | [original_lesson.ipynb](./original_lesson.ipynb)|\n",
    "| Helper Functions | .py files for each function | [`suttstyle.py`](./imports/suttstyle.py)|\n",
    "| Images | the image files input / output | [`imgs/`](./imgs/)|\n",
    "| Learned Skill | get specifc image  | [get_specific_lesson.ipynb](./get_specific_lesson.ipynb)|\n",
    "\n",
    "----\n",
    "\n",
    "**Results Grid**\n",
    "\n",
    "Style targets across the top, Content targets along left side, content modified by style inner product.\n",
    "\n",
    "<img src=\"imgs/output_4by4.png\"/>\n",
    "\n",
    "----\n",
    "\n",
    "**Summary of Method / Outline to reproduce**\n",
    "\n",
    "**Other Resources**\n",
    "\n",
    " - [fastai alumni blog post](https://francescopochetti.com/fast-neural-style-transfer-training-the-model/)\n",
    " \n",
    " - [Style Transfer Paper, Gaty 2015](https://arxiv.org/abs/1508.06576)\n",
    " \n",
    " - [Style Transfer Paper, Johnson2016](https://arxiv.org/abs/1603.08155)\n",
    "\n",
    "\n",
    "\n",
    "**Highlights / Interesting Findings**\n",
    "\n",
    "**Small Wins**\n",
    "\n",
    "**Remaining Questions / Further Improvements**\n",
    " - Why do we need to train a style model on all of image net?\n",
    "\n",
    "\n"
   ]
  },
  {
   "cell_type": "code",
   "execution_count": null,
   "metadata": {},
   "outputs": [],
   "source": []
  }
 ],
 "metadata": {
  "kernelspec": {
   "display_name": "Python [conda env:root] *",
   "language": "python",
   "name": "conda-root-py"
  },
  "language_info": {
   "codemirror_mode": {
    "name": "ipython",
    "version": 3
   },
   "file_extension": ".py",
   "mimetype": "text/x-python",
   "name": "python",
   "nbconvert_exporter": "python",
   "pygments_lexer": "ipython3",
   "version": "3.7.4"
  }
 },
 "nbformat": 4,
 "nbformat_minor": 2
}
