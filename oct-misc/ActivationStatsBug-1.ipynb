{
 "cells": [
  {
   "cell_type": "markdown",
   "metadata": {},
   "source": [
    "### ScratchPad for Bug\n",
    " **LangLearner Activation Stats**\n",
    "\n",
    "https://github.com/fastai/fastai/issues/2850#issuecomment-710082711"
   ]
  },
  {
   "cell_type": "code",
   "execution_count": 1,
   "metadata": {},
   "outputs": [],
   "source": [
    "import torch \n",
    "import torch.nn as nn\n",
    "from fastai.text.all import *\n",
    "\n",
    "def hook_fn(m, i, o):\n",
    "  print(m._get_name())\n",
    "  print(\"     HOOK WORKING!    \")\n",
    "\n",
    "model =  AWD_LSTM(3, 5, 6, 2)"
   ]
  },
  {
   "cell_type": "code",
   "execution_count": 2,
   "metadata": {},
   "outputs": [],
   "source": [
    "flat_model =  flatten_model(model)\n",
    "layer_1    =  flat_model[0]\n",
    "\n",
    "inp_data   = torch.randint(3, (64,72))"
   ]
  },
  {
   "cell_type": "code",
   "execution_count": 3,
   "metadata": {},
   "outputs": [],
   "source": [
    "out = layer_1(inp_data)"
   ]
  },
  {
   "cell_type": "code",
   "execution_count": 5,
   "metadata": {},
   "outputs": [
    {
     "data": {
      "text/plain": [
       "<torch.utils.hooks.RemovableHandle at 0x7fe3a64c95d0>"
      ]
     },
     "execution_count": 5,
     "metadata": {},
     "output_type": "execute_result"
    }
   ],
   "source": [
    "layer_1.register_forward_hook(hook_fn)"
   ]
  },
  {
   "cell_type": "code",
   "execution_count": 6,
   "metadata": {},
   "outputs": [
    {
     "name": "stdout",
     "output_type": "stream",
     "text": [
      "Embedding\n",
      "     HOOK WORKING!    \n"
     ]
    }
   ],
   "source": [
    "out = layer_1(inp_data)"
   ]
  },
  {
   "cell_type": "markdown",
   "metadata": {},
   "source": [
    "### New Example"
   ]
  },
  {
   "cell_type": "code",
   "execution_count": 54,
   "metadata": {},
   "outputs": [],
   "source": [
    "path = untar_data(URLs.IMDB_SAMPLE)\n",
    "imdb = pd.read_csv(path/'texts.csv')"
   ]
  },
  {
   "cell_type": "code",
   "execution_count": 55,
   "metadata": {},
   "outputs": [],
   "source": [
    "N = 40\n",
    "imdb_sample = imdb.iloc[:N]"
   ]
  },
  {
   "cell_type": "code",
   "execution_count": 64,
   "metadata": {},
   "outputs": [
    {
     "data": {
      "text/html": [],
      "text/plain": [
       "<IPython.core.display.HTML object>"
      ]
     },
     "metadata": {},
     "output_type": "display_data"
    },
    {
     "name": "stderr",
     "output_type": "stream",
     "text": [
      "/home/user/anaconda3/envs/devfastai/lib/python3.7/site-packages/numpy/core/_asarray.py:83: VisibleDeprecationWarning: Creating an ndarray from ragged nested sequences (which is a list-or-tuple of lists-or-tuples-or ndarrays with different lengths or shapes) is deprecated. If you meant to do this, you must specify 'dtype=object' when creating the ndarray\n",
      "  return array(a, dtype, copy=False, order=order)\n"
     ]
    }
   ],
   "source": [
    "imdb_lm = TextDataLoaders.from_df(imdb_sample, text_col='text', \n",
    "                                  is_lm=True, bs=10)\n",
    "\n",
    "learn   = language_model_learner(imdb_lm, AWD_LSTM, \n",
    "                                 cbs = [ActivationStats],\n",
    "                                 metrics=[accuracy]);"
   ]
  },
  {
   "cell_type": "code",
   "execution_count": 68,
   "metadata": {},
   "outputs": [
    {
     "data": {
      "text/plain": [
       "1"
      ]
     },
     "execution_count": 68,
     "metadata": {},
     "output_type": "execute_result"
    }
   ],
   "source": [
    "imdb_lm.num_workers"
   ]
  },
  {
   "cell_type": "code",
   "execution_count": 63,
   "metadata": {},
   "outputs": [
    {
     "data": {
      "text/plain": [
       "SequentialRNN(\n",
       "  (0): AWD_LSTM(\n",
       "    (encoder): Embedding(512, 400, padding_idx=1)\n",
       "    (encoder_dp): EmbeddingDropout(\n",
       "      (emb): Embedding(512, 400, padding_idx=1)\n",
       "    )\n",
       "    (rnns): ModuleList(\n",
       "      (0): WeightDropout(\n",
       "        (module): LSTM(400, 1152, batch_first=True)\n",
       "      )\n",
       "      (1): WeightDropout(\n",
       "        (module): LSTM(1152, 1152, batch_first=True)\n",
       "      )\n",
       "      (2): WeightDropout(\n",
       "        (module): LSTM(1152, 400, batch_first=True)\n",
       "      )\n",
       "    )\n",
       "    (input_dp): RNNDropout()\n",
       "    (hidden_dps): ModuleList(\n",
       "      (0): RNNDropout()\n",
       "      (1): RNNDropout()\n",
       "      (2): RNNDropout()\n",
       "    )\n",
       "  )\n",
       "  (1): LinearDecoder(\n",
       "    (decoder): Linear(in_features=400, out_features=512, bias=True)\n",
       "    (output_dp): RNNDropout()\n",
       "  )\n",
       ")"
      ]
     },
     "execution_count": 63,
     "metadata": {},
     "output_type": "execute_result"
    }
   ],
   "source": [
    "learn.model"
   ]
  },
  {
   "cell_type": "code",
   "execution_count": 57,
   "metadata": {},
   "outputs": [
    {
     "data": {
      "text/html": [
       "<table border=\"1\" class=\"dataframe\">\n",
       "  <thead>\n",
       "    <tr style=\"text-align: left;\">\n",
       "      <th>epoch</th>\n",
       "      <th>train_loss</th>\n",
       "      <th>valid_loss</th>\n",
       "      <th>accuracy</th>\n",
       "      <th>time</th>\n",
       "    </tr>\n",
       "  </thead>\n",
       "  <tbody>\n",
       "    <tr>\n",
       "      <td>0</td>\n",
       "      <td>3.867580</td>\n",
       "      <td>3.569041</td>\n",
       "      <td>0.287460</td>\n",
       "      <td>00:15</td>\n",
       "    </tr>\n",
       "  </tbody>\n",
       "</table>"
      ],
      "text/plain": [
       "<IPython.core.display.HTML object>"
      ]
     },
     "metadata": {},
     "output_type": "display_data"
    }
   ],
   "source": [
    "learn.fit(1)"
   ]
  },
  {
   "cell_type": "code",
   "execution_count": 58,
   "metadata": {},
   "outputs": [],
   "source": [
    "my_stats = learn.activation_stats.stats[0]"
   ]
  },
  {
   "cell_type": "code",
   "execution_count": 59,
   "metadata": {},
   "outputs": [
    {
     "data": {
      "text/plain": [
       "[None,\n",
       " None,\n",
       " None,\n",
       " None,\n",
       " None,\n",
       " None,\n",
       " None,\n",
       " None,\n",
       " {'mean': 0.6898623704910278,\n",
       "  'std': 2.4118845462799072,\n",
       "  'near_zero': 0.4226209852430556}]"
      ]
     },
     "execution_count": 59,
     "metadata": {},
     "output_type": "execute_result"
    }
   ],
   "source": [
    "list(my_stats)"
   ]
  },
  {
   "cell_type": "code",
   "execution_count": 60,
   "metadata": {},
   "outputs": [
    {
     "data": {
      "text/plain": [
       "9"
      ]
     },
     "execution_count": 60,
     "metadata": {},
     "output_type": "execute_result"
    }
   ],
   "source": [
    "len(my_stats)"
   ]
  },
  {
   "cell_type": "code",
   "execution_count": 61,
   "metadata": {},
   "outputs": [
    {
     "data": {
      "text/plain": [
       "[None,\n",
       " None,\n",
       " None,\n",
       " None,\n",
       " None,\n",
       " None,\n",
       " None,\n",
       " None,\n",
       " {'mean': 0.6898623704910278,\n",
       "  'std': 2.4118845462799072,\n",
       "  'near_zero': 0.4226209852430556}]"
      ]
     },
     "execution_count": 61,
     "metadata": {},
     "output_type": "execute_result"
    }
   ],
   "source": [
    "[stat for stat in my_stats]"
   ]
  },
  {
   "cell_type": "markdown",
   "metadata": {},
   "source": [
    "### Setup Vision"
   ]
  },
  {
   "cell_type": "code",
   "execution_count": 40,
   "metadata": {},
   "outputs": [
    {
     "data": {
      "text/html": [
       "<div>\n",
       "<style scoped>\n",
       "    .dataframe tbody tr th:only-of-type {\n",
       "        vertical-align: middle;\n",
       "    }\n",
       "\n",
       "    .dataframe tbody tr th {\n",
       "        vertical-align: top;\n",
       "    }\n",
       "\n",
       "    .dataframe thead th {\n",
       "        text-align: right;\n",
       "    }\n",
       "</style>\n",
       "<table border=\"1\" class=\"dataframe\">\n",
       "  <thead>\n",
       "    <tr style=\"text-align: right;\">\n",
       "      <th></th>\n",
       "      <th>name</th>\n",
       "      <th>label</th>\n",
       "    </tr>\n",
       "  </thead>\n",
       "  <tbody>\n",
       "    <tr>\n",
       "      <th>0</th>\n",
       "      <td>train/3/7463.png</td>\n",
       "      <td>3</td>\n",
       "    </tr>\n",
       "    <tr>\n",
       "      <th>1</th>\n",
       "      <td>train/3/9829.png</td>\n",
       "      <td>3</td>\n",
       "    </tr>\n",
       "    <tr>\n",
       "      <th>2</th>\n",
       "      <td>train/3/7881.png</td>\n",
       "      <td>3</td>\n",
       "    </tr>\n",
       "    <tr>\n",
       "      <th>3</th>\n",
       "      <td>train/3/8065.png</td>\n",
       "      <td>3</td>\n",
       "    </tr>\n",
       "    <tr>\n",
       "      <th>4</th>\n",
       "      <td>train/3/7046.png</td>\n",
       "      <td>3</td>\n",
       "    </tr>\n",
       "  </tbody>\n",
       "</table>\n",
       "</div>"
      ],
      "text/plain": [
       "               name  label\n",
       "0  train/3/7463.png      3\n",
       "1  train/3/9829.png      3\n",
       "2  train/3/7881.png      3\n",
       "3  train/3/8065.png      3\n",
       "4  train/3/7046.png      3"
      ]
     },
     "execution_count": 40,
     "metadata": {},
     "output_type": "execute_result"
    }
   ],
   "source": [
    "from fastai.vision.all import *\n",
    "\n",
    "path = untar_data(URLs.MNIST_TINY)\n",
    "\n",
    "df = pd.read_csv(path / 'labels.csv')\n",
    "df.head()"
   ]
  },
  {
   "cell_type": "code",
   "execution_count": 41,
   "metadata": {},
   "outputs": [
    {
     "data": {
      "text/plain": [
       "(709, 2)"
      ]
     },
     "execution_count": 41,
     "metadata": {},
     "output_type": "execute_result"
    }
   ],
   "source": [
    "train_mask = df['name'].map(lambda e: 'train' in e)\n",
    "df         = df[train_mask]\n",
    "df.shape"
   ]
  },
  {
   "cell_type": "code",
   "execution_count": 42,
   "metadata": {},
   "outputs": [],
   "source": [
    "db = DataBlock(blocks=(ImageBlock, CategoryBlock),\n",
    "              get_y=ColReader('label'),\n",
    "              get_x=ColReader('name', pref=path), \n",
    "         )\n",
    "\n",
    "dls = db.dataloaders(df, path=path)"
   ]
  },
  {
   "cell_type": "code",
   "execution_count": 43,
   "metadata": {},
   "outputs": [
    {
     "data": {
      "text/plain": [
       "torch.Size([64, 3, 28, 28])"
      ]
     },
     "execution_count": 43,
     "metadata": {},
     "output_type": "execute_result"
    }
   ],
   "source": [
    "x, y = dls.one_batch()\n",
    "\n",
    "x.shape"
   ]
  },
  {
   "cell_type": "code",
   "execution_count": 45,
   "metadata": {},
   "outputs": [
    {
     "data": {
      "text/html": [
       "<table border=\"1\" class=\"dataframe\">\n",
       "  <thead>\n",
       "    <tr style=\"text-align: left;\">\n",
       "      <th>epoch</th>\n",
       "      <th>train_loss</th>\n",
       "      <th>valid_loss</th>\n",
       "      <th>time</th>\n",
       "    </tr>\n",
       "  </thead>\n",
       "  <tbody>\n",
       "    <tr>\n",
       "      <td>0</td>\n",
       "      <td>0.929141</td>\n",
       "      <td>0.272355</td>\n",
       "      <td>00:05</td>\n",
       "    </tr>\n",
       "  </tbody>\n",
       "</table>"
      ],
      "text/plain": [
       "<IPython.core.display.HTML object>"
      ]
     },
     "metadata": {},
     "output_type": "display_data"
    }
   ],
   "source": [
    "learn = cnn_learner(dls, resnet18,cbs=[ActivationStats])\n",
    "learn.fit(1)"
   ]
  },
  {
   "cell_type": "markdown",
   "metadata": {},
   "source": [
    "### Process ActivationStats"
   ]
  },
  {
   "cell_type": "code",
   "execution_count": 47,
   "metadata": {},
   "outputs": [],
   "source": [
    "AS = learn.activation_stats"
   ]
  },
  {
   "cell_type": "code",
   "execution_count": 48,
   "metadata": {},
   "outputs": [
    {
     "data": {
      "text/plain": [
       "fastai.callback.hook.ActivationStats"
      ]
     },
     "execution_count": 48,
     "metadata": {},
     "output_type": "execute_result"
    }
   ],
   "source": [
    "type(AS)"
   ]
  },
  {
   "cell_type": "code",
   "execution_count": 50,
   "metadata": {},
   "outputs": [
    {
     "data": {
      "text/plain": [
       "8"
      ]
     },
     "execution_count": 50,
     "metadata": {},
     "output_type": "execute_result"
    }
   ],
   "source": [
    "len(AS.stats)"
   ]
  },
  {
   "cell_type": "code",
   "execution_count": 53,
   "metadata": {
    "collapsed": true
   },
   "outputs": [
    {
     "data": {
      "text/plain": [
       "[{'mean': -0.016696732491254807,\n",
       "  'std': 3.9601614475250244,\n",
       "  'near_zero': 0.5888397839604592},\n",
       " {'mean': 0.18121559917926788,\n",
       "  'std': 0.4113817811012268,\n",
       "  'near_zero': 0.33504688496492346},\n",
       " {'mean': -1.0923711061477661,\n",
       "  'std': 1.3479244709014893,\n",
       "  'near_zero': 0.8343231823979592},\n",
       " {'mean': -0.03415536507964134,\n",
       "  'std': 0.41720473766326904,\n",
       "  'near_zero': 0.5016691246811225},\n",
       " {'mean': -0.06179334595799446,\n",
       "  'std': 0.40240198373794556,\n",
       "  'near_zero': 0.6453832509566326},\n",
       " {'mean': 0.0030065076425671577,\n",
       "  'std': 0.40686172246932983,\n",
       "  'near_zero': 0.5407914142219388},\n",
       " {'mean': -0.6589341163635254,\n",
       "  'std': 1.2419774532318115,\n",
       "  'near_zero': 0.724968112244898},\n",
       " {'mean': -0.08352046459913254,\n",
       "  'std': 0.37421756982803345,\n",
       "  'near_zero': 0.5910694355867347},\n",
       " {'mean': -0.04646537825465202,\n",
       "  'std': 0.30503302812576294,\n",
       "  'near_zero': 0.6286023198341837},\n",
       " {'mean': -0.03036130778491497,\n",
       "  'std': 0.4497096538543701,\n",
       "  'near_zero': 0.5694256218112245},\n",
       " {'mean': -0.2516322135925293,\n",
       "  'std': 0.972693145275116,\n",
       "  'near_zero': 0.6344375610351562},\n",
       " {'mean': -0.06707210838794708,\n",
       "  'std': 0.33723196387290955,\n",
       "  'near_zero': 0.6396026611328125},\n",
       " {'mean': -0.14053170382976532,\n",
       "  'std': 0.32685092091560364,\n",
       "  'near_zero': 0.7402267456054688},\n",
       " {'mean': -0.003076607594266534,\n",
       "  'std': 0.35720720887184143,\n",
       "  'near_zero': 0.5364532470703125},\n",
       " {'mean': -0.06362536549568176,\n",
       "  'std': 0.45955297350883484,\n",
       "  'near_zero': 0.6173324584960938},\n",
       " {'mean': -0.003076616209000349,\n",
       "  'std': 0.23774224519729614,\n",
       "  'near_zero': 0.5959548950195312},\n",
       " {'mean': -0.21595260500907898,\n",
       "  'std': 0.49982839822769165,\n",
       "  'near_zero': 0.7280044555664062},\n",
       " {'mean': -0.2102886140346527,\n",
       "  'std': 0.33994078636169434,\n",
       "  'near_zero': 0.7808609008789062},\n",
       " {'mean': -0.05065568536520004,\n",
       "  'std': 0.1952943205833435,\n",
       "  'near_zero': 0.72601318359375},\n",
       " {'mean': -0.15094152092933655,\n",
       "  'std': 0.33816593885421753,\n",
       "  'near_zero': 0.7565536499023438},\n",
       " {'mean': -0.19891592860221863,\n",
       "  'std': 0.45933374762535095,\n",
       "  'near_zero': 0.7044219970703125},\n",
       " {'mean': -0.11456620693206787,\n",
       "  'std': 0.32843953371047974,\n",
       "  'near_zero': 0.6817169189453125},\n",
       " {'mean': -0.04932700842618942,\n",
       "  'std': 0.2077096849679947,\n",
       "  'near_zero': 0.6988372802734375},\n",
       " {'mean': -0.03065524250268936,\n",
       "  'std': 0.3408333659172058,\n",
       "  'near_zero': 0.5921173095703125},\n",
       " {'mean': -0.05001699551939964,\n",
       "  'std': 0.14276623725891113,\n",
       "  'near_zero': 0.7684478759765625},\n",
       " {'mean': -0.030655238777399063,\n",
       "  'std': 0.12713681161403656,\n",
       "  'near_zero': 0.724853515625},\n",
       " {'mean': -0.1677243411540985,\n",
       "  'std': 0.31972646713256836,\n",
       "  'near_zero': 0.770477294921875},\n",
       " {'mean': -0.23752184212207794,\n",
       "  'std': 0.307870477437973,\n",
       "  'near_zero': 0.8315582275390625},\n",
       " {'mean': -0.05297365039587021,\n",
       "  'std': 0.10099760442972183,\n",
       "  'near_zero': 0.8778839111328125},\n",
       " {'mean': -0.16394682228565216,\n",
       "  'std': 0.3111523687839508,\n",
       "  'near_zero': 0.7911376953125},\n",
       " {'mean': -0.12933257222175598,\n",
       "  'std': 0.2874186635017395,\n",
       "  'near_zero': 0.760772705078125},\n",
       " {'mean': -0.22580136358737946,\n",
       "  'std': 0.27802371978759766,\n",
       "  'near_zero': 0.84674072265625},\n",
       " {'mean': -0.03039771318435669,\n",
       "  'std': 0.06682432442903519,\n",
       "  'near_zero': 0.918243408203125},\n",
       " {'mean': -0.19768306612968445,\n",
       "  'std': 0.43395376205444336,\n",
       "  'near_zero': 0.7437744140625},\n",
       " {'mean': -0.044330719858407974,\n",
       "  'std': 0.20497606694698334,\n",
       "  'near_zero': 0.6998291015625},\n",
       " {'mean': -0.19768306612968445,\n",
       "  'std': 0.27030763030052185,\n",
       "  'near_zero': 0.83868408203125},\n",
       " {'mean': -0.09605655819177628,\n",
       "  'std': 0.14311933517456055,\n",
       "  'near_zero': 0.892303466796875},\n",
       " {'mean': -0.24165721237659454,\n",
       "  'std': 0.31151968240737915,\n",
       "  'near_zero': 0.863311767578125},\n",
       " {'mean': -0.01317831315100193,\n",
       "  'std': 0.022426854819059372,\n",
       "  'near_zero': 0.990325927734375},\n",
       " {'mean': 0.27369368076324463,\n",
       "  'std': 1.836370587348938,\n",
       "  'near_zero': 0.415985107421875},\n",
       " {'mean': 0.0010297661647200584,\n",
       "  'std': 1.0000585317611694,\n",
       "  'near_zero': 0.6526641845703125},\n",
       " {'mean': -0.002686059568077326,\n",
       "  'std': 1.6739299297332764,\n",
       "  'near_zero': 0.5179443359375},\n",
       " {'mean': 0.001103948219679296,\n",
       "  'std': 0.9991735219955444,\n",
       "  'near_zero': 0.681060791015625},\n",
       " {'mean': -0.0800613984465599,\n",
       "  'std': 3.1321043968200684,\n",
       "  'near_zero': 0.5234375}]"
      ]
     },
     "execution_count": 53,
     "metadata": {},
     "output_type": "execute_result"
    }
   ],
   "source": [
    "list(AS.stats[-1])"
   ]
  },
  {
   "cell_type": "code",
   "execution_count": 52,
   "metadata": {},
   "outputs": [
    {
     "data": {
      "text/plain": [
       "[{'mean': -0.016670122742652893,\n",
       "  'std': 3.937549114227295,\n",
       "  'near_zero': 0.5889157665019132},\n",
       " {'mean': 0.18112032115459442,\n",
       "  'std': 0.4113897979259491,\n",
       "  'near_zero': 0.33511913066007654},\n",
       " {'mean': -1.0923278331756592,\n",
       "  'std': 1.3463300466537476,\n",
       "  'near_zero': 0.8343281648596939},\n",
       " {'mean': -0.0341365709900856,\n",
       "  'std': 0.4170074760913849,\n",
       "  'near_zero': 0.5035076530612245},\n",
       " {'mean': -0.06342763453722,\n",
       "  'std': 0.403425931930542,\n",
       "  'near_zero': 0.6463349011479592},\n",
       " {'mean': 0.003462872002273798,\n",
       "  'std': 0.40673619508743286,\n",
       "  'near_zero': 0.5397401147959183},\n",
       " {'mean': -0.6608835458755493,\n",
       "  'std': 1.2439695596694946,\n",
       "  'near_zero': 0.7248883928571429},\n",
       " {'mean': -0.08357392251491547,\n",
       "  'std': 0.37405723333358765,\n",
       "  'near_zero': 0.5912637515943877},\n",
       " {'mean': -0.04780922085046768,\n",
       "  'std': 0.3034406006336212,\n",
       "  'near_zero': 0.6304557955994898},\n",
       " {'mean': -0.029983943328261375,\n",
       "  'std': 0.4499497413635254,\n",
       "  'near_zero': 0.5678162866709183},\n",
       " {'mean': -0.25282856822013855,\n",
       "  'std': 0.9732801914215088,\n",
       "  'near_zero': 0.6347503662109375},\n",
       " {'mean': -0.06734631955623627,\n",
       "  'std': 0.3370167911052704,\n",
       "  'near_zero': 0.6417388916015625},\n",
       " {'mean': -0.13940289616584778,\n",
       "  'std': 0.325746089220047,\n",
       "  'near_zero': 0.7380523681640625},\n",
       " {'mean': -0.0035553020425140858,\n",
       "  'std': 0.35713547468185425,\n",
       "  'near_zero': 0.53802490234375},\n",
       " {'mean': -0.06409810483455658,\n",
       "  'std': 0.4596930742263794,\n",
       "  'near_zero': 0.6166305541992188},\n",
       " {'mean': -0.0035553020425140858,\n",
       "  'std': 0.23753197491168976,\n",
       "  'near_zero': 0.5978927612304688},\n",
       " {'mean': -0.2155599594116211,\n",
       "  'std': 0.4982297420501709,\n",
       "  'near_zero': 0.7274169921875},\n",
       " {'mean': -0.2102503776550293,\n",
       "  'std': 0.33990803360939026,\n",
       "  'near_zero': 0.7827682495117188},\n",
       " {'mean': -0.0502203144133091,\n",
       "  'std': 0.1967606544494629,\n",
       "  'near_zero': 0.7252273559570312},\n",
       " {'mean': -0.15128448605537415,\n",
       "  'std': 0.338148295879364,\n",
       "  'near_zero': 0.75872802734375},\n",
       " {'mean': -0.19861066341400146,\n",
       "  'std': 0.4580303430557251,\n",
       "  'near_zero': 0.7066802978515625},\n",
       " {'mean': -0.11478554457426071,\n",
       "  'std': 0.3283362090587616,\n",
       "  'near_zero': 0.6822967529296875},\n",
       " {'mean': -0.050125204026699066,\n",
       "  'std': 0.20893216133117676,\n",
       "  'near_zero': 0.697021484375},\n",
       " {'mean': -0.030766354873776436,\n",
       "  'std': 0.3407098948955536,\n",
       "  'near_zero': 0.59051513671875},\n",
       " {'mean': -0.05066616088151932,\n",
       "  'std': 0.14408378303050995,\n",
       "  'near_zero': 0.7705535888671875},\n",
       " {'mean': -0.030766353011131287,\n",
       "  'std': 0.12717615067958832,\n",
       "  'near_zero': 0.7248077392578125},\n",
       " {'mean': -0.16722726821899414,\n",
       "  'std': 0.32017725706100464,\n",
       "  'near_zero': 0.773101806640625},\n",
       " {'mean': -0.2374679446220398,\n",
       "  'std': 0.30786576867103577,\n",
       "  'near_zero': 0.8334808349609375},\n",
       " {'mean': -0.05266573652625084,\n",
       "  'std': 0.10270149260759354,\n",
       "  'near_zero': 0.8743743896484375},\n",
       " {'mean': -0.16372345387935638,\n",
       "  'std': 0.3112676441669464,\n",
       "  'near_zero': 0.791290283203125},\n",
       " {'mean': -0.12980717420578003,\n",
       "  'std': 0.2867114841938019,\n",
       "  'near_zero': 0.763641357421875},\n",
       " {'mean': -0.22572247684001923,\n",
       "  'std': 0.2780839204788208,\n",
       "  'near_zero': 0.844573974609375},\n",
       " {'mean': -0.03128867223858833,\n",
       "  'std': 0.07181321829557419,\n",
       "  'near_zero': 0.916168212890625},\n",
       " {'mean': -0.19763392210006714,\n",
       "  'std': 0.4340454339981079,\n",
       "  'near_zero': 0.749664306640625},\n",
       " {'mean': -0.04310785233974457,\n",
       "  'std': 0.20782999694347382,\n",
       "  'near_zero': 0.704345703125},\n",
       " {'mean': -0.19763392210006714,\n",
       "  'std': 0.27003347873687744,\n",
       "  'near_zero': 0.845672607421875},\n",
       " {'mean': -0.08362133800983429,\n",
       "  'std': 0.13310091197490692,\n",
       "  'near_zero': 0.8896484375},\n",
       " {'mean': -0.24174046516418457,\n",
       "  'std': 0.3113936483860016,\n",
       "  'near_zero': 0.86065673828125},\n",
       " {'mean': -0.013850970193743706,\n",
       "  'std': 0.022162659093737602,\n",
       "  'near_zero': 0.990966796875},\n",
       " {'mean': 0.27382200956344604,\n",
       "  'std': 1.8361544609069824,\n",
       "  'near_zero': 0.42279052734375},\n",
       " {'mean': 0.0009999941103160381,\n",
       "  'std': 1.0000041723251343,\n",
       "  'near_zero': 0.65380859375},\n",
       " {'mean': -0.008065817877650261,\n",
       "  'std': 1.632246494293213,\n",
       "  'near_zero': 0.518890380859375},\n",
       " {'mean': 0.0009999868925660849,\n",
       "  'std': 1.0000094175338745,\n",
       "  'near_zero': 0.6800537109375},\n",
       " {'mean': 0.1823984682559967,\n",
       "  'std': 2.2401387691497803,\n",
       "  'near_zero': 0.453125}]"
      ]
     },
     "execution_count": 52,
     "metadata": {},
     "output_type": "execute_result"
    }
   ],
   "source": [
    "list(AS.stats[0])"
   ]
  },
  {
   "cell_type": "markdown",
   "metadata": {},
   "source": [
    "### Replicate in Vision\n"
   ]
  },
  {
   "cell_type": "code",
   "execution_count": null,
   "metadata": {},
   "outputs": [],
   "source": []
  },
  {
   "cell_type": "code",
   "execution_count": null,
   "metadata": {},
   "outputs": [],
   "source": []
  }
 ],
 "metadata": {
  "kernelspec": {
   "display_name": "Python 3.7.9 64-bit ('devfastai': conda)",
   "language": "python",
   "name": "python37964bitdevfastaiconda0e0ad516d6eb4524903af3a3c31253d3"
  },
  "language_info": {
   "codemirror_mode": {
    "name": "ipython",
    "version": 3
   },
   "file_extension": ".py",
   "mimetype": "text/x-python",
   "name": "python",
   "nbconvert_exporter": "python",
   "pygments_lexer": "ipython3",
   "version": "3.7.9"
  }
 },
 "nbformat": 4,
 "nbformat_minor": 4
}
