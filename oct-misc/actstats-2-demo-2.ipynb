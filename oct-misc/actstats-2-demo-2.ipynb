{
 "cells": [
  {
   "cell_type": "markdown",
   "metadata": {},
   "source": [
    "### Demo how the update works"
   ]
  },
  {
   "cell_type": "code",
   "execution_count": 14,
   "metadata": {},
   "outputs": [],
   "source": [
    "from fastai.text.all import *\n",
    "import warnings\n",
    "warnings.filterwarnings('ignore')"
   ]
  },
  {
   "cell_type": "code",
   "execution_count": 15,
   "metadata": {},
   "outputs": [
    {
     "data": {
      "text/html": [],
      "text/plain": [
       "<IPython.core.display.HTML object>"
      ]
     },
     "metadata": {},
     "output_type": "display_data"
    }
   ],
   "source": [
    "path = untar_data(URLs.IMDB_SAMPLE)\n",
    "imdb = pd.read_csv(path/'texts.csv')\n",
    "\n",
    "N = 40\n",
    "imdb_sample = imdb.iloc[:N]\n",
    "\n",
    "imdb_lm = TextDataLoaders.from_df(imdb_sample, text_col='text', \n",
    "                                  is_lm=True, bs=10)"
   ]
  },
  {
   "cell_type": "code",
   "execution_count": 16,
   "metadata": {},
   "outputs": [
    {
     "data": {
      "text/html": [
       "<table border=\"1\" class=\"dataframe\">\n",
       "  <thead>\n",
       "    <tr style=\"text-align: left;\">\n",
       "      <th>epoch</th>\n",
       "      <th>train_loss</th>\n",
       "      <th>valid_loss</th>\n",
       "      <th>time</th>\n",
       "    </tr>\n",
       "  </thead>\n",
       "  <tbody>\n",
       "    <tr>\n",
       "      <td>0</td>\n",
       "      <td>3.851021</td>\n",
       "      <td>3.630106</td>\n",
       "      <td>00:15</td>\n",
       "    </tr>\n",
       "  </tbody>\n",
       "</table>"
      ],
      "text/plain": [
       "<IPython.core.display.HTML object>"
      ]
     },
     "metadata": {},
     "output_type": "display_data"
    }
   ],
   "source": [
    "learn   = language_model_learner(\n",
    "                    imdb_lm, AWD_LSTM, \n",
    "                    cbs = [ActivationStats()]);\n",
    "\n",
    "learn.fit(1)"
   ]
  },
  {
   "cell_type": "code",
   "execution_count": 17,
   "metadata": {},
   "outputs": [
    {
     "data": {
      "text/plain": [
       "[None,\n",
       " None,\n",
       " [{'mean': -0.001772282412275672,\n",
       "   'std': 0.1607150137424469,\n",
       "   'near_zero': 0.8169138213734568},\n",
       "  {'mean': -0.002876021433621645,\n",
       "   'std': 0.15831688046455383,\n",
       "   'near_zero': 0.8200520833333333},\n",
       "  {'mean': -0.007636733818799257,\n",
       "   'std': 0.5775918364524841,\n",
       "   'near_zero': 0.6229166666666667}],\n",
       " None,\n",
       " [{'mean': 0.00020422777743078768,\n",
       "   'std': 0.08568178117275238,\n",
       "   'near_zero': 0.8724814332561729},\n",
       "  {'mean': 0.0002670206595212221,\n",
       "   'std': 0.08491973578929901,\n",
       "   'near_zero': 0.8662326388888889},\n",
       "  {'mean': -0.0014093106146901846,\n",
       "   'std': 0.2976187467575073,\n",
       "   'near_zero': 0.6196180555555556}],\n",
       " None,\n",
       " [{'mean': 0.0020808635745197535,\n",
       "   'std': 0.19608770310878754,\n",
       "   'near_zero': 0.61046875},\n",
       "  {'mean': 0.0017857487546280026,\n",
       "   'std': 0.19706380367279053,\n",
       "   'near_zero': 0.6085},\n",
       "  {'mean': 0.00048702978529036045,\n",
       "   'std': 0.27976834774017334,\n",
       "   'near_zero': 0.57525}],\n",
       " None,\n",
       " {'mean': 0.8070132732391357,\n",
       "  'std': 2.3339977264404297,\n",
       "  'near_zero': 0.39091254340277776}]"
      ]
     },
     "execution_count": 17,
     "metadata": {},
     "output_type": "execute_result"
    }
   ],
   "source": [
    "list(learn.activation_stats.stats[0])"
   ]
  },
  {
   "cell_type": "code",
   "execution_count": 18,
   "metadata": {},
   "outputs": [
    {
     "data": {
      "text/plain": [
       "[Embedding(512, 400, padding_idx=1),\n",
       " Embedding(512, 400, padding_idx=1),\n",
       " LSTM(400, 1152, batch_first=True),\n",
       " ParameterModule(),\n",
       " LSTM(1152, 1152, batch_first=True),\n",
       " ParameterModule(),\n",
       " LSTM(1152, 400, batch_first=True),\n",
       " ParameterModule(),\n",
       " RNNDropout(),\n",
       " RNNDropout(),\n",
       " RNNDropout(),\n",
       " RNNDropout(),\n",
       " Linear(in_features=400, out_features=512, bias=True),\n",
       " RNNDropout()]"
      ]
     },
     "execution_count": 18,
     "metadata": {},
     "output_type": "execute_result"
    }
   ],
   "source": [
    "flatten_model(learn.model)"
   ]
  },
  {
   "cell_type": "code",
   "execution_count": 22,
   "metadata": {},
   "outputs": [
    {
     "data": {
      "text/plain": [
       "[(Embedding(512, 400, padding_idx=1), None),\n",
       " (Embedding(512, 400, padding_idx=1), None),\n",
       " (LSTM(400, 1152, batch_first=True),\n",
       "  [{'mean': -0.001772282412275672,\n",
       "    'std': 0.1607150137424469,\n",
       "    'near_zero': 0.8169138213734568},\n",
       "   {'mean': -0.002876021433621645,\n",
       "    'std': 0.15831688046455383,\n",
       "    'near_zero': 0.8200520833333333},\n",
       "   {'mean': -0.007636733818799257,\n",
       "    'std': 0.5775918364524841,\n",
       "    'near_zero': 0.6229166666666667}]),\n",
       " (ParameterModule(), None),\n",
       " (LSTM(1152, 1152, batch_first=True),\n",
       "  [{'mean': 0.00020422777743078768,\n",
       "    'std': 0.08568178117275238,\n",
       "    'near_zero': 0.8724814332561729},\n",
       "   {'mean': 0.0002670206595212221,\n",
       "    'std': 0.08491973578929901,\n",
       "    'near_zero': 0.8662326388888889},\n",
       "   {'mean': -0.0014093106146901846,\n",
       "    'std': 0.2976187467575073,\n",
       "    'near_zero': 0.6196180555555556}]),\n",
       " (ParameterModule(), None),\n",
       " (LSTM(1152, 400, batch_first=True),\n",
       "  [{'mean': 0.0020808635745197535,\n",
       "    'std': 0.19608770310878754,\n",
       "    'near_zero': 0.61046875},\n",
       "   {'mean': 0.0017857487546280026,\n",
       "    'std': 0.19706380367279053,\n",
       "    'near_zero': 0.6085},\n",
       "   {'mean': 0.00048702978529036045,\n",
       "    'std': 0.27976834774017334,\n",
       "    'near_zero': 0.57525}]),\n",
       " (ParameterModule(), None),\n",
       " (RNNDropout(),\n",
       "  {'mean': 0.8070132732391357,\n",
       "   'std': 2.3339977264404297,\n",
       "   'near_zero': 0.39091254340277776})]"
      ]
     },
     "execution_count": 22,
     "metadata": {},
     "output_type": "execute_result"
    }
   ],
   "source": [
    "[(a,b,)\n",
    "for a, b in zip(flatten_model(learn.model), \n",
    "                list(learn.activation_stats.stats[0]))]"
   ]
  },
  {
   "cell_type": "code",
   "execution_count": null,
   "metadata": {},
   "outputs": [],
   "source": []
  }
 ],
 "metadata": {
  "kernelspec": {
   "display_name": "Python 3.7.9 64-bit ('devfastai': conda)",
   "language": "python",
   "name": "python37964bitdevfastaiconda0e0ad516d6eb4524903af3a3c31253d3"
  },
  "language_info": {
   "codemirror_mode": {
    "name": "ipython",
    "version": 3
   },
   "file_extension": ".py",
   "mimetype": "text/x-python",
   "name": "python",
   "nbconvert_exporter": "python",
   "pygments_lexer": "ipython3",
   "version": "3.7.9"
  }
 },
 "nbformat": 4,
 "nbformat_minor": 4
}
