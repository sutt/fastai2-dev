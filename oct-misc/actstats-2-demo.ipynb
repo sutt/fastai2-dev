{
 "cells": [
  {
   "cell_type": "code",
   "execution_count": 1,
   "metadata": {},
   "outputs": [],
   "source": [
    "from fastai.text.all import *"
   ]
  },
  {
   "cell_type": "markdown",
   "metadata": {},
   "source": [
    "### Attach a hook to a pytorch layer\n",
    "Show it working"
   ]
  },
  {
   "cell_type": "code",
   "execution_count": 31,
   "metadata": {},
   "outputs": [],
   "source": [
    "lstm = nn.LSTM(2,2)"
   ]
  },
  {
   "cell_type": "code",
   "execution_count": 32,
   "metadata": {},
   "outputs": [
    {
     "data": {
      "text/plain": [
       "<torch.utils.hooks.RemovableHandle at 0x7f5baf92d990>"
      ]
     },
     "execution_count": 32,
     "metadata": {},
     "output_type": "execute_result"
    }
   ],
   "source": [
    "def my_hook(m,i,o): print('hook fired!')\n",
    "lstm.register_forward_hook(my_hook)    "
   ]
  },
  {
   "cell_type": "code",
   "execution_count": 34,
   "metadata": {},
   "outputs": [
    {
     "name": "stdout",
     "output_type": "stream",
     "text": [
      "hook fired!\n"
     ]
    },
    {
     "data": {
      "text/plain": [
       "(tensor([[[ 0.1727, -0.1081]]], grad_fn=<StackBackward>),\n",
       " (tensor([[[ 0.1727, -0.1081]]], grad_fn=<StackBackward>),\n",
       "  tensor([[[ 0.2787, -0.5955]]], grad_fn=<StackBackward>)))"
      ]
     },
     "execution_count": 34,
     "metadata": {},
     "output_type": "execute_result"
    }
   ],
   "source": [
    "x = torch.randn((1,1,2))\n",
    "lstm(x)"
   ]
  },
  {
   "cell_type": "markdown",
   "metadata": {},
   "source": [
    "### Put that base layer into `WeightDropout`\n",
    "When doing `__call__` or `forward` on the WeightDropout layer, hook does not fire.\n",
    "\n",
    "So you do not see \"hook fired!\" printed out"
   ]
  },
  {
   "cell_type": "code",
   "execution_count": 40,
   "metadata": {},
   "outputs": [],
   "source": [
    "wd_module = WeightDropout(lstm, .1)"
   ]
  },
  {
   "cell_type": "code",
   "execution_count": 41,
   "metadata": {},
   "outputs": [
    {
     "data": {
      "text/plain": [
       "(tensor([[[ 0.1727, -0.1081]]], grad_fn=<StackBackward>),\n",
       " (tensor([[[ 0.1727, -0.1081]]], grad_fn=<StackBackward>),\n",
       "  tensor([[[ 0.2787, -0.5955]]], grad_fn=<StackBackward>)))"
      ]
     },
     "execution_count": 41,
     "metadata": {},
     "output_type": "execute_result"
    }
   ],
   "source": [
    "wd_module(x)"
   ]
  },
  {
   "cell_type": "code",
   "execution_count": 42,
   "metadata": {},
   "outputs": [
    {
     "data": {
      "text/plain": [
       "(tensor([[[ 0.1727, -0.1081]]], grad_fn=<StackBackward>),\n",
       " (tensor([[[ 0.1727, -0.1081]]], grad_fn=<StackBackward>),\n",
       "  tensor([[[ 0.2787, -0.5955]]], grad_fn=<StackBackward>)))"
      ]
     },
     "execution_count": 42,
     "metadata": {},
     "output_type": "execute_result"
    }
   ],
   "source": [
    "wd_module.forward(x)"
   ]
  },
  {
   "cell_type": "markdown",
   "metadata": {},
   "source": [
    "### Show how the hook works if you call the inside layer\n",
    "by calling the lstm layer inside of the WeightDropout layer, we see the hook is still there."
   ]
  },
  {
   "cell_type": "code",
   "execution_count": 43,
   "metadata": {},
   "outputs": [
    {
     "name": "stdout",
     "output_type": "stream",
     "text": [
      "hook fired!\n"
     ]
    },
    {
     "data": {
      "text/plain": [
       "(tensor([[[ 0.1727, -0.1081]]], grad_fn=<StackBackward>),\n",
       " (tensor([[[ 0.1727, -0.1081]]], grad_fn=<StackBackward>),\n",
       "  tensor([[[ 0.2787, -0.5955]]], grad_fn=<StackBackward>)))"
      ]
     },
     "execution_count": 43,
     "metadata": {},
     "output_type": "execute_result"
    }
   ],
   "source": [
    "wd_module.module(x)"
   ]
  },
  {
   "cell_type": "code",
   "execution_count": null,
   "metadata": {},
   "outputs": [],
   "source": []
  }
 ],
 "metadata": {
  "kernelspec": {
   "display_name": "Python 3.7.9 64-bit ('devfastai': conda)",
   "language": "python",
   "name": "python37964bitdevfastaiconda0e0ad516d6eb4524903af3a3c31253d3"
  },
  "language_info": {
   "codemirror_mode": {
    "name": "ipython",
    "version": 3
   },
   "file_extension": ".py",
   "mimetype": "text/x-python",
   "name": "python",
   "nbconvert_exporter": "python",
   "pygments_lexer": "ipython3",
   "version": "3.7.9"
  }
 },
 "nbformat": 4,
 "nbformat_minor": 4
}
