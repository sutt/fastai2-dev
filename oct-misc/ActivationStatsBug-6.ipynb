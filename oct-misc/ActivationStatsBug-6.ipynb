{
 "cells": [
  {
   "cell_type": "code",
   "execution_count": 1,
   "metadata": {},
   "outputs": [],
   "source": [
    "%load_ext autoreload\n",
    "%autoreload 2\n",
    "\n",
    "from fastai.text.all import *"
   ]
  },
  {
   "cell_type": "code",
   "execution_count": 2,
   "metadata": {},
   "outputs": [],
   "source": [
    "path = untar_data(URLs.IMDB_SAMPLE)\n",
    "imdb = pd.read_csv(path/'texts.csv')\n",
    "\n",
    "N = 40\n",
    "imdb_sample = imdb.iloc[:N]"
   ]
  },
  {
   "cell_type": "code",
   "execution_count": 74,
   "metadata": {},
   "outputs": [
    {
     "data": {
      "text/html": [],
      "text/plain": [
       "<IPython.core.display.HTML object>"
      ]
     },
     "metadata": {},
     "output_type": "display_data"
    },
    {
     "name": "stderr",
     "output_type": "stream",
     "text": [
      "/home/user/anaconda3/envs/devfastai/lib/python3.7/site-packages/numpy/core/_asarray.py:83: VisibleDeprecationWarning: Creating an ndarray from ragged nested sequences (which is a list-or-tuple of lists-or-tuples-or ndarrays with different lengths or shapes) is deprecated. If you meant to do this, you must specify 'dtype=object' when creating the ndarray\n",
      "  return array(a, dtype, copy=False, order=order)\n"
     ]
    }
   ],
   "source": [
    "imdb_lm = TextDataLoaders.from_df(imdb_sample, text_col='text', \n",
    "                                  is_lm=True, bs=10)"
   ]
  },
  {
   "cell_type": "code",
   "execution_count": 79,
   "metadata": {},
   "outputs": [
    {
     "name": "stderr",
     "output_type": "stream",
     "text": [
      "/mnt/c/Users/wsutt/Desktop/files/fastai2-dev/sutt-dev-fastai-wsl/fastai/callback/core.py:50: UserWarning: You are setting an attribute (__class__) that also exists in the learner, so you're not setting it in the learner but in the callback. Use `self.learn.__class__` otherwise.\n",
      "  warn(f\"You are setting an attribute ({name}) that also exists in the learner, so you're not setting it in the learner but in the callback. Use `self.learn.{name}` otherwise.\")\n"
     ]
    }
   ],
   "source": [
    "learn   = language_model_learner(imdb_lm, AWD_LSTM, \n",
    "             cbs = [ActivationStats(with_hist=False)],\n",
    "                                 metrics=[accuracy]);"
   ]
  },
  {
   "cell_type": "code",
   "execution_count": 81,
   "metadata": {},
   "outputs": [
    {
     "data": {
      "text/html": [
       "<table border=\"1\" class=\"dataframe\">\n",
       "  <thead>\n",
       "    <tr style=\"text-align: left;\">\n",
       "      <th>epoch</th>\n",
       "      <th>train_loss</th>\n",
       "      <th>valid_loss</th>\n",
       "      <th>accuracy</th>\n",
       "      <th>time</th>\n",
       "    </tr>\n",
       "  </thead>\n",
       "  <tbody>\n",
       "    <tr>\n",
       "      <td>0</td>\n",
       "      <td>3.882987</td>\n",
       "      <td>3.114455</td>\n",
       "      <td>0.338889</td>\n",
       "      <td>00:15</td>\n",
       "    </tr>\n",
       "  </tbody>\n",
       "</table>"
      ],
      "text/plain": [
       "<IPython.core.display.HTML object>"
      ]
     },
     "metadata": {},
     "output_type": "display_data"
    }
   ],
   "source": [
    "learn.fit(1)"
   ]
  },
  {
   "cell_type": "code",
   "execution_count": 82,
   "metadata": {},
   "outputs": [
    {
     "data": {
      "text/plain": [
       "[None,\n",
       " None,\n",
       " [{'mean': -0.0022452559787780046,\n",
       "   'std': 0.1623380184173584,\n",
       "   'near_zero': 0.8167812017746914},\n",
       "  {'mean': -0.0006662433152087033,\n",
       "   'std': 0.16804148256778717,\n",
       "   'near_zero': 0.8127604166666667},\n",
       "  {'mean': -0.0019066664390265942,\n",
       "   'std': 0.6523957252502441,\n",
       "   'near_zero': 0.6053819444444445}],\n",
       " None,\n",
       " [{'mean': -0.00025025196373462677,\n",
       "   'std': 0.0886622816324234,\n",
       "   'near_zero': 0.87353515625},\n",
       "  {'mean': -0.0008679843740537763,\n",
       "   'std': 0.09241461753845215,\n",
       "   'near_zero': 0.88671875},\n",
       "  {'mean': -0.0033695572055876255,\n",
       "   'std': 0.32651999592781067,\n",
       "   'near_zero': 0.6311631944444445}],\n",
       " None,\n",
       " [{'mean': 0.001658876659348607,\n",
       "   'std': 0.19772760570049286,\n",
       "   'near_zero': 0.6155625},\n",
       "  {'mean': 0.0005478939856402576,\n",
       "   'std': 0.20536921918392181,\n",
       "   'near_zero': 0.61925},\n",
       "  {'mean': 0.001663033734075725,\n",
       "   'std': 0.30244481563568115,\n",
       "   'near_zero': 0.58825}],\n",
       " None,\n",
       " {'mean': 0.846173107624054,\n",
       "  'std': 2.3526878356933594,\n",
       "  'near_zero': 0.3858181423611111}]"
      ]
     },
     "execution_count": 82,
     "metadata": {},
     "output_type": "execute_result"
    }
   ],
   "source": [
    "list(learn.activation_stats.stats[0])"
   ]
  },
  {
   "cell_type": "code",
   "execution_count": null,
   "metadata": {},
   "outputs": [],
   "source": []
  },
  {
   "cell_type": "markdown",
   "metadata": {},
   "source": [
    "#### Horsin Around"
   ]
  },
  {
   "cell_type": "code",
   "execution_count": 77,
   "metadata": {},
   "outputs": [],
   "source": [
    "def flatten_tuple(o_tuple):\n",
    "    res = []\n",
    "    for it in o_tuple:\n",
    "        if isinstance(it, tuple):\n",
    "            res += flatten_tuple(it)\n",
    "        else:\n",
    "            res += [it]\n",
    "    return tuple(res)"
   ]
  },
  {
   "cell_type": "code",
   "execution_count": 78,
   "metadata": {},
   "outputs": [
    {
     "data": {
      "text/plain": [
       "(1, 2, 3, 4, 5, 6, 7, 8, 9)"
      ]
     },
     "execution_count": 78,
     "metadata": {},
     "output_type": "execute_result"
    }
   ],
   "source": [
    "x = (1, (2,3), 4, (5,(6,7,(8,9))))\n",
    "flatten_tuple(x)"
   ]
  },
  {
   "cell_type": "code",
   "execution_count": null,
   "metadata": {},
   "outputs": [],
   "source": []
  },
  {
   "cell_type": "code",
   "execution_count": 56,
   "metadata": {},
   "outputs": [],
   "source": [
    "import torch"
   ]
  },
  {
   "cell_type": "code",
   "execution_count": 57,
   "metadata": {},
   "outputs": [],
   "source": [
    "a = torch.tensor([1,2,3])"
   ]
  },
  {
   "cell_type": "code",
   "execution_count": 58,
   "metadata": {},
   "outputs": [
    {
     "data": {
      "text/plain": [
       "torch.Tensor"
      ]
     },
     "execution_count": 58,
     "metadata": {},
     "output_type": "execute_result"
    }
   ],
   "source": [
    "type(a)"
   ]
  },
  {
   "cell_type": "code",
   "execution_count": 60,
   "metadata": {},
   "outputs": [
    {
     "data": {
      "text/plain": [
       "True"
      ]
     },
     "execution_count": 60,
     "metadata": {},
     "output_type": "execute_result"
    }
   ],
   "source": [
    "isinstance(a, Tensor)"
   ]
  },
  {
   "cell_type": "code",
   "execution_count": null,
   "metadata": {},
   "outputs": [],
   "source": [
    "learn.activation_stats.st"
   ]
  },
  {
   "cell_type": "code",
   "execution_count": 31,
   "metadata": {
    "collapsed": true
   },
   "outputs": [
    {
     "data": {
      "text/plain": [
       "{'mean': -0.001630931394174695,\n",
       " 'std': 0.1619735062122345,\n",
       " 'near_zero': 0.8172465760030864,\n",
       " 'hist': tensor([376387.,  25205.,   9886.,   2093.,      0.,      0.,      0.,      0.,\n",
       "              0.,      0.,      0.,      0.,      0.,      0.,      0.,      0.,\n",
       "              0.,      0.,      0.,      0.,      0.,      0.,      0.,      0.,\n",
       "              0.,      0.,      0.,      0.,      0.,      0.,      0.,      0.,\n",
       "              0.,      0.,      0.,      0.,      0.,      0.,      0.,      0.])}"
      ]
     },
     "execution_count": 31,
     "metadata": {},
     "output_type": "execute_result"
    }
   ],
   "source": [
    "list(learn.activation_stats.stats[0])[2]"
   ]
  },
  {
   "cell_type": "code",
   "execution_count": 39,
   "metadata": {},
   "outputs": [
    {
     "data": {
      "text/plain": [
       "tensor([12.8384, 12.8397, 12.8437, 12.8458, 12.8418, 12.8476, 12.8384, 12.8464,\n",
       "        12.8452, 12.8437, 12.8449, 12.0623])"
      ]
     },
     "execution_count": 39,
     "metadata": {},
     "output_type": "execute_result"
    }
   ],
   "source": [
    "learn.activation_stats.hist(2)[0]"
   ]
  },
  {
   "cell_type": "code",
   "execution_count": 24,
   "metadata": {},
   "outputs": [],
   "source": [
    "import torch"
   ]
  },
  {
   "cell_type": "code",
   "execution_count": 25,
   "metadata": {},
   "outputs": [],
   "source": [
    "a = torch.tensor([1,2,3,3,2])"
   ]
  },
  {
   "cell_type": "code",
   "execution_count": 27,
   "metadata": {},
   "outputs": [
    {
     "data": {
      "text/plain": [
       "tensor([0., 0., 0., 0., 1., 0., 0., 0., 2., 0., 0., 0., 2., 0., 0., 0., 0., 0.,\n",
       "        0., 0., 0., 0., 0., 0., 0., 0., 0., 0., 0., 0., 0., 0., 0., 0., 0., 0.,\n",
       "        0., 0., 0., 0.])"
      ]
     },
     "execution_count": 27,
     "metadata": {},
     "output_type": "execute_result"
    }
   ],
   "source": [
    "a.float().histc(40,0,10)"
   ]
  },
  {
   "cell_type": "code",
   "execution_count": 40,
   "metadata": {},
   "outputs": [
    {
     "data": {
      "image/png": "[encoded data removed]",
      "text/plain": [
       "<Figure size 864x216 with 3 Axes>"
      ]
     },
     "metadata": {
      "needs_background": "light"
     },
     "output_type": "display_data"
    }
   ],
   "source": [
    "learn.activation_stats.plot_layer_stats(2)"
   ]
  },
  {
   "cell_type": "code",
   "execution_count": 23,
   "metadata": {},
   "outputs": [
    {
     "name": "stdout",
     "output_type": "stream",
     "text": [
      "\n"
     ]
    },
    {
     "data": {
      "image/png": "[encoded data removed]",
      "text/plain": [
       "<Figure size 432x288 with 1 Axes>"
      ]
     },
     "metadata": {
      "needs_background": "light"
     },
     "output_type": "display_data"
    },
    {
     "name": "stdout",
     "output_type": "stream",
     "text": [
      "\n"
     ]
    },
    {
     "data": {
      "image/png": "[encoded data removed]",
      "text/plain": [
       "<Figure size 432x288 with 1 Axes>"
      ]
     },
     "metadata": {
      "needs_background": "light"
     },
     "output_type": "display_data"
    },
    {
     "name": "stdout",
     "output_type": "stream",
     "text": [
      "\n"
     ]
    },
    {
     "data": {
      "image/png": "[encoded data removed]",
      "text/plain": [
       "<Figure size 432x288 with 1 Axes>"
      ]
     },
     "metadata": {
      "needs_background": "light"
     },
     "output_type": "display_data"
    },
    {
     "name": "stdout",
     "output_type": "stream",
     "text": [
      "\n"
     ]
    },
    {
     "data": {
      "image/png": "[encoded data removed]",
      "text/plain": [
       "<Figure size 432x288 with 1 Axes>"
      ]
     },
     "metadata": {
      "needs_background": "light"
     },
     "output_type": "display_data"
    }
   ],
   "source": [
    "for i,e in enumerate(learn.activation_stats.stats[0]) :\n",
    "    if isinstance(e, dict):\n",
    "        data = e.get('hist', None)\n",
    "        if data is None: continue\n",
    "        try:\n",
    "            print()\n",
    "            plt.hist(data.numpy())\n",
    "            plt.title(f'Layer {i}')\n",
    "            plt.show()\n",
    "        except:\n",
    "            print(f'failed hist at layer {i}')\n",
    "                  "
   ]
  },
  {
   "cell_type": "code",
   "execution_count": 17,
   "metadata": {},
   "outputs": [
    {
     "data": {
      "text/plain": [
       "tensor([17949., 17819., 17380., 16538., 15659., 14533., 13255., 11982., 10934.,\n",
       "         9809.,  8785.,  7866.,  6865.,  6227.,  5480.,  4800.,  4340.,  3667.,\n",
       "         3292.,  2977.,  2522.,  2285.,  1892.,  1678.,  1543.,  1255.,  1080.,\n",
       "          973.,   807.,   681.,   581.,   491.,   409.,   344.,   284.,   234.,\n",
       "          193.,   143.,   127.,    94.])"
      ]
     },
     "execution_count": 17,
     "metadata": {},
     "output_type": "execute_result"
    }
   ],
   "source": [
    "plt.hist(data"
   ]
  },
  {
   "cell_type": "code",
   "execution_count": null,
   "metadata": {},
   "outputs": [],
   "source": []
  },
  {
   "cell_type": "code",
   "execution_count": null,
   "metadata": {},
   "outputs": [],
   "source": []
  }
 ],
 "metadata": {
  "kernelspec": {
   "display_name": "Python 3.7.9 64-bit ('devfastai': conda)",
   "language": "python",
   "name": "python37964bitdevfastaiconda0e0ad516d6eb4524903af3a3c31253d3"
  },
  "language_info": {
   "codemirror_mode": {
    "name": "ipython",
    "version": 3
   },
   "file_extension": ".py",
   "mimetype": "text/x-python",
   "name": "python",
   "nbconvert_exporter": "python",
   "pygments_lexer": "ipython3",
   "version": "3.7.9"
  }
 },
 "nbformat": 4,
 "nbformat_minor": 4
}
